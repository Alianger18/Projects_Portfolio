{
 "cells": [
  {
   "cell_type": "markdown",
   "id": "f1486c566055ccf9",
   "metadata": {
    "collapsed": false
   },
   "source": [
    "# <center> Predictive modelling in Production <center/>\n",
    "<center> <b>DLBDSMTP01<b/> - From Model to Production <center/>\n",
    "<center> IU International University of Applied Sciences <center/>"
   ]
  },
  {
   "cell_type": "markdown",
   "id": "d3565c1ba0d3341d",
   "metadata": {
    "collapsed": false
   },
   "source": [
    "Hello, in this project, our objective is to establish an anomaly detection system for a production environment. This notebook is specifically crafted to initiate the project's first step: __building the predictive model__. Our approach involves training various models using mlflow, selecting the one with the most favorable metrics during evaluation, and keep monitoring them while deployed."
   ]
  },
  {
   "cell_type": "markdown",
   "id": "1b0d8380d83fa78f",
   "metadata": {
    "collapsed": false
   },
   "source": [
    "## List of contents : \n",
    "1. Overview\n",
    "2. Creating models\n",
    "3. Training/testing\n",
    "4. Evaluation\n",
    "5. Monitoring\n",
    "6. Summary"
   ]
  },
  {
   "cell_type": "markdown",
   "id": "371857f3a311d0e3",
   "metadata": {
    "collapsed": false
   },
   "source": [
    "Start with importing the required libraries :"
   ]
  },
  {
   "cell_type": "code",
   "execution_count": 1,
   "id": "initial_id",
   "metadata": {
    "collapsed": true,
    "jupyter": {
     "outputs_hidden": true
    },
    "ExecuteTime": {
     "end_time": "2024-04-01T00:29:45.376526Z",
     "start_time": "2024-04-01T00:29:28.301875Z"
    }
   },
   "outputs": [],
   "source": [
    "# Importing the required libraries\n",
    "from sklearn.metrics import mean_squared_error, mean_absolute_error, r2_score, root_mean_squared_error\n",
    "from sklearn.model_selection import train_test_split\n",
    "from sklearn.ensemble import RandomForestRegressor\n",
    "from sklearn.linear_model import LinearRegression\n",
    "from sklearn.tree import DecisionTreeRegressor\n",
    "from sklearn.svm import SVR\n",
    "from pathlib import Path\n",
    "import matplotlib.pyplot as plt\n",
    "import pandas as pd\n",
    "import pickle\n",
    "import mlflow\n",
    "\n",
    "# Avoid unnecessary warnings\n",
    "import warnings\n",
    "warnings.filterwarnings(\"ignore\")"
   ]
  },
  {
   "cell_type": "markdown",
   "source": [
    "### 1. Overview \n",
    "The data we'll use is fictitious, created to reflect the typical operational conditions of the manufacturing machines during regular operation. These conditions are around the following ranges :\n",
    "* __Sound__       : Between 60 dB and 85 dB.\n",
    "* __Temperature__ : Between 68°F and 86°F. \n",
    "* __Humidity__    : Between 40% and 60% of RH."
   ],
   "metadata": {
    "collapsed": false
   },
   "id": "2e9184fbee63b5a3"
  },
  {
   "cell_type": "markdown",
   "source": [
    "Starting with loading the data"
   ],
   "metadata": {
    "collapsed": false
   },
   "id": "69913edec2ade88b"
  },
  {
   "cell_type": "code",
   "outputs": [
    {
     "data": {
      "text/plain": "      sound  temperature  humidity  score\n9847     79           81        58   2.86\n548      69           71        41   8.14\n5764     76           82        43   5.29\n1758     77           69        42   7.14\n8912     77           84        51   3.71",
      "text/html": "<div>\n<style scoped>\n    .dataframe tbody tr th:only-of-type {\n        vertical-align: middle;\n    }\n\n    .dataframe tbody tr th {\n        vertical-align: top;\n    }\n\n    .dataframe thead th {\n        text-align: right;\n    }\n</style>\n<table border=\"1\" class=\"dataframe\">\n  <thead>\n    <tr style=\"text-align: right;\">\n      <th></th>\n      <th>sound</th>\n      <th>temperature</th>\n      <th>humidity</th>\n      <th>score</th>\n    </tr>\n  </thead>\n  <tbody>\n    <tr>\n      <th>9847</th>\n      <td>79</td>\n      <td>81</td>\n      <td>58</td>\n      <td>2.86</td>\n    </tr>\n    <tr>\n      <th>548</th>\n      <td>69</td>\n      <td>71</td>\n      <td>41</td>\n      <td>8.14</td>\n    </tr>\n    <tr>\n      <th>5764</th>\n      <td>76</td>\n      <td>82</td>\n      <td>43</td>\n      <td>5.29</td>\n    </tr>\n    <tr>\n      <th>1758</th>\n      <td>77</td>\n      <td>69</td>\n      <td>42</td>\n      <td>7.14</td>\n    </tr>\n    <tr>\n      <th>8912</th>\n      <td>77</td>\n      <td>84</td>\n      <td>51</td>\n      <td>3.71</td>\n    </tr>\n  </tbody>\n</table>\n</div>"
     },
     "execution_count": 2,
     "metadata": {},
     "output_type": "execute_result"
    }
   ],
   "source": [
    "# Formulating the directory \n",
    "path = Path.cwd().parent\n",
    "\n",
    "# Loading the data\n",
    "data = pd.read_csv(f'{path}/data/data_v1.0.csv')\n",
    "data.sample(5)"
   ],
   "metadata": {
    "collapsed": false,
    "ExecuteTime": {
     "end_time": "2024-04-01T00:29:45.425015Z",
     "start_time": "2024-04-01T00:29:45.378737Z"
    }
   },
   "id": "34a59879105c554",
   "execution_count": 2
  },
  {
   "cell_type": "code",
   "outputs": [
    {
     "data": {
      "text/plain": "              sound   temperature      humidity         score\ncount  10379.000000  10379.000000  10379.000000  10379.000000\nmean      72.492533     76.994219     49.993737      5.498796\nstd        7.506329      5.482586      6.060931      1.584779\nmin       55.000000     63.000000     35.000000      1.000000\n25%       66.000000     72.000000     45.000000      4.430000\n50%       72.000000     77.000000     50.000000      5.430000\n75%       79.000000     82.000000     55.000000      6.570000\nmax       85.000000     86.000000     60.000000     10.000000",
      "text/html": "<div>\n<style scoped>\n    .dataframe tbody tr th:only-of-type {\n        vertical-align: middle;\n    }\n\n    .dataframe tbody tr th {\n        vertical-align: top;\n    }\n\n    .dataframe thead th {\n        text-align: right;\n    }\n</style>\n<table border=\"1\" class=\"dataframe\">\n  <thead>\n    <tr style=\"text-align: right;\">\n      <th></th>\n      <th>sound</th>\n      <th>temperature</th>\n      <th>humidity</th>\n      <th>score</th>\n    </tr>\n  </thead>\n  <tbody>\n    <tr>\n      <th>count</th>\n      <td>10379.000000</td>\n      <td>10379.000000</td>\n      <td>10379.000000</td>\n      <td>10379.000000</td>\n    </tr>\n    <tr>\n      <th>mean</th>\n      <td>72.492533</td>\n      <td>76.994219</td>\n      <td>49.993737</td>\n      <td>5.498796</td>\n    </tr>\n    <tr>\n      <th>std</th>\n      <td>7.506329</td>\n      <td>5.482586</td>\n      <td>6.060931</td>\n      <td>1.584779</td>\n    </tr>\n    <tr>\n      <th>min</th>\n      <td>55.000000</td>\n      <td>63.000000</td>\n      <td>35.000000</td>\n      <td>1.000000</td>\n    </tr>\n    <tr>\n      <th>25%</th>\n      <td>66.000000</td>\n      <td>72.000000</td>\n      <td>45.000000</td>\n      <td>4.430000</td>\n    </tr>\n    <tr>\n      <th>50%</th>\n      <td>72.000000</td>\n      <td>77.000000</td>\n      <td>50.000000</td>\n      <td>5.430000</td>\n    </tr>\n    <tr>\n      <th>75%</th>\n      <td>79.000000</td>\n      <td>82.000000</td>\n      <td>55.000000</td>\n      <td>6.570000</td>\n    </tr>\n    <tr>\n      <th>max</th>\n      <td>85.000000</td>\n      <td>86.000000</td>\n      <td>60.000000</td>\n      <td>10.000000</td>\n    </tr>\n  </tbody>\n</table>\n</div>"
     },
     "execution_count": 3,
     "metadata": {},
     "output_type": "execute_result"
    }
   ],
   "source": [
    "# Getting basic descriptive statistics\n",
    "data.describe()"
   ],
   "metadata": {
    "collapsed": false,
    "ExecuteTime": {
     "end_time": "2024-04-01T00:29:45.466772Z",
     "start_time": "2024-04-01T00:29:45.428819Z"
    }
   },
   "id": "b5b5d6e87301af9f",
   "execution_count": 3
  },
  {
   "cell_type": "markdown",
   "source": [
    "### 2. Creating models \n",
    "Subsequently, the following models are chosen to become our model :\n",
    "* Linear Regression. \n",
    "* Decision Tree.\n",
    "* Random Forest.\n",
    "* Support Vector Machine."
   ],
   "metadata": {
    "collapsed": false
   },
   "id": "98121e925c4ce91c"
  },
  {
   "cell_type": "code",
   "outputs": [],
   "source": [
    "# Dictionary to store models \n",
    "models = {\n",
    "    'Linear Regression': LinearRegression(),\n",
    "    'Decision Tree': DecisionTreeRegressor(),\n",
    "    'Random Forest': RandomForestRegressor(),\n",
    "    'Support Vector Machine': SVR()\n",
    "}"
   ],
   "metadata": {
    "collapsed": false,
    "ExecuteTime": {
     "end_time": "2024-04-01T00:29:45.476729Z",
     "start_time": "2024-04-01T00:29:45.469784Z"
    }
   },
   "id": "e801c296a0abc429",
   "execution_count": 4
  },
  {
   "cell_type": "markdown",
   "id": "4df69ef676230bcd",
   "metadata": {
    "collapsed": false
   },
   "source": [
    "### 3. Training/Testing\n",
    "Next, the models created are going to be trained on 70% of the data and tested on the rest."
   ]
  },
  {
   "cell_type": "code",
   "outputs": [
    {
     "name": "stderr",
     "output_type": "stream",
     "text": [
      "Successfully registered model 'Linear Regression'.\n",
      "Created version '1' of model 'Linear Regression'.\n",
      "Successfully registered model 'Decision Tree'.\n",
      "Created version '1' of model 'Decision Tree'.\n",
      "Successfully registered model 'Random Forest'.\n",
      "Created version '1' of model 'Random Forest'.\n",
      "Successfully registered model 'Support Vector Machine'.\n",
      "Created version '1' of model 'Support Vector Machine'.\n"
     ]
    }
   ],
   "source": [
    "# Specifying the train/test data\n",
    "X_train, X_test, y_train, y_test = train_test_split(\n",
    "    data[['sound', 'temperature', 'humidity']], data['score'],\n",
    "    test_size=0.3\n",
    ")\n",
    "\n",
    "# Setting a default tracking directory\n",
    "mlflow.set_tracking_uri(f\"file:{path}/mlruns\")\n",
    "\n",
    "for model_name, model_instance in models.items():\n",
    "    # Starting a new experiment\n",
    "    mlflow.create_experiment(model_name)\n",
    "    \n",
    "    # Tagging the experiment \n",
    "    mlflow.set_experiment_tag(\"sklearn\", model_name)\n",
    "    \n",
    "    # Setting the appropriate model experiment\n",
    "    mlflow.set_experiment(model_name)\n",
    "    \n",
    "    # Starting a run\n",
    "    with mlflow.start_run(run_name=f'Training {model_name}'):\n",
    "        # Training the model\n",
    "        model_instance.fit(X_train, y_train)\n",
    "        \n",
    "        # Evaluating the model\n",
    "        y_estimate = model_instance.predict(X_test)\n",
    "        \n",
    "        # Measuring accuracy of the model\n",
    "        mse = mean_squared_error(y_test, y_estimate)\n",
    "        rmse = root_mean_squared_error(y_test, y_estimate) \n",
    "        mae = mean_absolute_error(y_test, y_estimate)\n",
    "        r2 = r2_score(y_test, y_estimate)\n",
    "        \n",
    "        # Register model \n",
    "        # mlflow.register_model(model_uri=f\"{path}/mlruns/models\", name=model_name)\n",
    "        \n",
    "        # Logging the model        \n",
    "        mlflow.sklearn.log_model(sk_model=model_instance, \n",
    "                                 artifact_path=f\"mlruns/models/{model_name}\", \n",
    "                                 registered_model_name=model_name\n",
    "                                 )\n",
    "                        \n",
    "        # Logging metrics\n",
    "        mlflow.log_metrics({\"MSE\": mse, \"RMSE\": rmse, \"MAE\": mae, \"R-squared\": r2})"
   ],
   "metadata": {
    "collapsed": false,
    "ExecuteTime": {
     "end_time": "2024-04-01T00:30:12.499641Z",
     "start_time": "2024-04-01T00:29:47.629570Z"
    }
   },
   "id": "30a228fc8c232a0",
   "execution_count": 5
  },
  {
   "cell_type": "markdown",
   "source": [
    "### 4. Evaluation\n",
    "Based on the results of this phase, the model with better metrics is chosen. The following screenshot provides on overview on how these models are being compared to each other. "
   ],
   "metadata": {
    "collapsed": false
   },
   "id": "4961f8b64917d197"
  },
  {
   "cell_type": "markdown",
   "source": [
    "![Alt text](models/Model_MAE.png)"
   ],
   "metadata": {
    "collapsed": false
   },
   "id": "36d26f1ad5766b23"
  },
  {
   "cell_type": "code",
   "execution_count": 6,
   "id": "71e044e2076bbf18",
   "metadata": {
    "collapsed": false,
    "ExecuteTime": {
     "end_time": "2024-04-01T00:30:21.906982Z",
     "start_time": "2024-04-01T00:30:20.785427Z"
    }
   },
   "outputs": [
    {
     "data": {
      "text/plain": "<Figure size 800x800 with 4 Axes>",
      "image/png": "[encoded data removed]"
     },
     "metadata": {},
     "output_type": "display_data"
    }
   ],
   "source": [
    "# Setting the visualization style\n",
    "plt.style.use(\"ggplot\")\n",
    "\n",
    "# Initiating a 2x2 grid\n",
    "fig, ax = plt.subplots(2, 2, figsize=(8, 8))\n",
    "ax = ax.flatten()\n",
    "\n",
    "# Running the loop to plot the scatter plot\n",
    "for name, model in models.items():\n",
    "    i = 0\n",
    "    y_pred = model.predict(X_test)\n",
    "    ax[i].scatter(y_test, y_pred, color=\"blue\") \n",
    "    ax[i].plot([min(y_test), max(y_test)], [min(y_test), max(y_test)], color=\"red\") \n",
    "    ax[i].set_xlabel(\"Actual\")\n",
    "    ax[i].set_ylabel(\"Predicted\")\n",
    "    ax[i].set_title(name)\n",
    "    i +=1\n",
    "\n",
    "# Displaying the plot\n",
    "plt.tight_layout()\n",
    "plt.show()"
   ]
  },
  {
   "cell_type": "markdown",
   "source": [
    "### 5. Monitoring"
   ],
   "metadata": {
    "collapsed": false
   },
   "id": "74e062487594d5b0"
  },
  {
   "cell_type": "markdown",
   "source": [
    "For better illustration, a scatter plot is used to provide a visual comparison of the models."
   ],
   "metadata": {
    "collapsed": false
   },
   "id": "389a2a17520da546"
  },
  {
   "cell_type": "markdown",
   "id": "33ea97aace35f835",
   "metadata": {
    "collapsed": false
   },
   "source": [
    "Plotting the residuals _(the differences between actual and predicted values)_ against the predicted values helps identify patterns or trends in the errors."
   ]
  },
  {
   "cell_type": "code",
   "execution_count": null,
   "id": "2f81ecdef7abe1ae",
   "metadata": {
    "collapsed": false
   },
   "outputs": [],
   "source": [
    "# Initiating a 2x2 grid\n",
    "fig2, ax = plt.subplots(2, 2, figsize=(8, 8))\n",
    "ax2 = ax.flatten()\n",
    "\n",
    "# Running the loop to plot the scatter plot\n",
    "for i, model in enumerate(predictions):\n",
    "    y_pred = predictions[model]\n",
    "    residuals = y_test - y_pred\n",
    "    ax2[i].scatter(y_pred, residuals)\n",
    "    ax2[i].axhline(y=0, color=\"red\", linestyle=\"--\")  # Line at y=0 for reference\n",
    "    ax2[i].set_xlabel(\"Predicted\")\n",
    "    ax2[i].set_ylabel(\"Residuals\")\n",
    "    ax2[i].set_xlim([0, 10])\n",
    "    ax2[i].set_ylim([-0.3, 0.3])\n",
    "    ax2[i].set_title(model)\n",
    "\n",
    "# Displaying the plot\n",
    "plt.tight_layout()\n",
    "plt.show()"
   ]
  },
  {
   "cell_type": "markdown",
   "source": [
    "Plotting the distribution of residuals to check if they follow a normal distribution. This is important for ensuring that the model's assumptions are met."
   ],
   "metadata": {
    "collapsed": false
   },
   "id": "f5976723031b22fd"
  },
  {
   "cell_type": "code",
   "outputs": [],
   "source": [
    "# Initiating a 2x2 grid\n",
    "fig3, ax = plt.subplots(2, 2, figsize=(8, 8))\n",
    "ax3 = ax.flatten()\n",
    "\n",
    "# Running the loop to plot the scatter plot\n",
    "for i, model in enumerate(predictions):\n",
    "    y_pred = predictions[model]\n",
    "    residuals = y_test - y_pred    \n",
    "    ax3[i].hist(residuals, bins=20)\n",
    "    ax3[i].set_xlabel(\"Residuals\")\n",
    "    ax3[i].set_ylabel(\"Frequency\")\n",
    "    ax3[i].set_xlim([-0.3, 0.3])\n",
    "    ax3[i].set_ylim([0, 1000])\n",
    "    ax3[i].set_title(model)\n",
    "\n",
    "# Displaying the plot\n",
    "plt.tight_layout()\n",
    "plt.show()"
   ],
   "metadata": {
    "collapsed": false
   },
   "id": "b62be197913db90f",
   "execution_count": null
  },
  {
   "cell_type": "markdown",
   "source": [
    "### 5. __Summary__\n",
    "In this project, 4 models underwent training on fictional data. The models included _Linear Regression_, _Decision Tree_, _Random Forest_, and _Support Vector Machine_. \n",
    "Upon evaluating these models, it was determined that __Linear Regression__ stood out as the most efficient for the dataset and the preceding visualization effectively depicted the distinctions among the models."
   ],
   "metadata": {
    "collapsed": false
   },
   "id": "9686144448fd1467"
  },
  {
   "cell_type": "code",
   "outputs": [],
   "source": [
    "results_df[\"Linear Regression\"]"
   ],
   "metadata": {
    "collapsed": false
   },
   "id": "931710904c3031d5",
   "execution_count": null
  },
  {
   "cell_type": "code",
   "outputs": [],
   "source": [
    "# Setting the variable: lr\n",
    "lr = models[\"Linear Regression\"]\n",
    "\n",
    "# Saving the file in a pickle format\n",
    "with open(f\"{path}/models/model_1.pkl\", \"wb\") as file:\n",
    "   pickle.dump(lr, file)"
   ],
   "metadata": {
    "collapsed": false
   },
   "id": "558a755ec215576b"
  },
  {
   "cell_type": "markdown",
   "source": [
    "## Author\n",
    "<a href=\"https://www.linkedin.com/in/ab0858s/\">Abdelali BARIR</a> is a former veteran in the Moroccan's Royal Armed Forces, and a self-taught data scientist. Currently enrolled in B.Sc. Data Science in IU International University of Applied Sciences."
   ],
   "metadata": {
    "collapsed": false
   },
   "id": "9800f450c5e1158c"
  },
  {
   "cell_type": "markdown",
   "id": "e96250597856d315",
   "metadata": {
    "collapsed": false
   },
   "source": [
    "### 6. __Summary__\n",
    "In this project, 4 models underwent training on fictional data. The models included _Linear Regression_, _Decision Tree_, _Random Forest_, and _Support Vector Machine_. \n",
    "Upon evaluating these models, it was determined that __Linear Regression__ stood out as the most efficient for the dataset and the preceding visualization effectively depicted the distinctions among the models."
   ]
  },
  {
   "cell_type": "code",
   "execution_count": null,
   "id": "c1c7654bd8f79420",
   "metadata": {
    "collapsed": false
   },
   "outputs": [],
   "source": [
    "results_df[\"Linear Regression\"]"
   ]
  },
  {
   "cell_type": "code",
   "execution_count": null,
   "id": "4bc119c659b6e774",
   "metadata": {
    "collapsed": false
   },
   "outputs": [],
   "source": [
    "# Setting the variable: lr\n",
    "lr = models[\"Linear Regression\"]\n",
    "\n",
    "# Saving the file in a pickle format\n",
    "with open(f\"{path}/models/model_1.pkl\", \"wb\") as file:\n",
    "   pickle.dump(lr, file)"
   ]
  },
  {
   "cell_type": "markdown",
   "id": "5f767671d2932ef9",
   "metadata": {
    "collapsed": false
   },
   "source": [
    "## Author\n",
    "<a href=\"https://www.linkedin.com/in/ab0858s/\">Abdelali BARIR</a> is a former veteran in the Moroccan's Royal Armed Forces, and a self-taught data scientist. Currently enrolled in B.Sc. Data Science in IU International University of Applied Sciences."
   ]
  }
 ],
 "metadata": {
  "kernelspec": {
   "display_name": "Python 3 (ipykernel)",
   "language": "python",
   "name": "python3"
  },
  "language_info": {
   "codemirror_mode": {
    "name": "ipython",
    "version": 3
   },
   "file_extension": ".py",
   "mimetype": "text/x-python",
   "name": "python",
   "nbconvert_exporter": "python",
   "pygments_lexer": "ipython3",
   "version": "3.12.0"
  }
 },
 "nbformat": 4,
 "nbformat_minor": 5
}
