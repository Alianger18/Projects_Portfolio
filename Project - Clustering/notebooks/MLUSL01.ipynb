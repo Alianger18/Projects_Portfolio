{
 "cells": [
  {
   "cell_type": "markdown",
   "id": "e87ab10ecbab2d7a",
   "metadata": {
    "collapsed": false
   },
   "source": [
    "# Greetings\n",
    "The [data](https://www.kaggle.com/datasets/osmi/mental-health-in-tech-2016/) used in this notebook is provided from Open-Sourcing Mental Illness, LTD (OSMI) in 2016. The results of a survey, which were conducted to gauge the impact of mental health illnesses among employees."
   ]
  },
  {
   "cell_type": "markdown",
   "id": "5d0d6ae9380360ab",
   "metadata": {
    "collapsed": false
   },
   "source": [
    "## Data Exploration\n",
    "This section is dedicated to shaping an understanding of the data, identifying any underlying issues, and preparing to address them in subsequent phases. This stage is pivotal as it lays the foundation for various decisions concerning data imputation and data wrangling and more.\n",
    "\n",
    "During this phase, we solely conduct exploratory data analysis, using descriptive statistics and visualizations. No alterations will be made to the data at this stage."
   ]
  },
  {
   "cell_type": "markdown",
   "id": "db3fc567ab5bf984",
   "metadata": {
    "collapsed": false
   },
   "source": [
    "### List of contents :\n",
    "1. __Overview__ \n",
    "2. __Exploratory Data Analysis__\n",
    "2.1. Column 0 to 23\n",
    "2.2. Column 24 to 35\n",
    "2.3. Column 36 to 39\n",
    "2.4. Column 40 to 46\n",
    "2.5. Column 47 to 52\n",
    "2.6. Column 53 and 54\n",
    "3. __Summary__"
   ]
  },
  {
   "cell_type": "markdown",
   "id": "b10153cbd5cae28d",
   "metadata": {
    "collapsed": false
   },
   "source": [
    "Importing the required libraries"
   ]
  },
  {
   "cell_type": "code",
   "execution_count": null,
   "id": "initial_id",
   "metadata": {},
   "outputs": [],
   "source": [
    "# Path library for generating OS paths efficiently\n",
    "from pathlib import Path\n",
    "\n",
    "# Data analysis library\n",
    "import pandas as pd\n",
    "\n",
    "# Python library for numerical computation \n",
    "import numpy as np\n",
    "\n",
    "# Powerful data visualization library\n",
    "import seaborn as sns\n",
    "sns.set_theme(style=\"whitegrid\")\n",
    "\n",
    "# The base library for plotting graphs in python\n",
    "import matplotlib.pyplot as plt\n",
    "\n",
    "# Geographical plotting library\n",
    "import folium\n",
    "import geopy"
   ]
  },
  {
   "cell_type": "markdown",
   "id": "79242df41ec05046",
   "metadata": {
    "collapsed": false
   },
   "source": [
    "## 1. Overview\n",
    "\n",
    "The aim of this phase is to get to know the data at hand.\n",
    "\n",
    "First, let's start by loading the data. "
   ]
  },
  {
   "cell_type": "code",
   "execution_count": null,
   "id": "e487bcd3a264c436",
   "metadata": {
    "collapsed": false
   },
   "outputs": [],
   "source": [
    "# Formulating the directory \n",
    "path = Path.cwd().parent\n",
    "\n",
    "# Loading the data\n",
    "data = pd.read_csv(f'{path}/data/mental-heath-in-tech-2016_20161114.csv')\n",
    "data.head()"
   ]
  },
  {
   "cell_type": "code",
   "execution_count": null,
   "id": "7df3f59019488b7d",
   "metadata": {
    "collapsed": false
   },
   "outputs": [],
   "source": [
    "print(f\"The data is formed through {data.shape[1]} columns/features and {data.shape[0]} rows/records.\")"
   ]
  },
  {
   "cell_type": "code",
   "execution_count": null,
   "id": "3701d219eb7836cf",
   "metadata": {
    "collapsed": false
   },
   "outputs": [],
   "source": [
    "data.describe()"
   ]
  },
  {
   "cell_type": "markdown",
   "id": "9ef2072fa046e816",
   "metadata": {
    "collapsed": false
   },
   "source": [
    "__Insights :__\n",
    "- Out of a total of 63 columns, merely 7 contain numerical data. \n",
    "- The changing count between columns implies the presence of missing values within the dataset. \n",
    "- Unusual entries within the age column were identified, necessitating an appropriate filling approach.\n",
    "\n",
    "As we seek further investigations, we might use the __\".info()\"__ method, but we want to need to explore unique values within each column as this information will help us later on."
   ]
  },
  {
   "cell_type": "code",
   "execution_count": null,
   "id": "adb3ce7f7fb808b3",
   "metadata": {
    "collapsed": false
   },
   "outputs": [],
   "source": [
    "# Initiating an empty list data_info \n",
    "data_info = []\n",
    "\n",
    "# Gathering the attributes in one place \n",
    "for index, column in enumerate(data.columns):\n",
    "    info = {\n",
    "        'name': column,  # The name of the column \n",
    "        'empty_values': data[column].isna().sum(),  # The number of empty values in a column\n",
    "        'unique_values': [\n",
    "            data[column].unique().__len__() - 1 if data[column].isna().sum() != 0 else data[column].unique().__len__()][\n",
    "            0],  # The number of unique values \n",
    "        'data_type': data[column].dtypes  # The data type of column\n",
    "    }\n",
    "\n",
    "    # Appending the values  \n",
    "    data_info.append(info)\n",
    "\n",
    "# Create a DataFrame from the gathered information\n",
    "null_categories_data = pd.DataFrame(data_info).sort_values(by=['empty_values'], ascending=False)\n",
    "null_categories_data"
   ]
  },
  {
   "cell_type": "markdown",
   "id": "a08ced9f8b9d4966",
   "metadata": {
    "collapsed": false
   },
   "source": [
    "## 2. Exploratory Data Analysis\n",
    "In this section, we're iterating over columns based on relevancy. We can inspect 11 at a time as we can inspect two or three at a time. For a clearer view, visualizations are used where appropriate."
   ]
  },
  {
   "cell_type": "markdown",
   "id": "aba15d40a2094481",
   "metadata": {
    "collapsed": false
   },
   "source": [
    "### 2.1 Columns 0 to 23\n",
    "\n",
    "The __Are you self-employed?, How many employees does your company or organization have?, Is your employer primarily a tech company/organization?, Is your primary role within your company related to tech/IT?__ investigate basic information on the respondent."
   ]
  },
  {
   "cell_type": "code",
   "execution_count": null,
   "id": "94607e57faace241",
   "metadata": {
    "collapsed": false
   },
   "outputs": [],
   "source": [
    "# Performing aggregations on the first few columns using the value_counts method\n",
    "aggregations = {\n",
    "    \"Number of employees\": data[\"Are you self-employed?\"].value_counts()[0],\n",
    "    \"Number of self-employed\": data[\"Are you self-employed?\"].value_counts()[1],\n",
    "    \"Number of employees in IT related companies\":\n",
    "        data['Is your employer primarily a tech company/organization?'].value_counts()[1],\n",
    "    \"Number of employees in non-IT related companies\":\n",
    "        data['Is your employer primarily a tech company/organization?'].value_counts()[0],\n",
    "    \"Number of employees in non-IT related companies with IT related role\":\n",
    "        data[\"Is your primary role within your company related to tech/IT?\"].value_counts()[1],\n",
    "    \"Number of employees in non-IT related companies with non-IT related role\":\n",
    "        data[\"Is your primary role within your company related to tech/IT?\"].value_counts()[0]\n",
    "}\n",
    "\n",
    "# Print the dictionary\n",
    "aggregations"
   ]
  },
  {
   "cell_type": "markdown",
   "id": "c003a56b6bcad5f4",
   "metadata": {
    "collapsed": false
   },
   "source": [
    "The following pie chart better illustrates the data"
   ]
  },
  {
   "cell_type": "code",
   "execution_count": null,
   "id": "18d02b194521dea6",
   "metadata": {
    "collapsed": false
   },
   "outputs": [],
   "source": [
    "# Setting the labels and sizes lists \n",
    "labels = [\n",
    "    'Self-employed',\n",
    "    'Employees in IT related companies',\n",
    "    'Employees with IT-related role in a non-IT related company',\n",
    "    'Employees with non-IT-related role in a non-IT related company']\n",
    "\n",
    "sizes = [\n",
    "    aggregations[\"Number of self-employed\"],\n",
    "    aggregations[\"Number of employees in IT related companies\"],\n",
    "    aggregations[\"Number of employees in non-IT related companies with IT related role\"],\n",
    "    aggregations[\"Number of employees in non-IT related companies with non-IT related role\"]\n",
    "]\n",
    "\n",
    "# Setting the style of the visuals\n",
    "plt.style.use('fast')\n",
    "\n",
    "# Starting fig1 and ax1 subplots objects\n",
    "fig1, ax = plt.subplots(figsize=(15, 5))\n",
    "ax.pie(\n",
    "    sizes,  # List of values \n",
    "    autopct='%1.2f%%',  # Showing 3 numbers after the decimal point \n",
    "    textprops={'fontsize': 12}  # Setting the size of the ratios \n",
    ")\n",
    "\n",
    "ax.legend(\n",
    "    labels=labels,  # List of labels\n",
    "    loc=\"upper center\",  # Position of the legend\n",
    "    bbox_to_anchor=(0.5, 1.1),\n",
    "    fontsize=8)  # Size of the legend\n",
    "\n",
    "# Plotting the figure\n",
    "plt.show()"
   ]
  },
  {
   "cell_type": "markdown",
   "id": "94fb33d05b3f56f0",
   "metadata": {
    "collapsed": false
   },
   "source": [
    "The organization's size in our data set varies. The next graph describes this variation :"
   ]
  },
  {
   "cell_type": "code",
   "execution_count": null,
   "id": "de61266e7805d8a8",
   "metadata": {
    "collapsed": false
   },
   "outputs": [],
   "source": [
    "# Performing aggregation using .value_counts()\n",
    "organization_size = pd.DataFrame(data[\"How many employees does your company or organization have?\"].value_counts()).reset_index()\n",
    "organization_size"
   ]
  },
  {
   "cell_type": "code",
   "execution_count": null,
   "id": "3bf327f24dea6d47",
   "metadata": {
    "collapsed": false
   },
   "outputs": [],
   "source": [
    "# Plotting horizontal bars plot \n",
    "sns.barplot(x=\"How many employees does your company or organization have?\", \n",
    "            y=\"count\",\n",
    "            data=organization_size)\n",
    "\n",
    "# Setting proper x/y-axis labels \n",
    "plt.xlabel(\"Number of respondents\")\n",
    "plt.ylabel(\"Organization Size\")\n",
    "\n",
    "# Showing the plot\n",
    "plt.show()"
   ]
  },
  {
   "cell_type": "markdown",
   "id": "e84c772bd2851b54",
   "metadata": {
    "collapsed": false
   },
   "source": [
    "__Insights__ :\n",
    "- The employees in IT-related companies don't provide a clear stand if they're hired in an IT-related role or not. These 883 missing values need to be handled properly.\n",
    "- The employees are working for a broad category of organizations with medium and bigger size dominance. the 287 missing values in this column reflect the number of self-employed who didn't answer this question.\n",
    "- __Sharing the exact same number of missing values__, the following columns contain unique values that vary between 3 and 6:\n",
    "    - Does your employer provide mental health benefits as part of healthcare coverage?\n",
    "    - Have you heard of or observed negative consequences for co-workers who have been open about mental health issues in your workplace?\n",
    "    - Has your employer ever formally discussed mental health (for example, as part of a wellness campaign or other official communication)?\n",
    "    - Does your employer offer resources to learn more about mental health concerns and options for seeking help?\n",
    "    - Is your anonymity protected if you choose to take advantage of mental health or substance abuse treatment resources provided by your employer?\n",
    "    - If a mental health issue prompted you to request a medical leave from work, asking for that leave would be:\n",
    "    - Do you think that discussing a mental health disorder with your employer would have negative consequences?\n",
    "    - Do you think that discussing a physical health issue with your employer would have negative consequences?\n",
    "    - Would you feel comfortable discussing a mental health disorder with your coworkers?\n",
    "    - Would you feel comfortable discussing a mental health disorder with your direct supervisor(s)?\n",
    "    - Do you feel that your employer takes mental health as seriously as physical health?\n",
    "- The __Do you know the options for mental health care available under your employer-provided coverage?__ column has exactly four unique values and 420 missing values. \n",
    "- __Exceeding 1146 missing values__, the following columns are more likely to be dropped due to the significant number of missing values : \n",
    "    - Do you have medical coverage (private insurance or state-provided) which includes treatment of mental health issues?\n",
    "    - Do you know local or online resources to seek help for a mental health disorder?\n",
    "    - If you have been diagnosed or treated for a mental health disorder, do you ever reveal this to clients or business contacts?\n",
    "    - If you have revealed a mental health issue to a client or business contact, do you believe this has impacted you negatively?\n",
    "    - If you have been diagnosed or treated for a mental health disorder, do you ever reveal this to coworkers or employees?\n",
    "    - If you have revealed a mental health issue to a coworker or employee, do you believe this has impacted you negatively?\n",
    "    - Do you believe your productivity is ever affected by a mental health issue?\n",
    "    - If yes, what percentage of your work time (time performing primary or secondary job functions) is affected by a mental health issue?\""
   ]
  },
  {
   "cell_type": "markdown",
   "id": "10f08252a1873e4d",
   "metadata": {
    "collapsed": false
   },
   "source": [
    "### 2.2 Columns 24 to 35\n",
    "In the next column, the respondents are filtered into previously employed or not.  "
   ]
  },
  {
   "cell_type": "code",
   "execution_count": null,
   "id": "c3e0e42a87f1edb7",
   "metadata": {
    "collapsed": false
   },
   "outputs": [],
   "source": [
    "# Performing aggregation using .value_counts()\n",
    "data[\"Do you have previous employers?\"].value_counts()"
   ]
  },
  {
   "cell_type": "markdown",
   "id": "135e2b3bcb1fffae",
   "metadata": {
    "collapsed": false
   },
   "source": [
    "__Insights__ :\n",
    "- The majority of employees have previous employment history.\n",
    "- The next 11 columns have either four or five unique values tend to have the exact same value of 169 missing values reflects the missing responses of 169 employees who don't have a previous employer : \n",
    "    - Have your previous employers provided mental health benefits?\n",
    "    - Were you aware of the options for mental health care provided by your previous employers?\n",
    "    - Did your previous employers ever formally discuss mental health (as part of a wellness campaign or other official communication)?\n",
    "    - Did your previous employers provide resources to learn more about mental health issues and how to seek help?\n",
    "    - Was your anonymity protected if you chose to take advantage of mental health or substance abuse treatment resources with previous employers?\n",
    "    - Do you think that discussing a mental health disorder with previous employers would have negative consequences?\n",
    "    - Do you think that discussing a physical health issue with previous employers would have negative consequences?\n",
    "    - Would you have been willing to discuss a mental health issue with your previous co-workers?\n",
    "    - Would you have been willing to discuss a mental health issue with your direct supervisor(s)?\n",
    "    - Did you feel that your previous employers took mental health as seriously as physical health?\n",
    "    - Did you hear of or observe negative consequences for co-workers with mental health issues in your previous workplaces?"
   ]
  },
  {
   "cell_type": "markdown",
   "id": "b69bf961b2c80662",
   "metadata": {
    "collapsed": false
   },
   "source": [
    "### 2.3 Columns 36 to 39\n",
    "Next, we observe how the opinions are distributed in the matter of revealing both physical and mental health issues."
   ]
  },
  {
   "cell_type": "code",
   "execution_count": null,
   "id": "e3d20dbe2fadc729",
   "metadata": {
    "collapsed": false
   },
   "outputs": [],
   "source": [
    "# Performing aggregations on the columns, then saving them into dictionaries\n",
    "phi = data[\n",
    "    \"Would you be willing to bring up a physical health issue with a potential employer in an interview?\"].value_counts().to_dict()\n",
    "mhi = data[\n",
    "    \"Would you bring up a mental health issue with a potential employer in an interview?\"].value_counts().to_dict()\n",
    "\n",
    "# Setting the components for the chart\n",
    "categories = ['Yes', 'Maybe', 'No']\n",
    "phi_values = [phi['Yes'], phi['Maybe'], phi['No']]\n",
    "mhi_values = [mhi['Yes'], mhi['Maybe'], mhi['No']]\n",
    "\n",
    "# Set the width of the bars\n",
    "bar_width = 0.35\n",
    "\n",
    "# Create figure and axis\n",
    "fig, ax = plt.subplots()\n",
    "\n",
    "# Plot the first set of bars\n",
    "bar1 = ax.bar(np.arange(len(categories)), phi_values, bar_width, color='blue', label='Physical health issues')\n",
    "\n",
    "# Calculate the position for the second set of bars\n",
    "bar2_position = np.arange(len(categories)) + bar_width\n",
    "\n",
    "# Plot the second set of bars\n",
    "bar2 = ax.bar(bar2_position, mhi_values, bar_width, color='red', label='Mental health issues')\n",
    "\n",
    "# Set labels and ticks\n",
    "ax.set_xlabel('Categories')\n",
    "ax.set_ylabel('Count')\n",
    "ax.set_xticks(np.arange(len(categories)))\n",
    "ax.set_xticklabels(categories)\n",
    "\n",
    "# Add legend\n",
    "bars = [bar1, bar2]\n",
    "labels = [bar.get_label() for bar in bars]\n",
    "ax.legend(bars, labels)\n",
    "\n",
    "# Show plot\n",
    "plt.title('Intention to reveal physical/mental health issues')\n",
    "plt.show()"
   ]
  },
  {
   "cell_type": "markdown",
   "id": "2f53324edab4543",
   "metadata": {
    "collapsed": false
   },
   "source": [
    "__Insights :__\n",
    "- There is a nuanced spread of responses to revealing physical health issues, with a slight advantage towards uncertainty and disagreement, while still encompassing a proportion of agreement.\n",
    "- A notable prevalence of negative sentiment among respondents to reveal mental health issues with a discernible emphasis on disagreement and uncertainty compared to agreement.\n",
    "- The reasons for all choices are different as their count goes above 1000 entry."
   ]
  },
  {
   "cell_type": "markdown",
   "id": "bcbd66b90fcc0f10",
   "metadata": {
    "collapsed": false
   },
   "source": [
    "### 2.4 Columns 40 to 46\n",
    "\n",
    "Among these columns, we shall explore the two columns with supicious number of empty values which doesn't make sense."
   ]
  },
  {
   "cell_type": "code",
   "execution_count": null,
   "id": "a5999a3268a9e87e",
   "metadata": {
    "collapsed": false
   },
   "outputs": [],
   "source": [
    "# Setting a subset called new_df \n",
    "new_df = data[[\n",
    "    'Have you observed or experienced an unsupportive or badly handled response to a mental health issue in your current or previous workplace?',\n",
    "    'Have your observations of how another individual who discussed a mental health disorder made you less likely to reveal a mental health issue yourself in your current workplace?']].copy()\n",
    "\n",
    "# Replacing the missing values\n",
    "new_df[\n",
    "    'Have you observed or experienced an unsupportive or badly handled response to a mental health issue in your current or previous workplace?'].fillna(\n",
    "    'empty_value', inplace=True)\n",
    "new_df[\n",
    "    'Have your observations of how another individual who discussed a mental health disorder made you less likely to reveal a mental health issue yourself in your current workplace?'].fillna(\n",
    "    'empty_value', inplace=True)\n",
    "\n",
    "# Performing some aggregations\n",
    "new_df.value_counts()"
   ]
  },
  {
   "cell_type": "markdown",
   "id": "910810b33013ce48",
   "metadata": {
    "collapsed": false
   },
   "source": [
    "__Insights__ : \n",
    "- The following columns hold three to six unique values with no empty values:\n",
    "    - Do you feel that being identified as a person with a mental health issue would hurt your career?-\n",
    "    - Do you think that team members/co-workers would view you more negatively if they knew you suffered from a mental health issue?\n",
    "    - How willing would you be to share with friends and family that you have a mental illness?\n",
    "    - Do you have a family history of mental illness?\n",
    "    - Have you had a mental health disorder in the past?\n",
    "- The two remaining columns can benefit from adding another unique value __I don't know__, instead of dropping them due to the enormous number of empty values. "
   ]
  },
  {
   "cell_type": "markdown",
   "id": "fbf3ea8655da70e3",
   "metadata": {
    "collapsed": false
   },
   "source": [
    "### 2.6 Columns 47 to 54\n",
    "\n",
    "Among these columns, we shall begin by exploring the existence of mental health issues among respondents."
   ]
  },
  {
   "cell_type": "code",
   "execution_count": null,
   "id": "cdf6dd135d074fbc",
   "metadata": {
    "collapsed": false
   },
   "outputs": [],
   "source": [
    "# Inspect the unique values within this column\n",
    "data[[\"Do you currently have a mental health disorder?\",\n",
    "      \"Have you been diagnosed with a mental health condition by a medical professional?\"]].value_counts()"
   ]
  },
  {
   "cell_type": "code",
   "execution_count": null,
   "id": "1a64fafdd2760015",
   "metadata": {
    "collapsed": false
   },
   "outputs": [],
   "source": [
    "portion = data.iloc[:, 47:52]\n",
    "\n",
    "portion.head(1433)"
   ]
  },
  {
   "cell_type": "code",
   "execution_count": null,
   "id": "4c16f491774532a6",
   "metadata": {
    "collapsed": false
   },
   "outputs": [],
   "source": [
    "# Extracting the unreasonable empty values \n",
    "portion[(portion[\"Do you currently have a mental health disorder?\"] != 'No')\n",
    "        &\n",
    "        (portion[\"If yes, what condition(s) have you been diagnosed with?\"].isna())\n",
    "        &\n",
    "        (portion[\"If maybe, what condition(s) do you believe you have?\"].isna())\n",
    "        ]\n"
   ]
  },
  {
   "cell_type": "markdown",
   "id": "19788dd365684a6f",
   "metadata": {
    "collapsed": false
   },
   "source": [
    "The following function __conditions_counter__ will help us determine the most selected conditions and how many respondents believe they deal with this condition."
   ]
  },
  {
   "cell_type": "code",
   "execution_count": null,
   "id": "490c14ad1dbf0238",
   "metadata": {
    "collapsed": false
   },
   "outputs": [],
   "source": [
    "# Defining a function called condition_counter\n",
    "def conditions_counter(column_name):\n",
    "    \"\"\"\n",
    "    :param column_name: The name of column desired\n",
    "    :return: a Dataframe containing the conditions and the number of their occurrences in the column\n",
    "    \"\"\"\n",
    "\n",
    "    # Creating the list of unique values excluding empty values\n",
    "    a_list = pd.DataFrame(data[column_name].value_counts()).reset_index().iloc[:, 0].to_list()\n",
    "\n",
    "    # Creating an empty dictionary\n",
    "    a_dict = dict()\n",
    "\n",
    "    # Initiating a for-loop\n",
    "    for element in a_list:\n",
    "        # Inspecting the existence of a character \n",
    "        if '|' in element:\n",
    "            elements = element.split(\"|\")\n",
    "            # If the condition is met\n",
    "            for unit in elements:\n",
    "                # Iterating each unit  \n",
    "                if unit in a_dict:\n",
    "                    a_dict[unit] += 1  # Augment the number if it does exist\n",
    "                else:\n",
    "                    a_dict[unit] = 1  # Set the number to 1 if a new occurrence is found\n",
    "        else:\n",
    "            if element in a_dict:\n",
    "                a_dict[element] += 1\n",
    "            else:\n",
    "                a_dict[element] = 1\n",
    "\n",
    "    # Turning the data stored in the dictionary into a dataframe\n",
    "    dframe = pd.DataFrame(list(a_dict.items()), columns=['Condition', 'Count'])\n",
    "\n",
    "    # The final output of the function\n",
    "    return dframe"
   ]
  },
  {
   "cell_type": "code",
   "execution_count": null,
   "id": "b3db1e89b9ddabf5",
   "metadata": {
    "collapsed": false
   },
   "outputs": [],
   "source": [
    "# Setting the dataframes\n",
    "known_conditions = conditions_counter(\"If yes, what condition(s) have you been diagnosed with?\")\n",
    "suspected_conditions = conditions_counter(\"If maybe, what condition(s) do you believe you have?\")\n",
    "diagnosed_conditions = conditions_counter(\"If so, what condition(s) were you diagnosed with?\")"
   ]
  },
  {
   "cell_type": "markdown",
   "id": "e9ca9e8243d61413",
   "metadata": {
    "collapsed": false
   },
   "source": [
    "We'll merge the generated datasets to provide a compact overview."
   ]
  },
  {
   "cell_type": "code",
   "execution_count": null,
   "id": "3b7c252859433db2",
   "metadata": {
    "collapsed": false
   },
   "outputs": [],
   "source": [
    "# Merging the data frames into final_df\n",
    "final_df = pd.merge(\n",
    "    pd.merge(\n",
    "        known_conditions,\n",
    "        suspected_conditions,\n",
    "        on='Condition', how='outer',\n",
    "        suffixes=('_confirmed', '_suspected')\n",
    "    ), diagnosed_conditions, on='Condition', how='outer')\n",
    "\n",
    "# Replacing empty values\n",
    "final_df[['Count_confirmed', 'Count_suspected', 'Count']] = final_df[\n",
    "    ['Count_confirmed', 'Count_suspected', 'Count']].replace(np.nan, 0)\n",
    "\n",
    "# Adjusting the data type\n",
    "final_df[['Count_confirmed', 'Count_suspected', 'Count']] = final_df[\n",
    "    ['Count_confirmed', 'Count_suspected', 'Count']].astype('int64')\n",
    "\n",
    "# Adding a new column called: Total\n",
    "final_df[\"Total\"] = final_df[\"Count_confirmed\"] + final_df[\"Count_suspected\"] + final_df[\"Count\"]\n",
    "final_df.sort_values(\"Total\", ascending=False, inplace=True)\n",
    "\n",
    "# Print final_df\n",
    "final_df"
   ]
  },
  {
   "cell_type": "markdown",
   "id": "fc1413c9a0366536",
   "metadata": {
    "collapsed": false
   },
   "source": [
    "Here, we can find that there are some redundant values"
   ]
  },
  {
   "cell_type": "code",
   "execution_count": null,
   "id": "56d8836dfbf2100d",
   "metadata": {
    "collapsed": false
   },
   "outputs": [],
   "source": [
    "sorted(final_df[\"Condition\"].to_list())"
   ]
  },
  {
   "cell_type": "code",
   "execution_count": null,
   "id": "5a87cce495fde55a",
   "metadata": {
    "collapsed": false
   },
   "outputs": [],
   "source": [
    "# Create a new DataFrame for counting unique values and their counts from both columns\n",
    "is_affected = pd.DataFrame(data[\n",
    "                               \"If you have a mental health issue, do you feel that it interferes with your work when being treated effectively?\"].value_counts()).reset_index()\n",
    "is_not_affected = pd.DataFrame(data[\n",
    "                                   \"If you have a mental health issue, do you feel that it interferes with your work when NOT being treated effectively?\"\n",
    "                               ].value_counts()).reset_index()\n",
    "\n",
    "is_affected.columns = is_not_affected.columns = [\"Categories\", \"Count\"]\n",
    "\n",
    "# Merging the data frames into final_df\n",
    "merged_df = pd.merge(\n",
    "        is_affected,\n",
    "        is_not_affected,\n",
    "        on='Categories', how='outer',\n",
    "        suffixes=('_affected', '_not_affecting'))\n",
    "\n",
    "# Melt the DataFrame to create a \"long-form\" representation\n",
    "melted = pd.melt(merged_df, id_vars='Categories', var_name='Condition', value_name='Count')\n",
    "\n",
    "# Plot side-by-side bars using Seaborn\n",
    "plt.figure(figsize=(10, 6))\n",
    "sns.barplot(data=melted, x='Categories', y='Count', hue='Condition')\n",
    "plt.title('Impact of Mental Health Issue on Work')\n",
    "plt.xlabel('Categories')\n",
    "plt.ylabel('Count')\n",
    "plt.show()"
   ]
  },
  {
   "cell_type": "markdown",
   "id": "805de265f0278887",
   "metadata": {
    "collapsed": false
   },
   "source": [
    "__Insights__:\n",
    "- These columns require some feature engineering techniques to transform it from a text data type into new columns with numerical values of 0 and 1.\n",
    "- Since there are some extra missing values, adopting an adequate approach to fill the missing values is required. \n",
    "- Redundancy should be removed by standardizing the respondents' input.\n",
    "- The __MAJOR__ conditions are: \n",
    "    - Mood Disorder (Depression, Bipolar Disorder, etc)\n",
    "    - Anxiety Disorder (Generalized, Social, Phobia, etc)\n",
    "    - Attention Deficit Hyperactivity Disorder\n",
    "    - Post-traumatic Stress Disorder\n",
    "    - Personality Disorder (Borderline, Antisocial, Paranoid, etc)\n",
    "    - Obsessive-Compulsive Disorder\n",
    "    - Substance Use Disorder\n",
    "    - Stress Response Syndromes\n",
    "    - Addictive Disorder\n",
    "    - Eating Disorder (Anorexia, Bulimia, etc)\n",
    "- The effect of these conditions according to our respondents doesn't affect the productivity of an employee __Often__ but it does __RARELY__."
   ]
  },
  {
   "cell_type": "markdown",
   "id": "b0d191465f2b9365",
   "metadata": {
    "collapsed": false
   },
   "source": [
    "### 2.7 Columns 55 to 56\n",
    "for these columns, running __.describe()__ & __value_counts()__ methods is enough to unfold the information we seek."
   ]
  },
  {
   "cell_type": "code",
   "execution_count": null,
   "id": "1822e5ef98f15660",
   "metadata": {
    "collapsed": false
   },
   "outputs": [],
   "source": [
    "data[\"What is your age?\"].describe()"
   ]
  },
  {
   "cell_type": "code",
   "execution_count": null,
   "id": "30685b247bcffe71",
   "metadata": {
    "collapsed": false
   },
   "outputs": [],
   "source": [
    "# Create a box plot for the numerical column with outliers\n",
    "fig2= plt.figure(figsize=(5, 6))\n",
    "sns.boxplot(y='What is your age?', data=data)\n",
    "plt.title('Age distribution')\n",
    "plt.ylabel('Age')\n",
    "plt.set_ylim(1, None)\n",
    "plt.savefig('box_plot.png', bbox_inches='tight')  # Specify the file name and format\n",
    "plt.show()"
   ]
  },
  {
   "cell_type": "code",
   "execution_count": null,
   "id": "89a12cfbd6de7406",
   "metadata": {
    "collapsed": false
   },
   "outputs": [],
   "source": [
    "import matplotlib.pyplot as plt\n",
    "import seaborn as sns\n",
    "\n",
    "# Create a horizontal box plot for the numerical column with outliers\n",
    "plt.figure(figsize=(4, 5))\n",
    "ax = sns.boxplot(y='What is your age?', data=data)\n",
    "\n",
    "\n",
    "# Set y-axis limits and omit the first 0\n",
    "ax.set_ylim(1, None)\n",
    "\n",
    "# Save the plot as a picture\n",
    "plt.savefig('box_plot_1.png', bbox_inches='tight')  # Specify the file name and format\n",
    "plt.show()"
   ]
  },
  {
   "cell_type": "code",
   "execution_count": null,
   "id": "aa62a59774e6e94",
   "metadata": {
    "collapsed": false
   },
   "outputs": [],
   "source": [
    "gender = pd.DataFrame(data[\"What is your gender?\"].value_counts()).reset_index()\n",
    "gender"
   ]
  },
  {
   "cell_type": "markdown",
   "id": "3483699f64fe1fa1",
   "metadata": {
    "collapsed": false
   },
   "source": [
    "__Insights__ : \n",
    "- An obvious typos must be handled due to the existence of unreasonable values 3, 15, and 323 in the age section.\n",
    "- The redundancy in the gender section must be addressed as well.\n"
   ]
  },
  {
   "cell_type": "markdown",
   "id": "1911664d153b51bf",
   "metadata": {
    "collapsed": false
   },
   "source": [
    "### 2.8 Columns 57 to 60\n",
    "These columns look fine with no unusual inputs."
   ]
  },
  {
   "cell_type": "code",
   "execution_count": null,
   "id": "8d240826cd36ae17",
   "metadata": {
    "collapsed": false
   },
   "outputs": [],
   "source": [
    "# Example data (replace this with your actual data)\n",
    "geo_employee_residency = pd.DataFrame(data[\"What US state or territory do you live in?\"].value_counts()).reset_index()\n",
    "geo_employee_work = pd.DataFrame(data[\"What US state or territory do you work in?\"].value_counts()).reset_index()\n",
    "\n",
    "geo_employee_work.columns = geo_employee_residency.columns = [\"States\", \"Count\"]"
   ]
  },
  {
   "cell_type": "code",
   "execution_count": null,
   "id": "cfa978b23e5f0350",
   "metadata": {
    "collapsed": false
   },
   "outputs": [],
   "source": [
    "from geopy.geocoders import Nominatim\n",
    "\n",
    "def get_state_coordinates(state):\n",
    "    geo_locator = Nominatim(user_agent=\"my_geocoder\")\n",
    "    location = geo_locator.geocode(state + \", USA\")\n",
    "    if location:\n",
    "        return location.latitude, location.longitude\n",
    "    else:\n",
    "        return None"
   ]
  },
  {
   "cell_type": "code",
   "execution_count": null,
   "id": "af3fffd17675b2a3",
   "metadata": {
    "collapsed": false
   },
   "outputs": [],
   "source": [
    "coordinates_work = {}\n",
    "\n",
    "for element in geo_employee_work[\"States\"].to_list() :\n",
    "    value = get_state_coordinates(element)\n",
    "    coordinates_work[element] = value\n",
    "\n",
    "coordinates_work"
   ]
  },
  {
   "cell_type": "code",
   "execution_count": null,
   "id": "817f5cbbbc6feff5",
   "metadata": {
    "collapsed": false
   },
   "outputs": [],
   "source": [
    "coordinates_residency ={}\n",
    "\n",
    "for element in geo_employee_residency[\"States\"].to_list() :\n",
    "    value = get_state_coordinates(element)\n",
    "    coordinates_residency[element] = value\n",
    "\n",
    "coordinates_residency"
   ]
  },
  {
   "cell_type": "code",
   "execution_count": null,
   "id": "52ee754ba6a98c16",
   "metadata": {
    "collapsed": false
   },
   "outputs": [],
   "source": [
    "from folium.plugins import HeatMap\n",
    "\n",
    "# Create a map centered at the United States\n",
    "map_us = folium.Map(location=[37.0902, -95.7129], zoom_start=4)\n",
    "\n",
    "# Create a list of tuples containing the latitude and longitude of each state and its count\n",
    "heat_data = [\n",
    "    [coordinates_work[element][0], coordinates_work[element][1]] for element in coordinates_work\n",
    "]\n",
    "\n",
    "# Create the heatmap\n",
    "HeatMap(heat_data).add_to(map_us)\n",
    "\n",
    "for key, value in heat_data:\n",
    "    folium.Marker(location=[value[0], value[1]], popup=heat_data[key]).add_to(map_us)\n",
    "    folium.Circle(\n",
    "        location=(value[0], value[1]),\n",
    "        radius=row['Value'] * 1000,  # Adjust the radius as per your requirement\n",
    "        popup=f\"{row['State']} - {row['Value']} respondents\",\n",
    "        fill=True,\n",
    "        fill_opacity=0.5,\n",
    "        color='blue',\n",
    "        fill_color='blue'\n",
    "    ).add_to(us_map)\n",
    "\n",
    "\n",
    "# Display the map\n",
    "map_us"
   ]
  },
  {
   "cell_type": "code",
   "execution_count": null,
   "id": "627c1d8b84e48e3b",
   "metadata": {
    "collapsed": false
   },
   "outputs": [],
   "source": [
    "# Create a geolocator object\n",
    "geolocator = Nominatim(user_agent=\"my_geocoder\")\n",
    "\n",
    "# Example list of cities in the United States\n",
    "cities = ['New York', 'Los Angeles', 'Chicago', 'Houston', 'Phoenix']\n",
    "\n",
    "# Dictionary to store city coordinates\n",
    "city_coordinates = {}\n",
    "\n",
    "# Retrieve coordinates for each city\n",
    "for city in cities:\n",
    "    location = geolocator.geocode(city)\n",
    "    if location:\n",
    "        city_coordinates[city] = (location.latitude, location.longitude)\n",
    "\n",
    "print(city_coordinates)"
   ]
  },
  {
   "cell_type": "code",
   "execution_count": null,
   "id": "7698cf8a1b5e23fa",
   "metadata": {
    "collapsed": false
   },
   "outputs": [],
   "source": [
    "import folium\n",
    "from folium.plugins import HeatMap\n",
    "from geopy.geocoders import Nominatim\n",
    "import pandas as pd\n",
    "\n",
    "# Function to get coordinates of a state using geopy\n",
    "def get_state_coordinates(state_name):\n",
    "    geolocator = Nominatim(user_agent=\"my_geocoder\")\n",
    "    location = geolocator.geocode(state_name + \", USA\")\n",
    "    if location:\n",
    "        return location.latitude, location.longitude\n",
    "    else:\n",
    "        return None\n",
    "\n",
    "# Example data - replace this with your own data\n",
    "data = {\n",
    "    'State': ['California', 'New York', 'Texas', 'Florida', 'Illinois'],\n",
    "    'Value': [100, 200, 150, 300, 250]\n",
    "}\n",
    "\n",
    "# Geocode the states and create a DataFrame with coordinates\n",
    "coordinates = []\n",
    "for state in data['State']:\n",
    "    coords = get_state_coordinates(state)\n",
    "    if coords:\n",
    "        coordinates.append({'State': state, 'Latitude': coords[0], 'Longitude': coords[1]})\n",
    "df = pd.DataFrame(coordinates)\n",
    "\n",
    "# Create a base map centered around the US\n",
    "us_map = folium.Map(location=[37.0902, -95.7129], zoom_start=4)\n",
    "\n",
    "# Convert data to list of [latitude, longitude] points\n",
    "heat_data = [[row['Latitude'], row['Longitude'], row['Value']] for index, row in df.iterrows()]\n",
    "\n",
    "# Create HeatMap layer\n",
    "HeatMap(heat_data).add_to(us_map)\n",
    "\n",
    "# Save the map to an HTML file\n",
    "us_map.save(\"heatmap_us_map.html\")\n"
   ]
  },
  {
   "cell_type": "markdown",
   "id": "a04d256619ddf7d1",
   "metadata": {
    "collapsed": false
   },
   "source": [
    "# Summary\n",
    "The data exploration of this dataset showed various aspects and insights. Some of which will have to be handled in the phase of pre-processing are included here :\n",
    "- Reason 1.\n",
    "- Reason 2.\n",
    "- Reason 3."
   ]
  },
  {
   "cell_type": "markdown",
   "id": "d18fd24c4867f3f5",
   "metadata": {
    "collapsed": false
   },
   "source": [
    "## Authors"
   ]
  },
  {
   "cell_type": "markdown",
   "id": "fb46f67494873970",
   "metadata": {
    "collapsed": false
   },
   "source": [
    "<a href=\"https://www.linkedin.com/in/joseph-s-50398b136/?utm_medium=Exinfluencer&utm_source=Exinfluencer&utm_content=000026UJ&utm_term=10006555&utm_id=NA-SkillsNetwork-Channel-SkillsNetworkCoursesIBMDS0321ENSkillsNetwork865-2023-01-01\">Joseph Santarcangelo</a> has a PhD in Electrical Engineering, his research focused on using machine learning, signal processing, and computer vision to determine how videos impact human cognition. Joseph has been working for IBM since he completed his PhD."
   ]
  },
  {
   "cell_type": "markdown",
   "id": "e98ab594e72e06e0",
   "metadata": {
    "collapsed": false
   },
   "source": [
    "<a href=\"https://www.linkedin.com/in/nayefaboutayoun/?utm_medium=Exinfluencer&utm_source=Exinfluencer&utm_content=000026UJ&utm_term=10006555&utm_id=NA-SkillsNetwork-Channel-SkillsNetworkCoursesIBMDS0321ENSkillsNetwork865-2023-01-01\">Nayef Abou Tayoun</a> is a Data Scientist at IBM and pursuing a Master of Management in Artificial intelligence degree at Queen's University."
   ]
  },
  {
   "cell_type": "markdown",
   "id": "1ad0f54b640cc31d",
   "metadata": {
    "collapsed": false
   },
   "source": [
    "## Change Log"
   ]
  },
  {
   "cell_type": "markdown",
   "id": "8fd7d18d685c9dd5",
   "metadata": {
    "collapsed": false
   },
   "source": [
    "| Date       | Version | Changed By    | Change Description      |\n",
    "|------------|---------|---------------|-------------------------|\n",
    "| 2021-10-12 | 1.1     | Lakshmi Holla | Modified markdown       |\n",
    "| 2020-09-20 | 1.0     | Joseph        | Modified Multiple Areas |\n",
    "| 2020-11-10 | 1.1     | Nayef         | updating the input data |"
   ]
  }
 ],
 "metadata": {
  "kernelspec": {
   "display_name": "Python 3 (ipykernel)",
   "language": "python",
   "name": "python3"
  },
  "language_info": {
   "codemirror_mode": {
    "name": "ipython",
    "version": 3
   },
   "file_extension": ".py",
   "mimetype": "text/x-python",
   "name": "python",
   "nbconvert_exporter": "python",
   "pygments_lexer": "ipython3",
   "version": "3.9.7"
  }
 },
 "nbformat": 4,
 "nbformat_minor": 5
}
