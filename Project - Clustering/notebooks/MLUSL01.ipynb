{
 "cells": [
  {
   "cell_type": "markdown",
   "id": "e87ab10ecbab2d7a",
   "metadata": {
    "collapsed": false
   },
   "source": [
    "# Greetings\n",
    "The [data](https://www.kaggle.com/datasets/osmi/mental-health-in-tech-2016/) used in this notebook is provided from Open-Sourcing Mental Illness, LTD (OSMI) in 2016. The results of a survey, which were conducted to gauge the impact of mental health illnesses among employees."
   ]
  },
  {
   "cell_type": "markdown",
   "id": "5d0d6ae9380360ab",
   "metadata": {
    "collapsed": false
   },
   "source": [
    "## Data Exploration\n",
    "This section is dedicated to shaping an understanding of the data, identifying any underlying issues, and preparing to address them in subsequent phases. This stage is pivotal as it lays the foundation for various decisions concerning data imputation and data wrangling and more.\n",
    "\n",
    "During this phase, we solely conduct exploratory data analysis, using descriptive statistics and visualizations. No alterations will be made to the data at this stage."
   ]
  },
  {
   "cell_type": "markdown",
   "id": "db3fc567ab5bf984",
   "metadata": {
    "collapsed": false
   },
   "source": [
    "### List of contents :\n",
    "1. __Overview__ \n",
    "2. __Exploratory Data Analysis__\n",
    "3. __Summary__"
   ]
  },
  {
   "cell_type": "markdown",
   "id": "b10153cbd5cae28d",
   "metadata": {
    "collapsed": false
   },
   "source": [
    "Importing the required libraries"
   ]
  },
  {
   "cell_type": "code",
   "execution_count": 1,
   "id": "initial_id",
   "metadata": {
    "ExecuteTime": {
     "end_time": "2024-03-17T13:25:38.757081Z",
     "start_time": "2024-03-17T13:25:36.146166Z"
    }
   },
   "outputs": [],
   "source": [
    "# Path library for generating OS paths efficiently\n",
    "from pathlib import Path\n",
    "\n",
    "# Data analysis library\n",
    "import pandas as pd\n",
    "\n",
    "# Python library for numerical computation \n",
    "import numpy as np\n",
    "\n",
    "# Powerful data visualization library\n",
    "import seaborn as sns\n",
    "sns.set_theme(style=\"whitegrid\")\n",
    "\n",
    "# The base library for plotting graphs in python\n",
    "import matplotlib.pyplot as plt\n",
    "\n",
    "# Geographical plotting library\n",
    "import folium\n",
    "import geopy"
   ]
  },
  {
   "cell_type": "markdown",
   "id": "79242df41ec05046",
   "metadata": {
    "collapsed": false
   },
   "source": [
    "## 1. Overview\n",
    "\n",
    "First, let's start by loading the data. "
   ]
  },
  {
   "cell_type": "code",
   "execution_count": 2,
   "id": "e487bcd3a264c436",
   "metadata": {
    "collapsed": false,
    "ExecuteTime": {
     "end_time": "2024-03-17T13:25:38.929793Z",
     "start_time": "2024-03-17T13:25:38.768242Z"
    }
   },
   "outputs": [
    {
     "data": {
      "text/plain": "   Are you self-employed?  \\\n0                       0   \n1                       0   \n2                       0   \n3                       1   \n4                       0   \n\n  How many employees does your company or organization have?  \\\n0                                             26-100           \n1                                               6-25           \n2                                               6-25           \n3                                                NaN           \n4                                               6-25           \n\n   Is your employer primarily a tech company/organization?  \\\n0                                                1.0         \n1                                                1.0         \n2                                                1.0         \n3                                                NaN         \n4                                                0.0         \n\n   Is your primary role within your company related to tech/IT?  \\\n0                                                NaN              \n1                                                NaN              \n2                                                NaN              \n3                                                NaN              \n4                                                1.0              \n\n  Does your employer provide mental health benefits as part of healthcare coverage?  \\\n0                    Not eligible for coverage / N/A                                  \n1                                                 No                                  \n2                                                 No                                  \n3                                                NaN                                  \n4                                                Yes                                  \n\n  Do you know the options for mental health care available under your employer-provided coverage?  \\\n0                                                NaN                                                \n1                                                Yes                                                \n2                                                NaN                                                \n3                                                NaN                                                \n4                                                Yes                                                \n\n  Has your employer ever formally discussed mental health (for example, as part of a wellness campaign or other official communication)?  \\\n0                                                 No                                                                                       \n1                                                Yes                                                                                       \n2                                                 No                                                                                       \n3                                                NaN                                                                                       \n4                                                 No                                                                                       \n\n  Does your employer offer resources to learn more about mental health concerns and options for seeking help?  \\\n0                                                 No                                                            \n1                                                Yes                                                            \n2                                                 No                                                            \n3                                                NaN                                                            \n4                                                 No                                                            \n\n  Is your anonymity protected if you choose to take advantage of mental health or substance abuse treatment resources provided by your employer?  \\\n0                                       I don't know                                                                                               \n1                                                Yes                                                                                               \n2                                       I don't know                                                                                               \n3                                                NaN                                                                                               \n4                                                 No                                                                                               \n\n  If a mental health issue prompted you to request a medical leave from work, asking for that leave would be:  \\\n0                                          Very easy                                                            \n1                                      Somewhat easy                                                            \n2                         Neither easy nor difficult                                                            \n3                                                NaN                                                            \n4                         Neither easy nor difficult                                                            \n\n   ...  \\\n0  ...   \n1  ...   \n2  ...   \n3  ...   \n4  ...   \n\n  If you have a mental health issue, do you feel that it interferes with your work when being treated effectively?  \\\n0                               Not applicable to me                                                                 \n1                                             Rarely                                                                 \n2                               Not applicable to me                                                                 \n3                                          Sometimes                                                                 \n4                                          Sometimes                                                                 \n\n  If you have a mental health issue, do you feel that it interferes with your work when NOT being treated effectively?  \\\n0                               Not applicable to me                                                                     \n1                                          Sometimes                                                                     \n2                               Not applicable to me                                                                     \n3                                          Sometimes                                                                     \n4                                          Sometimes                                                                     \n\n  What is your age? What is your gender? What country do you live in?  \\\n0                39                 Male               United Kingdom   \n1                29                 male     United States of America   \n2                38                Male                United Kingdom   \n3                43                 male               United Kingdom   \n4                43               Female     United States of America   \n\n  What US state or territory do you live in?  What country do you work in?  \\\n0                                        NaN                United Kingdom   \n1                                   Illinois      United States of America   \n2                                        NaN                United Kingdom   \n3                                        NaN                United Kingdom   \n4                                   Illinois      United States of America   \n\n  What US state or territory do you work in?  \\\n0                                        NaN   \n1                                   Illinois   \n2                                        NaN   \n3                                        NaN   \n4                                   Illinois   \n\n  Which of the following best describes your work position?  \\\n0                                 Back-end Developer          \n1             Back-end Developer|Front-end Developer          \n2                                 Back-end Developer          \n3                               Supervisor/Team Lead          \n4  Executive Leadership|Supervisor/Team Lead|Dev ...          \n\n  Do you work remotely?  \n0             Sometimes  \n1                 Never  \n2                Always  \n3             Sometimes  \n4             Sometimes  \n\n[5 rows x 63 columns]",
      "text/html": "<div>\n<style scoped>\n    .dataframe tbody tr th:only-of-type {\n        vertical-align: middle;\n    }\n\n    .dataframe tbody tr th {\n        vertical-align: top;\n    }\n\n    .dataframe thead th {\n        text-align: right;\n    }\n</style>\n<table border=\"1\" class=\"dataframe\">\n  <thead>\n    <tr style=\"text-align: right;\">\n      <th></th>\n      <th>Are you self-employed?</th>\n      <th>How many employees does your company or organization have?</th>\n      <th>Is your employer primarily a tech company/organization?</th>\n      <th>Is your primary role within your company related to tech/IT?</th>\n      <th>Does your employer provide mental health benefits as part of healthcare coverage?</th>\n      <th>Do you know the options for mental health care available under your employer-provided coverage?</th>\n      <th>Has your employer ever formally discussed mental health (for example, as part of a wellness campaign or other official communication)?</th>\n      <th>Does your employer offer resources to learn more about mental health concerns and options for seeking help?</th>\n      <th>Is your anonymity protected if you choose to take advantage of mental health or substance abuse treatment resources provided by your employer?</th>\n      <th>If a mental health issue prompted you to request a medical leave from work, asking for that leave would be:</th>\n      <th>...</th>\n      <th>If you have a mental health issue, do you feel that it interferes with your work when being treated effectively?</th>\n      <th>If you have a mental health issue, do you feel that it interferes with your work when NOT being treated effectively?</th>\n      <th>What is your age?</th>\n      <th>What is your gender?</th>\n      <th>What country do you live in?</th>\n      <th>What US state or territory do you live in?</th>\n      <th>What country do you work in?</th>\n      <th>What US state or territory do you work in?</th>\n      <th>Which of the following best describes your work position?</th>\n      <th>Do you work remotely?</th>\n    </tr>\n  </thead>\n  <tbody>\n    <tr>\n      <th>0</th>\n      <td>0</td>\n      <td>26-100</td>\n      <td>1.0</td>\n      <td>NaN</td>\n      <td>Not eligible for coverage / N/A</td>\n      <td>NaN</td>\n      <td>No</td>\n      <td>No</td>\n      <td>I don't know</td>\n      <td>Very easy</td>\n      <td>...</td>\n      <td>Not applicable to me</td>\n      <td>Not applicable to me</td>\n      <td>39</td>\n      <td>Male</td>\n      <td>United Kingdom</td>\n      <td>NaN</td>\n      <td>United Kingdom</td>\n      <td>NaN</td>\n      <td>Back-end Developer</td>\n      <td>Sometimes</td>\n    </tr>\n    <tr>\n      <th>1</th>\n      <td>0</td>\n      <td>6-25</td>\n      <td>1.0</td>\n      <td>NaN</td>\n      <td>No</td>\n      <td>Yes</td>\n      <td>Yes</td>\n      <td>Yes</td>\n      <td>Yes</td>\n      <td>Somewhat easy</td>\n      <td>...</td>\n      <td>Rarely</td>\n      <td>Sometimes</td>\n      <td>29</td>\n      <td>male</td>\n      <td>United States of America</td>\n      <td>Illinois</td>\n      <td>United States of America</td>\n      <td>Illinois</td>\n      <td>Back-end Developer|Front-end Developer</td>\n      <td>Never</td>\n    </tr>\n    <tr>\n      <th>2</th>\n      <td>0</td>\n      <td>6-25</td>\n      <td>1.0</td>\n      <td>NaN</td>\n      <td>No</td>\n      <td>NaN</td>\n      <td>No</td>\n      <td>No</td>\n      <td>I don't know</td>\n      <td>Neither easy nor difficult</td>\n      <td>...</td>\n      <td>Not applicable to me</td>\n      <td>Not applicable to me</td>\n      <td>38</td>\n      <td>Male</td>\n      <td>United Kingdom</td>\n      <td>NaN</td>\n      <td>United Kingdom</td>\n      <td>NaN</td>\n      <td>Back-end Developer</td>\n      <td>Always</td>\n    </tr>\n    <tr>\n      <th>3</th>\n      <td>1</td>\n      <td>NaN</td>\n      <td>NaN</td>\n      <td>NaN</td>\n      <td>NaN</td>\n      <td>NaN</td>\n      <td>NaN</td>\n      <td>NaN</td>\n      <td>NaN</td>\n      <td>NaN</td>\n      <td>...</td>\n      <td>Sometimes</td>\n      <td>Sometimes</td>\n      <td>43</td>\n      <td>male</td>\n      <td>United Kingdom</td>\n      <td>NaN</td>\n      <td>United Kingdom</td>\n      <td>NaN</td>\n      <td>Supervisor/Team Lead</td>\n      <td>Sometimes</td>\n    </tr>\n    <tr>\n      <th>4</th>\n      <td>0</td>\n      <td>6-25</td>\n      <td>0.0</td>\n      <td>1.0</td>\n      <td>Yes</td>\n      <td>Yes</td>\n      <td>No</td>\n      <td>No</td>\n      <td>No</td>\n      <td>Neither easy nor difficult</td>\n      <td>...</td>\n      <td>Sometimes</td>\n      <td>Sometimes</td>\n      <td>43</td>\n      <td>Female</td>\n      <td>United States of America</td>\n      <td>Illinois</td>\n      <td>United States of America</td>\n      <td>Illinois</td>\n      <td>Executive Leadership|Supervisor/Team Lead|Dev ...</td>\n      <td>Sometimes</td>\n    </tr>\n  </tbody>\n</table>\n<p>5 rows × 63 columns</p>\n</div>"
     },
     "execution_count": 2,
     "metadata": {},
     "output_type": "execute_result"
    }
   ],
   "source": [
    "# Formulating the directory \n",
    "path = Path.cwd().parent\n",
    "\n",
    "# Loading the data\n",
    "data = pd.read_csv(f'{path}/data/mental-heath-in-tech-2016_20161114.csv')\n",
    "data.head()"
   ]
  },
  {
   "cell_type": "code",
   "execution_count": 3,
   "id": "7df3f59019488b7d",
   "metadata": {
    "collapsed": false,
    "ExecuteTime": {
     "end_time": "2024-03-17T13:25:38.976546Z",
     "start_time": "2024-03-17T13:25:38.941083Z"
    }
   },
   "outputs": [
    {
     "name": "stdout",
     "output_type": "stream",
     "text": [
      "The data is formed through 63 columns/features and 1433 rows/records.\n"
     ]
    }
   ],
   "source": [
    "print(f\"The data is formed through {data.shape[1]} columns/features and {data.shape[0]} rows/records.\")"
   ]
  },
  {
   "cell_type": "code",
   "execution_count": 4,
   "id": "3701d219eb7836cf",
   "metadata": {
    "collapsed": false,
    "ExecuteTime": {
     "end_time": "2024-03-17T13:25:39.084982Z",
     "start_time": "2024-03-17T13:25:38.988790Z"
    }
   },
   "outputs": [
    {
     "data": {
      "text/plain": "       Are you self-employed?  \\\ncount             1433.000000   \nmean                 0.200279   \nstd                  0.400349   \nmin                  0.000000   \n25%                  0.000000   \n50%                  0.000000   \n75%                  0.000000   \nmax                  1.000000   \n\n       Is your employer primarily a tech company/organization?  \\\ncount                                        1146.000000         \nmean                                            0.770506         \nstd                                             0.420691         \nmin                                             0.000000         \n25%                                             1.000000         \n50%                                             1.000000         \n75%                                             1.000000         \nmax                                             1.000000         \n\n       Is your primary role within your company related to tech/IT?  \\\ncount                                         263.000000              \nmean                                            0.942966              \nstd                                             0.232350              \nmin                                             0.000000              \n25%                                             1.000000              \n50%                                             1.000000              \n75%                                             1.000000              \nmax                                             1.000000              \n\n       Do you have medical coverage (private insurance or state-provided) which includes treatment of  mental health issues?  \\\ncount                                         287.000000                                                                       \nmean                                            0.644599                                                                       \nstd                                             0.479471                                                                       \nmin                                             0.000000                                                                       \n25%                                             0.000000                                                                       \n50%                                             1.000000                                                                       \n75%                                             1.000000                                                                       \nmax                                             1.000000                                                                       \n\n       Do you have previous employers?  \\\ncount                      1433.000000   \nmean                          0.882066   \nstd                           0.322643   \nmin                           0.000000   \n25%                           1.000000   \n50%                           1.000000   \n75%                           1.000000   \nmax                           1.000000   \n\n       Have you ever sought treatment for a mental health issue from a mental health professional?  \\\ncount                                        1433.000000                                             \nmean                                            0.585485                                             \nstd                                             0.492810                                             \nmin                                             0.000000                                             \n25%                                             0.000000                                             \n50%                                             1.000000                                             \n75%                                             1.000000                                             \nmax                                             1.000000                                             \n\n       What is your age?  \ncount        1433.000000  \nmean           34.286113  \nstd            11.290931  \nmin             3.000000  \n25%            28.000000  \n50%            33.000000  \n75%            39.000000  \nmax           323.000000  ",
      "text/html": "<div>\n<style scoped>\n    .dataframe tbody tr th:only-of-type {\n        vertical-align: middle;\n    }\n\n    .dataframe tbody tr th {\n        vertical-align: top;\n    }\n\n    .dataframe thead th {\n        text-align: right;\n    }\n</style>\n<table border=\"1\" class=\"dataframe\">\n  <thead>\n    <tr style=\"text-align: right;\">\n      <th></th>\n      <th>Are you self-employed?</th>\n      <th>Is your employer primarily a tech company/organization?</th>\n      <th>Is your primary role within your company related to tech/IT?</th>\n      <th>Do you have medical coverage (private insurance or state-provided) which includes treatment of  mental health issues?</th>\n      <th>Do you have previous employers?</th>\n      <th>Have you ever sought treatment for a mental health issue from a mental health professional?</th>\n      <th>What is your age?</th>\n    </tr>\n  </thead>\n  <tbody>\n    <tr>\n      <th>count</th>\n      <td>1433.000000</td>\n      <td>1146.000000</td>\n      <td>263.000000</td>\n      <td>287.000000</td>\n      <td>1433.000000</td>\n      <td>1433.000000</td>\n      <td>1433.000000</td>\n    </tr>\n    <tr>\n      <th>mean</th>\n      <td>0.200279</td>\n      <td>0.770506</td>\n      <td>0.942966</td>\n      <td>0.644599</td>\n      <td>0.882066</td>\n      <td>0.585485</td>\n      <td>34.286113</td>\n    </tr>\n    <tr>\n      <th>std</th>\n      <td>0.400349</td>\n      <td>0.420691</td>\n      <td>0.232350</td>\n      <td>0.479471</td>\n      <td>0.322643</td>\n      <td>0.492810</td>\n      <td>11.290931</td>\n    </tr>\n    <tr>\n      <th>min</th>\n      <td>0.000000</td>\n      <td>0.000000</td>\n      <td>0.000000</td>\n      <td>0.000000</td>\n      <td>0.000000</td>\n      <td>0.000000</td>\n      <td>3.000000</td>\n    </tr>\n    <tr>\n      <th>25%</th>\n      <td>0.000000</td>\n      <td>1.000000</td>\n      <td>1.000000</td>\n      <td>0.000000</td>\n      <td>1.000000</td>\n      <td>0.000000</td>\n      <td>28.000000</td>\n    </tr>\n    <tr>\n      <th>50%</th>\n      <td>0.000000</td>\n      <td>1.000000</td>\n      <td>1.000000</td>\n      <td>1.000000</td>\n      <td>1.000000</td>\n      <td>1.000000</td>\n      <td>33.000000</td>\n    </tr>\n    <tr>\n      <th>75%</th>\n      <td>0.000000</td>\n      <td>1.000000</td>\n      <td>1.000000</td>\n      <td>1.000000</td>\n      <td>1.000000</td>\n      <td>1.000000</td>\n      <td>39.000000</td>\n    </tr>\n    <tr>\n      <th>max</th>\n      <td>1.000000</td>\n      <td>1.000000</td>\n      <td>1.000000</td>\n      <td>1.000000</td>\n      <td>1.000000</td>\n      <td>1.000000</td>\n      <td>323.000000</td>\n    </tr>\n  </tbody>\n</table>\n</div>"
     },
     "execution_count": 4,
     "metadata": {},
     "output_type": "execute_result"
    }
   ],
   "source": [
    "data.describe()"
   ]
  },
  {
   "cell_type": "markdown",
   "id": "9ef2072fa046e816",
   "metadata": {
    "collapsed": false
   },
   "source": [
    "__Insights :__\n",
    "- Out of a total of 63 columns, merely 7 contain numerical data. \n",
    "- The changing count between columns implies the presence of missing values within the dataset. \n",
    "- Unusual entries within the age column were identified, necessitating an appropriate filling approach.\n",
    "\n",
    "As we seek further investigations, we might use the __\".info()\"__ method, but we want to need to explore unique values within each column as this information will help us later on."
   ]
  },
  {
   "cell_type": "code",
   "execution_count": 5,
   "id": "adb3ce7f7fb808b3",
   "metadata": {
    "collapsed": false,
    "ExecuteTime": {
     "end_time": "2024-03-17T13:25:39.192009Z",
     "start_time": "2024-03-17T13:25:39.092188Z"
    }
   },
   "outputs": [
    {
     "data": {
      "text/plain": "                                                 name  empty_values  \\\n19  If you have revealed a mental health issue to ...          1289   \n23  If yes, what percentage of your work time (tim...          1229   \n3   Is your primary role within your company relat...          1170   \n17  Do you know local or online resources to seek ...          1146   \n16  Do you have medical coverage (private insuranc...          1146   \n..                                                ...           ...   \n40  Do you feel that being identified as a person ...             0   \n38  Would you bring up a mental health issue with ...             0   \n36  Would you be willing to bring up a physical he...             0   \n24                    Do you have previous employers?             0   \n62                              Do you work remotely?             0   \n\n    unique_values data_type  \n19              3    object  \n23              4    object  \n3               2   float64  \n17              3    object  \n16              2   float64  \n..            ...       ...  \n40              5    object  \n38              3    object  \n36              3    object  \n24              2     int64  \n62              3    object  \n\n[63 rows x 4 columns]",
      "text/html": "<div>\n<style scoped>\n    .dataframe tbody tr th:only-of-type {\n        vertical-align: middle;\n    }\n\n    .dataframe tbody tr th {\n        vertical-align: top;\n    }\n\n    .dataframe thead th {\n        text-align: right;\n    }\n</style>\n<table border=\"1\" class=\"dataframe\">\n  <thead>\n    <tr style=\"text-align: right;\">\n      <th></th>\n      <th>name</th>\n      <th>empty_values</th>\n      <th>unique_values</th>\n      <th>data_type</th>\n    </tr>\n  </thead>\n  <tbody>\n    <tr>\n      <th>19</th>\n      <td>If you have revealed a mental health issue to ...</td>\n      <td>1289</td>\n      <td>3</td>\n      <td>object</td>\n    </tr>\n    <tr>\n      <th>23</th>\n      <td>If yes, what percentage of your work time (tim...</td>\n      <td>1229</td>\n      <td>4</td>\n      <td>object</td>\n    </tr>\n    <tr>\n      <th>3</th>\n      <td>Is your primary role within your company relat...</td>\n      <td>1170</td>\n      <td>2</td>\n      <td>float64</td>\n    </tr>\n    <tr>\n      <th>17</th>\n      <td>Do you know local or online resources to seek ...</td>\n      <td>1146</td>\n      <td>3</td>\n      <td>object</td>\n    </tr>\n    <tr>\n      <th>16</th>\n      <td>Do you have medical coverage (private insuranc...</td>\n      <td>1146</td>\n      <td>2</td>\n      <td>float64</td>\n    </tr>\n    <tr>\n      <th>...</th>\n      <td>...</td>\n      <td>...</td>\n      <td>...</td>\n      <td>...</td>\n    </tr>\n    <tr>\n      <th>40</th>\n      <td>Do you feel that being identified as a person ...</td>\n      <td>0</td>\n      <td>5</td>\n      <td>object</td>\n    </tr>\n    <tr>\n      <th>38</th>\n      <td>Would you bring up a mental health issue with ...</td>\n      <td>0</td>\n      <td>3</td>\n      <td>object</td>\n    </tr>\n    <tr>\n      <th>36</th>\n      <td>Would you be willing to bring up a physical he...</td>\n      <td>0</td>\n      <td>3</td>\n      <td>object</td>\n    </tr>\n    <tr>\n      <th>24</th>\n      <td>Do you have previous employers?</td>\n      <td>0</td>\n      <td>2</td>\n      <td>int64</td>\n    </tr>\n    <tr>\n      <th>62</th>\n      <td>Do you work remotely?</td>\n      <td>0</td>\n      <td>3</td>\n      <td>object</td>\n    </tr>\n  </tbody>\n</table>\n<p>63 rows × 4 columns</p>\n</div>"
     },
     "execution_count": 5,
     "metadata": {},
     "output_type": "execute_result"
    }
   ],
   "source": [
    "# Initiating an empty list data_info \n",
    "data_info = []\n",
    "\n",
    "# Gathering the attributes in one place \n",
    "for index, column in enumerate(data.columns):\n",
    "    info = {\n",
    "        'name': column,  # The name of the column \n",
    "        'empty_values': data[column].isna().sum(),  # The number of empty values in a column\n",
    "        'unique_values': [\n",
    "            data[column].unique().__len__() - 1 if data[column].isna().sum() != 0 else data[column].unique().__len__()][\n",
    "            0],  # The number of unique values \n",
    "        'data_type': data[column].dtypes  # The data type of column\n",
    "    }\n",
    "\n",
    "    # Appending the values  \n",
    "    data_info.append(info)\n",
    "\n",
    "# Create a DataFrame from the gathered information\n",
    "null_categories_data = pd.DataFrame(data_info).sort_values(by=['empty_values'], ascending=False)\n",
    "null_categories_data"
   ]
  },
  {
   "cell_type": "markdown",
   "id": "a08ced9f8b9d4966",
   "metadata": {
    "collapsed": false
   },
   "source": [
    "## 2. Exploratory Data Analysis\n",
    "In this section, we're iterating over columns based on relevancy.\n",
    "For a clearer view, visualizations are used where appropriate."
   ]
  },
  {
   "cell_type": "markdown",
   "id": "aba15d40a2094481",
   "metadata": {
    "collapsed": false
   },
   "source": [
    "The __Are you self-employed?, How many employees does your company or organization have?, Is your employer primarily a tech company/organization?, Is your primary role within your company related to tech/IT?__ investigate basic information on the respondent."
   ]
  },
  {
   "cell_type": "code",
   "execution_count": 6,
   "id": "94607e57faace241",
   "metadata": {
    "collapsed": false,
    "ExecuteTime": {
     "end_time": "2024-03-17T13:25:39.237537Z",
     "start_time": "2024-03-17T13:25:39.197991Z"
    }
   },
   "outputs": [
    {
     "data": {
      "text/plain": "{'Number of employees': 1146,\n 'Number of self-employed': 287,\n 'Number of employees in IT related companies': 883,\n 'Number of employees in non-IT related companies': 263,\n 'Number of employees in non-IT related companies with IT related role': 248,\n 'Number of employees in non-IT related companies with non-IT related role': 15}"
     },
     "execution_count": 6,
     "metadata": {},
     "output_type": "execute_result"
    }
   ],
   "source": [
    "# Performing aggregations on the first few columns using the value_counts method\n",
    "aggregations = {\n",
    "    \"Number of employees\": data[\"Are you self-employed?\"].value_counts()[0],\n",
    "    \"Number of self-employed\": data[\"Are you self-employed?\"].value_counts()[1],\n",
    "    \"Number of employees in IT related companies\":\n",
    "        data['Is your employer primarily a tech company/organization?'].value_counts()[1],\n",
    "    \"Number of employees in non-IT related companies\":\n",
    "        data['Is your employer primarily a tech company/organization?'].value_counts()[0],\n",
    "    \"Number of employees in non-IT related companies with IT related role\":\n",
    "        data[\"Is your primary role within your company related to tech/IT?\"].value_counts()[1],\n",
    "    \"Number of employees in non-IT related companies with non-IT related role\":\n",
    "        data[\"Is your primary role within your company related to tech/IT?\"].value_counts()[0]\n",
    "}\n",
    "\n",
    "# Print the dictionary\n",
    "aggregations"
   ]
  },
  {
   "cell_type": "markdown",
   "id": "c003a56b6bcad5f4",
   "metadata": {
    "collapsed": false
   },
   "source": [
    "The following pie chart better illustrates the data"
   ]
  },
  {
   "cell_type": "code",
   "execution_count": 7,
   "id": "18d02b194521dea6",
   "metadata": {
    "collapsed": false,
    "ExecuteTime": {
     "end_time": "2024-03-17T13:25:39.656052Z",
     "start_time": "2024-03-17T13:25:39.241135Z"
    }
   },
   "outputs": [
    {
     "data": {
      "text/plain": "<Figure size 1500x500 with 1 Axes>",
      "image/png": "[encoded data removed]"
     },
     "metadata": {},
     "output_type": "display_data"
    }
   ],
   "source": [
    "# Setting the labels and sizes lists \n",
    "labels = [\n",
    "    'Self-employed',\n",
    "    'Employees in IT related companies',\n",
    "    'Employees with IT-related role in a non-IT related company',\n",
    "    'Employees with non-IT-related role in a non-IT related company']\n",
    "\n",
    "sizes = [\n",
    "    aggregations[\"Number of self-employed\"],\n",
    "    aggregations[\"Number of employees in IT related companies\"],\n",
    "    aggregations[\"Number of employees in non-IT related companies with IT related role\"],\n",
    "    aggregations[\"Number of employees in non-IT related companies with non-IT related role\"]\n",
    "]\n",
    "\n",
    "# Setting the style of the visuals\n",
    "plt.style.use('fast')\n",
    "\n",
    "# Starting fig1 and ax1 subplots objects\n",
    "fig1, ax = plt.subplots(figsize=(15, 5))\n",
    "ax.pie(\n",
    "    sizes,  # List of values \n",
    "    autopct='%1.2f%%',  # Showing 3 numbers after the decimal point \n",
    "    textprops={'fontsize': 12}  # Setting the size of the ratios \n",
    ")\n",
    "\n",
    "ax.legend(\n",
    "    labels=labels,  # List of labels\n",
    "    loc=\"upper center\",  # Position of the legend\n",
    "    bbox_to_anchor=(0.5, 1.1),\n",
    "    fontsize=8)  # Size of the legend\n",
    "\n",
    "# Plotting the figure\n",
    "plt.show()"
   ]
  },
  {
   "cell_type": "markdown",
   "id": "94fb33d05b3f56f0",
   "metadata": {
    "collapsed": false
   },
   "source": [
    "The organization's size in our data set varies. The next graph describes this variation :"
   ]
  },
  {
   "cell_type": "code",
   "execution_count": 8,
   "id": "de61266e7805d8a8",
   "metadata": {
    "collapsed": false,
    "ExecuteTime": {
     "end_time": "2024-03-17T13:25:39.687382Z",
     "start_time": "2024-03-17T13:25:39.659651Z"
    }
   },
   "outputs": [
    {
     "data": {
      "text/plain": "  How many employees does your company or organization have?  count\n0                                             26-100            292\n1                                     More than 1000            256\n2                                            100-500            248\n3                                               6-25            210\n4                                           500-1000             80\n5                                                1-5             60",
      "text/html": "<div>\n<style scoped>\n    .dataframe tbody tr th:only-of-type {\n        vertical-align: middle;\n    }\n\n    .dataframe tbody tr th {\n        vertical-align: top;\n    }\n\n    .dataframe thead th {\n        text-align: right;\n    }\n</style>\n<table border=\"1\" class=\"dataframe\">\n  <thead>\n    <tr style=\"text-align: right;\">\n      <th></th>\n      <th>How many employees does your company or organization have?</th>\n      <th>count</th>\n    </tr>\n  </thead>\n  <tbody>\n    <tr>\n      <th>0</th>\n      <td>26-100</td>\n      <td>292</td>\n    </tr>\n    <tr>\n      <th>1</th>\n      <td>More than 1000</td>\n      <td>256</td>\n    </tr>\n    <tr>\n      <th>2</th>\n      <td>100-500</td>\n      <td>248</td>\n    </tr>\n    <tr>\n      <th>3</th>\n      <td>6-25</td>\n      <td>210</td>\n    </tr>\n    <tr>\n      <th>4</th>\n      <td>500-1000</td>\n      <td>80</td>\n    </tr>\n    <tr>\n      <th>5</th>\n      <td>1-5</td>\n      <td>60</td>\n    </tr>\n  </tbody>\n</table>\n</div>"
     },
     "execution_count": 8,
     "metadata": {},
     "output_type": "execute_result"
    }
   ],
   "source": [
    "# Performing aggregation using .value_counts()\n",
    "organization_size = pd.DataFrame(data[\"How many employees does your company or organization have?\"].value_counts()).reset_index()\n",
    "organization_size"
   ]
  },
  {
   "cell_type": "code",
   "execution_count": 9,
   "id": "3bf327f24dea6d47",
   "metadata": {
    "collapsed": false,
    "ExecuteTime": {
     "end_time": "2024-03-17T13:25:40.179916Z",
     "start_time": "2024-03-17T13:25:39.691931Z"
    }
   },
   "outputs": [
    {
     "data": {
      "text/plain": "<Figure size 640x480 with 1 Axes>",
      "image/png": "[encoded data removed]"
     },
     "metadata": {},
     "output_type": "display_data"
    }
   ],
   "source": [
    "# Plotting horizontal bars plot \n",
    "sns.barplot(x=\"How many employees does your company or organization have?\", \n",
    "            y=\"count\",\n",
    "            data=organization_size)\n",
    "\n",
    "# Setting proper x/y-axis labels \n",
    "plt.xlabel(\"Number of respondents\")\n",
    "plt.ylabel(\"Organization Size\")\n",
    "\n",
    "# Showing the plot\n",
    "plt.show()"
   ]
  },
  {
   "cell_type": "markdown",
   "id": "e84c772bd2851b54",
   "metadata": {
    "collapsed": false
   },
   "source": [
    "__Insights__ :\n",
    "- The employees in IT-related companies don't provide a clear stand if they're hired in an IT-related role or not. These 883 missing values need to be handled properly.\n",
    "- The employees are working for a broad category of organizations with medium and bigger size dominance. the 287 missing values in this column reflect the number of self-employed who didn't answer this question.\n",
    "- __Sharing the exact same number of missing values__, the following columns contain unique values that vary between 3 and 6:\n",
    "    - Does your employer provide mental health benefits as part of healthcare coverage?\n",
    "    - Have you heard of or observed negative consequences for co-workers who have been open about mental health issues in your workplace?\n",
    "    - Has your employer ever formally discussed mental health (for example, as part of a wellness campaign or other official communication)?\n",
    "    - Does your employer offer resources to learn more about mental health concerns and options for seeking help?\n",
    "    - Is your anonymity protected if you choose to take advantage of mental health or substance abuse treatment resources provided by your employer?\n",
    "    - If a mental health issue prompted you to request a medical leave from work, asking for that leave would be:\n",
    "    - Do you think that discussing a mental health disorder with your employer would have negative consequences?\n",
    "    - Do you think that discussing a physical health issue with your employer would have negative consequences?\n",
    "    - Would you feel comfortable discussing a mental health disorder with your coworkers?\n",
    "    - Would you feel comfortable discussing a mental health disorder with your direct supervisor(s)?\n",
    "    - Do you feel that your employer takes mental health as seriously as physical health?\n",
    "- The __Do you know the options for mental health care available under your employer-provided coverage?__ column has exactly four unique values and 420 missing values. \n",
    "- __Exceeding 1146 missing values__, the following columns are more likely to be dropped due to the significant number of missing values : \n",
    "    - Do you have medical coverage (private insurance or state-provided) which includes treatment of mental health issues?\n",
    "    - Do you know local or online resources to seek help for a mental health disorder?\n",
    "    - If you have been diagnosed or treated for a mental health disorder, do you ever reveal this to clients or business contacts?\n",
    "    - If you have revealed a mental health issue to a client or business contact, do you believe this has impacted you negatively?\n",
    "    - If you have been diagnosed or treated for a mental health disorder, do you ever reveal this to coworkers or employees?\n",
    "    - If you have revealed a mental health issue to a coworker or employee, do you believe this has impacted you negatively?\n",
    "    - Do you believe your productivity is ever affected by a mental health issue?\n",
    "    - If yes, what percentage of your work time (time performing primary or secondary job functions) is affected by a mental health issue?\""
   ]
  },
  {
   "cell_type": "markdown",
   "id": "10f08252a1873e4d",
   "metadata": {
    "collapsed": false
   },
   "source": [
    "In the next column, the respondents are filtered into previously employed or not.  "
   ]
  },
  {
   "cell_type": "code",
   "execution_count": 10,
   "id": "c3e0e42a87f1edb7",
   "metadata": {
    "collapsed": false,
    "ExecuteTime": {
     "end_time": "2024-03-17T13:25:40.210198Z",
     "start_time": "2024-03-17T13:25:40.185828Z"
    }
   },
   "outputs": [
    {
     "data": {
      "text/plain": "Do you have previous employers?\n1    1264\n0     169\nName: count, dtype: int64"
     },
     "execution_count": 10,
     "metadata": {},
     "output_type": "execute_result"
    }
   ],
   "source": [
    "# Performing aggregation using .value_counts()\n",
    "data[\"Do you have previous employers?\"].value_counts()"
   ]
  },
  {
   "cell_type": "markdown",
   "id": "135e2b3bcb1fffae",
   "metadata": {
    "collapsed": false
   },
   "source": [
    "__Insights__ :\n",
    "- The majority of employees have previous employment history.\n",
    "- The next 11 columns have either four or five unique values tend to have the exact same value of 169 missing values reflects the missing responses of 169 employees who don't have a previous employer : \n",
    "    - Have your previous employers provided mental health benefits?\n",
    "    - Were you aware of the options for mental health care provided by your previous employers?\n",
    "    - Did your previous employers ever formally discuss mental health (as part of a wellness campaign or other official communication)?\n",
    "    - Did your previous employers provide resources to learn more about mental health issues and how to seek help?\n",
    "    - Was your anonymity protected if you chose to take advantage of mental health or substance abuse treatment resources with previous employers?\n",
    "    - Do you think that discussing a mental health disorder with previous employers would have negative consequences?\n",
    "    - Do you think that discussing a physical health issue with previous employers would have negative consequences?\n",
    "    - Would you have been willing to discuss a mental health issue with your previous co-workers?\n",
    "    - Would you have been willing to discuss a mental health issue with your direct supervisor(s)?\n",
    "    - Did you feel that your previous employers took mental health as seriously as physical health?\n",
    "    - Did you hear of or observe negative consequences for co-workers with mental health issues in your previous workplaces?"
   ]
  },
  {
   "cell_type": "markdown",
   "id": "bcbd66b90fcc0f10",
   "metadata": {
    "collapsed": false
   },
   "source": [
    "We shall explore the __Have you observed or experienced an unsupportive or badly handled response to a mental health issue in your current or previous workplace?, Have your observations of how another individual who discussed a mental health disorder made you less likely to reveal a mental health issue yourself in your current workplace?__ columns with supicious number of empty values which doesn't make sense."
   ]
  },
  {
   "cell_type": "code",
   "execution_count": 11,
   "id": "a5999a3268a9e87e",
   "metadata": {
    "collapsed": false,
    "ExecuteTime": {
     "end_time": "2024-03-17T13:25:40.268656Z",
     "start_time": "2024-03-17T13:25:40.222366Z"
    }
   },
   "outputs": [
    {
     "data": {
      "text/plain": "Have you observed or experienced an unsupportive or badly handled response to a mental health issue in your current or previous workplace?  Have your observations of how another individual who discussed a mental health disorder made you less likely to reveal a mental health issue yourself in your current workplace?\nNo                                                                                                                                          empty_value                                                                                                                                                                         567\nMaybe/Not sure                                                                                                                              No                                                                                                                                                                                  137\nYes, I observed                                                                                                                             Yes                                                                                                                                                                                 128\nempty_value                                                                                                                                 empty_value                                                                                                                                                                          89\nMaybe/Not sure                                                                                                                              Maybe                                                                                                                                                                                82\n                                                                                                                                            empty_value                                                                                                                                                                          74\nYes, I experienced                                                                                                                          Yes                                                                                                                                                                                  65\nYes, I observed                                                                                                                             Maybe                                                                                                                                                                                62\n                                                                                                                                            No                                                                                                                                                                                   56\nMaybe/Not sure                                                                                                                              Yes                                                                                                                                                                                  53\nYes, I experienced                                                                                                                          No                                                                                                                                                                                   41\n                                                                                                                                            Maybe                                                                                                                                                                                33\n                                                                                                                                            empty_value                                                                                                                                                                          28\nYes, I observed                                                                                                                             empty_value                                                                                                                                                                          18\nName: count, dtype: int64"
     },
     "execution_count": 11,
     "metadata": {},
     "output_type": "execute_result"
    }
   ],
   "source": [
    "# Setting a subset called new_df \n",
    "new_df = data[[\n",
    "    'Have you observed or experienced an unsupportive or badly handled response to a mental health issue in your current or previous workplace?',\n",
    "    'Have your observations of how another individual who discussed a mental health disorder made you less likely to reveal a mental health issue yourself in your current workplace?']].copy()\n",
    "\n",
    "# Replacing the missing values\n",
    "new_df[\n",
    "    'Have you observed or experienced an unsupportive or badly handled response to a mental health issue in your current or previous workplace?'].fillna(\n",
    "    'empty_value', inplace=True)\n",
    "new_df[\n",
    "    'Have your observations of how another individual who discussed a mental health disorder made you less likely to reveal a mental health issue yourself in your current workplace?'].fillna(\n",
    "    'empty_value', inplace=True)\n",
    "\n",
    "# Performing some aggregations\n",
    "new_df.value_counts()"
   ]
  },
  {
   "cell_type": "markdown",
   "id": "910810b33013ce48",
   "metadata": {
    "collapsed": false
   },
   "source": [
    "__Insights__ : \n",
    "- The following columns hold three to six unique values with no empty values:\n",
    "    - Do you feel that being identified as a person with a mental health issue would hurt your career?-\n",
    "    - Do you think that team members/co-workers would view you more negatively if they knew you suffered from a mental health issue?\n",
    "    - How willing would you be to share with friends and family that you have a mental illness?\n",
    "    - Do you have a family history of mental illness?\n",
    "    - Have you had a mental health disorder in the past?\n",
    "- The two remaining columns can benefit from filling them with the uncertainty value in the respective columns, instead of dropping them due to the enormous number of empty values. "
   ]
  },
  {
   "cell_type": "markdown",
   "id": "fbf3ea8655da70e3",
   "metadata": {
    "collapsed": false
   },
   "source": [
    "Next, we begin exploring the existence of mental health issues among respondents."
   ]
  },
  {
   "cell_type": "code",
   "execution_count": 12,
   "id": "cdf6dd135d074fbc",
   "metadata": {
    "collapsed": false,
    "ExecuteTime": {
     "end_time": "2024-03-17T13:25:40.315906Z",
     "start_time": "2024-03-17T13:25:40.275776Z"
    }
   },
   "outputs": [
    {
     "data": {
      "text/plain": "Do you currently have a mental health disorder?  Have you been diagnosed with a mental health condition by a medical professional?\nYes                                              Yes                                                                                  511\nNo                                               No                                                                                   450\nMaybe                                            No                                                                                   203\n                                                 Yes                                                                                  124\nNo                                               Yes                                                                                   81\nYes                                              No                                                                                    64\nName: count, dtype: int64"
     },
     "execution_count": 12,
     "metadata": {},
     "output_type": "execute_result"
    }
   ],
   "source": [
    "# Inspect the unique values within this column\n",
    "data[[\"Do you currently have a mental health disorder?\",\n",
    "      \"Have you been diagnosed with a mental health condition by a medical professional?\"]].value_counts()"
   ]
  },
  {
   "cell_type": "code",
   "execution_count": 13,
   "id": "1a64fafdd2760015",
   "metadata": {
    "collapsed": false,
    "ExecuteTime": {
     "end_time": "2024-03-17T13:25:40.361965Z",
     "start_time": "2024-03-17T13:25:40.323250Z"
    }
   },
   "outputs": [
    {
     "data": {
      "text/plain": "     Do you currently have a mental health disorder?  \\\n164                                              Yes   \n213                                            Maybe   \n251                                              Yes   \n293                                              Yes   \n574                                              Yes   \n635                                              Yes   \n714                                            Maybe   \n765                                            Maybe   \n905                                              Yes   \n1035                                           Maybe   \n1059                                             Yes   \n1089                                           Maybe   \n\n     If yes, what condition(s) have you been diagnosed with?  \\\n164                                                 NaN        \n213                                                 NaN        \n251                                                 NaN        \n293                                                 NaN        \n574                                                 NaN        \n635                                                 NaN        \n714                                                 NaN        \n765                                                 NaN        \n905                                                 NaN        \n1035                                                NaN        \n1059                                                NaN        \n1089                                                NaN        \n\n     If maybe, what condition(s) do you believe you have?  \\\n164                                                 NaN     \n213                                                 NaN     \n251                                                 NaN     \n293                                                 NaN     \n574                                                 NaN     \n635                                                 NaN     \n714                                                 NaN     \n765                                                 NaN     \n905                                                 NaN     \n1035                                                NaN     \n1059                                                NaN     \n1089                                                NaN     \n\n     Have you been diagnosed with a mental health condition by a medical professional?  \\\n164                                                  No                                  \n213                                                  No                                  \n251                                                 Yes                                  \n293                                                  No                                  \n574                                                 Yes                                  \n635                                                 Yes                                  \n714                                                  No                                  \n765                                                  No                                  \n905                                                  No                                  \n1035                                                 No                                  \n1059                                                Yes                                  \n1089                                                Yes                                  \n\n      If so, what condition(s) were you diagnosed with?  \n164                                                 NaN  \n213                                                 NaN  \n251   Mood Disorder (Depression, Bipolar Disorder, etc)  \n293                                                 NaN  \n574                                                 NaN  \n635   Anxiety Disorder (Generalized, Social, Phobia,...  \n714                                                 NaN  \n765                                                 NaN  \n905                                                 NaN  \n1035                                                NaN  \n1059  Attention Deficit Hyperactivity Disorder|Mood ...  \n1089                                                NaN  ",
      "text/html": "<div>\n<style scoped>\n    .dataframe tbody tr th:only-of-type {\n        vertical-align: middle;\n    }\n\n    .dataframe tbody tr th {\n        vertical-align: top;\n    }\n\n    .dataframe thead th {\n        text-align: right;\n    }\n</style>\n<table border=\"1\" class=\"dataframe\">\n  <thead>\n    <tr style=\"text-align: right;\">\n      <th></th>\n      <th>Do you currently have a mental health disorder?</th>\n      <th>If yes, what condition(s) have you been diagnosed with?</th>\n      <th>If maybe, what condition(s) do you believe you have?</th>\n      <th>Have you been diagnosed with a mental health condition by a medical professional?</th>\n      <th>If so, what condition(s) were you diagnosed with?</th>\n    </tr>\n  </thead>\n  <tbody>\n    <tr>\n      <th>164</th>\n      <td>Yes</td>\n      <td>NaN</td>\n      <td>NaN</td>\n      <td>No</td>\n      <td>NaN</td>\n    </tr>\n    <tr>\n      <th>213</th>\n      <td>Maybe</td>\n      <td>NaN</td>\n      <td>NaN</td>\n      <td>No</td>\n      <td>NaN</td>\n    </tr>\n    <tr>\n      <th>251</th>\n      <td>Yes</td>\n      <td>NaN</td>\n      <td>NaN</td>\n      <td>Yes</td>\n      <td>Mood Disorder (Depression, Bipolar Disorder, etc)</td>\n    </tr>\n    <tr>\n      <th>293</th>\n      <td>Yes</td>\n      <td>NaN</td>\n      <td>NaN</td>\n      <td>No</td>\n      <td>NaN</td>\n    </tr>\n    <tr>\n      <th>574</th>\n      <td>Yes</td>\n      <td>NaN</td>\n      <td>NaN</td>\n      <td>Yes</td>\n      <td>NaN</td>\n    </tr>\n    <tr>\n      <th>635</th>\n      <td>Yes</td>\n      <td>NaN</td>\n      <td>NaN</td>\n      <td>Yes</td>\n      <td>Anxiety Disorder (Generalized, Social, Phobia,...</td>\n    </tr>\n    <tr>\n      <th>714</th>\n      <td>Maybe</td>\n      <td>NaN</td>\n      <td>NaN</td>\n      <td>No</td>\n      <td>NaN</td>\n    </tr>\n    <tr>\n      <th>765</th>\n      <td>Maybe</td>\n      <td>NaN</td>\n      <td>NaN</td>\n      <td>No</td>\n      <td>NaN</td>\n    </tr>\n    <tr>\n      <th>905</th>\n      <td>Yes</td>\n      <td>NaN</td>\n      <td>NaN</td>\n      <td>No</td>\n      <td>NaN</td>\n    </tr>\n    <tr>\n      <th>1035</th>\n      <td>Maybe</td>\n      <td>NaN</td>\n      <td>NaN</td>\n      <td>No</td>\n      <td>NaN</td>\n    </tr>\n    <tr>\n      <th>1059</th>\n      <td>Yes</td>\n      <td>NaN</td>\n      <td>NaN</td>\n      <td>Yes</td>\n      <td>Attention Deficit Hyperactivity Disorder|Mood ...</td>\n    </tr>\n    <tr>\n      <th>1089</th>\n      <td>Maybe</td>\n      <td>NaN</td>\n      <td>NaN</td>\n      <td>Yes</td>\n      <td>NaN</td>\n    </tr>\n  </tbody>\n</table>\n</div>"
     },
     "execution_count": 13,
     "metadata": {},
     "output_type": "execute_result"
    }
   ],
   "source": [
    "# Selecting only the data we need\n",
    "portion = data.iloc[:, 47:52]\n",
    "\n",
    "# Extracting the unreasonable empty values \n",
    "unreasonably_empty = portion[(portion[\"Do you currently have a mental health disorder?\"] != 'No')\n",
    "                             &\n",
    "                             (portion[\"If yes, what condition(s) have you been diagnosed with?\"].isna())\n",
    "                             &\n",
    "                             (portion[\"If maybe, what condition(s) do you believe you have?\"].isna())\n",
    "                             ]\n",
    "\n",
    "# Displaying the data \n",
    "unreasonably_empty"
   ]
  },
  {
   "cell_type": "markdown",
   "id": "19788dd365684a6f",
   "metadata": {
    "collapsed": false
   },
   "source": [
    "The following function __conditions_counter__ will help us determine the most selected conditions and how many respondents believe they deal with this condition."
   ]
  },
  {
   "cell_type": "code",
   "execution_count": 14,
   "id": "490c14ad1dbf0238",
   "metadata": {
    "collapsed": false,
    "ExecuteTime": {
     "end_time": "2024-03-17T13:25:40.408017Z",
     "start_time": "2024-03-17T13:25:40.372095Z"
    }
   },
   "outputs": [],
   "source": [
    "# Defining a function called condition_counter\n",
    "def conditions_counter(column_name):\n",
    "    \"\"\"\n",
    "    :param column_name: The name of column desired\n",
    "    :return: a Dataframe containing the conditions and the number of their occurrences in the column\n",
    "    \"\"\"\n",
    "\n",
    "    # Creating the list of unique values excluding empty values\n",
    "    a_list = pd.DataFrame(data[column_name].value_counts()).reset_index().iloc[:, 0].to_list()\n",
    "\n",
    "    # Creating an empty dictionary\n",
    "    a_dict = dict()\n",
    "\n",
    "    # Initiating a for-loop\n",
    "    for part in a_list:\n",
    "        # Inspecting the existence of a character \n",
    "        if '|' in part:\n",
    "            elements = part.split(\"|\")\n",
    "            # If the condition is met\n",
    "            for unit in elements:\n",
    "                # Iterating each unit  \n",
    "                if unit in a_dict:\n",
    "                    a_dict[unit] += 1  # Augment the number if it does exist\n",
    "                else:\n",
    "                    a_dict[unit] = 1  # Set the number to 1 if a new occurrence is found\n",
    "        else:\n",
    "            if part in a_dict:\n",
    "                a_dict[part] += 1\n",
    "            else:\n",
    "                a_dict[part] = 1\n",
    "\n",
    "    # Turning the data stored in the dictionary into a dataframe\n",
    "    dframe = pd.DataFrame(list(a_dict.items()), columns=['Condition', 'Count'])\n",
    "\n",
    "    # The final output of the function\n",
    "    return dframe"
   ]
  },
  {
   "cell_type": "code",
   "execution_count": 15,
   "id": "b3db1e89b9ddabf5",
   "metadata": {
    "collapsed": false,
    "ExecuteTime": {
     "end_time": "2024-03-17T13:25:40.439262Z",
     "start_time": "2024-03-17T13:25:40.416157Z"
    }
   },
   "outputs": [],
   "source": [
    "# Setting the dataframes\n",
    "known_conditions = conditions_counter(\"If yes, what condition(s) have you been diagnosed with?\")\n",
    "suspected_conditions = conditions_counter(\"If maybe, what condition(s) do you believe you have?\")\n",
    "diagnosed_conditions = conditions_counter(\"If so, what condition(s) were you diagnosed with?\")"
   ]
  },
  {
   "cell_type": "markdown",
   "id": "e9ca9e8243d61413",
   "metadata": {
    "collapsed": false
   },
   "source": [
    "We'll merge the generated datasets to provide a compact overview."
   ]
  },
  {
   "cell_type": "code",
   "execution_count": 17,
   "id": "3b7c252859433db2",
   "metadata": {
    "collapsed": false,
    "ExecuteTime": {
     "end_time": "2024-03-17T13:29:12.178371Z",
     "start_time": "2024-03-17T13:29:12.108294Z"
    }
   },
   "outputs": [
    {
     "data": {
      "text/plain": "                                           Conditions  Known  Suspected  \\\n1   Mood Disorder (Depression, Bipolar Disorder, etc)     76         54   \n0   Anxiety Disorder (Generalized, Social, Phobia,...     71         53   \n2            Attention Deficit Hyperactivity Disorder     38         27   \n3                      Post-traumatic Stress Disorder     37         15   \n10  Personality Disorder (Borderline, Antisocial, ...     26         27   \n5                       Obsessive-Compulsive Disorder     26         19   \n6                              Substance Use Disorder     25         13   \n8                           Stress Response Syndromes     24         24   \n7                                  Addictive Disorder     25         19   \n4            Eating Disorder (Anorexia, Bulimia, etc)     17          6   \n11                              Dissociative Disorder      9          6   \n9   Psychotic Disorder (Schizophrenia, Schizoaffec...      2          8   \n20                                             Autism      3          1   \n22                           Autism Spectrum Disorder      1          0   \n40                                  Suicidal Ideation      0          1   \n38                           Gender Identity Disorder      0          1   \n35                                  Asperger Syndrome      0          1   \n32                                   Gender Dysphoria      1          0   \n27                        Seasonal Affective Disorder      1          0   \n26                                           Burn out      1          0   \n24                                         Depression      1          0   \n23                                Autism (Asperger's)      1          0   \n25                                            PDD-NOS      1          0   \n19                                  Intimate Disorder      1          0   \n12                            ADD (w/o Hyperactivity)      1          0   \n13                   Schizotypal Personality Disorder      1          0   \n21                                        Transgender      1          0   \n49                                PDD-NOS (see above)      0          0   \n48  Autism - while not a \"mental illness\", still g...      0          0   \n47                         Attention Deficit Disorder      0          0   \n46  MCD (when it was diagnosed, the ultra-mega \"di...      0          0   \n45                     posttraumatic stress disourder      0          0   \n44  attention deficit disorder (but not the hypera...      0          0   \n43                                          Aspergers      0          0   \n42                              post-partum / anxiety      0          1   \n41                                  Depersonalisation      0          1   \n39                            We're all hurt, right?!      0          1   \n37                                           Tinnitus      0          1   \n36                                            Burnout      0          1   \n14  Combination of physical impairment (strongly n...      1          0   \n34                                         Asperger's      0          1   \n33                         depersonalization disorder      0          1   \n15                           Autism spectrum disorder      1          0   \n31                                           Asperges      1          0   \n30                                 PTSD (undiagnosed)      1          0   \n29                             Traumatic Brain Injury      1          0   \n28  Pervasive Developmental Disorder (Not Otherwis...      1          0   \n16                                   Sexual addiction      1          0   \n17                                  Sleeping Disorder      1          0   \n18  I haven't been formally diagnosed, so I felt u...      1          0   \n50                           autism spectrum disorder      0          0   \n\n    Diagnosed_by_professional  Total  \n1                          68    198  \n0                          55    179  \n2                          29     94  \n3                          35     87  \n10                         22     75  \n5                          21     66  \n6                          22     60  \n8                          12     60  \n7                          13     57  \n4                          15     38  \n11                          9     24  \n9                           3     13  \n20                          2      6  \n22                          1      2  \n40                          1      2  \n38                          1      2  \n35                          1      2  \n32                          1      2  \n27                          1      2  \n26                          1      2  \n24                          1      2  \n23                          1      2  \n25                          1      2  \n19                          1      2  \n12                          1      2  \n13                          1      2  \n21                          0      1  \n49                          1      1  \n48                          1      1  \n47                          1      1  \n46                          1      1  \n45                          1      1  \n44                          1      1  \n43                          1      1  \n42                          0      1  \n41                          0      1  \n39                          0      1  \n37                          0      1  \n36                          0      1  \n14                          0      1  \n34                          0      1  \n33                          0      1  \n15                          0      1  \n31                          0      1  \n30                          0      1  \n29                          0      1  \n28                          0      1  \n16                          0      1  \n17                          0      1  \n18                          0      1  \n50                          1      1  ",
      "text/html": "<div>\n<style scoped>\n    .dataframe tbody tr th:only-of-type {\n        vertical-align: middle;\n    }\n\n    .dataframe tbody tr th {\n        vertical-align: top;\n    }\n\n    .dataframe thead th {\n        text-align: right;\n    }\n</style>\n<table border=\"1\" class=\"dataframe\">\n  <thead>\n    <tr style=\"text-align: right;\">\n      <th></th>\n      <th>Conditions</th>\n      <th>Known</th>\n      <th>Suspected</th>\n      <th>Diagnosed_by_professional</th>\n      <th>Total</th>\n    </tr>\n  </thead>\n  <tbody>\n    <tr>\n      <th>1</th>\n      <td>Mood Disorder (Depression, Bipolar Disorder, etc)</td>\n      <td>76</td>\n      <td>54</td>\n      <td>68</td>\n      <td>198</td>\n    </tr>\n    <tr>\n      <th>0</th>\n      <td>Anxiety Disorder (Generalized, Social, Phobia,...</td>\n      <td>71</td>\n      <td>53</td>\n      <td>55</td>\n      <td>179</td>\n    </tr>\n    <tr>\n      <th>2</th>\n      <td>Attention Deficit Hyperactivity Disorder</td>\n      <td>38</td>\n      <td>27</td>\n      <td>29</td>\n      <td>94</td>\n    </tr>\n    <tr>\n      <th>3</th>\n      <td>Post-traumatic Stress Disorder</td>\n      <td>37</td>\n      <td>15</td>\n      <td>35</td>\n      <td>87</td>\n    </tr>\n    <tr>\n      <th>10</th>\n      <td>Personality Disorder (Borderline, Antisocial, ...</td>\n      <td>26</td>\n      <td>27</td>\n      <td>22</td>\n      <td>75</td>\n    </tr>\n    <tr>\n      <th>5</th>\n      <td>Obsessive-Compulsive Disorder</td>\n      <td>26</td>\n      <td>19</td>\n      <td>21</td>\n      <td>66</td>\n    </tr>\n    <tr>\n      <th>6</th>\n      <td>Substance Use Disorder</td>\n      <td>25</td>\n      <td>13</td>\n      <td>22</td>\n      <td>60</td>\n    </tr>\n    <tr>\n      <th>8</th>\n      <td>Stress Response Syndromes</td>\n      <td>24</td>\n      <td>24</td>\n      <td>12</td>\n      <td>60</td>\n    </tr>\n    <tr>\n      <th>7</th>\n      <td>Addictive Disorder</td>\n      <td>25</td>\n      <td>19</td>\n      <td>13</td>\n      <td>57</td>\n    </tr>\n    <tr>\n      <th>4</th>\n      <td>Eating Disorder (Anorexia, Bulimia, etc)</td>\n      <td>17</td>\n      <td>6</td>\n      <td>15</td>\n      <td>38</td>\n    </tr>\n    <tr>\n      <th>11</th>\n      <td>Dissociative Disorder</td>\n      <td>9</td>\n      <td>6</td>\n      <td>9</td>\n      <td>24</td>\n    </tr>\n    <tr>\n      <th>9</th>\n      <td>Psychotic Disorder (Schizophrenia, Schizoaffec...</td>\n      <td>2</td>\n      <td>8</td>\n      <td>3</td>\n      <td>13</td>\n    </tr>\n    <tr>\n      <th>20</th>\n      <td>Autism</td>\n      <td>3</td>\n      <td>1</td>\n      <td>2</td>\n      <td>6</td>\n    </tr>\n    <tr>\n      <th>22</th>\n      <td>Autism Spectrum Disorder</td>\n      <td>1</td>\n      <td>0</td>\n      <td>1</td>\n      <td>2</td>\n    </tr>\n    <tr>\n      <th>40</th>\n      <td>Suicidal Ideation</td>\n      <td>0</td>\n      <td>1</td>\n      <td>1</td>\n      <td>2</td>\n    </tr>\n    <tr>\n      <th>38</th>\n      <td>Gender Identity Disorder</td>\n      <td>0</td>\n      <td>1</td>\n      <td>1</td>\n      <td>2</td>\n    </tr>\n    <tr>\n      <th>35</th>\n      <td>Asperger Syndrome</td>\n      <td>0</td>\n      <td>1</td>\n      <td>1</td>\n      <td>2</td>\n    </tr>\n    <tr>\n      <th>32</th>\n      <td>Gender Dysphoria</td>\n      <td>1</td>\n      <td>0</td>\n      <td>1</td>\n      <td>2</td>\n    </tr>\n    <tr>\n      <th>27</th>\n      <td>Seasonal Affective Disorder</td>\n      <td>1</td>\n      <td>0</td>\n      <td>1</td>\n      <td>2</td>\n    </tr>\n    <tr>\n      <th>26</th>\n      <td>Burn out</td>\n      <td>1</td>\n      <td>0</td>\n      <td>1</td>\n      <td>2</td>\n    </tr>\n    <tr>\n      <th>24</th>\n      <td>Depression</td>\n      <td>1</td>\n      <td>0</td>\n      <td>1</td>\n      <td>2</td>\n    </tr>\n    <tr>\n      <th>23</th>\n      <td>Autism (Asperger's)</td>\n      <td>1</td>\n      <td>0</td>\n      <td>1</td>\n      <td>2</td>\n    </tr>\n    <tr>\n      <th>25</th>\n      <td>PDD-NOS</td>\n      <td>1</td>\n      <td>0</td>\n      <td>1</td>\n      <td>2</td>\n    </tr>\n    <tr>\n      <th>19</th>\n      <td>Intimate Disorder</td>\n      <td>1</td>\n      <td>0</td>\n      <td>1</td>\n      <td>2</td>\n    </tr>\n    <tr>\n      <th>12</th>\n      <td>ADD (w/o Hyperactivity)</td>\n      <td>1</td>\n      <td>0</td>\n      <td>1</td>\n      <td>2</td>\n    </tr>\n    <tr>\n      <th>13</th>\n      <td>Schizotypal Personality Disorder</td>\n      <td>1</td>\n      <td>0</td>\n      <td>1</td>\n      <td>2</td>\n    </tr>\n    <tr>\n      <th>21</th>\n      <td>Transgender</td>\n      <td>1</td>\n      <td>0</td>\n      <td>0</td>\n      <td>1</td>\n    </tr>\n    <tr>\n      <th>49</th>\n      <td>PDD-NOS (see above)</td>\n      <td>0</td>\n      <td>0</td>\n      <td>1</td>\n      <td>1</td>\n    </tr>\n    <tr>\n      <th>48</th>\n      <td>Autism - while not a \"mental illness\", still g...</td>\n      <td>0</td>\n      <td>0</td>\n      <td>1</td>\n      <td>1</td>\n    </tr>\n    <tr>\n      <th>47</th>\n      <td>Attention Deficit Disorder</td>\n      <td>0</td>\n      <td>0</td>\n      <td>1</td>\n      <td>1</td>\n    </tr>\n    <tr>\n      <th>46</th>\n      <td>MCD (when it was diagnosed, the ultra-mega \"di...</td>\n      <td>0</td>\n      <td>0</td>\n      <td>1</td>\n      <td>1</td>\n    </tr>\n    <tr>\n      <th>45</th>\n      <td>posttraumatic stress disourder</td>\n      <td>0</td>\n      <td>0</td>\n      <td>1</td>\n      <td>1</td>\n    </tr>\n    <tr>\n      <th>44</th>\n      <td>attention deficit disorder (but not the hypera...</td>\n      <td>0</td>\n      <td>0</td>\n      <td>1</td>\n      <td>1</td>\n    </tr>\n    <tr>\n      <th>43</th>\n      <td>Aspergers</td>\n      <td>0</td>\n      <td>0</td>\n      <td>1</td>\n      <td>1</td>\n    </tr>\n    <tr>\n      <th>42</th>\n      <td>post-partum / anxiety</td>\n      <td>0</td>\n      <td>1</td>\n      <td>0</td>\n      <td>1</td>\n    </tr>\n    <tr>\n      <th>41</th>\n      <td>Depersonalisation</td>\n      <td>0</td>\n      <td>1</td>\n      <td>0</td>\n      <td>1</td>\n    </tr>\n    <tr>\n      <th>39</th>\n      <td>We're all hurt, right?!</td>\n      <td>0</td>\n      <td>1</td>\n      <td>0</td>\n      <td>1</td>\n    </tr>\n    <tr>\n      <th>37</th>\n      <td>Tinnitus</td>\n      <td>0</td>\n      <td>1</td>\n      <td>0</td>\n      <td>1</td>\n    </tr>\n    <tr>\n      <th>36</th>\n      <td>Burnout</td>\n      <td>0</td>\n      <td>1</td>\n      <td>0</td>\n      <td>1</td>\n    </tr>\n    <tr>\n      <th>14</th>\n      <td>Combination of physical impairment (strongly n...</td>\n      <td>1</td>\n      <td>0</td>\n      <td>0</td>\n      <td>1</td>\n    </tr>\n    <tr>\n      <th>34</th>\n      <td>Asperger's</td>\n      <td>0</td>\n      <td>1</td>\n      <td>0</td>\n      <td>1</td>\n    </tr>\n    <tr>\n      <th>33</th>\n      <td>depersonalization disorder</td>\n      <td>0</td>\n      <td>1</td>\n      <td>0</td>\n      <td>1</td>\n    </tr>\n    <tr>\n      <th>15</th>\n      <td>Autism spectrum disorder</td>\n      <td>1</td>\n      <td>0</td>\n      <td>0</td>\n      <td>1</td>\n    </tr>\n    <tr>\n      <th>31</th>\n      <td>Asperges</td>\n      <td>1</td>\n      <td>0</td>\n      <td>0</td>\n      <td>1</td>\n    </tr>\n    <tr>\n      <th>30</th>\n      <td>PTSD (undiagnosed)</td>\n      <td>1</td>\n      <td>0</td>\n      <td>0</td>\n      <td>1</td>\n    </tr>\n    <tr>\n      <th>29</th>\n      <td>Traumatic Brain Injury</td>\n      <td>1</td>\n      <td>0</td>\n      <td>0</td>\n      <td>1</td>\n    </tr>\n    <tr>\n      <th>28</th>\n      <td>Pervasive Developmental Disorder (Not Otherwis...</td>\n      <td>1</td>\n      <td>0</td>\n      <td>0</td>\n      <td>1</td>\n    </tr>\n    <tr>\n      <th>16</th>\n      <td>Sexual addiction</td>\n      <td>1</td>\n      <td>0</td>\n      <td>0</td>\n      <td>1</td>\n    </tr>\n    <tr>\n      <th>17</th>\n      <td>Sleeping Disorder</td>\n      <td>1</td>\n      <td>0</td>\n      <td>0</td>\n      <td>1</td>\n    </tr>\n    <tr>\n      <th>18</th>\n      <td>I haven't been formally diagnosed, so I felt u...</td>\n      <td>1</td>\n      <td>0</td>\n      <td>0</td>\n      <td>1</td>\n    </tr>\n    <tr>\n      <th>50</th>\n      <td>autism spectrum disorder</td>\n      <td>0</td>\n      <td>0</td>\n      <td>1</td>\n      <td>1</td>\n    </tr>\n  </tbody>\n</table>\n</div>"
     },
     "execution_count": 17,
     "metadata": {},
     "output_type": "execute_result"
    }
   ],
   "source": [
    "# Merging the data frames into final_df\n",
    "conditions_df = pd.merge(\n",
    "    pd.merge(\n",
    "        known_conditions,\n",
    "        suspected_conditions,\n",
    "        on='Condition', how='outer',\n",
    "        suffixes=('_know', '_suspected')\n",
    "    ), diagnosed_conditions, on='Condition', how='outer')\n",
    "\n",
    "# Replacing empty values\n",
    "conditions_df[['Count_know', 'Count_suspected', 'Count']] = conditions_df[\n",
    "    ['Count_know', 'Count_suspected', 'Count']].replace(np.nan, 0)\n",
    "\n",
    "# Adjusting the data type\n",
    "conditions_df[['Count_know', 'Count_suspected', 'Count']] = conditions_df[\n",
    "    ['Count_know', 'Count_suspected', 'Count']].astype('int64')\n",
    "\n",
    "# Adding a new column called: Total\n",
    "conditions_df[\"Total\"] = conditions_df[\"Count_know\"] + conditions_df[\"Count_suspected\"] + conditions_df[\"Count\"]\n",
    "conditions_df.sort_values(\"Total\", ascending=False, inplace=True)\n",
    "\n",
    "# Renaming te columns for better clarity \n",
    "conditions_df.columns = [\"Conditions\", \"Known\", \"Suspected\", \"Diagnosed_by_professional\", \"Total\"]\n",
    "\n",
    "# Print final_df\n",
    "conditions_df"
   ]
  },
  {
   "cell_type": "markdown",
   "id": "805de265f0278887",
   "metadata": {
    "collapsed": false
   },
   "source": [
    "__Insights__:\n",
    "- These columns require some feature engineering techniques to transform it from a text data type into new columns with numerical values of 0 and 1.\n",
    "- Since there are some extra missing values, adopting an adequate approach to fill the missing values is required. \n",
    "- Redundancy should be removed by standardizing the respondents' input.\n",
    "- The __MAJOR__ conditions are: \n",
    "    - Mood Disorder (Depression, Bipolar Disorder, etc)\n",
    "    - Anxiety Disorder (Generalized, Social, Phobia, etc)\n",
    "    - Attention Deficit Hyperactivity Disorder\n",
    "    - Post-traumatic Stress Disorder\n",
    "    - Personality Disorder (Borderline, Antisocial, Paranoid, etc)\n",
    "    - Obsessive-Compulsive Disorder\n",
    "    - Substance Use Disorder\n",
    "    - Stress Response Syndromes\n",
    "    - Addictive Disorder\n",
    "    - Eating Disorder (Anorexia, Bulimia, etc)"
   ]
  },
  {
   "cell_type": "markdown",
   "id": "b0d191465f2b9365",
   "metadata": {
    "collapsed": false
   },
   "source": [
    "\n",
    "For the following columns, running __.describe()__ & __value_counts()__ methods is enough to unfold the information we seek."
   ]
  },
  {
   "cell_type": "code",
   "execution_count": 18,
   "id": "1822e5ef98f15660",
   "metadata": {
    "collapsed": false,
    "ExecuteTime": {
     "end_time": "2024-03-17T13:29:22.129680Z",
     "start_time": "2024-03-17T13:29:22.104459Z"
    }
   },
   "outputs": [
    {
     "data": {
      "text/plain": "count    1433.000000\nmean       34.286113\nstd        11.290931\nmin         3.000000\n25%        28.000000\n50%        33.000000\n75%        39.000000\nmax       323.000000\nName: What is your age?, dtype: float64"
     },
     "execution_count": 18,
     "metadata": {},
     "output_type": "execute_result"
    }
   ],
   "source": [
    "data[\"What is your age?\"].describe()"
   ]
  },
  {
   "cell_type": "code",
   "execution_count": 19,
   "id": "89a12cfbd6de7406",
   "metadata": {
    "collapsed": false,
    "ExecuteTime": {
     "end_time": "2024-03-17T13:29:23.489923Z",
     "start_time": "2024-03-17T13:29:23.115669Z"
    }
   },
   "outputs": [
    {
     "data": {
      "text/plain": "<Figure size 400x500 with 1 Axes>",
      "image/png": "[encoded data removed]"
     },
     "metadata": {},
     "output_type": "display_data"
    }
   ],
   "source": [
    "# Create a vertical box plot for the numerical column with outliers\n",
    "plt.figure(figsize=(4, 5))\n",
    "ax = sns.boxplot(y='What is your age?', data=data)\n",
    "\n",
    "# Setting the title and the y-axis label\n",
    "plt.title('Age distribution')\n",
    "plt.ylabel('Age')\n",
    "\n",
    "# Set y-axis limits and omit the first 0\n",
    "ax.set_ylim(1, None)\n",
    "\n",
    "# Save the plot as a picture by specifying the file name and format\n",
    "# plt.savefig('box_plot_1.png', bbox_inches='tight')\n",
    "\n",
    "# Displaying the figure\n",
    "plt.show()"
   ]
  },
  {
   "cell_type": "code",
   "execution_count": 20,
   "id": "aa62a59774e6e94",
   "metadata": {
    "collapsed": false,
    "ExecuteTime": {
     "end_time": "2024-03-17T13:29:24.801736Z",
     "start_time": "2024-03-17T13:29:24.775404Z"
    }
   },
   "outputs": [
    {
     "data": {
      "text/plain": "   What is your gender?  count\n0                  Male    610\n1                  male    249\n2                Female    153\n3                female     95\n4                     M     86\n..                  ...    ...\n65             cis male      1\n66                Human      1\n67          Genderfluid      1\n68                 Enby      1\n69                 MALE      1\n\n[70 rows x 2 columns]",
      "text/html": "<div>\n<style scoped>\n    .dataframe tbody tr th:only-of-type {\n        vertical-align: middle;\n    }\n\n    .dataframe tbody tr th {\n        vertical-align: top;\n    }\n\n    .dataframe thead th {\n        text-align: right;\n    }\n</style>\n<table border=\"1\" class=\"dataframe\">\n  <thead>\n    <tr style=\"text-align: right;\">\n      <th></th>\n      <th>What is your gender?</th>\n      <th>count</th>\n    </tr>\n  </thead>\n  <tbody>\n    <tr>\n      <th>0</th>\n      <td>Male</td>\n      <td>610</td>\n    </tr>\n    <tr>\n      <th>1</th>\n      <td>male</td>\n      <td>249</td>\n    </tr>\n    <tr>\n      <th>2</th>\n      <td>Female</td>\n      <td>153</td>\n    </tr>\n    <tr>\n      <th>3</th>\n      <td>female</td>\n      <td>95</td>\n    </tr>\n    <tr>\n      <th>4</th>\n      <td>M</td>\n      <td>86</td>\n    </tr>\n    <tr>\n      <th>...</th>\n      <td>...</td>\n      <td>...</td>\n    </tr>\n    <tr>\n      <th>65</th>\n      <td>cis male</td>\n      <td>1</td>\n    </tr>\n    <tr>\n      <th>66</th>\n      <td>Human</td>\n      <td>1</td>\n    </tr>\n    <tr>\n      <th>67</th>\n      <td>Genderfluid</td>\n      <td>1</td>\n    </tr>\n    <tr>\n      <th>68</th>\n      <td>Enby</td>\n      <td>1</td>\n    </tr>\n    <tr>\n      <th>69</th>\n      <td>MALE</td>\n      <td>1</td>\n    </tr>\n  </tbody>\n</table>\n<p>70 rows × 2 columns</p>\n</div>"
     },
     "execution_count": 20,
     "metadata": {},
     "output_type": "execute_result"
    }
   ],
   "source": [
    "# Displaying the various values of ghe column\n",
    "gender = pd.DataFrame(data[\"What is your gender?\"].value_counts()).reset_index()\n",
    "gender"
   ]
  },
  {
   "cell_type": "markdown",
   "id": "3483699f64fe1fa1",
   "metadata": {
    "collapsed": false
   },
   "source": [
    "__Insights__ : \n",
    "- Obvious typos must be handled due to the existence of unreasonable values 3, 15, and 323 in the age section.\n",
    "- The redundancy in the gender section must be addressed as well.\n"
   ]
  },
  {
   "cell_type": "markdown",
   "id": "1911664d153b51bf",
   "metadata": {
    "collapsed": false
   },
   "source": [
    "Subsequently, an overview on the countries of residency and labor is given"
   ]
  },
  {
   "cell_type": "code",
   "outputs": [
    {
     "data": {
      "text/plain": "                    Country  Count_residency  Count_labour\n0  United States of America            840.0         851.0\n1            United Kingdom            180.0         183.0\n2                    Canada             78.0          74.0\n3                   Germany             58.0          58.0\n4               Netherlands             48.0          47.0",
      "text/html": "<div>\n<style scoped>\n    .dataframe tbody tr th:only-of-type {\n        vertical-align: middle;\n    }\n\n    .dataframe tbody tr th {\n        vertical-align: top;\n    }\n\n    .dataframe thead th {\n        text-align: right;\n    }\n</style>\n<table border=\"1\" class=\"dataframe\">\n  <thead>\n    <tr style=\"text-align: right;\">\n      <th></th>\n      <th>Country</th>\n      <th>Count_residency</th>\n      <th>Count_labour</th>\n    </tr>\n  </thead>\n  <tbody>\n    <tr>\n      <th>0</th>\n      <td>United States of America</td>\n      <td>840.0</td>\n      <td>851.0</td>\n    </tr>\n    <tr>\n      <th>1</th>\n      <td>United Kingdom</td>\n      <td>180.0</td>\n      <td>183.0</td>\n    </tr>\n    <tr>\n      <th>2</th>\n      <td>Canada</td>\n      <td>78.0</td>\n      <td>74.0</td>\n    </tr>\n    <tr>\n      <th>3</th>\n      <td>Germany</td>\n      <td>58.0</td>\n      <td>58.0</td>\n    </tr>\n    <tr>\n      <th>4</th>\n      <td>Netherlands</td>\n      <td>48.0</td>\n      <td>47.0</td>\n    </tr>\n  </tbody>\n</table>\n</div>"
     },
     "execution_count": 21,
     "metadata": {},
     "output_type": "execute_result"
    }
   ],
   "source": [
    "# Setting the dataframe explaining the count of respondents per country\n",
    "df_1 = pd.DataFrame(data[\"What country do you live in?\"].value_counts()).reset_index()\n",
    "df_2 = pd.DataFrame(data[\"What country do you work in?\"].value_counts()).reset_index()\n",
    "\n",
    "# Adjusting the column names\n",
    "df_1.columns = df_2.columns = [\"Country\", \"Count\"]\n",
    "\n",
    "# Merging the two dataframes\n",
    "countries_df = pd.merge(df_1, df_2, on=\"Country\", how=\"outer\", suffixes=(\"_residency\", \"_labour\"))\n",
    "\n",
    "# Displaying the results\n",
    "countries_df.head()"
   ],
   "metadata": {
    "collapsed": false,
    "ExecuteTime": {
     "end_time": "2024-03-17T13:29:29.339597Z",
     "start_time": "2024-03-17T13:29:29.285205Z"
    }
   },
   "id": "fbb3cedcedca46f4",
   "execution_count": 21
  },
  {
   "cell_type": "markdown",
   "source": [
    "Since the US is the origin of the majority of respondents and their respective residence and labor states are given, we can aim to investigate the major states"
   ],
   "metadata": {
    "collapsed": false
   },
   "id": "e62f030726317f8a"
  },
  {
   "cell_type": "code",
   "outputs": [
    {
     "data": {
      "text/plain": "        State  Count_residency  Count_labour\n0  California            130.0           141\n1    Illinois             56.0            58\n2    Michigan             48.0            47\n3    New York             45.0            49\n4  Washington             43.0            42",
      "text/html": "<div>\n<style scoped>\n    .dataframe tbody tr th:only-of-type {\n        vertical-align: middle;\n    }\n\n    .dataframe tbody tr th {\n        vertical-align: top;\n    }\n\n    .dataframe thead th {\n        text-align: right;\n    }\n</style>\n<table border=\"1\" class=\"dataframe\">\n  <thead>\n    <tr style=\"text-align: right;\">\n      <th></th>\n      <th>State</th>\n      <th>Count_residency</th>\n      <th>Count_labour</th>\n    </tr>\n  </thead>\n  <tbody>\n    <tr>\n      <th>0</th>\n      <td>California</td>\n      <td>130.0</td>\n      <td>141</td>\n    </tr>\n    <tr>\n      <th>1</th>\n      <td>Illinois</td>\n      <td>56.0</td>\n      <td>58</td>\n    </tr>\n    <tr>\n      <th>2</th>\n      <td>Michigan</td>\n      <td>48.0</td>\n      <td>47</td>\n    </tr>\n    <tr>\n      <th>3</th>\n      <td>New York</td>\n      <td>45.0</td>\n      <td>49</td>\n    </tr>\n    <tr>\n      <th>4</th>\n      <td>Washington</td>\n      <td>43.0</td>\n      <td>42</td>\n    </tr>\n  </tbody>\n</table>\n</div>"
     },
     "execution_count": 22,
     "metadata": {},
     "output_type": "execute_result"
    }
   ],
   "source": [
    "# Setting the dataframe explaining the count of respondents per US state\n",
    "df_us_1 = pd.DataFrame(data[\"What US state or territory do you live in?\"].value_counts()).reset_index()\n",
    "df_us_2 = pd.DataFrame(data[\"What US state or territory do you work in?\"].value_counts()).reset_index()\n",
    "\n",
    "# Adjusting the column names\n",
    "df_us_1.columns = df_us_2.columns = [\"State\", \"Count\"]\n",
    "\n",
    "# Merging the two dataframes\n",
    "states_df = pd.merge(df_us_1, df_us_2, on=\"State\", how=\"outer\", suffixes=(\"_residency\", \"_labour\"))\n",
    "\n",
    "# Displaying the results\n",
    "states_df.head()"
   ],
   "metadata": {
    "collapsed": false,
    "ExecuteTime": {
     "end_time": "2024-03-17T13:29:31.696327Z",
     "start_time": "2024-03-17T13:29:31.641580Z"
    }
   },
   "id": "570eef5469deb143",
   "execution_count": 22
  },
  {
   "cell_type": "markdown",
   "source": [
    "Finally, we investigate the remote work options available for the respondents."
   ],
   "metadata": {
    "collapsed": false
   },
   "id": "b620b3e96e3a1540"
  },
  {
   "cell_type": "code",
   "outputs": [
    {
     "data": {
      "text/plain": "Do you work remotely?\nSometimes    757\nAlways       343\nNever        333\nName: count, dtype: int64"
     },
     "execution_count": 23,
     "metadata": {},
     "output_type": "execute_result"
    }
   ],
   "source": [
    "# Aggregating the values in the column of remote work option\n",
    "data[\"Do you work remotely?\"].value_counts()"
   ],
   "metadata": {
    "collapsed": false,
    "ExecuteTime": {
     "end_time": "2024-03-17T13:29:34.396492Z",
     "start_time": "2024-03-17T13:29:34.370386Z"
    }
   },
   "id": "d8bac3dac2bf5b8d",
   "execution_count": 23
  },
  {
   "cell_type": "markdown",
   "source": [
    "__Insights__ : \n",
    "- California, Illinois, Michigan, New York, and Washington are the major states while the US is where the majority of respondents work and live.\n",
    "- Only one third of the respondents don't have the option work remotely."
   ],
   "metadata": {
    "collapsed": false
   },
   "id": "869208c08a092520"
  },
  {
   "cell_type": "markdown",
   "id": "a04d256619ddf7d1",
   "metadata": {
    "collapsed": false
   },
   "source": [
    "# 3. Summary\n",
    "The data exploration of this dataset showed various aspects and insights. Some of which will have to be handled in the phase of pre-processing are included here :\n",
    "- Out of a total of 63 columns, merely 7 contain numerical data.\n",
    "- The changing count between columns implies the presence of missing values within the dataset.\n",
    "- Unusual entries such as 3, 15, and 323 within the age column were identified, necessitating an appropriate filling approach.\n",
    "- The 883 employees in IT-related companies don’t provide a clear stand if they’re hired in an IT-related role or not. These missing values need to be handled properly.\n",
    "- The employees are working for a broad category of organizations with medium and bigger size dominance. the 287 missing values in this column reflect the number of self-employed who did not answer this question.\n",
    "- Exceeding 1146 missing values, the following columns are more likely to be dropped due to the significant number of missing values :\n",
    "    - Do you have medical coverage (private insurance or state-provided) which includes treatment of mental health issues?\n",
    "    - Do you know local or online resources to seek help for a mental health disorder?\n",
    "    - If you have been diagnosed or treated for a mental health disorder, do you ever reveal this to clients or business contacts?\n",
    "    - If you have revealed a mental health issue to a client or business contact, do you believe this has impacted you negatively?\n",
    "    - If you have been diagnosed or treated for a mental health disorder, do you ever reveal this to coworkers or employees?\n",
    "    - If you have revealed a mental health issue to a coworker or employee, do you believe this has impacted you negatively?\n",
    "    - Do you believe your productivity is ever affected by a mental health issue?\n",
    "    - If yes, what percentage of your work time (time performing primary or secondary job functions) is affected by a mental health issue?\n",
    "\n",
    "- The __Have you observed or experienced an unsupportive or badly handled response to a mental health issue in your current or previous workplace? and Have your observations of how another individual who discussed a mental health disorder made you less likely to reveal a mental health issue yourself in your current workplace?__ columns can benefit from filling them with the uncertainty value in the respective columns, instead of dropping them due to the enormous number of empty values.\n",
    "- These columns __If yes, what condition(s) have you been diagnosed with?, If maybe, what condition(s) do you believe you have?, and Have you been diagnosed with a mental health condition by a medical professional?__ require some feature engineering techniques.\n",
    "- The __MAJOR__ conditions are: \n",
    "    - Mood Disorder (Depression, Bipolar Disorder, etc)\n",
    "    - Anxiety Disorder (Generalized, Social, Phobia, etc)\n",
    "    - Attention Deficit Hyperactivity Disorder\n",
    "    - Post-traumatic Stress Disorder\n",
    "    - Personality Disorder (Borderline, Antisocial, Paranoid, etc)\n",
    "    - Obsessive-Compulsive Disorder\n",
    "    - Substance Use Disorder\n",
    "    - Stress Response Syndromes\n",
    "    - Addictive Disorder\n",
    "    - Eating Disorder (Anorexia, Bulimia, etc)\n",
    "- The redundancy in the gender section must be addressed.\n",
    "- Working with shorter columns names would make the manipulation of data in the upcoming phases much more easier."
   ]
  },
  {
   "cell_type": "markdown",
   "id": "d18fd24c4867f3f5",
   "metadata": {
    "collapsed": false
   },
   "source": [
    "## Author"
   ]
  },
  {
   "cell_type": "markdown",
   "id": "fb46f67494873970",
   "metadata": {
    "collapsed": false
   },
   "source": [
    "<a href=\"https://www.linkedin.com/in/ab0858s/\">Abdelali BARIR</a> is a former veteran in the Moroccan's Royal Armed Forces, and a self taught data scientist. Currently enrolled in BSc. Data Science in IU International University of Applied Sciences."
   ]
  },
  {
   "cell_type": "markdown",
   "id": "1ad0f54b640cc31d",
   "metadata": {
    "collapsed": false
   },
   "source": [
    "## Change Log"
   ]
  },
  {
   "cell_type": "markdown",
   "id": "8fd7d18d685c9dd5",
   "metadata": {
    "collapsed": false
   },
   "source": [
    "| Date       | Version | Changed By     | Change Description      |\n",
    "|------------|---------|----------------|-------------------------|\n",
    "| 2024-03-10 | 1.0     | Abdelali Barir | Modified markdown       |\n",
    "|------------|---------|----------------|-------------------------|"
   ]
  }
 ],
 "metadata": {
  "kernelspec": {
   "display_name": "Python 3 (ipykernel)",
   "language": "python",
   "name": "python3"
  },
  "language_info": {
   "codemirror_mode": {
    "name": "ipython",
    "version": 3
   },
   "file_extension": ".py",
   "mimetype": "text/x-python",
   "name": "python",
   "nbconvert_exporter": "python",
   "pygments_lexer": "ipython3",
   "version": "3.9.7"
  }
 },
 "nbformat": 4,
 "nbformat_minor": 5
}
