{
 "cells": [
  {
   "cell_type": "markdown",
   "id": "e87ab10ecbab2d7a",
   "metadata": {
    "collapsed": false
   },
   "source": [
    "# Greetings\n",
    "The [data](https://www.kaggle.com/datasets/osmi/mental-health-in-tech-2016/) used in this notebook is provided from Open-Sourcing Mental Illness, LTD (OSMI) in 2016. The results of a survey, which were conducted to gauge the impact of mental health illnesses among employees."
   ]
  },
  {
   "cell_type": "markdown",
   "id": "5d0d6ae9380360ab",
   "metadata": {
    "collapsed": false
   },
   "source": [
    "## Data Exploration\n",
    "This section is dedicated to shaping an understanding of the data, identifying any underlying issues, and preparing to address them in subsequent phases. This stage is pivotal as it lays the foundation for various decisions concerning data imputation and data wrangling and more.\n",
    "\n",
    "During this phase, we solely conduct exploratory data analysis, using descriptive statistics and visualizations. No alterations will be made to the data at this stage."
   ]
  },
  {
   "cell_type": "markdown",
   "source": [
    "### List of contents :\n",
    "1. __Overview__ \n",
    "2. __Exploratory Data Analysis__\n",
    "2.1. Column 0 to 23\n",
    "2.2. Column 24 to 35\n",
    "2.3. Column 36 to 39\n",
    "2.4. Column 40 to 46\n",
    "2.5. Column 47 to 52\n",
    "2.6. Column 53 and 54\n",
    "3. __Summary__"
   ],
   "metadata": {
    "collapsed": false
   },
   "id": "db3fc567ab5bf984"
  },
  {
   "cell_type": "markdown",
   "id": "b10153cbd5cae28d",
   "metadata": {
    "collapsed": false
   },
   "source": [
    "Importing the required libraries"
   ]
  },
  {
   "cell_type": "code",
   "execution_count": 1,
   "id": "initial_id",
   "metadata": {
    "collapsed": true,
    "jupyter": {
     "outputs_hidden": true
    },
    "ExecuteTime": {
     "end_time": "2024-02-27T01:02:41.317012Z",
     "start_time": "2024-02-27T01:02:41.294689Z"
    }
   },
   "outputs": [],
   "source": [
    "# Path library for generating OS paths efficiently\n",
    "from pathlib import Path\n",
    "\n",
    "# Data analysis library\n",
    "import pandas as pd\n",
    "\n",
    "# Python library for numerical computation \n",
    "import numpy as np\n",
    "\n",
    "# Powerful data visualization library\n",
    "import seaborn as sns\n",
    "\n",
    "# The base library for plotting graphs in python\n",
    "import matplotlib.pyplot as plt  "
   ]
  },
  {
   "cell_type": "markdown",
   "id": "79242df41ec05046",
   "metadata": {
    "collapsed": false
   },
   "source": [
    "## 1. Overview\n",
    "\n",
    "The aim of this phase is to get to know the data at hand.\n",
    "\n",
    "First, let's start by loading the data. "
   ]
  },
  {
   "cell_type": "code",
   "execution_count": 2,
   "id": "e487bcd3a264c436",
   "metadata": {
    "collapsed": false,
    "ExecuteTime": {
     "end_time": "2024-02-27T01:03:20.227977Z",
     "start_time": "2024-02-27T01:03:20.091500Z"
    }
   },
   "outputs": [
    {
     "data": {
      "text/plain": "   Are you self-employed?  \\\n0                       0   \n1                       0   \n2                       0   \n3                       1   \n4                       0   \n\n  How many employees does your company or organization have?  \\\n0                                             26-100           \n1                                               6-25           \n2                                               6-25           \n3                                                NaN           \n4                                               6-25           \n\n   Is your employer primarily a tech company/organization?  \\\n0                                                1.0         \n1                                                1.0         \n2                                                1.0         \n3                                                NaN         \n4                                                0.0         \n\n   Is your primary role within your company related to tech/IT?  \\\n0                                                NaN              \n1                                                NaN              \n2                                                NaN              \n3                                                NaN              \n4                                                1.0              \n\n  Does your employer provide mental health benefits as part of healthcare coverage?  \\\n0                    Not eligible for coverage / N/A                                  \n1                                                 No                                  \n2                                                 No                                  \n3                                                NaN                                  \n4                                                Yes                                  \n\n  Do you know the options for mental health care available under your employer-provided coverage?  \\\n0                                                NaN                                                \n1                                                Yes                                                \n2                                                NaN                                                \n3                                                NaN                                                \n4                                                Yes                                                \n\n  Has your employer ever formally discussed mental health (for example, as part of a wellness campaign or other official communication)?  \\\n0                                                 No                                                                                       \n1                                                Yes                                                                                       \n2                                                 No                                                                                       \n3                                                NaN                                                                                       \n4                                                 No                                                                                       \n\n  Does your employer offer resources to learn more about mental health concerns and options for seeking help?  \\\n0                                                 No                                                            \n1                                                Yes                                                            \n2                                                 No                                                            \n3                                                NaN                                                            \n4                                                 No                                                            \n\n  Is your anonymity protected if you choose to take advantage of mental health or substance abuse treatment resources provided by your employer?  \\\n0                                       I don't know                                                                                               \n1                                                Yes                                                                                               \n2                                       I don't know                                                                                               \n3                                                NaN                                                                                               \n4                                                 No                                                                                               \n\n  If a mental health issue prompted you to request a medical leave from work, asking for that leave would be:  \\\n0                                          Very easy                                                            \n1                                      Somewhat easy                                                            \n2                         Neither easy nor difficult                                                            \n3                                                NaN                                                            \n4                         Neither easy nor difficult                                                            \n\n   ...  \\\n0  ...   \n1  ...   \n2  ...   \n3  ...   \n4  ...   \n\n  If you have a mental health issue, do you feel that it interferes with your work when being treated effectively?  \\\n0                               Not applicable to me                                                                 \n1                                             Rarely                                                                 \n2                               Not applicable to me                                                                 \n3                                          Sometimes                                                                 \n4                                          Sometimes                                                                 \n\n  If you have a mental health issue, do you feel that it interferes with your work when NOT being treated effectively?  \\\n0                               Not applicable to me                                                                     \n1                                          Sometimes                                                                     \n2                               Not applicable to me                                                                     \n3                                          Sometimes                                                                     \n4                                          Sometimes                                                                     \n\n  What is your age? What is your gender? What country do you live in?  \\\n0                39                 Male               United Kingdom   \n1                29                 male     United States of America   \n2                38                Male                United Kingdom   \n3                43                 male               United Kingdom   \n4                43               Female     United States of America   \n\n  What US state or territory do you live in?  What country do you work in?  \\\n0                                        NaN                United Kingdom   \n1                                   Illinois      United States of America   \n2                                        NaN                United Kingdom   \n3                                        NaN                United Kingdom   \n4                                   Illinois      United States of America   \n\n  What US state or territory do you work in?  \\\n0                                        NaN   \n1                                   Illinois   \n2                                        NaN   \n3                                        NaN   \n4                                   Illinois   \n\n  Which of the following best describes your work position?  \\\n0                                 Back-end Developer          \n1             Back-end Developer|Front-end Developer          \n2                                 Back-end Developer          \n3                               Supervisor/Team Lead          \n4  Executive Leadership|Supervisor/Team Lead|Dev ...          \n\n  Do you work remotely?  \n0             Sometimes  \n1                 Never  \n2                Always  \n3             Sometimes  \n4             Sometimes  \n\n[5 rows x 63 columns]",
      "text/html": "<div>\n<style scoped>\n    .dataframe tbody tr th:only-of-type {\n        vertical-align: middle;\n    }\n\n    .dataframe tbody tr th {\n        vertical-align: top;\n    }\n\n    .dataframe thead th {\n        text-align: right;\n    }\n</style>\n<table border=\"1\" class=\"dataframe\">\n  <thead>\n    <tr style=\"text-align: right;\">\n      <th></th>\n      <th>Are you self-employed?</th>\n      <th>How many employees does your company or organization have?</th>\n      <th>Is your employer primarily a tech company/organization?</th>\n      <th>Is your primary role within your company related to tech/IT?</th>\n      <th>Does your employer provide mental health benefits as part of healthcare coverage?</th>\n      <th>Do you know the options for mental health care available under your employer-provided coverage?</th>\n      <th>Has your employer ever formally discussed mental health (for example, as part of a wellness campaign or other official communication)?</th>\n      <th>Does your employer offer resources to learn more about mental health concerns and options for seeking help?</th>\n      <th>Is your anonymity protected if you choose to take advantage of mental health or substance abuse treatment resources provided by your employer?</th>\n      <th>If a mental health issue prompted you to request a medical leave from work, asking for that leave would be:</th>\n      <th>...</th>\n      <th>If you have a mental health issue, do you feel that it interferes with your work when being treated effectively?</th>\n      <th>If you have a mental health issue, do you feel that it interferes with your work when NOT being treated effectively?</th>\n      <th>What is your age?</th>\n      <th>What is your gender?</th>\n      <th>What country do you live in?</th>\n      <th>What US state or territory do you live in?</th>\n      <th>What country do you work in?</th>\n      <th>What US state or territory do you work in?</th>\n      <th>Which of the following best describes your work position?</th>\n      <th>Do you work remotely?</th>\n    </tr>\n  </thead>\n  <tbody>\n    <tr>\n      <th>0</th>\n      <td>0</td>\n      <td>26-100</td>\n      <td>1.0</td>\n      <td>NaN</td>\n      <td>Not eligible for coverage / N/A</td>\n      <td>NaN</td>\n      <td>No</td>\n      <td>No</td>\n      <td>I don't know</td>\n      <td>Very easy</td>\n      <td>...</td>\n      <td>Not applicable to me</td>\n      <td>Not applicable to me</td>\n      <td>39</td>\n      <td>Male</td>\n      <td>United Kingdom</td>\n      <td>NaN</td>\n      <td>United Kingdom</td>\n      <td>NaN</td>\n      <td>Back-end Developer</td>\n      <td>Sometimes</td>\n    </tr>\n    <tr>\n      <th>1</th>\n      <td>0</td>\n      <td>6-25</td>\n      <td>1.0</td>\n      <td>NaN</td>\n      <td>No</td>\n      <td>Yes</td>\n      <td>Yes</td>\n      <td>Yes</td>\n      <td>Yes</td>\n      <td>Somewhat easy</td>\n      <td>...</td>\n      <td>Rarely</td>\n      <td>Sometimes</td>\n      <td>29</td>\n      <td>male</td>\n      <td>United States of America</td>\n      <td>Illinois</td>\n      <td>United States of America</td>\n      <td>Illinois</td>\n      <td>Back-end Developer|Front-end Developer</td>\n      <td>Never</td>\n    </tr>\n    <tr>\n      <th>2</th>\n      <td>0</td>\n      <td>6-25</td>\n      <td>1.0</td>\n      <td>NaN</td>\n      <td>No</td>\n      <td>NaN</td>\n      <td>No</td>\n      <td>No</td>\n      <td>I don't know</td>\n      <td>Neither easy nor difficult</td>\n      <td>...</td>\n      <td>Not applicable to me</td>\n      <td>Not applicable to me</td>\n      <td>38</td>\n      <td>Male</td>\n      <td>United Kingdom</td>\n      <td>NaN</td>\n      <td>United Kingdom</td>\n      <td>NaN</td>\n      <td>Back-end Developer</td>\n      <td>Always</td>\n    </tr>\n    <tr>\n      <th>3</th>\n      <td>1</td>\n      <td>NaN</td>\n      <td>NaN</td>\n      <td>NaN</td>\n      <td>NaN</td>\n      <td>NaN</td>\n      <td>NaN</td>\n      <td>NaN</td>\n      <td>NaN</td>\n      <td>NaN</td>\n      <td>...</td>\n      <td>Sometimes</td>\n      <td>Sometimes</td>\n      <td>43</td>\n      <td>male</td>\n      <td>United Kingdom</td>\n      <td>NaN</td>\n      <td>United Kingdom</td>\n      <td>NaN</td>\n      <td>Supervisor/Team Lead</td>\n      <td>Sometimes</td>\n    </tr>\n    <tr>\n      <th>4</th>\n      <td>0</td>\n      <td>6-25</td>\n      <td>0.0</td>\n      <td>1.0</td>\n      <td>Yes</td>\n      <td>Yes</td>\n      <td>No</td>\n      <td>No</td>\n      <td>No</td>\n      <td>Neither easy nor difficult</td>\n      <td>...</td>\n      <td>Sometimes</td>\n      <td>Sometimes</td>\n      <td>43</td>\n      <td>Female</td>\n      <td>United States of America</td>\n      <td>Illinois</td>\n      <td>United States of America</td>\n      <td>Illinois</td>\n      <td>Executive Leadership|Supervisor/Team Lead|Dev ...</td>\n      <td>Sometimes</td>\n    </tr>\n  </tbody>\n</table>\n<p>5 rows × 63 columns</p>\n</div>"
     },
     "execution_count": 2,
     "metadata": {},
     "output_type": "execute_result"
    }
   ],
   "source": [
    "# Formulating the directory \n",
    "path = Path.cwd().parent\n",
    "\n",
    "# Loading the data\n",
    "data = pd.read_csv(f'{path}/data/mental-heath-in-tech-2016_20161114.csv')\n",
    "data.head()"
   ]
  },
  {
   "cell_type": "code",
   "execution_count": 3,
   "id": "7df3f59019488b7d",
   "metadata": {
    "collapsed": false,
    "ExecuteTime": {
     "end_time": "2024-02-27T01:03:29.405906Z",
     "start_time": "2024-02-27T01:03:29.392658Z"
    }
   },
   "outputs": [
    {
     "name": "stdout",
     "output_type": "stream",
     "text": [
      "The data is formed through 63 columns/features and 1433 rows/records.\n"
     ]
    }
   ],
   "source": [
    "print(f\"The data is formed through {data.shape[1]} columns/features and {data.shape[0]} rows/records.\")"
   ]
  },
  {
   "cell_type": "code",
   "execution_count": 4,
   "id": "3701d219eb7836cf",
   "metadata": {
    "collapsed": false,
    "ExecuteTime": {
     "end_time": "2024-02-27T01:03:31.185183Z",
     "start_time": "2024-02-27T01:03:31.130866Z"
    }
   },
   "outputs": [
    {
     "data": {
      "text/plain": "       Are you self-employed?  \\\ncount             1433.000000   \nmean                 0.200279   \nstd                  0.400349   \nmin                  0.000000   \n25%                  0.000000   \n50%                  0.000000   \n75%                  0.000000   \nmax                  1.000000   \n\n       Is your employer primarily a tech company/organization?  \\\ncount                                        1146.000000         \nmean                                            0.770506         \nstd                                             0.420691         \nmin                                             0.000000         \n25%                                             1.000000         \n50%                                             1.000000         \n75%                                             1.000000         \nmax                                             1.000000         \n\n       Is your primary role within your company related to tech/IT?  \\\ncount                                         263.000000              \nmean                                            0.942966              \nstd                                             0.232350              \nmin                                             0.000000              \n25%                                             1.000000              \n50%                                             1.000000              \n75%                                             1.000000              \nmax                                             1.000000              \n\n       Do you have medical coverage (private insurance or state-provided) which includes treatment of  mental health issues?  \\\ncount                                         287.000000                                                                       \nmean                                            0.644599                                                                       \nstd                                             0.479471                                                                       \nmin                                             0.000000                                                                       \n25%                                             0.000000                                                                       \n50%                                             1.000000                                                                       \n75%                                             1.000000                                                                       \nmax                                             1.000000                                                                       \n\n       Do you have previous employers?  \\\ncount                      1433.000000   \nmean                          0.882066   \nstd                           0.322643   \nmin                           0.000000   \n25%                           1.000000   \n50%                           1.000000   \n75%                           1.000000   \nmax                           1.000000   \n\n       Have you ever sought treatment for a mental health issue from a mental health professional?  \\\ncount                                        1433.000000                                             \nmean                                            0.585485                                             \nstd                                             0.492810                                             \nmin                                             0.000000                                             \n25%                                             0.000000                                             \n50%                                             1.000000                                             \n75%                                             1.000000                                             \nmax                                             1.000000                                             \n\n       What is your age?  \ncount        1433.000000  \nmean           34.286113  \nstd            11.290931  \nmin             3.000000  \n25%            28.000000  \n50%            33.000000  \n75%            39.000000  \nmax           323.000000  ",
      "text/html": "<div>\n<style scoped>\n    .dataframe tbody tr th:only-of-type {\n        vertical-align: middle;\n    }\n\n    .dataframe tbody tr th {\n        vertical-align: top;\n    }\n\n    .dataframe thead th {\n        text-align: right;\n    }\n</style>\n<table border=\"1\" class=\"dataframe\">\n  <thead>\n    <tr style=\"text-align: right;\">\n      <th></th>\n      <th>Are you self-employed?</th>\n      <th>Is your employer primarily a tech company/organization?</th>\n      <th>Is your primary role within your company related to tech/IT?</th>\n      <th>Do you have medical coverage (private insurance or state-provided) which includes treatment of  mental health issues?</th>\n      <th>Do you have previous employers?</th>\n      <th>Have you ever sought treatment for a mental health issue from a mental health professional?</th>\n      <th>What is your age?</th>\n    </tr>\n  </thead>\n  <tbody>\n    <tr>\n      <th>count</th>\n      <td>1433.000000</td>\n      <td>1146.000000</td>\n      <td>263.000000</td>\n      <td>287.000000</td>\n      <td>1433.000000</td>\n      <td>1433.000000</td>\n      <td>1433.000000</td>\n    </tr>\n    <tr>\n      <th>mean</th>\n      <td>0.200279</td>\n      <td>0.770506</td>\n      <td>0.942966</td>\n      <td>0.644599</td>\n      <td>0.882066</td>\n      <td>0.585485</td>\n      <td>34.286113</td>\n    </tr>\n    <tr>\n      <th>std</th>\n      <td>0.400349</td>\n      <td>0.420691</td>\n      <td>0.232350</td>\n      <td>0.479471</td>\n      <td>0.322643</td>\n      <td>0.492810</td>\n      <td>11.290931</td>\n    </tr>\n    <tr>\n      <th>min</th>\n      <td>0.000000</td>\n      <td>0.000000</td>\n      <td>0.000000</td>\n      <td>0.000000</td>\n      <td>0.000000</td>\n      <td>0.000000</td>\n      <td>3.000000</td>\n    </tr>\n    <tr>\n      <th>25%</th>\n      <td>0.000000</td>\n      <td>1.000000</td>\n      <td>1.000000</td>\n      <td>0.000000</td>\n      <td>1.000000</td>\n      <td>0.000000</td>\n      <td>28.000000</td>\n    </tr>\n    <tr>\n      <th>50%</th>\n      <td>0.000000</td>\n      <td>1.000000</td>\n      <td>1.000000</td>\n      <td>1.000000</td>\n      <td>1.000000</td>\n      <td>1.000000</td>\n      <td>33.000000</td>\n    </tr>\n    <tr>\n      <th>75%</th>\n      <td>0.000000</td>\n      <td>1.000000</td>\n      <td>1.000000</td>\n      <td>1.000000</td>\n      <td>1.000000</td>\n      <td>1.000000</td>\n      <td>39.000000</td>\n    </tr>\n    <tr>\n      <th>max</th>\n      <td>1.000000</td>\n      <td>1.000000</td>\n      <td>1.000000</td>\n      <td>1.000000</td>\n      <td>1.000000</td>\n      <td>1.000000</td>\n      <td>323.000000</td>\n    </tr>\n  </tbody>\n</table>\n</div>"
     },
     "execution_count": 4,
     "metadata": {},
     "output_type": "execute_result"
    }
   ],
   "source": [
    "data.describe()"
   ]
  },
  {
   "cell_type": "markdown",
   "id": "9ef2072fa046e816",
   "metadata": {
    "collapsed": false
   },
   "source": [
    "__Insights :__\n",
    "- Out of a total of 63 columns, merely 7 contain numerical data. \n",
    "- The changing count between columns implies the presence of missing values within the dataset. \n",
    "- Unusual entries within the age column were identified, necessitating an appropriate filling approach.\n",
    "\n",
    "As we seek further investigations, we might use the __\".info()\"__ method, but we want to need to explore unique values within each column as this information will help us later on."
   ]
  },
  {
   "cell_type": "code",
   "execution_count": 5,
   "id": "adb3ce7f7fb808b3",
   "metadata": {
    "collapsed": false,
    "ExecuteTime": {
     "end_time": "2024-02-27T01:03:42.671882Z",
     "start_time": "2024-02-27T01:03:42.597167Z"
    }
   },
   "outputs": [
    {
     "data": {
      "text/plain": "                                                 name  empty_values  \\\n19  If you have revealed a mental health issue to ...          1289   \n23  If yes, what percentage of your work time (tim...          1229   \n3   Is your primary role within your company relat...          1170   \n17  Do you know local or online resources to seek ...          1146   \n16  Do you have medical coverage (private insuranc...          1146   \n..                                                ...           ...   \n40  Do you feel that being identified as a person ...             0   \n38  Would you bring up a mental health issue with ...             0   \n36  Would you be willing to bring up a physical he...             0   \n24                    Do you have previous employers?             0   \n62                              Do you work remotely?             0   \n\n    unique_values data_type  \n19              4    object  \n23              5    object  \n3               3   float64  \n17              4    object  \n16              3   float64  \n..            ...       ...  \n40              5    object  \n38              3    object  \n36              3    object  \n24              2     int64  \n62              3    object  \n\n[63 rows x 4 columns]",
      "text/html": "<div>\n<style scoped>\n    .dataframe tbody tr th:only-of-type {\n        vertical-align: middle;\n    }\n\n    .dataframe tbody tr th {\n        vertical-align: top;\n    }\n\n    .dataframe thead th {\n        text-align: right;\n    }\n</style>\n<table border=\"1\" class=\"dataframe\">\n  <thead>\n    <tr style=\"text-align: right;\">\n      <th></th>\n      <th>name</th>\n      <th>empty_values</th>\n      <th>unique_values</th>\n      <th>data_type</th>\n    </tr>\n  </thead>\n  <tbody>\n    <tr>\n      <th>19</th>\n      <td>If you have revealed a mental health issue to ...</td>\n      <td>1289</td>\n      <td>4</td>\n      <td>object</td>\n    </tr>\n    <tr>\n      <th>23</th>\n      <td>If yes, what percentage of your work time (tim...</td>\n      <td>1229</td>\n      <td>5</td>\n      <td>object</td>\n    </tr>\n    <tr>\n      <th>3</th>\n      <td>Is your primary role within your company relat...</td>\n      <td>1170</td>\n      <td>3</td>\n      <td>float64</td>\n    </tr>\n    <tr>\n      <th>17</th>\n      <td>Do you know local or online resources to seek ...</td>\n      <td>1146</td>\n      <td>4</td>\n      <td>object</td>\n    </tr>\n    <tr>\n      <th>16</th>\n      <td>Do you have medical coverage (private insuranc...</td>\n      <td>1146</td>\n      <td>3</td>\n      <td>float64</td>\n    </tr>\n    <tr>\n      <th>...</th>\n      <td>...</td>\n      <td>...</td>\n      <td>...</td>\n      <td>...</td>\n    </tr>\n    <tr>\n      <th>40</th>\n      <td>Do you feel that being identified as a person ...</td>\n      <td>0</td>\n      <td>5</td>\n      <td>object</td>\n    </tr>\n    <tr>\n      <th>38</th>\n      <td>Would you bring up a mental health issue with ...</td>\n      <td>0</td>\n      <td>3</td>\n      <td>object</td>\n    </tr>\n    <tr>\n      <th>36</th>\n      <td>Would you be willing to bring up a physical he...</td>\n      <td>0</td>\n      <td>3</td>\n      <td>object</td>\n    </tr>\n    <tr>\n      <th>24</th>\n      <td>Do you have previous employers?</td>\n      <td>0</td>\n      <td>2</td>\n      <td>int64</td>\n    </tr>\n    <tr>\n      <th>62</th>\n      <td>Do you work remotely?</td>\n      <td>0</td>\n      <td>3</td>\n      <td>object</td>\n    </tr>\n  </tbody>\n</table>\n<p>63 rows × 4 columns</p>\n</div>"
     },
     "execution_count": 5,
     "metadata": {},
     "output_type": "execute_result"
    }
   ],
   "source": [
    "# Initiating an empty list data_info \n",
    "data_info = []\n",
    "\n",
    "# Gathering the attributes in one place \n",
    "for index, column in enumerate(data.columns):\n",
    "    info = {\n",
    "        'name': column,  # The name of the column \n",
    "        'empty_values': data[column].isna().sum(),  # The number of empty values in a column\n",
    "        'unique_values': data[column].unique().__len__(),  # The number of unique values \n",
    "        'data_type': data[column].dtypes  # The data type of column\n",
    "    }\n",
    "\n",
    "    # Appending the values  \n",
    "    data_info.append(info)\n",
    "\n",
    "# Create a DataFrame from the gathered information\n",
    "null_categories_data = pd.DataFrame(data_info).sort_values(by=['empty_values'], ascending=False)\n",
    "null_categories_data"
   ]
  },
  {
   "cell_type": "markdown",
   "source": [
    "## 2. Exploratory Data Analysis\n",
    "In this section, we're iterating over columns based on relevancy. We can inspect 11 at a time as we can inspect two or three at a time. For a clearer view, visualizations are used where appropriate."
   ],
   "metadata": {
    "collapsed": false
   },
   "id": "a08ced9f8b9d4966"
  },
  {
   "cell_type": "markdown",
   "source": [
    "### 2.1 Columns 0 to 23\n",
    "\n",
    "The __Are you self-employed?, How many employees does your company or organization have?, Is your employer primarily a tech company/organization?, Is your primary role within your company related to tech/IT?__ investigate basic information on the respondent."
   ],
   "metadata": {
    "collapsed": false
   },
   "id": "aba15d40a2094481"
  },
  {
   "cell_type": "code",
   "execution_count": 6,
   "id": "94607e57faace241",
   "metadata": {
    "collapsed": false,
    "ExecuteTime": {
     "end_time": "2024-02-27T01:03:55.633086Z",
     "start_time": "2024-02-27T01:03:55.602692Z"
    }
   },
   "outputs": [
    {
     "data": {
      "text/plain": "{'Number of employees': 1146,\n 'Number of self-employed': 287,\n 'Number of employees in IT related companies': 883,\n 'Number of employees in non-IT related companies': 263,\n 'Number of employees in non-IT related companies with IT related role': 248,\n 'Number of employees in non-IT related companies with non-IT related role': 15}"
     },
     "execution_count": 6,
     "metadata": {},
     "output_type": "execute_result"
    }
   ],
   "source": [
    "# Performing aggregations on the first few columns using the value_counts method\n",
    "aggregations = {\n",
    "    \"Number of employees\": data[\"Are you self-employed?\"].value_counts()[0],\n",
    "    \"Number of self-employed\": data[\"Are you self-employed?\"].value_counts()[1],\n",
    "    \"Number of employees in IT related companies\":\n",
    "        data['Is your employer primarily a tech company/organization?'].value_counts()[1],\n",
    "    \"Number of employees in non-IT related companies\":\n",
    "        data['Is your employer primarily a tech company/organization?'].value_counts()[0],\n",
    "    \"Number of employees in non-IT related companies with IT related role\":\n",
    "        data[\"Is your primary role within your company related to tech/IT?\"].value_counts()[1],\n",
    "    \"Number of employees in non-IT related companies with non-IT related role\":\n",
    "        data[\"Is your primary role within your company related to tech/IT?\"].value_counts()[0]\n",
    "}\n",
    "\n",
    "# Print the dictionary\n",
    "aggregations"
   ]
  },
  {
   "cell_type": "markdown",
   "id": "c003a56b6bcad5f4",
   "metadata": {
    "collapsed": false
   },
   "source": [
    "The following pie chart better illustrates the data"
   ]
  },
  {
   "cell_type": "code",
   "execution_count": 7,
   "id": "18d02b194521dea6",
   "metadata": {
    "collapsed": false,
    "ExecuteTime": {
     "end_time": "2024-02-27T01:04:02.309187Z",
     "start_time": "2024-02-27T01:03:59.893013Z"
    }
   },
   "outputs": [
    {
     "data": {
      "text/plain": "<Figure size 1500x500 with 1 Axes>",
      "image/png": "[encoded data removed]"
     },
     "metadata": {},
     "output_type": "display_data"
    }
   ],
   "source": [
    "# Setting the labels and sizes lists \n",
    "labels = [\n",
    "    'Self-employed',\n",
    "    'Employees in IT related companies',\n",
    "    'Employees with IT-related role in a non-IT related company',\n",
    "    'Employees with non-IT-related role in a non-IT related company']\n",
    "\n",
    "sizes = [\n",
    "    aggregations[\"Number of self-employed\"],\n",
    "    aggregations[\"Number of employees in IT related companies\"],\n",
    "    aggregations[\"Number of employees in non-IT related companies with IT related role\"],\n",
    "    aggregations[\"Number of employees in non-IT related companies with non-IT related role\"]\n",
    "]\n",
    "\n",
    "# Setting the style of the visuals\n",
    "plt.style.use('fast')\n",
    "\n",
    "# Starting fig1 and ax1 subplots objects\n",
    "fig1, ax = plt.subplots(figsize=(15, 5))\n",
    "ax.pie(\n",
    "    sizes,  # List of values \n",
    "    autopct='%1.3f%%',  # Showing 3 numbers after the decimal point \n",
    "    textprops={'fontsize': 12}  # Setting the size of the ratios \n",
    ")\n",
    "\n",
    "ax.legend(\n",
    "    labels=labels,  # List of labels\n",
    "    loc=\"upper left\",  # Position of the legend\n",
    "    fontsize=8)  # Size of the legend\n",
    "\n",
    "# Plotting the figure\n",
    "plt.show()"
   ]
  },
  {
   "cell_type": "markdown",
   "id": "94fb33d05b3f56f0",
   "metadata": {
    "collapsed": false
   },
   "source": [
    "The organization's size in our data set varies. The next graph describes this variation :"
   ]
  },
  {
   "cell_type": "code",
   "execution_count": 8,
   "id": "de61266e7805d8a8",
   "metadata": {
    "collapsed": false,
    "ExecuteTime": {
     "end_time": "2024-02-27T01:04:17.662168Z",
     "start_time": "2024-02-27T01:04:17.645281Z"
    }
   },
   "outputs": [
    {
     "data": {
      "text/plain": "                                                    count\nHow many employees does your company or organiz...       \n26-100                                                292\nMore than 1000                                        256\n100-500                                               248\n6-25                                                  210\n500-1000                                               80\n1-5                                                    60",
      "text/html": "<div>\n<style scoped>\n    .dataframe tbody tr th:only-of-type {\n        vertical-align: middle;\n    }\n\n    .dataframe tbody tr th {\n        vertical-align: top;\n    }\n\n    .dataframe thead th {\n        text-align: right;\n    }\n</style>\n<table border=\"1\" class=\"dataframe\">\n  <thead>\n    <tr style=\"text-align: right;\">\n      <th></th>\n      <th>count</th>\n    </tr>\n    <tr>\n      <th>How many employees does your company or organization have?</th>\n      <th></th>\n    </tr>\n  </thead>\n  <tbody>\n    <tr>\n      <th>26-100</th>\n      <td>292</td>\n    </tr>\n    <tr>\n      <th>More than 1000</th>\n      <td>256</td>\n    </tr>\n    <tr>\n      <th>100-500</th>\n      <td>248</td>\n    </tr>\n    <tr>\n      <th>6-25</th>\n      <td>210</td>\n    </tr>\n    <tr>\n      <th>500-1000</th>\n      <td>80</td>\n    </tr>\n    <tr>\n      <th>1-5</th>\n      <td>60</td>\n    </tr>\n  </tbody>\n</table>\n</div>"
     },
     "execution_count": 8,
     "metadata": {},
     "output_type": "execute_result"
    }
   ],
   "source": [
    "# Performing aggregation using .value_counts()\n",
    "organization_size = pd.DataFrame(data[\"How many employees does your company or organization have?\"].value_counts())\n",
    "organization_size"
   ]
  },
  {
   "cell_type": "code",
   "execution_count": 9,
   "id": "3bf327f24dea6d47",
   "metadata": {
    "collapsed": false,
    "ExecuteTime": {
     "end_time": "2024-02-27T01:04:20.850542Z",
     "start_time": "2024-02-27T01:04:19.477615Z"
    }
   },
   "outputs": [
    {
     "data": {
      "text/plain": "<Figure size 640x480 with 1 Axes>",
      "image/png": "[encoded data removed]"
     },
     "metadata": {},
     "output_type": "display_data"
    }
   ],
   "source": [
    "# Plotting horizontal bars plot with proper y-axis label\n",
    "organization_size.plot(kind='barh')\n",
    "plt.ylabel(\"Organization Size\")\n",
    "\n",
    "# Showing the plot\n",
    "plt.show()"
   ]
  },
  {
   "cell_type": "markdown",
   "source": [
    "__Insights__ :\n",
    "- The employees in IT-related companies don't provide a clear stand if they're hired in an IT-related role or not. These 883 missing values need to be handled properly.\n",
    "- The employees are working for a broad category of organizations with medium and bigger size dominance. the 287 missing values in this column reflect the number of self-employed who didn't answer this question.\n",
    "- __Sharing the exact same number of missing values__, the following columns contain unique values that vary between 3 and 6:\n",
    "    - Does your employer provide mental health benefits as part of healthcare coverage?\n",
    "    - Have you heard of or observed negative consequences for co-workers who have been open about mental health issues in your workplace?\n",
    "    - Has your employer ever formally discussed mental health (for example, as part of a wellness campaign or other official communication)?\n",
    "    - Does your employer offer resources to learn more about mental health concerns and options for seeking help?\n",
    "    - Is your anonymity protected if you choose to take advantage of mental health or substance abuse treatment resources provided by your employer?\n",
    "    - If a mental health issue prompted you to request a medical leave from work, asking for that leave would be:\n",
    "    - Do you think that discussing a mental health disorder with your employer would have negative consequences?\n",
    "    - Do you think that discussing a physical health issue with your employer would have negative consequences?\n",
    "    - Would you feel comfortable discussing a mental health disorder with your coworkers?\n",
    "    - Would you feel comfortable discussing a mental health disorder with your direct supervisor(s)?\n",
    "    - Do you feel that your employer takes mental health as seriously as physical health?\n",
    "- The __Do you know the options for mental health care available under your employer-provided coverage?__ column has exactly four unique values and 420 missing values. \n",
    "- __Exceeding 1146 missing values__, the following columns are more likely to be dropped due to the significant number of missing values : \n",
    "    - Do you have medical coverage (private insurance or state-provided) which includes treatment of mental health issues?\n",
    "    - Do you know local or online resources to seek help for a mental health disorder?\n",
    "    - If you have been diagnosed or treated for a mental health disorder, do you ever reveal this to clients or business contacts?\n",
    "    - If you have revealed a mental health issue to a client or business contact, do you believe this has impacted you negatively?\n",
    "    - If you have been diagnosed or treated for a mental health disorder, do you ever reveal this to coworkers or employees?\n",
    "    - If you have revealed a mental health issue to a coworker or employee, do you believe this has impacted you negatively?\n",
    "    - Do you believe your productivity is ever affected by a mental health issue?\n",
    "    - If yes, what percentage of your work time (time performing primary or secondary job functions) is affected by a mental health issue?\""
   ],
   "metadata": {
    "collapsed": false
   },
   "id": "e84c772bd2851b54"
  },
  {
   "cell_type": "markdown",
   "id": "10f08252a1873e4d",
   "metadata": {
    "collapsed": false
   },
   "source": [
    "### 2.2 Columns 24 to 35\n",
    "In the next column, the respondents are filtered into previously employed or not.  "
   ]
  },
  {
   "cell_type": "code",
   "execution_count": 10,
   "id": "c3e0e42a87f1edb7",
   "metadata": {
    "collapsed": false,
    "ExecuteTime": {
     "end_time": "2024-02-27T01:04:28.977469Z",
     "start_time": "2024-02-27T01:04:28.959241Z"
    }
   },
   "outputs": [
    {
     "data": {
      "text/plain": "Do you have previous employers?\n1    1264\n0     169\nName: count, dtype: int64"
     },
     "execution_count": 10,
     "metadata": {},
     "output_type": "execute_result"
    }
   ],
   "source": [
    "# Performing aggregation using .value_counts()\n",
    "data[\"Do you have previous employers?\"].value_counts()"
   ]
  },
  {
   "cell_type": "markdown",
   "id": "135e2b3bcb1fffae",
   "metadata": {
    "collapsed": false
   },
   "source": [
    "__Insights__ :\n",
    "- The majority of employees have previous employment history.\n",
    "- The next 11 columns have either four or five unique values tend to have the exact same value of 169 missing values reflects the missing responses of 169 employees who don't have a previous employer : \n",
    "    - Have your previous employers provided mental health benefits?\n",
    "    - Were you aware of the options for mental health care provided by your previous employers?\n",
    "    - Did your previous employers ever formally discuss mental health (as part of a wellness campaign or other official communication)?\n",
    "    - Did your previous employers provide resources to learn more about mental health issues and how to seek help?\n",
    "    - Was your anonymity protected if you chose to take advantage of mental health or substance abuse treatment resources with previous employers?\n",
    "    - Do you think that discussing a mental health disorder with previous employers would have negative consequences?\n",
    "    - Do you think that discussing a physical health issue with previous employers would have negative consequences?\n",
    "    - Would you have been willing to discuss a mental health issue with your previous co-workers?\n",
    "    - Would you have been willing to discuss a mental health issue with your direct supervisor(s)?\n",
    "    - Did you feel that your previous employers took mental health as seriously as physical health?\n",
    "    - Did you hear of or observe negative consequences for co-workers with mental health issues in your previous workplaces?"
   ]
  },
  {
   "cell_type": "markdown",
   "id": "b69bf961b2c80662",
   "metadata": {
    "collapsed": false
   },
   "source": [
    "### 2.3 Columns 36 to 39\n",
    "Next, we observe how the opinions are distributed in the matter of revealing both physical and mental health issues."
   ]
  },
  {
   "cell_type": "code",
   "execution_count": 11,
   "id": "e3d20dbe2fadc729",
   "metadata": {
    "collapsed": false,
    "ExecuteTime": {
     "end_time": "2024-02-27T01:04:36.872178Z",
     "start_time": "2024-02-27T01:04:36.611321Z"
    }
   },
   "outputs": [
    {
     "data": {
      "text/plain": "<Figure size 640x480 with 1 Axes>",
      "image/png": "[encoded data removed]"
     },
     "metadata": {},
     "output_type": "display_data"
    }
   ],
   "source": [
    "# Performing aggregations on the columns, then saving them into dictionaries\n",
    "phi = data[\n",
    "    \"Would you be willing to bring up a physical health issue with a potential employer in an interview?\"].value_counts().to_dict()\n",
    "mhi = data[\n",
    "    \"Would you bring up a mental health issue with a potential employer in an interview?\"].value_counts().to_dict()\n",
    "\n",
    "# Setting the components for the chart\n",
    "categories = ['Yes', 'Maybe', 'No']\n",
    "phi_values = [phi['Yes'], phi['Maybe'], phi['No']]\n",
    "mhi_values = [mhi['Yes'], mhi['Maybe'], mhi['No']]\n",
    "\n",
    "# Set the width of the bars\n",
    "bar_width = 0.35\n",
    "\n",
    "# Create figure and axis\n",
    "fig, ax = plt.subplots()\n",
    "\n",
    "# Plot the first set of bars\n",
    "bar1 = ax.bar(np.arange(len(categories)), phi_values, bar_width, color='blue', label='Physical health issues')\n",
    "\n",
    "# Calculate the position for the second set of bars\n",
    "bar2_position = np.arange(len(categories)) + bar_width\n",
    "\n",
    "# Plot the second set of bars\n",
    "bar2 = ax.bar(bar2_position, mhi_values, bar_width, color='red', label='Mental health issues')\n",
    "\n",
    "# Set labels and ticks\n",
    "ax.set_xlabel('Categories')\n",
    "ax.set_ylabel('Count')\n",
    "ax.set_xticks(np.arange(len(categories)))\n",
    "ax.set_xticklabels(categories)\n",
    "\n",
    "# Add legend\n",
    "bars = [bar1, bar2]\n",
    "labels = [bar.get_label() for bar in bars]\n",
    "ax.legend(bars, labels)\n",
    "\n",
    "# Show plot\n",
    "plt.title('Intention to reveal physical/mental health issues')\n",
    "plt.show()"
   ]
  },
  {
   "cell_type": "markdown",
   "id": "2f53324edab4543",
   "metadata": {
    "collapsed": false
   },
   "source": [
    "__Insights :__\n",
    "- There is a nuanced spread of responses to revealing physical health issues, with a slight advantage towards uncertainty and disagreement, while still encompassing a proportion of agreement.\n",
    "- A notable prevalence of negative sentiment among respondents to reveal mental health issues with a discernible emphasis on disagreement and uncertainty compared to agreement.\n",
    "- The reasons for all choices are different as their count goes above 1000 entry."
   ]
  },
  {
   "cell_type": "markdown",
   "source": [
    "### 2.4 Columns 40 to 46\n",
    "\n",
    "Among these columns, we shall explore the 2 columns with supicious number of empty values which doesn't make sense."
   ],
   "metadata": {
    "collapsed": false
   },
   "id": "bcbd66b90fcc0f10"
  },
  {
   "cell_type": "code",
   "outputs": [
    {
     "data": {
      "text/plain": "Have you observed or experienced an unsupportive or badly handled response to a mental health issue in your current or previous workplace?  Have your observations of how another individual who discussed a mental health disorder made you less likely to reveal a mental health issue yourself in your current workplace?\nNo                                                                                                                                          empty_value                                                                                                                                                                         567\nMaybe/Not sure                                                                                                                              No                                                                                                                                                                                  137\nYes, I observed                                                                                                                             Yes                                                                                                                                                                                 128\nempty_value                                                                                                                                 empty_value                                                                                                                                                                          89\nMaybe/Not sure                                                                                                                              Maybe                                                                                                                                                                                82\n                                                                                                                                            empty_value                                                                                                                                                                          74\nYes, I experienced                                                                                                                          Yes                                                                                                                                                                                  65\nYes, I observed                                                                                                                             Maybe                                                                                                                                                                                62\n                                                                                                                                            No                                                                                                                                                                                   56\nMaybe/Not sure                                                                                                                              Yes                                                                                                                                                                                  53\nYes, I experienced                                                                                                                          No                                                                                                                                                                                   41\n                                                                                                                                            Maybe                                                                                                                                                                                33\n                                                                                                                                            empty_value                                                                                                                                                                          28\nYes, I observed                                                                                                                             empty_value                                                                                                                                                                          18\nName: count, dtype: int64"
     },
     "execution_count": 12,
     "metadata": {},
     "output_type": "execute_result"
    }
   ],
   "source": [
    "# Setting a subset called new_df \n",
    "new_df = data[[\n",
    "    'Have you observed or experienced an unsupportive or badly handled response to a mental health issue in your current or previous workplace?',\n",
    "    'Have your observations of how another individual who discussed a mental health disorder made you less likely to reveal a mental health issue yourself in your current workplace?']].copy()\n",
    "\n",
    "# Replacing the missing values\n",
    "new_df[\n",
    "    'Have you observed or experienced an unsupportive or badly handled response to a mental health issue in your current or previous workplace?'].fillna(\n",
    "    'empty_value', inplace=True)\n",
    "new_df[\n",
    "    'Have your observations of how another individual who discussed a mental health disorder made you less likely to reveal a mental health issue yourself in your current workplace?'].fillna(\n",
    "    'empty_value', inplace=True)\n",
    "\n",
    "# Performing some aggregations\n",
    "new_df.value_counts()"
   ],
   "metadata": {
    "collapsed": false,
    "ExecuteTime": {
     "end_time": "2024-02-27T01:04:53.116860Z",
     "start_time": "2024-02-27T01:04:53.090361Z"
    }
   },
   "id": "a5999a3268a9e87e",
   "execution_count": 12
  },
  {
   "cell_type": "markdown",
   "source": [
    "__Insights__ : \n",
    "- The following columns hold three to six unique values with no empty values:\n",
    "    - Do you feel that being identified as a person with a mental health issue would hurt your career?-\n",
    "    - Do you think that team members/co-workers would view you more negatively if they knew you suffered from a mental health issue?\n",
    "    - How willing would you be to share with friends and family that you have a mental illness?\n",
    "    - Do you have a family history of mental illness?\n",
    "    - Have you had a mental health disorder in the past?\n",
    "- The two remaining columns can benefit from adding another unique value __I don't know__, instead of dropping them due to the enormous number of empty values. "
   ],
   "metadata": {
    "collapsed": false
   },
   "id": "910810b33013ce48"
  },
  {
   "cell_type": "markdown",
   "source": [
    "### 2.6 Columns 47 to 54\n",
    "\n",
    "Among these columns, we shall explore the two columns with suspicious number of empty values which doesn't make sense."
   ],
   "metadata": {
    "collapsed": false
   },
   "id": "fbf3ea8655da70e3"
  },
  {
   "cell_type": "code",
   "execution_count": 13,
   "id": "cdf6dd135d074fbc",
   "metadata": {
    "collapsed": false,
    "ExecuteTime": {
     "end_time": "2024-02-27T01:04:58.050533Z",
     "start_time": "2024-02-27T01:04:58.038677Z"
    }
   },
   "outputs": [
    {
     "data": {
      "text/plain": "Do you currently have a mental health disorder?\nYes      575\nNo       531\nMaybe    327\nName: count, dtype: int64"
     },
     "execution_count": 13,
     "metadata": {},
     "output_type": "execute_result"
    }
   ],
   "source": [
    "# Inspect the unique values within this column\n",
    "data[\"Do you currently have a mental health disorder?\"].value_counts()"
   ]
  },
  {
   "cell_type": "markdown",
   "source": [
    "In the __If yes, what condition(s) have you been diagnosed with?, If maybe, what condition(s) do you believe you have?, and If so, what condition(s) were you diagnosed with?__ columns, the respondents can select more than one condition."
   ],
   "metadata": {
    "collapsed": false
   },
   "id": "9ecb22ec32d6eb6e"
  },
  {
   "cell_type": "code",
   "outputs": [
    {
     "data": {
      "text/plain": "If yes, what condition(s) have you been diagnosed with?\nAnxiety Disorder (Generalized, Social, Phobia, etc)|Mood Disorder (Depression, Bipolar Disorder, etc)                                                                                                                                                                       117\nMood Disorder (Depression, Bipolar Disorder, etc)                                                                                                                                                                                                                           102\nAnxiety Disorder (Generalized, Social, Phobia, etc)                                                                                                                                                                                                                          47\nAnxiety Disorder (Generalized, Social, Phobia, etc)|Mood Disorder (Depression, Bipolar Disorder, etc)|Attention Deficit Hyperactivity Disorder                                                                                                                               26\nMood Disorder (Depression, Bipolar Disorder, etc)|Attention Deficit Hyperactivity Disorder                                                                                                                                                                                   22\n                                                                                                                                                                                                                                                                           ... \nAnxiety Disorder (Generalized, Social, Phobia, etc)|Attention Deficit Hyperactivity Disorder|Obsessive-Compulsive Disorder                                                                                                                                                    1\nAnxiety Disorder (Generalized, Social, Phobia, etc)|Mood Disorder (Depression, Bipolar Disorder, etc)|Attention Deficit Hyperactivity Disorder|Personality Disorder (Borderline, Antisocial, Paranoid, etc)|Obsessive-Compulsive Disorder|Post-traumatic Stress Disorder      1\nAddictive Disorder                                                                                                                                                                                                                                                            1\nMood Disorder (Depression, Bipolar Disorder, etc)|Addictive Disorder                                                                                                                                                                                                          1\nObsessive-Compulsive Disorder|Eating Disorder (Anorexia, Bulimia, etc)|Mood Disorder (Depression, Bipolar Disorder, etc)|Anxiety Disorder (Generalized, Social, Phobia, etc)                                                                                                  1\nName: count, Length: 128, dtype: int64"
     },
     "execution_count": 17,
     "metadata": {},
     "output_type": "execute_result"
    }
   ],
   "source": [
    "data['If yes, what condition(s) have you been diagnosed with?'].value_counts()"
   ],
   "metadata": {
    "collapsed": false,
    "ExecuteTime": {
     "end_time": "2024-02-27T01:09:09.835727Z",
     "start_time": "2024-02-27T01:09:09.819614Z"
    }
   },
   "id": "69284776a62fef0a",
   "execution_count": 17
  },
  {
   "cell_type": "markdown",
   "source": [
    "The following function __conditions_counter__ will help provide how many time a condition was selected by one of our respondents."
   ],
   "metadata": {
    "collapsed": false
   },
   "id": "19788dd365684a6f"
  },
  {
   "cell_type": "code",
   "outputs": [],
   "source": [
    "# Defining a function called condition_counter\n",
    "def conditions_counter(column_name):\n",
    "    \"\"\"\n",
    "    :param column_name: The name of column desired\n",
    "    :return: a Dataframe containing the conditions and the number of their occurrences in the column\n",
    "    \"\"\"\n",
    "\n",
    "    # Creating the list of unique values excluding empty values\n",
    "    a_list = pd.DataFrame(data[column_name].value_counts()).reset_index().iloc[:, 0].to_list()\n",
    "    \n",
    "    # Creating an empty dictionary\n",
    "    a_dict = dict()\n",
    "    \n",
    "    # Initiating a for-loop\n",
    "    for element in a_list:\n",
    "        # Inspecting the existence of a character \n",
    "        if '|' in element:\n",
    "            elements = element.split(\"|\")\n",
    "            # If the condition is met\n",
    "            for unit in elements:\n",
    "                # Iterating each unit  \n",
    "                if unit in a_dict:\n",
    "                    a_dict[unit] += 1 # Augment the number if it does exist\n",
    "                else:\n",
    "                    a_dict[unit] = 1 # Set the number to 1 if a new occurrence is found\n",
    "        else:\n",
    "            if element in a_dict:\n",
    "                a_dict[element] += 1\n",
    "            else:\n",
    "                a_dict[element] = 1\n",
    "    \n",
    "    # Turning the data stored in the dictionary into a dataframe\n",
    "    dframe = pd.DataFrame(list(a_dict.items()), columns=['Condition', 'Count'])\n",
    "    \n",
    "    # The final output of the function\n",
    "    return dframe"
   ],
   "metadata": {
    "collapsed": false,
    "ExecuteTime": {
     "end_time": "2024-02-27T01:05:02.282882Z",
     "start_time": "2024-02-27T01:05:02.257400Z"
    }
   },
   "id": "490c14ad1dbf0238",
   "execution_count": 14
  },
  {
   "cell_type": "code",
   "outputs": [],
   "source": [
    "# Setting the dataframes\n",
    "confirmed_conditions = conditions_counter(\"If yes, what condition(s) have you been diagnosed with?\")\n",
    "suspected_conditions = conditions_counter(\"If maybe, what condition(s) do you believe you have?\")\n",
    "diagnosed_conditions = conditions_counter(\"If so, what condition(s) were you diagnosed with?\")"
   ],
   "metadata": {
    "collapsed": false,
    "ExecuteTime": {
     "end_time": "2024-02-27T01:05:06.791149Z",
     "start_time": "2024-02-27T01:05:06.778002Z"
    }
   },
   "id": "b3db1e89b9ddabf5",
   "execution_count": 15
  },
  {
   "cell_type": "markdown",
   "source": [],
   "metadata": {
    "collapsed": false
   },
   "id": "e9ca9e8243d61413"
  },
  {
   "cell_type": "code",
   "outputs": [
    {
     "data": {
      "text/plain": "Have you been diagnosed with a mental health condition by a medical professional?\nNo     717\nYes    716\nName: count, dtype: int64"
     },
     "execution_count": 23,
     "metadata": {},
     "output_type": "execute_result"
    }
   ],
   "source": [
    "data['Have you been diagnosed with a mental health condition by a medical professional?'].value_counts()"
   ],
   "metadata": {
    "collapsed": false,
    "ExecuteTime": {
     "end_time": "2024-02-27T01:31:57.347922Z",
     "start_time": "2024-02-27T01:31:57.334410Z"
    }
   },
   "id": "f4b6c4727826e1e4",
   "execution_count": 23
  },
  {
   "cell_type": "code",
   "outputs": [
    {
     "data": {
      "text/plain": "                                            Condition  Count_confirmed  \\\n0   Anxiety Disorder (Generalized, Social, Phobia,...               71   \n1   Mood Disorder (Depression, Bipolar Disorder, etc)               76   \n2            Attention Deficit Hyperactivity Disorder               38   \n3                      Post-traumatic Stress Disorder               37   \n4            Eating Disorder (Anorexia, Bulimia, etc)               17   \n5                       Obsessive-Compulsive Disorder               26   \n6                              Substance Use Disorder               25   \n7                                  Addictive Disorder               25   \n8                           Stress Response Syndromes               24   \n9   Psychotic Disorder (Schizophrenia, Schizoaffec...                2   \n10  Personality Disorder (Borderline, Antisocial, ...               26   \n11                              Dissociative Disorder                9   \n12                            ADD (w/o Hyperactivity)                1   \n13                   Schizotypal Personality Disorder                1   \n14  Combination of physical impairment (strongly n...                1   \n15                           Autism spectrum disorder                1   \n16                                   Sexual addiction                1   \n17                                  Sleeping Disorder                1   \n18  I haven't been formally diagnosed, so I felt u...                1   \n19                                  Intimate Disorder                1   \n20                                             Autism                3   \n21                                        Transgender                1   \n22                           Autism Spectrum Disorder                1   \n23                                Autism (Asperger's)                1   \n24                                         Depression                1   \n25                                            PDD-NOS                1   \n26                                           Burn out                1   \n27                        Seasonal Affective Disorder                1   \n28  Pervasive Developmental Disorder (Not Otherwis...                1   \n29                             Traumatic Brain Injury                1   \n30                                 PTSD (undiagnosed)                1   \n31                                           Asperges                1   \n32                                   Gender Dysphoria                1   \n33                         depersonalization disorder                0   \n34                                         Asperger's                0   \n35                                  Asperger Syndrome                0   \n36                                            Burnout                0   \n37                                           Tinnitus                0   \n38                           Gender Identity Disorder                0   \n39                            We're all hurt, right?!                0   \n40                                  Suicidal Ideation                0   \n41                                  Depersonalisation                0   \n42                              post-partum / anxiety                0   \n43                                          Aspergers                0   \n44  attention deficit disorder (but not the hypera...                0   \n45                     posttraumatic stress disourder                0   \n46  MCD (when it was diagnosed, the ultra-mega \"di...                0   \n47                         Attention Deficit Disorder                0   \n48  Autism - while not a \"mental illness\", still g...                0   \n49                                PDD-NOS (see above)                0   \n50                           autism spectrum disorder                0   \n\n    Count_suspected  Count  \n0                53     55  \n1                54     68  \n2                27     29  \n3                15     35  \n4                 6     15  \n5                19     21  \n6                13     22  \n7                19     13  \n8                24     12  \n9                 8      3  \n10               27     22  \n11                6      9  \n12                0      1  \n13                0      1  \n14                0      0  \n15                0      0  \n16                0      0  \n17                0      0  \n18                0      0  \n19                0      1  \n20                1      2  \n21                0      0  \n22                0      1  \n23                0      1  \n24                0      1  \n25                0      1  \n26                0      1  \n27                0      1  \n28                0      0  \n29                0      0  \n30                0      0  \n31                0      0  \n32                0      1  \n33                1      0  \n34                1      0  \n35                1      1  \n36                1      0  \n37                1      0  \n38                1      1  \n39                1      0  \n40                1      1  \n41                1      0  \n42                1      0  \n43                0      1  \n44                0      1  \n45                0      1  \n46                0      1  \n47                0      1  \n48                0      1  \n49                0      1  \n50                0      1  ",
      "text/html": "<div>\n<style scoped>\n    .dataframe tbody tr th:only-of-type {\n        vertical-align: middle;\n    }\n\n    .dataframe tbody tr th {\n        vertical-align: top;\n    }\n\n    .dataframe thead th {\n        text-align: right;\n    }\n</style>\n<table border=\"1\" class=\"dataframe\">\n  <thead>\n    <tr style=\"text-align: right;\">\n      <th></th>\n      <th>Condition</th>\n      <th>Count_confirmed</th>\n      <th>Count_suspected</th>\n      <th>Count</th>\n    </tr>\n  </thead>\n  <tbody>\n    <tr>\n      <th>0</th>\n      <td>Anxiety Disorder (Generalized, Social, Phobia,...</td>\n      <td>71</td>\n      <td>53</td>\n      <td>55</td>\n    </tr>\n    <tr>\n      <th>1</th>\n      <td>Mood Disorder (Depression, Bipolar Disorder, etc)</td>\n      <td>76</td>\n      <td>54</td>\n      <td>68</td>\n    </tr>\n    <tr>\n      <th>2</th>\n      <td>Attention Deficit Hyperactivity Disorder</td>\n      <td>38</td>\n      <td>27</td>\n      <td>29</td>\n    </tr>\n    <tr>\n      <th>3</th>\n      <td>Post-traumatic Stress Disorder</td>\n      <td>37</td>\n      <td>15</td>\n      <td>35</td>\n    </tr>\n    <tr>\n      <th>4</th>\n      <td>Eating Disorder (Anorexia, Bulimia, etc)</td>\n      <td>17</td>\n      <td>6</td>\n      <td>15</td>\n    </tr>\n    <tr>\n      <th>5</th>\n      <td>Obsessive-Compulsive Disorder</td>\n      <td>26</td>\n      <td>19</td>\n      <td>21</td>\n    </tr>\n    <tr>\n      <th>6</th>\n      <td>Substance Use Disorder</td>\n      <td>25</td>\n      <td>13</td>\n      <td>22</td>\n    </tr>\n    <tr>\n      <th>7</th>\n      <td>Addictive Disorder</td>\n      <td>25</td>\n      <td>19</td>\n      <td>13</td>\n    </tr>\n    <tr>\n      <th>8</th>\n      <td>Stress Response Syndromes</td>\n      <td>24</td>\n      <td>24</td>\n      <td>12</td>\n    </tr>\n    <tr>\n      <th>9</th>\n      <td>Psychotic Disorder (Schizophrenia, Schizoaffec...</td>\n      <td>2</td>\n      <td>8</td>\n      <td>3</td>\n    </tr>\n    <tr>\n      <th>10</th>\n      <td>Personality Disorder (Borderline, Antisocial, ...</td>\n      <td>26</td>\n      <td>27</td>\n      <td>22</td>\n    </tr>\n    <tr>\n      <th>11</th>\n      <td>Dissociative Disorder</td>\n      <td>9</td>\n      <td>6</td>\n      <td>9</td>\n    </tr>\n    <tr>\n      <th>12</th>\n      <td>ADD (w/o Hyperactivity)</td>\n      <td>1</td>\n      <td>0</td>\n      <td>1</td>\n    </tr>\n    <tr>\n      <th>13</th>\n      <td>Schizotypal Personality Disorder</td>\n      <td>1</td>\n      <td>0</td>\n      <td>1</td>\n    </tr>\n    <tr>\n      <th>14</th>\n      <td>Combination of physical impairment (strongly n...</td>\n      <td>1</td>\n      <td>0</td>\n      <td>0</td>\n    </tr>\n    <tr>\n      <th>15</th>\n      <td>Autism spectrum disorder</td>\n      <td>1</td>\n      <td>0</td>\n      <td>0</td>\n    </tr>\n    <tr>\n      <th>16</th>\n      <td>Sexual addiction</td>\n      <td>1</td>\n      <td>0</td>\n      <td>0</td>\n    </tr>\n    <tr>\n      <th>17</th>\n      <td>Sleeping Disorder</td>\n      <td>1</td>\n      <td>0</td>\n      <td>0</td>\n    </tr>\n    <tr>\n      <th>18</th>\n      <td>I haven't been formally diagnosed, so I felt u...</td>\n      <td>1</td>\n      <td>0</td>\n      <td>0</td>\n    </tr>\n    <tr>\n      <th>19</th>\n      <td>Intimate Disorder</td>\n      <td>1</td>\n      <td>0</td>\n      <td>1</td>\n    </tr>\n    <tr>\n      <th>20</th>\n      <td>Autism</td>\n      <td>3</td>\n      <td>1</td>\n      <td>2</td>\n    </tr>\n    <tr>\n      <th>21</th>\n      <td>Transgender</td>\n      <td>1</td>\n      <td>0</td>\n      <td>0</td>\n    </tr>\n    <tr>\n      <th>22</th>\n      <td>Autism Spectrum Disorder</td>\n      <td>1</td>\n      <td>0</td>\n      <td>1</td>\n    </tr>\n    <tr>\n      <th>23</th>\n      <td>Autism (Asperger's)</td>\n      <td>1</td>\n      <td>0</td>\n      <td>1</td>\n    </tr>\n    <tr>\n      <th>24</th>\n      <td>Depression</td>\n      <td>1</td>\n      <td>0</td>\n      <td>1</td>\n    </tr>\n    <tr>\n      <th>25</th>\n      <td>PDD-NOS</td>\n      <td>1</td>\n      <td>0</td>\n      <td>1</td>\n    </tr>\n    <tr>\n      <th>26</th>\n      <td>Burn out</td>\n      <td>1</td>\n      <td>0</td>\n      <td>1</td>\n    </tr>\n    <tr>\n      <th>27</th>\n      <td>Seasonal Affective Disorder</td>\n      <td>1</td>\n      <td>0</td>\n      <td>1</td>\n    </tr>\n    <tr>\n      <th>28</th>\n      <td>Pervasive Developmental Disorder (Not Otherwis...</td>\n      <td>1</td>\n      <td>0</td>\n      <td>0</td>\n    </tr>\n    <tr>\n      <th>29</th>\n      <td>Traumatic Brain Injury</td>\n      <td>1</td>\n      <td>0</td>\n      <td>0</td>\n    </tr>\n    <tr>\n      <th>30</th>\n      <td>PTSD (undiagnosed)</td>\n      <td>1</td>\n      <td>0</td>\n      <td>0</td>\n    </tr>\n    <tr>\n      <th>31</th>\n      <td>Asperges</td>\n      <td>1</td>\n      <td>0</td>\n      <td>0</td>\n    </tr>\n    <tr>\n      <th>32</th>\n      <td>Gender Dysphoria</td>\n      <td>1</td>\n      <td>0</td>\n      <td>1</td>\n    </tr>\n    <tr>\n      <th>33</th>\n      <td>depersonalization disorder</td>\n      <td>0</td>\n      <td>1</td>\n      <td>0</td>\n    </tr>\n    <tr>\n      <th>34</th>\n      <td>Asperger's</td>\n      <td>0</td>\n      <td>1</td>\n      <td>0</td>\n    </tr>\n    <tr>\n      <th>35</th>\n      <td>Asperger Syndrome</td>\n      <td>0</td>\n      <td>1</td>\n      <td>1</td>\n    </tr>\n    <tr>\n      <th>36</th>\n      <td>Burnout</td>\n      <td>0</td>\n      <td>1</td>\n      <td>0</td>\n    </tr>\n    <tr>\n      <th>37</th>\n      <td>Tinnitus</td>\n      <td>0</td>\n      <td>1</td>\n      <td>0</td>\n    </tr>\n    <tr>\n      <th>38</th>\n      <td>Gender Identity Disorder</td>\n      <td>0</td>\n      <td>1</td>\n      <td>1</td>\n    </tr>\n    <tr>\n      <th>39</th>\n      <td>We're all hurt, right?!</td>\n      <td>0</td>\n      <td>1</td>\n      <td>0</td>\n    </tr>\n    <tr>\n      <th>40</th>\n      <td>Suicidal Ideation</td>\n      <td>0</td>\n      <td>1</td>\n      <td>1</td>\n    </tr>\n    <tr>\n      <th>41</th>\n      <td>Depersonalisation</td>\n      <td>0</td>\n      <td>1</td>\n      <td>0</td>\n    </tr>\n    <tr>\n      <th>42</th>\n      <td>post-partum / anxiety</td>\n      <td>0</td>\n      <td>1</td>\n      <td>0</td>\n    </tr>\n    <tr>\n      <th>43</th>\n      <td>Aspergers</td>\n      <td>0</td>\n      <td>0</td>\n      <td>1</td>\n    </tr>\n    <tr>\n      <th>44</th>\n      <td>attention deficit disorder (but not the hypera...</td>\n      <td>0</td>\n      <td>0</td>\n      <td>1</td>\n    </tr>\n    <tr>\n      <th>45</th>\n      <td>posttraumatic stress disourder</td>\n      <td>0</td>\n      <td>0</td>\n      <td>1</td>\n    </tr>\n    <tr>\n      <th>46</th>\n      <td>MCD (when it was diagnosed, the ultra-mega \"di...</td>\n      <td>0</td>\n      <td>0</td>\n      <td>1</td>\n    </tr>\n    <tr>\n      <th>47</th>\n      <td>Attention Deficit Disorder</td>\n      <td>0</td>\n      <td>0</td>\n      <td>1</td>\n    </tr>\n    <tr>\n      <th>48</th>\n      <td>Autism - while not a \"mental illness\", still g...</td>\n      <td>0</td>\n      <td>0</td>\n      <td>1</td>\n    </tr>\n    <tr>\n      <th>49</th>\n      <td>PDD-NOS (see above)</td>\n      <td>0</td>\n      <td>0</td>\n      <td>1</td>\n    </tr>\n    <tr>\n      <th>50</th>\n      <td>autism spectrum disorder</td>\n      <td>0</td>\n      <td>0</td>\n      <td>1</td>\n    </tr>\n  </tbody>\n</table>\n</div>"
     },
     "execution_count": 29,
     "metadata": {},
     "output_type": "execute_result"
    }
   ],
   "source": [
    "# \n",
    "final_df = pd.merge(\n",
    "    pd.merge(\n",
    "        confirmed_conditions, \n",
    "        suspected_conditions, \n",
    "        on='Condition', how='outer', \n",
    "        suffixes=('_confirmed', '_suspected')\n",
    "    ), \n",
    "    diagnosed_conditions, \n",
    "    on='Condition', how='outer'\n",
    ")\n",
    "\n",
    "# \n",
    "final_df[['Count_confirmed', 'Count_suspected', 'Count']] = final_df[['Count_confirmed', 'Count_suspected', 'Count']].replace(np.nan, 0)\n",
    "\n",
    "# \n",
    "final_df[['Count_confirmed', 'Count_suspected', 'Count']] = final_df[['Count_confirmed', 'Count_suspected', 'Count']].astype('int64')\n",
    "\n",
    "# \n",
    "final_df"
   ],
   "metadata": {
    "collapsed": false,
    "ExecuteTime": {
     "end_time": "2024-02-27T01:45:10.655242Z",
     "start_time": "2024-02-27T01:45:10.607533Z"
    }
   },
   "id": "3b7c252859433db2",
   "execution_count": 29
  },
  {
   "cell_type": "code",
   "execution_count": null,
   "id": "b0c9091e12ae6ab6",
   "metadata": {
    "collapsed": false
   },
   "outputs": [],
   "source": [
    "import numpy as np\n",
    "import pandas as pd\n",
    "from scipy.stats import chi2_contingency\n",
    "\n",
    "# Create DataFrame\n",
    "df = correlation_matrix\n",
    "\n",
    "\n",
    "# Function to calculate Cramér's V\n",
    "def cramers_v(x, y):\n",
    "    confusion_matrix = pd.crosstab(x, y)\n",
    "    chi2 = chi2_contingency(confusion_matrix)[0]\n",
    "    n = confusion_matrix.sum().sum()\n",
    "    phi2 = chi2 / n\n",
    "    r, k = confusion_matrix.shape\n",
    "    phi2corr = max(0, phi2 - ((k - 1) * (r - 1)) / (n - 1))\n",
    "    rcorr = r - ((r - 1) ** 2) / (n - 1)\n",
    "    kcorr = k - ((k - 1) ** 2) / (n - 1)\n",
    "    return np.sqrt(phi2corr / min((kcorr - 1), (rcorr - 1)))\n",
    "\n",
    "\n",
    "# Calculate Cramér's V for each pair of columns\n",
    "cramers_v_matrix = pd.DataFrame(index=df.columns, columns=df.columns, dtype=float)\n",
    "for i in df.columns:\n",
    "    for j in df.columns:\n",
    "        cramers_v_matrix.loc[i, j] = cramers_v(df[i], df[j])\n",
    "\n",
    "# Print Cramér's V matrix\n",
    "print(\"Cramér's V Matrix:\")\n",
    "print(cramers_v_matrix)\n"
   ]
  },
  {
   "cell_type": "code",
   "outputs": [],
   "source": [
    "import seaborn as sns\n",
    "import matplotlib.pyplot as plt\n",
    "\n",
    "# Visualize correlation matrix using heatmap\n",
    "plt.figure(figsize=(8, 6))\n",
    "sns.heatmap(cramers_v_matrix, annot=True, cmap='coolwarm', fmt=\".2f\")\n",
    "plt.title('Correlation Matrix')\n",
    "plt.show()"
   ],
   "metadata": {
    "collapsed": false
   },
   "id": "acf8af0f2323516d",
   "execution_count": null
  },
  {
   "cell_type": "markdown",
   "id": "ef203a9d6a8fd196",
   "metadata": {
    "collapsed": false
   },
   "source": [
    "Having many unique values for columns such as the respondent organization's size, country of residence, and age can be somewhat understandable but having this for the gender column isn't. "
   ]
  },
  {
   "cell_type": "code",
   "execution_count": null,
   "id": "9d3657a872a33392",
   "metadata": {
    "collapsed": false
   },
   "outputs": [],
   "source": [
    "die = pd.DataFrame(data[\"What is your gender?\"].value_counts()).reset_index()\n",
    "die.head(70)"
   ]
  },
  {
   "cell_type": "markdown",
   "id": "2aa5893d32153bb4",
   "metadata": {
    "collapsed": false
   },
   "source": [
    "The reason for this as can be showed here is there are some identical answers but written differently. this should be handled as well to reduce the number of unique values."
   ]
  },
  {
   "cell_type": "markdown",
   "id": "44529f5088d1afa3",
   "metadata": {
    "collapsed": false
   },
   "source": [
    "in addition to the gender column, among the columns with high numbers of unique values, only one column can be in danger of typos and erroneous input which is the age column"
   ]
  },
  {
   "cell_type": "code",
   "execution_count": null,
   "id": "6a200e48f0aefedf",
   "metadata": {
    "collapsed": false
   },
   "outputs": [],
   "source": [
    "das = pd.DataFrame(data[\"What is your age?\"].value_counts()).reset_index()\n",
    "\n",
    "das.plot(kind=\"scatter\",\n",
    "         x=\"What is your age?\",\n",
    "         y=\"count\",\n",
    "         xlim=0,\n",
    "         ylim=0)\n",
    "\n",
    "plt.show()"
   ]
  },
  {
   "cell_type": "markdown",
   "id": "6cf676809c84ad6d",
   "metadata": {
    "collapsed": false
   },
   "source": [
    "As we predicted, the age column includes some erroneous inouts, because there are no 100+ years old employee and no less than 18-year-old employee. Therefore, this column needs a cleaning in this sense."
   ]
  },
  {
   "cell_type": "code",
   "execution_count": null,
   "id": "428aceec47da1f95",
   "metadata": {
    "collapsed": false
   },
   "outputs": [],
   "source": [
    "lista = list(set([element for element in data[\"If so, what condition(s) were you diagnosed with?\"].to_list()]))[1:]\n",
    "\n",
    "my_dict = dict()\n",
    "\n",
    "for element in lista:\n",
    "    if '|' in element:\n",
    "        conditions = element.split(\"|\")\n",
    "\n",
    "        for condition in conditions:\n",
    "            if condition in my_dict:\n",
    "                my_dict[condition] += 1\n",
    "            else:\n",
    "                my_dict[condition] = 1\n",
    "    else:\n",
    "        if element in my_dict:\n",
    "            my_dict[element] += 1\n",
    "        else:\n",
    "            my_dict[element] = 1\n",
    "\n",
    "fdd = pd.DataFrame(list(my_dict.items()), columns=['Condition', 'Count'])\n",
    "fdd"
   ]
  },
  {
   "cell_type": "markdown",
   "source": [
    "# Summary\n",
    "The data exploration of this dataset showed various aspects and insights. Some of which will have to be handled in the phase of pre-processing are included here :\n",
    "- Reason 1.\n",
    "- Reason 2.\n",
    "- Reason 3."
   ],
   "metadata": {
    "collapsed": false
   },
   "id": "a04d256619ddf7d1"
  },
  {
   "cell_type": "markdown",
   "source": [
    "## Authors"
   ],
   "metadata": {
    "collapsed": false
   },
   "id": "d18fd24c4867f3f5"
  },
  {
   "cell_type": "markdown",
   "source": [
    "<a href=\"https://www.linkedin.com/in/joseph-s-50398b136/?utm_medium=Exinfluencer&utm_source=Exinfluencer&utm_content=000026UJ&utm_term=10006555&utm_id=NA-SkillsNetwork-Channel-SkillsNetworkCoursesIBMDS0321ENSkillsNetwork865-2023-01-01\">Joseph Santarcangelo</a> has a PhD in Electrical Engineering, his research focused on using machine learning, signal processing, and computer vision to determine how videos impact human cognition. Joseph has been working for IBM since he completed his PhD."
   ],
   "metadata": {
    "collapsed": false
   },
   "id": "fb46f67494873970"
  },
  {
   "cell_type": "markdown",
   "source": [
    "<a href=\"https://www.linkedin.com/in/nayefaboutayoun/?utm_medium=Exinfluencer&utm_source=Exinfluencer&utm_content=000026UJ&utm_term=10006555&utm_id=NA-SkillsNetwork-Channel-SkillsNetworkCoursesIBMDS0321ENSkillsNetwork865-2023-01-01\">Nayef Abou Tayoun</a> is a Data Scientist at IBM and pursuing a Master of Management in Artificial intelligence degree at Queen's University."
   ],
   "metadata": {
    "collapsed": false
   },
   "id": "e98ab594e72e06e0"
  },
  {
   "cell_type": "markdown",
   "source": [
    "## Change Log"
   ],
   "metadata": {
    "collapsed": false
   },
   "id": "1ad0f54b640cc31d"
  },
  {
   "cell_type": "markdown",
   "source": [
    "| Date (YYYY-MM-DD) | Version | Changed By | Change Description      |\n",
    "| ----------------- | ------- | ---------- | ----------------------- |\n",
    "| 2021-10-12        | 1.1     | Lakshmi Holla     | Modified markdown |\n",
    "| 2020-09-20        | 1.0     | Joseph     | Modified Multiple Areas |\n",
    "| 2020-11-10       | 1.1    | Nayef      | updating the input data |"
   ],
   "metadata": {
    "collapsed": false
   },
   "id": "8fd7d18d685c9dd5"
  },
  {
   "cell_type": "code",
   "outputs": [],
   "source": [],
   "metadata": {
    "collapsed": false
   },
   "id": "2741d93002d44fc0"
  }
 ],
 "metadata": {
  "kernelspec": {
   "display_name": "Python 3 (ipykernel)",
   "language": "python",
   "name": "python3"
  },
  "language_info": {
   "codemirror_mode": {
    "name": "ipython",
    "version": 3
   },
   "file_extension": ".py",
   "mimetype": "text/x-python",
   "name": "python",
   "nbconvert_exporter": "python",
   "pygments_lexer": "ipython3",
   "version": "3.9.18"
  }
 },
 "nbformat": 4,
 "nbformat_minor": 5
}
