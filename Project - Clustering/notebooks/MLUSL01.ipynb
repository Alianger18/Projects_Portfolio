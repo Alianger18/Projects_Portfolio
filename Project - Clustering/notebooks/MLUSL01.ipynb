{
 "cells": [
  {
   "cell_type": "markdown",
   "id": "e87ab10ecbab2d7a",
   "metadata": {
    "collapsed": false,
    "jupyter": {
     "outputs_hidden": false
    }
   },
   "source": [
    "# Greetings\n",
    "The [data](https://www.kaggle.com/datasets/osmi/mental-health-in-tech-2016/) used in this notebook is provided from Open-Sourcing Mental Illness, LTD (OSMI) in 2016. The results of a survey, which were conducted to gauge the impact of mental health illnesses among employees."
   ]
  },
  {
   "cell_type": "markdown",
   "id": "5d0d6ae9380360ab",
   "metadata": {
    "collapsed": false,
    "jupyter": {
     "outputs_hidden": false
    }
   },
   "source": [
    "## Data Exploration\n",
    "This section is dedicated to shaping an understanding of the data, identifying any underlying issues, and preparing to address them in subsequent phases. This stage is pivotal as it lays the foundation for various decisions concerning data imputation and data wrangling and more.\n",
    "\n",
    "During this phase, we solely conduct exploratory data analysis, using descriptive statistics and visualizations. No alterations will be made to the data at this stage."
   ]
  },
  {
   "cell_type": "markdown",
   "id": "db3fc567ab5bf984",
   "metadata": {
    "collapsed": false,
    "jupyter": {
     "outputs_hidden": false
    }
   },
   "source": [
    "### List of contents :\n",
    "1. __Overview__ \n",
    "2. __Exploratory Data Analysis__\n",
    "2.1. Column 0 to 23\n",
    "2.2. Column 24 to 35\n",
    "2.3. Column 36 to 39\n",
    "2.4. Column 40 to 46\n",
    "2.5. Column 47 to 52\n",
    "2.6. Column 53 and 54\n",
    "3. __Summary__"
   ]
  },
  {
   "cell_type": "markdown",
   "id": "b10153cbd5cae28d",
   "metadata": {
    "collapsed": false,
    "jupyter": {
     "outputs_hidden": false
    }
   },
   "source": [
    "Importing the required libraries"
   ]
  },
  {
   "cell_type": "code",
   "execution_count": 1,
   "id": "initial_id",
   "metadata": {
    "ExecuteTime": {
     "end_time": "2024-03-02T18:11:19.623107Z",
     "start_time": "2024-03-02T18:11:18.808298Z"
    },
    "collapsed": true,
    "jupyter": {
     "outputs_hidden": true
    }
   },
   "outputs": [],
   "source": [
    "# Path library for generating OS paths efficiently\n",
    "from pathlib import Path\n",
    "\n",
    "# Data analysis library\n",
    "import pandas as pd\n",
    "\n",
    "# Python library for numerical computation \n",
    "import numpy as np\n",
    "\n",
    "# Powerful data visualization library\n",
    "import seaborn as sns\n",
    "\n",
    "# The base library for plotting graphs in python\n",
    "import matplotlib.pyplot as plt\n",
    "\n",
    "# Geographical plotting library\n",
    "import folium\n",
    "import geopy"
   ]
  },
  {
   "cell_type": "markdown",
   "id": "79242df41ec05046",
   "metadata": {
    "collapsed": false,
    "jupyter": {
     "outputs_hidden": false
    }
   },
   "source": [
    "## 1. Overview\n",
    "\n",
    "The aim of this phase is to get to know the data at hand.\n",
    "\n",
    "First, let's start by loading the data. "
   ]
  },
  {
   "cell_type": "code",
   "execution_count": 2,
   "id": "e487bcd3a264c436",
   "metadata": {
    "ExecuteTime": {
     "end_time": "2024-03-02T18:11:19.737487Z",
     "start_time": "2024-03-02T18:11:19.629230Z"
    },
    "collapsed": false,
    "jupyter": {
     "outputs_hidden": false
    }
   },
   "outputs": [
    {
     "data": {
      "text/html": [
       "<div>\n",
       "<style scoped>\n",
       "    .dataframe tbody tr th:only-of-type {\n",
       "        vertical-align: middle;\n",
       "    }\n",
       "\n",
       "    .dataframe tbody tr th {\n",
       "        vertical-align: top;\n",
       "    }\n",
       "\n",
       "    .dataframe thead th {\n",
       "        text-align: right;\n",
       "    }\n",
       "</style>\n",
       "<table border=\"1\" class=\"dataframe\">\n",
       "  <thead>\n",
       "    <tr style=\"text-align: right;\">\n",
       "      <th></th>\n",
       "      <th>Are you self-employed?</th>\n",
       "      <th>How many employees does your company or organization have?</th>\n",
       "      <th>Is your employer primarily a tech company/organization?</th>\n",
       "      <th>Is your primary role within your company related to tech/IT?</th>\n",
       "      <th>Does your employer provide mental health benefits as part of healthcare coverage?</th>\n",
       "      <th>Do you know the options for mental health care available under your employer-provided coverage?</th>\n",
       "      <th>Has your employer ever formally discussed mental health (for example, as part of a wellness campaign or other official communication)?</th>\n",
       "      <th>Does your employer offer resources to learn more about mental health concerns and options for seeking help?</th>\n",
       "      <th>Is your anonymity protected if you choose to take advantage of mental health or substance abuse treatment resources provided by your employer?</th>\n",
       "      <th>If a mental health issue prompted you to request a medical leave from work, asking for that leave would be:</th>\n",
       "      <th>...</th>\n",
       "      <th>If you have a mental health issue, do you feel that it interferes with your work when being treated effectively?</th>\n",
       "      <th>If you have a mental health issue, do you feel that it interferes with your work when NOT being treated effectively?</th>\n",
       "      <th>What is your age?</th>\n",
       "      <th>What is your gender?</th>\n",
       "      <th>What country do you live in?</th>\n",
       "      <th>What US state or territory do you live in?</th>\n",
       "      <th>What country do you work in?</th>\n",
       "      <th>What US state or territory do you work in?</th>\n",
       "      <th>Which of the following best describes your work position?</th>\n",
       "      <th>Do you work remotely?</th>\n",
       "    </tr>\n",
       "  </thead>\n",
       "  <tbody>\n",
       "    <tr>\n",
       "      <th>0</th>\n",
       "      <td>0</td>\n",
       "      <td>26-100</td>\n",
       "      <td>1.0</td>\n",
       "      <td>NaN</td>\n",
       "      <td>Not eligible for coverage / N/A</td>\n",
       "      <td>NaN</td>\n",
       "      <td>No</td>\n",
       "      <td>No</td>\n",
       "      <td>I don't know</td>\n",
       "      <td>Very easy</td>\n",
       "      <td>...</td>\n",
       "      <td>Not applicable to me</td>\n",
       "      <td>Not applicable to me</td>\n",
       "      <td>39</td>\n",
       "      <td>Male</td>\n",
       "      <td>United Kingdom</td>\n",
       "      <td>NaN</td>\n",
       "      <td>United Kingdom</td>\n",
       "      <td>NaN</td>\n",
       "      <td>Back-end Developer</td>\n",
       "      <td>Sometimes</td>\n",
       "    </tr>\n",
       "    <tr>\n",
       "      <th>1</th>\n",
       "      <td>0</td>\n",
       "      <td>6-25</td>\n",
       "      <td>1.0</td>\n",
       "      <td>NaN</td>\n",
       "      <td>No</td>\n",
       "      <td>Yes</td>\n",
       "      <td>Yes</td>\n",
       "      <td>Yes</td>\n",
       "      <td>Yes</td>\n",
       "      <td>Somewhat easy</td>\n",
       "      <td>...</td>\n",
       "      <td>Rarely</td>\n",
       "      <td>Sometimes</td>\n",
       "      <td>29</td>\n",
       "      <td>male</td>\n",
       "      <td>United States of America</td>\n",
       "      <td>Illinois</td>\n",
       "      <td>United States of America</td>\n",
       "      <td>Illinois</td>\n",
       "      <td>Back-end Developer|Front-end Developer</td>\n",
       "      <td>Never</td>\n",
       "    </tr>\n",
       "    <tr>\n",
       "      <th>2</th>\n",
       "      <td>0</td>\n",
       "      <td>6-25</td>\n",
       "      <td>1.0</td>\n",
       "      <td>NaN</td>\n",
       "      <td>No</td>\n",
       "      <td>NaN</td>\n",
       "      <td>No</td>\n",
       "      <td>No</td>\n",
       "      <td>I don't know</td>\n",
       "      <td>Neither easy nor difficult</td>\n",
       "      <td>...</td>\n",
       "      <td>Not applicable to me</td>\n",
       "      <td>Not applicable to me</td>\n",
       "      <td>38</td>\n",
       "      <td>Male</td>\n",
       "      <td>United Kingdom</td>\n",
       "      <td>NaN</td>\n",
       "      <td>United Kingdom</td>\n",
       "      <td>NaN</td>\n",
       "      <td>Back-end Developer</td>\n",
       "      <td>Always</td>\n",
       "    </tr>\n",
       "    <tr>\n",
       "      <th>3</th>\n",
       "      <td>1</td>\n",
       "      <td>NaN</td>\n",
       "      <td>NaN</td>\n",
       "      <td>NaN</td>\n",
       "      <td>NaN</td>\n",
       "      <td>NaN</td>\n",
       "      <td>NaN</td>\n",
       "      <td>NaN</td>\n",
       "      <td>NaN</td>\n",
       "      <td>NaN</td>\n",
       "      <td>...</td>\n",
       "      <td>Sometimes</td>\n",
       "      <td>Sometimes</td>\n",
       "      <td>43</td>\n",
       "      <td>male</td>\n",
       "      <td>United Kingdom</td>\n",
       "      <td>NaN</td>\n",
       "      <td>United Kingdom</td>\n",
       "      <td>NaN</td>\n",
       "      <td>Supervisor/Team Lead</td>\n",
       "      <td>Sometimes</td>\n",
       "    </tr>\n",
       "    <tr>\n",
       "      <th>4</th>\n",
       "      <td>0</td>\n",
       "      <td>6-25</td>\n",
       "      <td>0.0</td>\n",
       "      <td>1.0</td>\n",
       "      <td>Yes</td>\n",
       "      <td>Yes</td>\n",
       "      <td>No</td>\n",
       "      <td>No</td>\n",
       "      <td>No</td>\n",
       "      <td>Neither easy nor difficult</td>\n",
       "      <td>...</td>\n",
       "      <td>Sometimes</td>\n",
       "      <td>Sometimes</td>\n",
       "      <td>43</td>\n",
       "      <td>Female</td>\n",
       "      <td>United States of America</td>\n",
       "      <td>Illinois</td>\n",
       "      <td>United States of America</td>\n",
       "      <td>Illinois</td>\n",
       "      <td>Executive Leadership|Supervisor/Team Lead|Dev ...</td>\n",
       "      <td>Sometimes</td>\n",
       "    </tr>\n",
       "  </tbody>\n",
       "</table>\n",
       "<p>5 rows × 63 columns</p>\n",
       "</div>"
      ],
      "text/plain": [
       "   Are you self-employed?  \\\n",
       "0                       0   \n",
       "1                       0   \n",
       "2                       0   \n",
       "3                       1   \n",
       "4                       0   \n",
       "\n",
       "  How many employees does your company or organization have?  \\\n",
       "0                                             26-100           \n",
       "1                                               6-25           \n",
       "2                                               6-25           \n",
       "3                                                NaN           \n",
       "4                                               6-25           \n",
       "\n",
       "   Is your employer primarily a tech company/organization?  \\\n",
       "0                                                1.0         \n",
       "1                                                1.0         \n",
       "2                                                1.0         \n",
       "3                                                NaN         \n",
       "4                                                0.0         \n",
       "\n",
       "   Is your primary role within your company related to tech/IT?  \\\n",
       "0                                                NaN              \n",
       "1                                                NaN              \n",
       "2                                                NaN              \n",
       "3                                                NaN              \n",
       "4                                                1.0              \n",
       "\n",
       "  Does your employer provide mental health benefits as part of healthcare coverage?  \\\n",
       "0                    Not eligible for coverage / N/A                                  \n",
       "1                                                 No                                  \n",
       "2                                                 No                                  \n",
       "3                                                NaN                                  \n",
       "4                                                Yes                                  \n",
       "\n",
       "  Do you know the options for mental health care available under your employer-provided coverage?  \\\n",
       "0                                                NaN                                                \n",
       "1                                                Yes                                                \n",
       "2                                                NaN                                                \n",
       "3                                                NaN                                                \n",
       "4                                                Yes                                                \n",
       "\n",
       "  Has your employer ever formally discussed mental health (for example, as part of a wellness campaign or other official communication)?  \\\n",
       "0                                                 No                                                                                       \n",
       "1                                                Yes                                                                                       \n",
       "2                                                 No                                                                                       \n",
       "3                                                NaN                                                                                       \n",
       "4                                                 No                                                                                       \n",
       "\n",
       "  Does your employer offer resources to learn more about mental health concerns and options for seeking help?  \\\n",
       "0                                                 No                                                            \n",
       "1                                                Yes                                                            \n",
       "2                                                 No                                                            \n",
       "3                                                NaN                                                            \n",
       "4                                                 No                                                            \n",
       "\n",
       "  Is your anonymity protected if you choose to take advantage of mental health or substance abuse treatment resources provided by your employer?  \\\n",
       "0                                       I don't know                                                                                               \n",
       "1                                                Yes                                                                                               \n",
       "2                                       I don't know                                                                                               \n",
       "3                                                NaN                                                                                               \n",
       "4                                                 No                                                                                               \n",
       "\n",
       "  If a mental health issue prompted you to request a medical leave from work, asking for that leave would be:  \\\n",
       "0                                          Very easy                                                            \n",
       "1                                      Somewhat easy                                                            \n",
       "2                         Neither easy nor difficult                                                            \n",
       "3                                                NaN                                                            \n",
       "4                         Neither easy nor difficult                                                            \n",
       "\n",
       "   ...  \\\n",
       "0  ...   \n",
       "1  ...   \n",
       "2  ...   \n",
       "3  ...   \n",
       "4  ...   \n",
       "\n",
       "  If you have a mental health issue, do you feel that it interferes with your work when being treated effectively?  \\\n",
       "0                               Not applicable to me                                                                 \n",
       "1                                             Rarely                                                                 \n",
       "2                               Not applicable to me                                                                 \n",
       "3                                          Sometimes                                                                 \n",
       "4                                          Sometimes                                                                 \n",
       "\n",
       "  If you have a mental health issue, do you feel that it interferes with your work when NOT being treated effectively?  \\\n",
       "0                               Not applicable to me                                                                     \n",
       "1                                          Sometimes                                                                     \n",
       "2                               Not applicable to me                                                                     \n",
       "3                                          Sometimes                                                                     \n",
       "4                                          Sometimes                                                                     \n",
       "\n",
       "  What is your age? What is your gender? What country do you live in?  \\\n",
       "0                39                 Male               United Kingdom   \n",
       "1                29                 male     United States of America   \n",
       "2                38                Male                United Kingdom   \n",
       "3                43                 male               United Kingdom   \n",
       "4                43               Female     United States of America   \n",
       "\n",
       "  What US state or territory do you live in?  What country do you work in?  \\\n",
       "0                                        NaN                United Kingdom   \n",
       "1                                   Illinois      United States of America   \n",
       "2                                        NaN                United Kingdom   \n",
       "3                                        NaN                United Kingdom   \n",
       "4                                   Illinois      United States of America   \n",
       "\n",
       "  What US state or territory do you work in?  \\\n",
       "0                                        NaN   \n",
       "1                                   Illinois   \n",
       "2                                        NaN   \n",
       "3                                        NaN   \n",
       "4                                   Illinois   \n",
       "\n",
       "  Which of the following best describes your work position?  \\\n",
       "0                                 Back-end Developer          \n",
       "1             Back-end Developer|Front-end Developer          \n",
       "2                                 Back-end Developer          \n",
       "3                               Supervisor/Team Lead          \n",
       "4  Executive Leadership|Supervisor/Team Lead|Dev ...          \n",
       "\n",
       "  Do you work remotely?  \n",
       "0             Sometimes  \n",
       "1                 Never  \n",
       "2                Always  \n",
       "3             Sometimes  \n",
       "4             Sometimes  \n",
       "\n",
       "[5 rows x 63 columns]"
      ]
     },
     "execution_count": 2,
     "metadata": {},
     "output_type": "execute_result"
    }
   ],
   "source": [
    "# Formulating the directory \n",
    "path = Path.cwd().parent\n",
    "\n",
    "# Loading the data\n",
    "data = pd.read_csv(f'{path}/data/mental-heath-in-tech-2016_20161114.csv')\n",
    "data.head()"
   ]
  },
  {
   "cell_type": "code",
   "execution_count": 3,
   "id": "7df3f59019488b7d",
   "metadata": {
    "ExecuteTime": {
     "end_time": "2024-03-02T18:11:19.761703Z",
     "start_time": "2024-03-02T18:11:19.741964Z"
    },
    "collapsed": false,
    "jupyter": {
     "outputs_hidden": false
    }
   },
   "outputs": [
    {
     "name": "stdout",
     "output_type": "stream",
     "text": [
      "The data is formed through 63 columns/features and 1433 rows/records.\n"
     ]
    }
   ],
   "source": [
    "print(f\"The data is formed through {data.shape[1]} columns/features and {data.shape[0]} rows/records.\")"
   ]
  },
  {
   "cell_type": "code",
   "execution_count": 4,
   "id": "3701d219eb7836cf",
   "metadata": {
    "ExecuteTime": {
     "end_time": "2024-03-02T18:11:19.826113Z",
     "start_time": "2024-03-02T18:11:19.766418Z"
    },
    "collapsed": false,
    "jupyter": {
     "outputs_hidden": false
    }
   },
   "outputs": [
    {
     "data": {
      "text/html": [
       "<div>\n",
       "<style scoped>\n",
       "    .dataframe tbody tr th:only-of-type {\n",
       "        vertical-align: middle;\n",
       "    }\n",
       "\n",
       "    .dataframe tbody tr th {\n",
       "        vertical-align: top;\n",
       "    }\n",
       "\n",
       "    .dataframe thead th {\n",
       "        text-align: right;\n",
       "    }\n",
       "</style>\n",
       "<table border=\"1\" class=\"dataframe\">\n",
       "  <thead>\n",
       "    <tr style=\"text-align: right;\">\n",
       "      <th></th>\n",
       "      <th>Are you self-employed?</th>\n",
       "      <th>Is your employer primarily a tech company/organization?</th>\n",
       "      <th>Is your primary role within your company related to tech/IT?</th>\n",
       "      <th>Do you have medical coverage (private insurance or state-provided) which includes treatment of  mental health issues?</th>\n",
       "      <th>Do you have previous employers?</th>\n",
       "      <th>Have you ever sought treatment for a mental health issue from a mental health professional?</th>\n",
       "      <th>What is your age?</th>\n",
       "    </tr>\n",
       "  </thead>\n",
       "  <tbody>\n",
       "    <tr>\n",
       "      <th>count</th>\n",
       "      <td>1433.000000</td>\n",
       "      <td>1146.000000</td>\n",
       "      <td>263.000000</td>\n",
       "      <td>287.000000</td>\n",
       "      <td>1433.000000</td>\n",
       "      <td>1433.000000</td>\n",
       "      <td>1433.000000</td>\n",
       "    </tr>\n",
       "    <tr>\n",
       "      <th>mean</th>\n",
       "      <td>0.200279</td>\n",
       "      <td>0.770506</td>\n",
       "      <td>0.942966</td>\n",
       "      <td>0.644599</td>\n",
       "      <td>0.882066</td>\n",
       "      <td>0.585485</td>\n",
       "      <td>34.286113</td>\n",
       "    </tr>\n",
       "    <tr>\n",
       "      <th>std</th>\n",
       "      <td>0.400349</td>\n",
       "      <td>0.420691</td>\n",
       "      <td>0.232350</td>\n",
       "      <td>0.479471</td>\n",
       "      <td>0.322643</td>\n",
       "      <td>0.492810</td>\n",
       "      <td>11.290931</td>\n",
       "    </tr>\n",
       "    <tr>\n",
       "      <th>min</th>\n",
       "      <td>0.000000</td>\n",
       "      <td>0.000000</td>\n",
       "      <td>0.000000</td>\n",
       "      <td>0.000000</td>\n",
       "      <td>0.000000</td>\n",
       "      <td>0.000000</td>\n",
       "      <td>3.000000</td>\n",
       "    </tr>\n",
       "    <tr>\n",
       "      <th>25%</th>\n",
       "      <td>0.000000</td>\n",
       "      <td>1.000000</td>\n",
       "      <td>1.000000</td>\n",
       "      <td>0.000000</td>\n",
       "      <td>1.000000</td>\n",
       "      <td>0.000000</td>\n",
       "      <td>28.000000</td>\n",
       "    </tr>\n",
       "    <tr>\n",
       "      <th>50%</th>\n",
       "      <td>0.000000</td>\n",
       "      <td>1.000000</td>\n",
       "      <td>1.000000</td>\n",
       "      <td>1.000000</td>\n",
       "      <td>1.000000</td>\n",
       "      <td>1.000000</td>\n",
       "      <td>33.000000</td>\n",
       "    </tr>\n",
       "    <tr>\n",
       "      <th>75%</th>\n",
       "      <td>0.000000</td>\n",
       "      <td>1.000000</td>\n",
       "      <td>1.000000</td>\n",
       "      <td>1.000000</td>\n",
       "      <td>1.000000</td>\n",
       "      <td>1.000000</td>\n",
       "      <td>39.000000</td>\n",
       "    </tr>\n",
       "    <tr>\n",
       "      <th>max</th>\n",
       "      <td>1.000000</td>\n",
       "      <td>1.000000</td>\n",
       "      <td>1.000000</td>\n",
       "      <td>1.000000</td>\n",
       "      <td>1.000000</td>\n",
       "      <td>1.000000</td>\n",
       "      <td>323.000000</td>\n",
       "    </tr>\n",
       "  </tbody>\n",
       "</table>\n",
       "</div>"
      ],
      "text/plain": [
       "       Are you self-employed?  \\\n",
       "count             1433.000000   \n",
       "mean                 0.200279   \n",
       "std                  0.400349   \n",
       "min                  0.000000   \n",
       "25%                  0.000000   \n",
       "50%                  0.000000   \n",
       "75%                  0.000000   \n",
       "max                  1.000000   \n",
       "\n",
       "       Is your employer primarily a tech company/organization?  \\\n",
       "count                                        1146.000000         \n",
       "mean                                            0.770506         \n",
       "std                                             0.420691         \n",
       "min                                             0.000000         \n",
       "25%                                             1.000000         \n",
       "50%                                             1.000000         \n",
       "75%                                             1.000000         \n",
       "max                                             1.000000         \n",
       "\n",
       "       Is your primary role within your company related to tech/IT?  \\\n",
       "count                                         263.000000              \n",
       "mean                                            0.942966              \n",
       "std                                             0.232350              \n",
       "min                                             0.000000              \n",
       "25%                                             1.000000              \n",
       "50%                                             1.000000              \n",
       "75%                                             1.000000              \n",
       "max                                             1.000000              \n",
       "\n",
       "       Do you have medical coverage (private insurance or state-provided) which includes treatment of  mental health issues?  \\\n",
       "count                                         287.000000                                                                       \n",
       "mean                                            0.644599                                                                       \n",
       "std                                             0.479471                                                                       \n",
       "min                                             0.000000                                                                       \n",
       "25%                                             0.000000                                                                       \n",
       "50%                                             1.000000                                                                       \n",
       "75%                                             1.000000                                                                       \n",
       "max                                             1.000000                                                                       \n",
       "\n",
       "       Do you have previous employers?  \\\n",
       "count                      1433.000000   \n",
       "mean                          0.882066   \n",
       "std                           0.322643   \n",
       "min                           0.000000   \n",
       "25%                           1.000000   \n",
       "50%                           1.000000   \n",
       "75%                           1.000000   \n",
       "max                           1.000000   \n",
       "\n",
       "       Have you ever sought treatment for a mental health issue from a mental health professional?  \\\n",
       "count                                        1433.000000                                             \n",
       "mean                                            0.585485                                             \n",
       "std                                             0.492810                                             \n",
       "min                                             0.000000                                             \n",
       "25%                                             0.000000                                             \n",
       "50%                                             1.000000                                             \n",
       "75%                                             1.000000                                             \n",
       "max                                             1.000000                                             \n",
       "\n",
       "       What is your age?  \n",
       "count        1433.000000  \n",
       "mean           34.286113  \n",
       "std            11.290931  \n",
       "min             3.000000  \n",
       "25%            28.000000  \n",
       "50%            33.000000  \n",
       "75%            39.000000  \n",
       "max           323.000000  "
      ]
     },
     "execution_count": 4,
     "metadata": {},
     "output_type": "execute_result"
    }
   ],
   "source": [
    "data.describe()"
   ]
  },
  {
   "cell_type": "markdown",
   "id": "9ef2072fa046e816",
   "metadata": {
    "collapsed": false,
    "jupyter": {
     "outputs_hidden": false
    }
   },
   "source": [
    "__Insights :__\n",
    "- Out of a total of 63 columns, merely 7 contain numerical data. \n",
    "- The changing count between columns implies the presence of missing values within the dataset. \n",
    "- Unusual entries within the age column were identified, necessitating an appropriate filling approach.\n",
    "\n",
    "As we seek further investigations, we might use the __\".info()\"__ method, but we want to need to explore unique values within each column as this information will help us later on."
   ]
  },
  {
   "cell_type": "code",
   "execution_count": 5,
   "id": "adb3ce7f7fb808b3",
   "metadata": {
    "ExecuteTime": {
     "end_time": "2024-03-02T18:11:19.916471Z",
     "start_time": "2024-03-02T18:11:19.833545Z"
    },
    "collapsed": false,
    "jupyter": {
     "outputs_hidden": false
    }
   },
   "outputs": [
    {
     "data": {
      "text/html": [
       "<div>\n",
       "<style scoped>\n",
       "    .dataframe tbody tr th:only-of-type {\n",
       "        vertical-align: middle;\n",
       "    }\n",
       "\n",
       "    .dataframe tbody tr th {\n",
       "        vertical-align: top;\n",
       "    }\n",
       "\n",
       "    .dataframe thead th {\n",
       "        text-align: right;\n",
       "    }\n",
       "</style>\n",
       "<table border=\"1\" class=\"dataframe\">\n",
       "  <thead>\n",
       "    <tr style=\"text-align: right;\">\n",
       "      <th></th>\n",
       "      <th>name</th>\n",
       "      <th>empty_values</th>\n",
       "      <th>unique_values</th>\n",
       "      <th>data_type</th>\n",
       "    </tr>\n",
       "  </thead>\n",
       "  <tbody>\n",
       "    <tr>\n",
       "      <th>19</th>\n",
       "      <td>If you have revealed a mental health issue to ...</td>\n",
       "      <td>1289</td>\n",
       "      <td>3</td>\n",
       "      <td>object</td>\n",
       "    </tr>\n",
       "    <tr>\n",
       "      <th>23</th>\n",
       "      <td>If yes, what percentage of your work time (tim...</td>\n",
       "      <td>1229</td>\n",
       "      <td>4</td>\n",
       "      <td>object</td>\n",
       "    </tr>\n",
       "    <tr>\n",
       "      <th>3</th>\n",
       "      <td>Is your primary role within your company relat...</td>\n",
       "      <td>1170</td>\n",
       "      <td>2</td>\n",
       "      <td>float64</td>\n",
       "    </tr>\n",
       "    <tr>\n",
       "      <th>17</th>\n",
       "      <td>Do you know local or online resources to seek ...</td>\n",
       "      <td>1146</td>\n",
       "      <td>3</td>\n",
       "      <td>object</td>\n",
       "    </tr>\n",
       "    <tr>\n",
       "      <th>16</th>\n",
       "      <td>Do you have medical coverage (private insuranc...</td>\n",
       "      <td>1146</td>\n",
       "      <td>2</td>\n",
       "      <td>float64</td>\n",
       "    </tr>\n",
       "    <tr>\n",
       "      <th>...</th>\n",
       "      <td>...</td>\n",
       "      <td>...</td>\n",
       "      <td>...</td>\n",
       "      <td>...</td>\n",
       "    </tr>\n",
       "    <tr>\n",
       "      <th>40</th>\n",
       "      <td>Do you feel that being identified as a person ...</td>\n",
       "      <td>0</td>\n",
       "      <td>5</td>\n",
       "      <td>object</td>\n",
       "    </tr>\n",
       "    <tr>\n",
       "      <th>38</th>\n",
       "      <td>Would you bring up a mental health issue with ...</td>\n",
       "      <td>0</td>\n",
       "      <td>3</td>\n",
       "      <td>object</td>\n",
       "    </tr>\n",
       "    <tr>\n",
       "      <th>36</th>\n",
       "      <td>Would you be willing to bring up a physical he...</td>\n",
       "      <td>0</td>\n",
       "      <td>3</td>\n",
       "      <td>object</td>\n",
       "    </tr>\n",
       "    <tr>\n",
       "      <th>24</th>\n",
       "      <td>Do you have previous employers?</td>\n",
       "      <td>0</td>\n",
       "      <td>2</td>\n",
       "      <td>int64</td>\n",
       "    </tr>\n",
       "    <tr>\n",
       "      <th>62</th>\n",
       "      <td>Do you work remotely?</td>\n",
       "      <td>0</td>\n",
       "      <td>3</td>\n",
       "      <td>object</td>\n",
       "    </tr>\n",
       "  </tbody>\n",
       "</table>\n",
       "<p>63 rows × 4 columns</p>\n",
       "</div>"
      ],
      "text/plain": [
       "                                                 name  empty_values  \\\n",
       "19  If you have revealed a mental health issue to ...          1289   \n",
       "23  If yes, what percentage of your work time (tim...          1229   \n",
       "3   Is your primary role within your company relat...          1170   \n",
       "17  Do you know local or online resources to seek ...          1146   \n",
       "16  Do you have medical coverage (private insuranc...          1146   \n",
       "..                                                ...           ...   \n",
       "40  Do you feel that being identified as a person ...             0   \n",
       "38  Would you bring up a mental health issue with ...             0   \n",
       "36  Would you be willing to bring up a physical he...             0   \n",
       "24                    Do you have previous employers?             0   \n",
       "62                              Do you work remotely?             0   \n",
       "\n",
       "    unique_values data_type  \n",
       "19              3    object  \n",
       "23              4    object  \n",
       "3               2   float64  \n",
       "17              3    object  \n",
       "16              2   float64  \n",
       "..            ...       ...  \n",
       "40              5    object  \n",
       "38              3    object  \n",
       "36              3    object  \n",
       "24              2     int64  \n",
       "62              3    object  \n",
       "\n",
       "[63 rows x 4 columns]"
      ]
     },
     "execution_count": 5,
     "metadata": {},
     "output_type": "execute_result"
    }
   ],
   "source": [
    "# Initiating an empty list data_info \n",
    "data_info = []\n",
    "\n",
    "# Gathering the attributes in one place \n",
    "for index, column in enumerate(data.columns):\n",
    "    info = {\n",
    "        'name': column,  # The name of the column \n",
    "        'empty_values': data[column].isna().sum(),  # The number of empty values in a column\n",
    "        'unique_values': [\n",
    "            data[column].unique().__len__() - 1 if data[column].isna().sum() != 0 else data[column].unique().__len__()][\n",
    "            0],  # The number of unique values \n",
    "        'data_type': data[column].dtypes  # The data type of column\n",
    "    }\n",
    "\n",
    "    # Appending the values  \n",
    "    data_info.append(info)\n",
    "\n",
    "# Create a DataFrame from the gathered information\n",
    "null_categories_data = pd.DataFrame(data_info).sort_values(by=['empty_values'], ascending=False)\n",
    "null_categories_data"
   ]
  },
  {
   "cell_type": "markdown",
   "id": "a08ced9f8b9d4966",
   "metadata": {
    "collapsed": false,
    "jupyter": {
     "outputs_hidden": false
    }
   },
   "source": [
    "## 2. Exploratory Data Analysis\n",
    "In this section, we're iterating over columns based on relevancy. We can inspect 11 at a time as we can inspect two or three at a time. For a clearer view, visualizations are used where appropriate."
   ]
  },
  {
   "cell_type": "markdown",
   "id": "aba15d40a2094481",
   "metadata": {
    "collapsed": false,
    "jupyter": {
     "outputs_hidden": false
    }
   },
   "source": [
    "### 2.1 Columns 0 to 23\n",
    "\n",
    "The __Are you self-employed?, How many employees does your company or organization have?, Is your employer primarily a tech company/organization?, Is your primary role within your company related to tech/IT?__ investigate basic information on the respondent."
   ]
  },
  {
   "cell_type": "code",
   "execution_count": 6,
   "id": "94607e57faace241",
   "metadata": {
    "ExecuteTime": {
     "end_time": "2024-03-02T18:11:19.962761Z",
     "start_time": "2024-03-02T18:11:19.924011Z"
    },
    "collapsed": false,
    "jupyter": {
     "outputs_hidden": false
    }
   },
   "outputs": [
    {
     "data": {
      "text/plain": [
       "{'Number of employees': 1146,\n",
       " 'Number of self-employed': 287,\n",
       " 'Number of employees in IT related companies': 883,\n",
       " 'Number of employees in non-IT related companies': 263,\n",
       " 'Number of employees in non-IT related companies with IT related role': 248,\n",
       " 'Number of employees in non-IT related companies with non-IT related role': 15}"
      ]
     },
     "execution_count": 6,
     "metadata": {},
     "output_type": "execute_result"
    }
   ],
   "source": [
    "# Performing aggregations on the first few columns using the value_counts method\n",
    "aggregations = {\n",
    "    \"Number of employees\": data[\"Are you self-employed?\"].value_counts()[0],\n",
    "    \"Number of self-employed\": data[\"Are you self-employed?\"].value_counts()[1],\n",
    "    \"Number of employees in IT related companies\":\n",
    "        data['Is your employer primarily a tech company/organization?'].value_counts()[1],\n",
    "    \"Number of employees in non-IT related companies\":\n",
    "        data['Is your employer primarily a tech company/organization?'].value_counts()[0],\n",
    "    \"Number of employees in non-IT related companies with IT related role\":\n",
    "        data[\"Is your primary role within your company related to tech/IT?\"].value_counts()[1],\n",
    "    \"Number of employees in non-IT related companies with non-IT related role\":\n",
    "        data[\"Is your primary role within your company related to tech/IT?\"].value_counts()[0]\n",
    "}\n",
    "\n",
    "# Print the dictionary\n",
    "aggregations"
   ]
  },
  {
   "cell_type": "markdown",
   "id": "c003a56b6bcad5f4",
   "metadata": {
    "collapsed": false,
    "jupyter": {
     "outputs_hidden": false
    }
   },
   "source": [
    "The following pie chart better illustrates the data"
   ]
  },
  {
   "cell_type": "code",
   "execution_count": 7,
   "id": "18d02b194521dea6",
   "metadata": {
    "ExecuteTime": {
     "end_time": "2024-03-02T18:11:20.264791Z",
     "start_time": "2024-03-02T18:11:19.966192Z"
    },
    "collapsed": false,
    "jupyter": {
     "outputs_hidden": false
    }
   },
   "outputs": [
    {
     "data": {
      "image/png": "[encoded data removed]",
      "text/plain": [
       "<Figure size 1500x500 with 1 Axes>"
      ]
     },
     "metadata": {},
     "output_type": "display_data"
    }
   ],
   "source": [
    "# Setting the labels and sizes lists \n",
    "labels = [\n",
    "    'Self-employed',\n",
    "    'Employees in IT related companies',\n",
    "    'Employees with IT-related role in a non-IT related company',\n",
    "    'Employees with non-IT-related role in a non-IT related company']\n",
    "\n",
    "sizes = [\n",
    "    aggregations[\"Number of self-employed\"],\n",
    "    aggregations[\"Number of employees in IT related companies\"],\n",
    "    aggregations[\"Number of employees in non-IT related companies with IT related role\"],\n",
    "    aggregations[\"Number of employees in non-IT related companies with non-IT related role\"]\n",
    "]\n",
    "\n",
    "# Setting the style of the visuals\n",
    "plt.style.use('fast')\n",
    "\n",
    "# Starting fig1 and ax1 subplots objects\n",
    "fig1, ax = plt.subplots(figsize=(15, 5))\n",
    "ax.pie(\n",
    "    sizes,  # List of values \n",
    "    autopct='%1.2f%%',  # Showing 3 numbers after the decimal point \n",
    "    textprops={'fontsize': 12}  # Setting the size of the ratios \n",
    ")\n",
    "\n",
    "ax.legend(\n",
    "    labels=labels,  # List of labels\n",
    "    loc=\"upper center\",  # Position of the legend\n",
    "    bbox_to_anchor=(0.5, 1.1),\n",
    "    fontsize=8)  # Size of the legend\n",
    "\n",
    "# Plotting the figure\n",
    "plt.show()"
   ]
  },
  {
   "cell_type": "markdown",
   "id": "94fb33d05b3f56f0",
   "metadata": {
    "collapsed": false,
    "jupyter": {
     "outputs_hidden": false
    }
   },
   "source": [
    "The organization's size in our data set varies. The next graph describes this variation :"
   ]
  },
  {
   "cell_type": "code",
   "execution_count": 8,
   "id": "de61266e7805d8a8",
   "metadata": {
    "ExecuteTime": {
     "end_time": "2024-03-02T18:11:20.296278Z",
     "start_time": "2024-03-02T18:11:20.268363Z"
    },
    "collapsed": false,
    "jupyter": {
     "outputs_hidden": false
    }
   },
   "outputs": [
    {
     "data": {
      "text/html": [
       "<div>\n",
       "<style scoped>\n",
       "    .dataframe tbody tr th:only-of-type {\n",
       "        vertical-align: middle;\n",
       "    }\n",
       "\n",
       "    .dataframe tbody tr th {\n",
       "        vertical-align: top;\n",
       "    }\n",
       "\n",
       "    .dataframe thead th {\n",
       "        text-align: right;\n",
       "    }\n",
       "</style>\n",
       "<table border=\"1\" class=\"dataframe\">\n",
       "  <thead>\n",
       "    <tr style=\"text-align: right;\">\n",
       "      <th></th>\n",
       "      <th>How many employees does your company or organization have?</th>\n",
       "      <th>count</th>\n",
       "    </tr>\n",
       "  </thead>\n",
       "  <tbody>\n",
       "    <tr>\n",
       "      <th>0</th>\n",
       "      <td>26-100</td>\n",
       "      <td>292</td>\n",
       "    </tr>\n",
       "    <tr>\n",
       "      <th>1</th>\n",
       "      <td>More than 1000</td>\n",
       "      <td>256</td>\n",
       "    </tr>\n",
       "    <tr>\n",
       "      <th>2</th>\n",
       "      <td>100-500</td>\n",
       "      <td>248</td>\n",
       "    </tr>\n",
       "    <tr>\n",
       "      <th>3</th>\n",
       "      <td>6-25</td>\n",
       "      <td>210</td>\n",
       "    </tr>\n",
       "    <tr>\n",
       "      <th>4</th>\n",
       "      <td>500-1000</td>\n",
       "      <td>80</td>\n",
       "    </tr>\n",
       "    <tr>\n",
       "      <th>5</th>\n",
       "      <td>1-5</td>\n",
       "      <td>60</td>\n",
       "    </tr>\n",
       "  </tbody>\n",
       "</table>\n",
       "</div>"
      ],
      "text/plain": [
       "  How many employees does your company or organization have?  count\n",
       "0                                             26-100            292\n",
       "1                                     More than 1000            256\n",
       "2                                            100-500            248\n",
       "3                                               6-25            210\n",
       "4                                           500-1000             80\n",
       "5                                                1-5             60"
      ]
     },
     "execution_count": 8,
     "metadata": {},
     "output_type": "execute_result"
    }
   ],
   "source": [
    "# Performing aggregation using .value_counts()\n",
    "organization_size = pd.DataFrame(data[\"How many employees does your company or organization have?\"].value_counts()).reset_index()\n",
    "organization_size"
   ]
  },
  {
   "cell_type": "code",
   "execution_count": 9,
   "id": "3bf327f24dea6d47",
   "metadata": {
    "ExecuteTime": {
     "end_time": "2024-03-02T18:11:20.641985Z",
     "start_time": "2024-03-02T18:11:20.299481Z"
    },
    "collapsed": false,
    "jupyter": {
     "outputs_hidden": false
    }
   },
   "outputs": [
    {
     "data": {
      "image/png": "[encoded data removed]",
      "text/plain": [
       "<Figure size 640x480 with 1 Axes>"
      ]
     },
     "metadata": {},
     "output_type": "display_data"
    }
   ],
   "source": [
    "# Plotting horizontal bars plot \n",
    "sns.barplot(x=\"How many employees does your company or organization have?\", \n",
    "            y=\"count\",\n",
    "            data=organization_size)\n",
    "\n",
    "# Setting proper x/y-axis labels \n",
    "plt.xlabel(\"Number of respondents\")\n",
    "plt.ylabel(\"Organization Size\")\n",
    "\n",
    "# Showing the plot\n",
    "plt.show()"
   ]
  },
  {
   "cell_type": "markdown",
   "id": "e84c772bd2851b54",
   "metadata": {
    "collapsed": false,
    "jupyter": {
     "outputs_hidden": false
    }
   },
   "source": [
    "__Insights__ :\n",
    "- The employees in IT-related companies don't provide a clear stand if they're hired in an IT-related role or not. These 883 missing values need to be handled properly.\n",
    "- The employees are working for a broad category of organizations with medium and bigger size dominance. the 287 missing values in this column reflect the number of self-employed who didn't answer this question.\n",
    "- __Sharing the exact same number of missing values__, the following columns contain unique values that vary between 3 and 6:\n",
    "    - Does your employer provide mental health benefits as part of healthcare coverage?\n",
    "    - Have you heard of or observed negative consequences for co-workers who have been open about mental health issues in your workplace?\n",
    "    - Has your employer ever formally discussed mental health (for example, as part of a wellness campaign or other official communication)?\n",
    "    - Does your employer offer resources to learn more about mental health concerns and options for seeking help?\n",
    "    - Is your anonymity protected if you choose to take advantage of mental health or substance abuse treatment resources provided by your employer?\n",
    "    - If a mental health issue prompted you to request a medical leave from work, asking for that leave would be:\n",
    "    - Do you think that discussing a mental health disorder with your employer would have negative consequences?\n",
    "    - Do you think that discussing a physical health issue with your employer would have negative consequences?\n",
    "    - Would you feel comfortable discussing a mental health disorder with your coworkers?\n",
    "    - Would you feel comfortable discussing a mental health disorder with your direct supervisor(s)?\n",
    "    - Do you feel that your employer takes mental health as seriously as physical health?\n",
    "- The __Do you know the options for mental health care available under your employer-provided coverage?__ column has exactly four unique values and 420 missing values. \n",
    "- __Exceeding 1146 missing values__, the following columns are more likely to be dropped due to the significant number of missing values : \n",
    "    - Do you have medical coverage (private insurance or state-provided) which includes treatment of mental health issues?\n",
    "    - Do you know local or online resources to seek help for a mental health disorder?\n",
    "    - If you have been diagnosed or treated for a mental health disorder, do you ever reveal this to clients or business contacts?\n",
    "    - If you have revealed a mental health issue to a client or business contact, do you believe this has impacted you negatively?\n",
    "    - If you have been diagnosed or treated for a mental health disorder, do you ever reveal this to coworkers or employees?\n",
    "    - If you have revealed a mental health issue to a coworker or employee, do you believe this has impacted you negatively?\n",
    "    - Do you believe your productivity is ever affected by a mental health issue?\n",
    "    - If yes, what percentage of your work time (time performing primary or secondary job functions) is affected by a mental health issue?\""
   ]
  },
  {
   "cell_type": "markdown",
   "id": "10f08252a1873e4d",
   "metadata": {
    "collapsed": false,
    "jupyter": {
     "outputs_hidden": false
    }
   },
   "source": [
    "### 2.2 Columns 24 to 35\n",
    "In the next column, the respondents are filtered into previously employed or not.  "
   ]
  },
  {
   "cell_type": "code",
   "execution_count": 10,
   "id": "c3e0e42a87f1edb7",
   "metadata": {
    "ExecuteTime": {
     "end_time": "2024-03-02T18:11:20.673039Z",
     "start_time": "2024-03-02T18:11:20.647884Z"
    },
    "collapsed": false,
    "jupyter": {
     "outputs_hidden": false
    }
   },
   "outputs": [
    {
     "data": {
      "text/plain": [
       "Do you have previous employers?\n",
       "1    1264\n",
       "0     169\n",
       "Name: count, dtype: int64"
      ]
     },
     "execution_count": 10,
     "metadata": {},
     "output_type": "execute_result"
    }
   ],
   "source": [
    "# Performing aggregation using .value_counts()\n",
    "data[\"Do you have previous employers?\"].value_counts()"
   ]
  },
  {
   "cell_type": "markdown",
   "id": "135e2b3bcb1fffae",
   "metadata": {
    "collapsed": false,
    "jupyter": {
     "outputs_hidden": false
    }
   },
   "source": [
    "__Insights__ :\n",
    "- The majority of employees have previous employment history.\n",
    "- The next 11 columns have either four or five unique values tend to have the exact same value of 169 missing values reflects the missing responses of 169 employees who don't have a previous employer : \n",
    "    - Have your previous employers provided mental health benefits?\n",
    "    - Were you aware of the options for mental health care provided by your previous employers?\n",
    "    - Did your previous employers ever formally discuss mental health (as part of a wellness campaign or other official communication)?\n",
    "    - Did your previous employers provide resources to learn more about mental health issues and how to seek help?\n",
    "    - Was your anonymity protected if you chose to take advantage of mental health or substance abuse treatment resources with previous employers?\n",
    "    - Do you think that discussing a mental health disorder with previous employers would have negative consequences?\n",
    "    - Do you think that discussing a physical health issue with previous employers would have negative consequences?\n",
    "    - Would you have been willing to discuss a mental health issue with your previous co-workers?\n",
    "    - Would you have been willing to discuss a mental health issue with your direct supervisor(s)?\n",
    "    - Did you feel that your previous employers took mental health as seriously as physical health?\n",
    "    - Did you hear of or observe negative consequences for co-workers with mental health issues in your previous workplaces?"
   ]
  },
  {
   "cell_type": "markdown",
   "id": "b69bf961b2c80662",
   "metadata": {
    "collapsed": false,
    "jupyter": {
     "outputs_hidden": false
    }
   },
   "source": [
    "### 2.3 Columns 36 to 39\n",
    "Next, we observe how the opinions are distributed in the matter of revealing both physical and mental health issues."
   ]
  },
  {
   "cell_type": "code",
   "execution_count": 11,
   "id": "e3d20dbe2fadc729",
   "metadata": {
    "ExecuteTime": {
     "end_time": "2024-03-02T18:11:21.001371Z",
     "start_time": "2024-03-02T18:11:20.676881Z"
    },
    "collapsed": false,
    "jupyter": {
     "outputs_hidden": false
    }
   },
   "outputs": [
    {
     "data": {
      "image/png": "[encoded data removed]",
      "text/plain": [
       "<Figure size 640x480 with 1 Axes>"
      ]
     },
     "metadata": {},
     "output_type": "display_data"
    }
   ],
   "source": [
    "# Performing aggregations on the columns, then saving them into dictionaries\n",
    "phi = data[\n",
    "    \"Would you be willing to bring up a physical health issue with a potential employer in an interview?\"].value_counts().to_dict()\n",
    "mhi = data[\n",
    "    \"Would you bring up a mental health issue with a potential employer in an interview?\"].value_counts().to_dict()\n",
    "\n",
    "# Setting the components for the chart\n",
    "categories = ['Yes', 'Maybe', 'No']\n",
    "phi_values = [phi['Yes'], phi['Maybe'], phi['No']]\n",
    "mhi_values = [mhi['Yes'], mhi['Maybe'], mhi['No']]\n",
    "\n",
    "# Set the width of the bars\n",
    "bar_width = 0.35\n",
    "\n",
    "# Create figure and axis\n",
    "fig, ax = plt.subplots()\n",
    "\n",
    "# Plot the first set of bars\n",
    "bar1 = ax.bar(np.arange(len(categories)), phi_values, bar_width, color='blue', label='Physical health issues')\n",
    "\n",
    "# Calculate the position for the second set of bars\n",
    "bar2_position = np.arange(len(categories)) + bar_width\n",
    "\n",
    "# Plot the second set of bars\n",
    "bar2 = ax.bar(bar2_position, mhi_values, bar_width, color='red', label='Mental health issues')\n",
    "\n",
    "# Set labels and ticks\n",
    "ax.set_xlabel('Categories')\n",
    "ax.set_ylabel('Count')\n",
    "ax.set_xticks(np.arange(len(categories)))\n",
    "ax.set_xticklabels(categories)\n",
    "\n",
    "# Add legend\n",
    "bars = [bar1, bar2]\n",
    "labels = [bar.get_label() for bar in bars]\n",
    "ax.legend(bars, labels)\n",
    "\n",
    "# Show plot\n",
    "plt.title('Intention to reveal physical/mental health issues')\n",
    "plt.show()"
   ]
  },
  {
   "cell_type": "markdown",
   "id": "2f53324edab4543",
   "metadata": {
    "collapsed": false,
    "jupyter": {
     "outputs_hidden": false
    }
   },
   "source": [
    "__Insights :__\n",
    "- There is a nuanced spread of responses to revealing physical health issues, with a slight advantage towards uncertainty and disagreement, while still encompassing a proportion of agreement.\n",
    "- A notable prevalence of negative sentiment among respondents to reveal mental health issues with a discernible emphasis on disagreement and uncertainty compared to agreement.\n",
    "- The reasons for all choices are different as their count goes above 1000 entry."
   ]
  },
  {
   "cell_type": "markdown",
   "id": "bcbd66b90fcc0f10",
   "metadata": {
    "collapsed": false,
    "jupyter": {
     "outputs_hidden": false
    }
   },
   "source": [
    "### 2.4 Columns 40 to 46\n",
    "\n",
    "Among these columns, we shall explore the two columns with supicious number of empty values which doesn't make sense."
   ]
  },
  {
   "cell_type": "code",
   "execution_count": 12,
   "id": "a5999a3268a9e87e",
   "metadata": {
    "ExecuteTime": {
     "end_time": "2024-03-02T18:11:21.032614Z",
     "start_time": "2024-03-02T18:11:21.005874Z"
    },
    "collapsed": false,
    "jupyter": {
     "outputs_hidden": false
    }
   },
   "outputs": [
    {
     "data": {
      "text/plain": [
       "Have you observed or experienced an unsupportive or badly handled response to a mental health issue in your current or previous workplace?  Have your observations of how another individual who discussed a mental health disorder made you less likely to reveal a mental health issue yourself in your current workplace?\n",
       "No                                                                                                                                          empty_value                                                                                                                                                                         567\n",
       "Maybe/Not sure                                                                                                                              No                                                                                                                                                                                  137\n",
       "Yes, I observed                                                                                                                             Yes                                                                                                                                                                                 128\n",
       "empty_value                                                                                                                                 empty_value                                                                                                                                                                          89\n",
       "Maybe/Not sure                                                                                                                              Maybe                                                                                                                                                                                82\n",
       "                                                                                                                                            empty_value                                                                                                                                                                          74\n",
       "Yes, I experienced                                                                                                                          Yes                                                                                                                                                                                  65\n",
       "Yes, I observed                                                                                                                             Maybe                                                                                                                                                                                62\n",
       "                                                                                                                                            No                                                                                                                                                                                   56\n",
       "Maybe/Not sure                                                                                                                              Yes                                                                                                                                                                                  53\n",
       "Yes, I experienced                                                                                                                          No                                                                                                                                                                                   41\n",
       "                                                                                                                                            Maybe                                                                                                                                                                                33\n",
       "                                                                                                                                            empty_value                                                                                                                                                                          28\n",
       "Yes, I observed                                                                                                                             empty_value                                                                                                                                                                          18\n",
       "Name: count, dtype: int64"
      ]
     },
     "execution_count": 12,
     "metadata": {},
     "output_type": "execute_result"
    }
   ],
   "source": [
    "# Setting a subset called new_df \n",
    "new_df = data[[\n",
    "    'Have you observed or experienced an unsupportive or badly handled response to a mental health issue in your current or previous workplace?',\n",
    "    'Have your observations of how another individual who discussed a mental health disorder made you less likely to reveal a mental health issue yourself in your current workplace?']].copy()\n",
    "\n",
    "# Replacing the missing values\n",
    "new_df[\n",
    "    'Have you observed or experienced an unsupportive or badly handled response to a mental health issue in your current or previous workplace?'].fillna(\n",
    "    'empty_value', inplace=True)\n",
    "new_df[\n",
    "    'Have your observations of how another individual who discussed a mental health disorder made you less likely to reveal a mental health issue yourself in your current workplace?'].fillna(\n",
    "    'empty_value', inplace=True)\n",
    "\n",
    "# Performing some aggregations\n",
    "new_df.value_counts()"
   ]
  },
  {
   "cell_type": "markdown",
   "id": "910810b33013ce48",
   "metadata": {
    "collapsed": false,
    "jupyter": {
     "outputs_hidden": false
    }
   },
   "source": [
    "__Insights__ : \n",
    "- The following columns hold three to six unique values with no empty values:\n",
    "    - Do you feel that being identified as a person with a mental health issue would hurt your career?-\n",
    "    - Do you think that team members/co-workers would view you more negatively if they knew you suffered from a mental health issue?\n",
    "    - How willing would you be to share with friends and family that you have a mental illness?\n",
    "    - Do you have a family history of mental illness?\n",
    "    - Have you had a mental health disorder in the past?\n",
    "- The two remaining columns can benefit from adding another unique value __I don't know__, instead of dropping them due to the enormous number of empty values. "
   ]
  },
  {
   "cell_type": "markdown",
   "id": "fbf3ea8655da70e3",
   "metadata": {
    "collapsed": false,
    "jupyter": {
     "outputs_hidden": false
    }
   },
   "source": [
    "### 2.6 Columns 47 to 54\n",
    "\n",
    "Among these columns, we shall begin by exploring the existence of mental health issues among respondents."
   ]
  },
  {
   "cell_type": "code",
   "execution_count": 13,
   "id": "cdf6dd135d074fbc",
   "metadata": {
    "ExecuteTime": {
     "end_time": "2024-03-02T18:11:21.063695Z",
     "start_time": "2024-03-02T18:11:21.036015Z"
    },
    "collapsed": false,
    "jupyter": {
     "outputs_hidden": false
    }
   },
   "outputs": [
    {
     "data": {
      "text/plain": [
       "Do you currently have a mental health disorder?  Have you been diagnosed with a mental health condition by a medical professional?\n",
       "Yes                                              Yes                                                                                  511\n",
       "No                                               No                                                                                   450\n",
       "Maybe                                            No                                                                                   203\n",
       "                                                 Yes                                                                                  124\n",
       "No                                               Yes                                                                                   81\n",
       "Yes                                              No                                                                                    64\n",
       "Name: count, dtype: int64"
      ]
     },
     "execution_count": 13,
     "metadata": {},
     "output_type": "execute_result"
    }
   ],
   "source": [
    "# Inspect the unique values within this column\n",
    "data[[\"Do you currently have a mental health disorder?\",\n",
    "      \"Have you been diagnosed with a mental health condition by a medical professional?\"]].value_counts()"
   ]
  },
  {
   "cell_type": "code",
   "execution_count": 14,
   "id": "1a64fafdd2760015",
   "metadata": {
    "ExecuteTime": {
     "end_time": "2024-03-02T18:11:21.094814Z",
     "start_time": "2024-03-02T18:11:21.073439Z"
    },
    "collapsed": false,
    "jupyter": {
     "outputs_hidden": false
    }
   },
   "outputs": [
    {
     "data": {
      "text/html": [
       "<div>\n",
       "<style scoped>\n",
       "    .dataframe tbody tr th:only-of-type {\n",
       "        vertical-align: middle;\n",
       "    }\n",
       "\n",
       "    .dataframe tbody tr th {\n",
       "        vertical-align: top;\n",
       "    }\n",
       "\n",
       "    .dataframe thead th {\n",
       "        text-align: right;\n",
       "    }\n",
       "</style>\n",
       "<table border=\"1\" class=\"dataframe\">\n",
       "  <thead>\n",
       "    <tr style=\"text-align: right;\">\n",
       "      <th></th>\n",
       "      <th>Do you currently have a mental health disorder?</th>\n",
       "      <th>If yes, what condition(s) have you been diagnosed with?</th>\n",
       "      <th>If maybe, what condition(s) do you believe you have?</th>\n",
       "      <th>Have you been diagnosed with a mental health condition by a medical professional?</th>\n",
       "      <th>If so, what condition(s) were you diagnosed with?</th>\n",
       "    </tr>\n",
       "  </thead>\n",
       "  <tbody>\n",
       "    <tr>\n",
       "      <th>0</th>\n",
       "      <td>No</td>\n",
       "      <td>NaN</td>\n",
       "      <td>NaN</td>\n",
       "      <td>Yes</td>\n",
       "      <td>Anxiety Disorder (Generalized, Social, Phobia,...</td>\n",
       "    </tr>\n",
       "    <tr>\n",
       "      <th>1</th>\n",
       "      <td>Yes</td>\n",
       "      <td>Anxiety Disorder (Generalized, Social, Phobia,...</td>\n",
       "      <td>NaN</td>\n",
       "      <td>Yes</td>\n",
       "      <td>Anxiety Disorder (Generalized, Social, Phobia,...</td>\n",
       "    </tr>\n",
       "    <tr>\n",
       "      <th>2</th>\n",
       "      <td>No</td>\n",
       "      <td>NaN</td>\n",
       "      <td>NaN</td>\n",
       "      <td>No</td>\n",
       "      <td>NaN</td>\n",
       "    </tr>\n",
       "    <tr>\n",
       "      <th>3</th>\n",
       "      <td>Yes</td>\n",
       "      <td>Anxiety Disorder (Generalized, Social, Phobia,...</td>\n",
       "      <td>NaN</td>\n",
       "      <td>Yes</td>\n",
       "      <td>Anxiety Disorder (Generalized, Social, Phobia,...</td>\n",
       "    </tr>\n",
       "    <tr>\n",
       "      <th>4</th>\n",
       "      <td>Yes</td>\n",
       "      <td>Anxiety Disorder (Generalized, Social, Phobia,...</td>\n",
       "      <td>NaN</td>\n",
       "      <td>Yes</td>\n",
       "      <td>Anxiety Disorder (Generalized, Social, Phobia,...</td>\n",
       "    </tr>\n",
       "    <tr>\n",
       "      <th>...</th>\n",
       "      <td>...</td>\n",
       "      <td>...</td>\n",
       "      <td>...</td>\n",
       "      <td>...</td>\n",
       "      <td>...</td>\n",
       "    </tr>\n",
       "    <tr>\n",
       "      <th>1428</th>\n",
       "      <td>No</td>\n",
       "      <td>NaN</td>\n",
       "      <td>NaN</td>\n",
       "      <td>No</td>\n",
       "      <td>NaN</td>\n",
       "    </tr>\n",
       "    <tr>\n",
       "      <th>1429</th>\n",
       "      <td>No</td>\n",
       "      <td>NaN</td>\n",
       "      <td>NaN</td>\n",
       "      <td>Yes</td>\n",
       "      <td>Psychotic Disorder (Schizophrenia, Schizoaffec...</td>\n",
       "    </tr>\n",
       "    <tr>\n",
       "      <th>1430</th>\n",
       "      <td>Maybe</td>\n",
       "      <td>NaN</td>\n",
       "      <td>Anxiety Disorder (Generalized, Social, Phobia,...</td>\n",
       "      <td>Yes</td>\n",
       "      <td>Anxiety Disorder (Generalized, Social, Phobia,...</td>\n",
       "    </tr>\n",
       "    <tr>\n",
       "      <th>1431</th>\n",
       "      <td>Yes</td>\n",
       "      <td>Anxiety Disorder (Generalized, Social, Phobia,...</td>\n",
       "      <td>NaN</td>\n",
       "      <td>Yes</td>\n",
       "      <td>Mood Disorder (Depression, Bipolar Disorder, etc)</td>\n",
       "    </tr>\n",
       "    <tr>\n",
       "      <th>1432</th>\n",
       "      <td>Yes</td>\n",
       "      <td>Obsessive-Compulsive Disorder|Eating Disorder ...</td>\n",
       "      <td>NaN</td>\n",
       "      <td>No</td>\n",
       "      <td>NaN</td>\n",
       "    </tr>\n",
       "  </tbody>\n",
       "</table>\n",
       "<p>1433 rows × 5 columns</p>\n",
       "</div>"
      ],
      "text/plain": [
       "     Do you currently have a mental health disorder?  \\\n",
       "0                                                 No   \n",
       "1                                                Yes   \n",
       "2                                                 No   \n",
       "3                                                Yes   \n",
       "4                                                Yes   \n",
       "...                                              ...   \n",
       "1428                                              No   \n",
       "1429                                              No   \n",
       "1430                                           Maybe   \n",
       "1431                                             Yes   \n",
       "1432                                             Yes   \n",
       "\n",
       "     If yes, what condition(s) have you been diagnosed with?  \\\n",
       "0                                                   NaN        \n",
       "1     Anxiety Disorder (Generalized, Social, Phobia,...        \n",
       "2                                                   NaN        \n",
       "3     Anxiety Disorder (Generalized, Social, Phobia,...        \n",
       "4     Anxiety Disorder (Generalized, Social, Phobia,...        \n",
       "...                                                 ...        \n",
       "1428                                                NaN        \n",
       "1429                                                NaN        \n",
       "1430                                                NaN        \n",
       "1431  Anxiety Disorder (Generalized, Social, Phobia,...        \n",
       "1432  Obsessive-Compulsive Disorder|Eating Disorder ...        \n",
       "\n",
       "     If maybe, what condition(s) do you believe you have?  \\\n",
       "0                                                   NaN     \n",
       "1                                                   NaN     \n",
       "2                                                   NaN     \n",
       "3                                                   NaN     \n",
       "4                                                   NaN     \n",
       "...                                                 ...     \n",
       "1428                                                NaN     \n",
       "1429                                                NaN     \n",
       "1430  Anxiety Disorder (Generalized, Social, Phobia,...     \n",
       "1431                                                NaN     \n",
       "1432                                                NaN     \n",
       "\n",
       "     Have you been diagnosed with a mental health condition by a medical professional?  \\\n",
       "0                                                   Yes                                  \n",
       "1                                                   Yes                                  \n",
       "2                                                    No                                  \n",
       "3                                                   Yes                                  \n",
       "4                                                   Yes                                  \n",
       "...                                                 ...                                  \n",
       "1428                                                 No                                  \n",
       "1429                                                Yes                                  \n",
       "1430                                                Yes                                  \n",
       "1431                                                Yes                                  \n",
       "1432                                                 No                                  \n",
       "\n",
       "      If so, what condition(s) were you diagnosed with?  \n",
       "0     Anxiety Disorder (Generalized, Social, Phobia,...  \n",
       "1     Anxiety Disorder (Generalized, Social, Phobia,...  \n",
       "2                                                   NaN  \n",
       "3     Anxiety Disorder (Generalized, Social, Phobia,...  \n",
       "4     Anxiety Disorder (Generalized, Social, Phobia,...  \n",
       "...                                                 ...  \n",
       "1428                                                NaN  \n",
       "1429  Psychotic Disorder (Schizophrenia, Schizoaffec...  \n",
       "1430  Anxiety Disorder (Generalized, Social, Phobia,...  \n",
       "1431  Mood Disorder (Depression, Bipolar Disorder, etc)  \n",
       "1432                                                NaN  \n",
       "\n",
       "[1433 rows x 5 columns]"
      ]
     },
     "execution_count": 14,
     "metadata": {},
     "output_type": "execute_result"
    }
   ],
   "source": [
    "portion = data.iloc[:, 47:52]\n",
    "\n",
    "portion.head(1433)"
   ]
  },
  {
   "cell_type": "code",
   "execution_count": 15,
   "id": "4c16f491774532a6",
   "metadata": {
    "ExecuteTime": {
     "end_time": "2024-03-02T18:11:21.126294Z",
     "start_time": "2024-03-02T18:11:21.098687Z"
    },
    "collapsed": false,
    "jupyter": {
     "outputs_hidden": false
    }
   },
   "outputs": [
    {
     "data": {
      "text/html": [
       "<div>\n",
       "<style scoped>\n",
       "    .dataframe tbody tr th:only-of-type {\n",
       "        vertical-align: middle;\n",
       "    }\n",
       "\n",
       "    .dataframe tbody tr th {\n",
       "        vertical-align: top;\n",
       "    }\n",
       "\n",
       "    .dataframe thead th {\n",
       "        text-align: right;\n",
       "    }\n",
       "</style>\n",
       "<table border=\"1\" class=\"dataframe\">\n",
       "  <thead>\n",
       "    <tr style=\"text-align: right;\">\n",
       "      <th></th>\n",
       "      <th>Do you currently have a mental health disorder?</th>\n",
       "      <th>If yes, what condition(s) have you been diagnosed with?</th>\n",
       "      <th>If maybe, what condition(s) do you believe you have?</th>\n",
       "      <th>Have you been diagnosed with a mental health condition by a medical professional?</th>\n",
       "      <th>If so, what condition(s) were you diagnosed with?</th>\n",
       "    </tr>\n",
       "  </thead>\n",
       "  <tbody>\n",
       "    <tr>\n",
       "      <th>164</th>\n",
       "      <td>Yes</td>\n",
       "      <td>NaN</td>\n",
       "      <td>NaN</td>\n",
       "      <td>No</td>\n",
       "      <td>NaN</td>\n",
       "    </tr>\n",
       "    <tr>\n",
       "      <th>213</th>\n",
       "      <td>Maybe</td>\n",
       "      <td>NaN</td>\n",
       "      <td>NaN</td>\n",
       "      <td>No</td>\n",
       "      <td>NaN</td>\n",
       "    </tr>\n",
       "    <tr>\n",
       "      <th>251</th>\n",
       "      <td>Yes</td>\n",
       "      <td>NaN</td>\n",
       "      <td>NaN</td>\n",
       "      <td>Yes</td>\n",
       "      <td>Mood Disorder (Depression, Bipolar Disorder, etc)</td>\n",
       "    </tr>\n",
       "    <tr>\n",
       "      <th>293</th>\n",
       "      <td>Yes</td>\n",
       "      <td>NaN</td>\n",
       "      <td>NaN</td>\n",
       "      <td>No</td>\n",
       "      <td>NaN</td>\n",
       "    </tr>\n",
       "    <tr>\n",
       "      <th>574</th>\n",
       "      <td>Yes</td>\n",
       "      <td>NaN</td>\n",
       "      <td>NaN</td>\n",
       "      <td>Yes</td>\n",
       "      <td>NaN</td>\n",
       "    </tr>\n",
       "    <tr>\n",
       "      <th>635</th>\n",
       "      <td>Yes</td>\n",
       "      <td>NaN</td>\n",
       "      <td>NaN</td>\n",
       "      <td>Yes</td>\n",
       "      <td>Anxiety Disorder (Generalized, Social, Phobia,...</td>\n",
       "    </tr>\n",
       "    <tr>\n",
       "      <th>714</th>\n",
       "      <td>Maybe</td>\n",
       "      <td>NaN</td>\n",
       "      <td>NaN</td>\n",
       "      <td>No</td>\n",
       "      <td>NaN</td>\n",
       "    </tr>\n",
       "    <tr>\n",
       "      <th>765</th>\n",
       "      <td>Maybe</td>\n",
       "      <td>NaN</td>\n",
       "      <td>NaN</td>\n",
       "      <td>No</td>\n",
       "      <td>NaN</td>\n",
       "    </tr>\n",
       "    <tr>\n",
       "      <th>905</th>\n",
       "      <td>Yes</td>\n",
       "      <td>NaN</td>\n",
       "      <td>NaN</td>\n",
       "      <td>No</td>\n",
       "      <td>NaN</td>\n",
       "    </tr>\n",
       "    <tr>\n",
       "      <th>1035</th>\n",
       "      <td>Maybe</td>\n",
       "      <td>NaN</td>\n",
       "      <td>NaN</td>\n",
       "      <td>No</td>\n",
       "      <td>NaN</td>\n",
       "    </tr>\n",
       "    <tr>\n",
       "      <th>1059</th>\n",
       "      <td>Yes</td>\n",
       "      <td>NaN</td>\n",
       "      <td>NaN</td>\n",
       "      <td>Yes</td>\n",
       "      <td>Attention Deficit Hyperactivity Disorder|Mood ...</td>\n",
       "    </tr>\n",
       "    <tr>\n",
       "      <th>1089</th>\n",
       "      <td>Maybe</td>\n",
       "      <td>NaN</td>\n",
       "      <td>NaN</td>\n",
       "      <td>Yes</td>\n",
       "      <td>NaN</td>\n",
       "    </tr>\n",
       "  </tbody>\n",
       "</table>\n",
       "</div>"
      ],
      "text/plain": [
       "     Do you currently have a mental health disorder?  \\\n",
       "164                                              Yes   \n",
       "213                                            Maybe   \n",
       "251                                              Yes   \n",
       "293                                              Yes   \n",
       "574                                              Yes   \n",
       "635                                              Yes   \n",
       "714                                            Maybe   \n",
       "765                                            Maybe   \n",
       "905                                              Yes   \n",
       "1035                                           Maybe   \n",
       "1059                                             Yes   \n",
       "1089                                           Maybe   \n",
       "\n",
       "     If yes, what condition(s) have you been diagnosed with?  \\\n",
       "164                                                 NaN        \n",
       "213                                                 NaN        \n",
       "251                                                 NaN        \n",
       "293                                                 NaN        \n",
       "574                                                 NaN        \n",
       "635                                                 NaN        \n",
       "714                                                 NaN        \n",
       "765                                                 NaN        \n",
       "905                                                 NaN        \n",
       "1035                                                NaN        \n",
       "1059                                                NaN        \n",
       "1089                                                NaN        \n",
       "\n",
       "     If maybe, what condition(s) do you believe you have?  \\\n",
       "164                                                 NaN     \n",
       "213                                                 NaN     \n",
       "251                                                 NaN     \n",
       "293                                                 NaN     \n",
       "574                                                 NaN     \n",
       "635                                                 NaN     \n",
       "714                                                 NaN     \n",
       "765                                                 NaN     \n",
       "905                                                 NaN     \n",
       "1035                                                NaN     \n",
       "1059                                                NaN     \n",
       "1089                                                NaN     \n",
       "\n",
       "     Have you been diagnosed with a mental health condition by a medical professional?  \\\n",
       "164                                                  No                                  \n",
       "213                                                  No                                  \n",
       "251                                                 Yes                                  \n",
       "293                                                  No                                  \n",
       "574                                                 Yes                                  \n",
       "635                                                 Yes                                  \n",
       "714                                                  No                                  \n",
       "765                                                  No                                  \n",
       "905                                                  No                                  \n",
       "1035                                                 No                                  \n",
       "1059                                                Yes                                  \n",
       "1089                                                Yes                                  \n",
       "\n",
       "      If so, what condition(s) were you diagnosed with?  \n",
       "164                                                 NaN  \n",
       "213                                                 NaN  \n",
       "251   Mood Disorder (Depression, Bipolar Disorder, etc)  \n",
       "293                                                 NaN  \n",
       "574                                                 NaN  \n",
       "635   Anxiety Disorder (Generalized, Social, Phobia,...  \n",
       "714                                                 NaN  \n",
       "765                                                 NaN  \n",
       "905                                                 NaN  \n",
       "1035                                                NaN  \n",
       "1059  Attention Deficit Hyperactivity Disorder|Mood ...  \n",
       "1089                                                NaN  "
      ]
     },
     "execution_count": 15,
     "metadata": {},
     "output_type": "execute_result"
    }
   ],
   "source": [
    "# Extracting the unreasonable empty values \n",
    "portion[(portion[\"Do you currently have a mental health disorder?\"] != 'No')\n",
    "        &\n",
    "        (portion[\"If yes, what condition(s) have you been diagnosed with?\"].isna())\n",
    "        &\n",
    "        (portion[\"If maybe, what condition(s) do you believe you have?\"].isna())\n",
    "        ]\n"
   ]
  },
  {
   "cell_type": "markdown",
   "id": "19788dd365684a6f",
   "metadata": {
    "collapsed": false,
    "jupyter": {
     "outputs_hidden": false
    }
   },
   "source": [
    "The following function __conditions_counter__ will help us determine the most selected conditions and how many respondents believe they deal with this condition."
   ]
  },
  {
   "cell_type": "code",
   "execution_count": 16,
   "id": "490c14ad1dbf0238",
   "metadata": {
    "ExecuteTime": {
     "end_time": "2024-03-02T18:11:21.157704Z",
     "start_time": "2024-03-02T18:11:21.132078Z"
    },
    "collapsed": false,
    "jupyter": {
     "outputs_hidden": false
    }
   },
   "outputs": [],
   "source": [
    "# Defining a function called condition_counter\n",
    "def conditions_counter(column_name):\n",
    "    \"\"\"\n",
    "    :param column_name: The name of column desired\n",
    "    :return: a Dataframe containing the conditions and the number of their occurrences in the column\n",
    "    \"\"\"\n",
    "\n",
    "    # Creating the list of unique values excluding empty values\n",
    "    a_list = pd.DataFrame(data[column_name].value_counts()).reset_index().iloc[:, 0].to_list()\n",
    "\n",
    "    # Creating an empty dictionary\n",
    "    a_dict = dict()\n",
    "\n",
    "    # Initiating a for-loop\n",
    "    for element in a_list:\n",
    "        # Inspecting the existence of a character \n",
    "        if '|' in element:\n",
    "            elements = element.split(\"|\")\n",
    "            # If the condition is met\n",
    "            for unit in elements:\n",
    "                # Iterating each unit  \n",
    "                if unit in a_dict:\n",
    "                    a_dict[unit] += 1  # Augment the number if it does exist\n",
    "                else:\n",
    "                    a_dict[unit] = 1  # Set the number to 1 if a new occurrence is found\n",
    "        else:\n",
    "            if element in a_dict:\n",
    "                a_dict[element] += 1\n",
    "            else:\n",
    "                a_dict[element] = 1\n",
    "\n",
    "    # Turning the data stored in the dictionary into a dataframe\n",
    "    dframe = pd.DataFrame(list(a_dict.items()), columns=['Condition', 'Count'])\n",
    "\n",
    "    # The final output of the function\n",
    "    return dframe"
   ]
  },
  {
   "cell_type": "code",
   "execution_count": 17,
   "id": "b3db1e89b9ddabf5",
   "metadata": {
    "ExecuteTime": {
     "end_time": "2024-03-02T18:11:21.189466Z",
     "start_time": "2024-03-02T18:11:21.161436Z"
    },
    "collapsed": false,
    "jupyter": {
     "outputs_hidden": false
    }
   },
   "outputs": [],
   "source": [
    "# Setting the dataframes\n",
    "known_conditions = conditions_counter(\"If yes, what condition(s) have you been diagnosed with?\")\n",
    "suspected_conditions = conditions_counter(\"If maybe, what condition(s) do you believe you have?\")\n",
    "diagnosed_conditions = conditions_counter(\"If so, what condition(s) were you diagnosed with?\")"
   ]
  },
  {
   "cell_type": "markdown",
   "id": "e9ca9e8243d61413",
   "metadata": {
    "collapsed": false,
    "jupyter": {
     "outputs_hidden": false
    }
   },
   "source": [
    "We'll merge the generated datasets to provide a compact overview."
   ]
  },
  {
   "cell_type": "code",
   "execution_count": 18,
   "id": "3b7c252859433db2",
   "metadata": {
    "ExecuteTime": {
     "end_time": "2024-03-02T18:11:21.251236Z",
     "start_time": "2024-03-02T18:11:21.192880Z"
    },
    "collapsed": false,
    "jupyter": {
     "outputs_hidden": false
    }
   },
   "outputs": [
    {
     "data": {
      "text/html": [
       "<div>\n",
       "<style scoped>\n",
       "    .dataframe tbody tr th:only-of-type {\n",
       "        vertical-align: middle;\n",
       "    }\n",
       "\n",
       "    .dataframe tbody tr th {\n",
       "        vertical-align: top;\n",
       "    }\n",
       "\n",
       "    .dataframe thead th {\n",
       "        text-align: right;\n",
       "    }\n",
       "</style>\n",
       "<table border=\"1\" class=\"dataframe\">\n",
       "  <thead>\n",
       "    <tr style=\"text-align: right;\">\n",
       "      <th></th>\n",
       "      <th>Condition</th>\n",
       "      <th>Count_confirmed</th>\n",
       "      <th>Count_suspected</th>\n",
       "      <th>Count</th>\n",
       "      <th>Total</th>\n",
       "    </tr>\n",
       "  </thead>\n",
       "  <tbody>\n",
       "    <tr>\n",
       "      <th>1</th>\n",
       "      <td>Mood Disorder (Depression, Bipolar Disorder, etc)</td>\n",
       "      <td>76</td>\n",
       "      <td>54</td>\n",
       "      <td>68</td>\n",
       "      <td>198</td>\n",
       "    </tr>\n",
       "    <tr>\n",
       "      <th>0</th>\n",
       "      <td>Anxiety Disorder (Generalized, Social, Phobia,...</td>\n",
       "      <td>71</td>\n",
       "      <td>53</td>\n",
       "      <td>55</td>\n",
       "      <td>179</td>\n",
       "    </tr>\n",
       "    <tr>\n",
       "      <th>2</th>\n",
       "      <td>Attention Deficit Hyperactivity Disorder</td>\n",
       "      <td>38</td>\n",
       "      <td>27</td>\n",
       "      <td>29</td>\n",
       "      <td>94</td>\n",
       "    </tr>\n",
       "    <tr>\n",
       "      <th>3</th>\n",
       "      <td>Post-traumatic Stress Disorder</td>\n",
       "      <td>37</td>\n",
       "      <td>15</td>\n",
       "      <td>35</td>\n",
       "      <td>87</td>\n",
       "    </tr>\n",
       "    <tr>\n",
       "      <th>10</th>\n",
       "      <td>Personality Disorder (Borderline, Antisocial, ...</td>\n",
       "      <td>26</td>\n",
       "      <td>27</td>\n",
       "      <td>22</td>\n",
       "      <td>75</td>\n",
       "    </tr>\n",
       "    <tr>\n",
       "      <th>5</th>\n",
       "      <td>Obsessive-Compulsive Disorder</td>\n",
       "      <td>26</td>\n",
       "      <td>19</td>\n",
       "      <td>21</td>\n",
       "      <td>66</td>\n",
       "    </tr>\n",
       "    <tr>\n",
       "      <th>6</th>\n",
       "      <td>Substance Use Disorder</td>\n",
       "      <td>25</td>\n",
       "      <td>13</td>\n",
       "      <td>22</td>\n",
       "      <td>60</td>\n",
       "    </tr>\n",
       "    <tr>\n",
       "      <th>8</th>\n",
       "      <td>Stress Response Syndromes</td>\n",
       "      <td>24</td>\n",
       "      <td>24</td>\n",
       "      <td>12</td>\n",
       "      <td>60</td>\n",
       "    </tr>\n",
       "    <tr>\n",
       "      <th>7</th>\n",
       "      <td>Addictive Disorder</td>\n",
       "      <td>25</td>\n",
       "      <td>19</td>\n",
       "      <td>13</td>\n",
       "      <td>57</td>\n",
       "    </tr>\n",
       "    <tr>\n",
       "      <th>4</th>\n",
       "      <td>Eating Disorder (Anorexia, Bulimia, etc)</td>\n",
       "      <td>17</td>\n",
       "      <td>6</td>\n",
       "      <td>15</td>\n",
       "      <td>38</td>\n",
       "    </tr>\n",
       "    <tr>\n",
       "      <th>11</th>\n",
       "      <td>Dissociative Disorder</td>\n",
       "      <td>9</td>\n",
       "      <td>6</td>\n",
       "      <td>9</td>\n",
       "      <td>24</td>\n",
       "    </tr>\n",
       "    <tr>\n",
       "      <th>9</th>\n",
       "      <td>Psychotic Disorder (Schizophrenia, Schizoaffec...</td>\n",
       "      <td>2</td>\n",
       "      <td>8</td>\n",
       "      <td>3</td>\n",
       "      <td>13</td>\n",
       "    </tr>\n",
       "    <tr>\n",
       "      <th>20</th>\n",
       "      <td>Autism</td>\n",
       "      <td>3</td>\n",
       "      <td>1</td>\n",
       "      <td>2</td>\n",
       "      <td>6</td>\n",
       "    </tr>\n",
       "    <tr>\n",
       "      <th>22</th>\n",
       "      <td>Autism Spectrum Disorder</td>\n",
       "      <td>1</td>\n",
       "      <td>0</td>\n",
       "      <td>1</td>\n",
       "      <td>2</td>\n",
       "    </tr>\n",
       "    <tr>\n",
       "      <th>40</th>\n",
       "      <td>Suicidal Ideation</td>\n",
       "      <td>0</td>\n",
       "      <td>1</td>\n",
       "      <td>1</td>\n",
       "      <td>2</td>\n",
       "    </tr>\n",
       "    <tr>\n",
       "      <th>38</th>\n",
       "      <td>Gender Identity Disorder</td>\n",
       "      <td>0</td>\n",
       "      <td>1</td>\n",
       "      <td>1</td>\n",
       "      <td>2</td>\n",
       "    </tr>\n",
       "    <tr>\n",
       "      <th>35</th>\n",
       "      <td>Asperger Syndrome</td>\n",
       "      <td>0</td>\n",
       "      <td>1</td>\n",
       "      <td>1</td>\n",
       "      <td>2</td>\n",
       "    </tr>\n",
       "    <tr>\n",
       "      <th>32</th>\n",
       "      <td>Gender Dysphoria</td>\n",
       "      <td>1</td>\n",
       "      <td>0</td>\n",
       "      <td>1</td>\n",
       "      <td>2</td>\n",
       "    </tr>\n",
       "    <tr>\n",
       "      <th>27</th>\n",
       "      <td>Seasonal Affective Disorder</td>\n",
       "      <td>1</td>\n",
       "      <td>0</td>\n",
       "      <td>1</td>\n",
       "      <td>2</td>\n",
       "    </tr>\n",
       "    <tr>\n",
       "      <th>26</th>\n",
       "      <td>Burn out</td>\n",
       "      <td>1</td>\n",
       "      <td>0</td>\n",
       "      <td>1</td>\n",
       "      <td>2</td>\n",
       "    </tr>\n",
       "    <tr>\n",
       "      <th>24</th>\n",
       "      <td>Depression</td>\n",
       "      <td>1</td>\n",
       "      <td>0</td>\n",
       "      <td>1</td>\n",
       "      <td>2</td>\n",
       "    </tr>\n",
       "    <tr>\n",
       "      <th>23</th>\n",
       "      <td>Autism (Asperger's)</td>\n",
       "      <td>1</td>\n",
       "      <td>0</td>\n",
       "      <td>1</td>\n",
       "      <td>2</td>\n",
       "    </tr>\n",
       "    <tr>\n",
       "      <th>25</th>\n",
       "      <td>PDD-NOS</td>\n",
       "      <td>1</td>\n",
       "      <td>0</td>\n",
       "      <td>1</td>\n",
       "      <td>2</td>\n",
       "    </tr>\n",
       "    <tr>\n",
       "      <th>19</th>\n",
       "      <td>Intimate Disorder</td>\n",
       "      <td>1</td>\n",
       "      <td>0</td>\n",
       "      <td>1</td>\n",
       "      <td>2</td>\n",
       "    </tr>\n",
       "    <tr>\n",
       "      <th>12</th>\n",
       "      <td>ADD (w/o Hyperactivity)</td>\n",
       "      <td>1</td>\n",
       "      <td>0</td>\n",
       "      <td>1</td>\n",
       "      <td>2</td>\n",
       "    </tr>\n",
       "    <tr>\n",
       "      <th>13</th>\n",
       "      <td>Schizotypal Personality Disorder</td>\n",
       "      <td>1</td>\n",
       "      <td>0</td>\n",
       "      <td>1</td>\n",
       "      <td>2</td>\n",
       "    </tr>\n",
       "    <tr>\n",
       "      <th>21</th>\n",
       "      <td>Transgender</td>\n",
       "      <td>1</td>\n",
       "      <td>0</td>\n",
       "      <td>0</td>\n",
       "      <td>1</td>\n",
       "    </tr>\n",
       "    <tr>\n",
       "      <th>49</th>\n",
       "      <td>PDD-NOS (see above)</td>\n",
       "      <td>0</td>\n",
       "      <td>0</td>\n",
       "      <td>1</td>\n",
       "      <td>1</td>\n",
       "    </tr>\n",
       "    <tr>\n",
       "      <th>48</th>\n",
       "      <td>Autism - while not a \"mental illness\", still g...</td>\n",
       "      <td>0</td>\n",
       "      <td>0</td>\n",
       "      <td>1</td>\n",
       "      <td>1</td>\n",
       "    </tr>\n",
       "    <tr>\n",
       "      <th>47</th>\n",
       "      <td>Attention Deficit Disorder</td>\n",
       "      <td>0</td>\n",
       "      <td>0</td>\n",
       "      <td>1</td>\n",
       "      <td>1</td>\n",
       "    </tr>\n",
       "    <tr>\n",
       "      <th>46</th>\n",
       "      <td>MCD (when it was diagnosed, the ultra-mega \"di...</td>\n",
       "      <td>0</td>\n",
       "      <td>0</td>\n",
       "      <td>1</td>\n",
       "      <td>1</td>\n",
       "    </tr>\n",
       "    <tr>\n",
       "      <th>45</th>\n",
       "      <td>posttraumatic stress disourder</td>\n",
       "      <td>0</td>\n",
       "      <td>0</td>\n",
       "      <td>1</td>\n",
       "      <td>1</td>\n",
       "    </tr>\n",
       "    <tr>\n",
       "      <th>44</th>\n",
       "      <td>attention deficit disorder (but not the hypera...</td>\n",
       "      <td>0</td>\n",
       "      <td>0</td>\n",
       "      <td>1</td>\n",
       "      <td>1</td>\n",
       "    </tr>\n",
       "    <tr>\n",
       "      <th>43</th>\n",
       "      <td>Aspergers</td>\n",
       "      <td>0</td>\n",
       "      <td>0</td>\n",
       "      <td>1</td>\n",
       "      <td>1</td>\n",
       "    </tr>\n",
       "    <tr>\n",
       "      <th>42</th>\n",
       "      <td>post-partum / anxiety</td>\n",
       "      <td>0</td>\n",
       "      <td>1</td>\n",
       "      <td>0</td>\n",
       "      <td>1</td>\n",
       "    </tr>\n",
       "    <tr>\n",
       "      <th>41</th>\n",
       "      <td>Depersonalisation</td>\n",
       "      <td>0</td>\n",
       "      <td>1</td>\n",
       "      <td>0</td>\n",
       "      <td>1</td>\n",
       "    </tr>\n",
       "    <tr>\n",
       "      <th>39</th>\n",
       "      <td>We're all hurt, right?!</td>\n",
       "      <td>0</td>\n",
       "      <td>1</td>\n",
       "      <td>0</td>\n",
       "      <td>1</td>\n",
       "    </tr>\n",
       "    <tr>\n",
       "      <th>37</th>\n",
       "      <td>Tinnitus</td>\n",
       "      <td>0</td>\n",
       "      <td>1</td>\n",
       "      <td>0</td>\n",
       "      <td>1</td>\n",
       "    </tr>\n",
       "    <tr>\n",
       "      <th>36</th>\n",
       "      <td>Burnout</td>\n",
       "      <td>0</td>\n",
       "      <td>1</td>\n",
       "      <td>0</td>\n",
       "      <td>1</td>\n",
       "    </tr>\n",
       "    <tr>\n",
       "      <th>14</th>\n",
       "      <td>Combination of physical impairment (strongly n...</td>\n",
       "      <td>1</td>\n",
       "      <td>0</td>\n",
       "      <td>0</td>\n",
       "      <td>1</td>\n",
       "    </tr>\n",
       "    <tr>\n",
       "      <th>34</th>\n",
       "      <td>Asperger's</td>\n",
       "      <td>0</td>\n",
       "      <td>1</td>\n",
       "      <td>0</td>\n",
       "      <td>1</td>\n",
       "    </tr>\n",
       "    <tr>\n",
       "      <th>33</th>\n",
       "      <td>depersonalization disorder</td>\n",
       "      <td>0</td>\n",
       "      <td>1</td>\n",
       "      <td>0</td>\n",
       "      <td>1</td>\n",
       "    </tr>\n",
       "    <tr>\n",
       "      <th>15</th>\n",
       "      <td>Autism spectrum disorder</td>\n",
       "      <td>1</td>\n",
       "      <td>0</td>\n",
       "      <td>0</td>\n",
       "      <td>1</td>\n",
       "    </tr>\n",
       "    <tr>\n",
       "      <th>31</th>\n",
       "      <td>Asperges</td>\n",
       "      <td>1</td>\n",
       "      <td>0</td>\n",
       "      <td>0</td>\n",
       "      <td>1</td>\n",
       "    </tr>\n",
       "    <tr>\n",
       "      <th>30</th>\n",
       "      <td>PTSD (undiagnosed)</td>\n",
       "      <td>1</td>\n",
       "      <td>0</td>\n",
       "      <td>0</td>\n",
       "      <td>1</td>\n",
       "    </tr>\n",
       "    <tr>\n",
       "      <th>29</th>\n",
       "      <td>Traumatic Brain Injury</td>\n",
       "      <td>1</td>\n",
       "      <td>0</td>\n",
       "      <td>0</td>\n",
       "      <td>1</td>\n",
       "    </tr>\n",
       "    <tr>\n",
       "      <th>28</th>\n",
       "      <td>Pervasive Developmental Disorder (Not Otherwis...</td>\n",
       "      <td>1</td>\n",
       "      <td>0</td>\n",
       "      <td>0</td>\n",
       "      <td>1</td>\n",
       "    </tr>\n",
       "    <tr>\n",
       "      <th>16</th>\n",
       "      <td>Sexual addiction</td>\n",
       "      <td>1</td>\n",
       "      <td>0</td>\n",
       "      <td>0</td>\n",
       "      <td>1</td>\n",
       "    </tr>\n",
       "    <tr>\n",
       "      <th>17</th>\n",
       "      <td>Sleeping Disorder</td>\n",
       "      <td>1</td>\n",
       "      <td>0</td>\n",
       "      <td>0</td>\n",
       "      <td>1</td>\n",
       "    </tr>\n",
       "    <tr>\n",
       "      <th>18</th>\n",
       "      <td>I haven't been formally diagnosed, so I felt u...</td>\n",
       "      <td>1</td>\n",
       "      <td>0</td>\n",
       "      <td>0</td>\n",
       "      <td>1</td>\n",
       "    </tr>\n",
       "    <tr>\n",
       "      <th>50</th>\n",
       "      <td>autism spectrum disorder</td>\n",
       "      <td>0</td>\n",
       "      <td>0</td>\n",
       "      <td>1</td>\n",
       "      <td>1</td>\n",
       "    </tr>\n",
       "  </tbody>\n",
       "</table>\n",
       "</div>"
      ],
      "text/plain": [
       "                                            Condition  Count_confirmed  \\\n",
       "1   Mood Disorder (Depression, Bipolar Disorder, etc)               76   \n",
       "0   Anxiety Disorder (Generalized, Social, Phobia,...               71   \n",
       "2            Attention Deficit Hyperactivity Disorder               38   \n",
       "3                      Post-traumatic Stress Disorder               37   \n",
       "10  Personality Disorder (Borderline, Antisocial, ...               26   \n",
       "5                       Obsessive-Compulsive Disorder               26   \n",
       "6                              Substance Use Disorder               25   \n",
       "8                           Stress Response Syndromes               24   \n",
       "7                                  Addictive Disorder               25   \n",
       "4            Eating Disorder (Anorexia, Bulimia, etc)               17   \n",
       "11                              Dissociative Disorder                9   \n",
       "9   Psychotic Disorder (Schizophrenia, Schizoaffec...                2   \n",
       "20                                             Autism                3   \n",
       "22                           Autism Spectrum Disorder                1   \n",
       "40                                  Suicidal Ideation                0   \n",
       "38                           Gender Identity Disorder                0   \n",
       "35                                  Asperger Syndrome                0   \n",
       "32                                   Gender Dysphoria                1   \n",
       "27                        Seasonal Affective Disorder                1   \n",
       "26                                           Burn out                1   \n",
       "24                                         Depression                1   \n",
       "23                                Autism (Asperger's)                1   \n",
       "25                                            PDD-NOS                1   \n",
       "19                                  Intimate Disorder                1   \n",
       "12                            ADD (w/o Hyperactivity)                1   \n",
       "13                   Schizotypal Personality Disorder                1   \n",
       "21                                        Transgender                1   \n",
       "49                                PDD-NOS (see above)                0   \n",
       "48  Autism - while not a \"mental illness\", still g...                0   \n",
       "47                         Attention Deficit Disorder                0   \n",
       "46  MCD (when it was diagnosed, the ultra-mega \"di...                0   \n",
       "45                     posttraumatic stress disourder                0   \n",
       "44  attention deficit disorder (but not the hypera...                0   \n",
       "43                                          Aspergers                0   \n",
       "42                              post-partum / anxiety                0   \n",
       "41                                  Depersonalisation                0   \n",
       "39                            We're all hurt, right?!                0   \n",
       "37                                           Tinnitus                0   \n",
       "36                                            Burnout                0   \n",
       "14  Combination of physical impairment (strongly n...                1   \n",
       "34                                         Asperger's                0   \n",
       "33                         depersonalization disorder                0   \n",
       "15                           Autism spectrum disorder                1   \n",
       "31                                           Asperges                1   \n",
       "30                                 PTSD (undiagnosed)                1   \n",
       "29                             Traumatic Brain Injury                1   \n",
       "28  Pervasive Developmental Disorder (Not Otherwis...                1   \n",
       "16                                   Sexual addiction                1   \n",
       "17                                  Sleeping Disorder                1   \n",
       "18  I haven't been formally diagnosed, so I felt u...                1   \n",
       "50                           autism spectrum disorder                0   \n",
       "\n",
       "    Count_suspected  Count  Total  \n",
       "1                54     68    198  \n",
       "0                53     55    179  \n",
       "2                27     29     94  \n",
       "3                15     35     87  \n",
       "10               27     22     75  \n",
       "5                19     21     66  \n",
       "6                13     22     60  \n",
       "8                24     12     60  \n",
       "7                19     13     57  \n",
       "4                 6     15     38  \n",
       "11                6      9     24  \n",
       "9                 8      3     13  \n",
       "20                1      2      6  \n",
       "22                0      1      2  \n",
       "40                1      1      2  \n",
       "38                1      1      2  \n",
       "35                1      1      2  \n",
       "32                0      1      2  \n",
       "27                0      1      2  \n",
       "26                0      1      2  \n",
       "24                0      1      2  \n",
       "23                0      1      2  \n",
       "25                0      1      2  \n",
       "19                0      1      2  \n",
       "12                0      1      2  \n",
       "13                0      1      2  \n",
       "21                0      0      1  \n",
       "49                0      1      1  \n",
       "48                0      1      1  \n",
       "47                0      1      1  \n",
       "46                0      1      1  \n",
       "45                0      1      1  \n",
       "44                0      1      1  \n",
       "43                0      1      1  \n",
       "42                1      0      1  \n",
       "41                1      0      1  \n",
       "39                1      0      1  \n",
       "37                1      0      1  \n",
       "36                1      0      1  \n",
       "14                0      0      1  \n",
       "34                1      0      1  \n",
       "33                1      0      1  \n",
       "15                0      0      1  \n",
       "31                0      0      1  \n",
       "30                0      0      1  \n",
       "29                0      0      1  \n",
       "28                0      0      1  \n",
       "16                0      0      1  \n",
       "17                0      0      1  \n",
       "18                0      0      1  \n",
       "50                0      1      1  "
      ]
     },
     "execution_count": 18,
     "metadata": {},
     "output_type": "execute_result"
    }
   ],
   "source": [
    "# Merging the data frames into final_df\n",
    "final_df = pd.merge(\n",
    "    pd.merge(\n",
    "        known_conditions,\n",
    "        suspected_conditions,\n",
    "        on='Condition', how='outer',\n",
    "        suffixes=('_confirmed', '_suspected')\n",
    "    ), diagnosed_conditions, on='Condition', how='outer')\n",
    "\n",
    "# Replacing empty values\n",
    "final_df[['Count_confirmed', 'Count_suspected', 'Count']] = final_df[\n",
    "    ['Count_confirmed', 'Count_suspected', 'Count']].replace(np.nan, 0)\n",
    "\n",
    "# Adjusting the data type\n",
    "final_df[['Count_confirmed', 'Count_suspected', 'Count']] = final_df[\n",
    "    ['Count_confirmed', 'Count_suspected', 'Count']].astype('int64')\n",
    "\n",
    "# Adding a new column called: Total\n",
    "final_df[\"Total\"] = final_df[\"Count_confirmed\"] + final_df[\"Count_suspected\"] + final_df[\"Count\"]\n",
    "final_df.sort_values(\"Total\", ascending=False, inplace=True)\n",
    "\n",
    "# Print final_df\n",
    "final_df"
   ]
  },
  {
   "cell_type": "markdown",
   "id": "fc1413c9a0366536",
   "metadata": {
    "collapsed": false,
    "jupyter": {
     "outputs_hidden": false
    }
   },
   "source": [
    "Here, we can find that there are some redundant values"
   ]
  },
  {
   "cell_type": "code",
   "execution_count": 19,
   "id": "56d8836dfbf2100d",
   "metadata": {
    "ExecuteTime": {
     "end_time": "2024-03-02T18:11:21.282590Z",
     "start_time": "2024-03-02T18:11:21.257357Z"
    },
    "collapsed": false,
    "jupyter": {
     "outputs_hidden": false
    }
   },
   "outputs": [
    {
     "data": {
      "text/plain": [
       "['ADD (w/o Hyperactivity)',\n",
       " 'Addictive Disorder',\n",
       " 'Anxiety Disorder (Generalized, Social, Phobia, etc)',\n",
       " 'Asperger Syndrome',\n",
       " \"Asperger's\",\n",
       " 'Aspergers',\n",
       " 'Asperges',\n",
       " 'Attention Deficit Disorder',\n",
       " 'Attention Deficit Hyperactivity Disorder',\n",
       " 'Autism',\n",
       " \"Autism (Asperger's)\",\n",
       " 'Autism - while not a \"mental illness\", still greatly affects how I handle anxiety',\n",
       " 'Autism Spectrum Disorder',\n",
       " 'Autism spectrum disorder',\n",
       " 'Burn out',\n",
       " 'Burnout',\n",
       " 'Combination of physical impairment (strongly near-sighted) with a possibly mental one (MCD / \"ADHD\", though its actually a stimulus filtering impairment)',\n",
       " 'Depersonalisation',\n",
       " 'Depression',\n",
       " 'Dissociative Disorder',\n",
       " 'Eating Disorder (Anorexia, Bulimia, etc)',\n",
       " 'Gender Dysphoria',\n",
       " 'Gender Identity Disorder',\n",
       " \"I haven't been formally diagnosed, so I felt uncomfortable answering, but Social Anxiety and Depression.\",\n",
       " 'Intimate Disorder',\n",
       " 'MCD (when it was diagnosed, the ultra-mega \"disorder\" ADHD didn\\'t exist yet)',\n",
       " 'Mood Disorder (Depression, Bipolar Disorder, etc)',\n",
       " 'Obsessive-Compulsive Disorder',\n",
       " 'PDD-NOS',\n",
       " 'PDD-NOS (see above)',\n",
       " 'PTSD (undiagnosed)',\n",
       " 'Personality Disorder (Borderline, Antisocial, Paranoid, etc)',\n",
       " 'Pervasive Developmental Disorder (Not Otherwise Specified)',\n",
       " 'Post-traumatic Stress Disorder',\n",
       " 'Psychotic Disorder (Schizophrenia, Schizoaffective, etc)',\n",
       " 'Schizotypal Personality Disorder',\n",
       " 'Seasonal Affective Disorder',\n",
       " 'Sexual addiction',\n",
       " 'Sleeping Disorder',\n",
       " 'Stress Response Syndromes',\n",
       " 'Substance Use Disorder',\n",
       " 'Suicidal Ideation',\n",
       " 'Tinnitus',\n",
       " 'Transgender',\n",
       " 'Traumatic Brain Injury',\n",
       " \"We're all hurt, right?!\",\n",
       " 'attention deficit disorder (but not the hyperactive version)',\n",
       " 'autism spectrum disorder',\n",
       " 'depersonalization disorder',\n",
       " 'post-partum / anxiety',\n",
       " 'posttraumatic stress disourder']"
      ]
     },
     "execution_count": 19,
     "metadata": {},
     "output_type": "execute_result"
    }
   ],
   "source": [
    "sorted(final_df[\"Condition\"].to_list())"
   ]
  },
  {
   "cell_type": "code",
   "execution_count": 20,
   "id": "5a87cce495fde55a",
   "metadata": {
    "ExecuteTime": {
     "end_time": "2024-03-02T18:11:21.737279Z",
     "start_time": "2024-03-02T18:11:21.287256Z"
    },
    "collapsed": false,
    "jupyter": {
     "outputs_hidden": false
    }
   },
   "outputs": [
    {
     "data": {
      "image/png": "[encoded data removed]",
      "text/plain": [
       "<Figure size 1000x600 with 1 Axes>"
      ]
     },
     "metadata": {},
     "output_type": "display_data"
    }
   ],
   "source": [
    "# Create a new DataFrame for counting unique values and their counts from both columns\n",
    "is_affected = pd.DataFrame(data[\n",
    "                               \"If you have a mental health issue, do you feel that it interferes with your work when being treated effectively?\"].value_counts()).reset_index()\n",
    "is_not_affected = pd.DataFrame(data[\n",
    "                                   \"If you have a mental health issue, do you feel that it interferes with your work when NOT being treated effectively?\"\n",
    "                               ].value_counts()).reset_index()\n",
    "\n",
    "is_affected.columns = is_not_affected.columns = [\"Categories\", \"Count\"]\n",
    "\n",
    "# Merging the data frames into final_df\n",
    "merged_df = pd.merge(\n",
    "        is_affected,\n",
    "        is_not_affected,\n",
    "        on='Categories', how='outer',\n",
    "        suffixes=('_affected', '_not_affecting'))\n",
    "\n",
    "# Melt the DataFrame to create a \"long-form\" representation\n",
    "melted = pd.melt(merged_df, id_vars='Categories', var_name='Condition', value_name='Count')\n",
    "\n",
    "# Plot side-by-side bars using Seaborn\n",
    "plt.figure(figsize=(10, 6))\n",
    "sns.barplot(data=melted, x='Categories', y='Count', hue='Condition')\n",
    "plt.title('Impact of Mental Health Issue on Work')\n",
    "plt.xlabel('Categories')\n",
    "plt.ylabel('Count')\n",
    "plt.show()"
   ]
  },
  {
   "cell_type": "markdown",
   "id": "805de265f0278887",
   "metadata": {
    "collapsed": false,
    "jupyter": {
     "outputs_hidden": false
    }
   },
   "source": [
    "__Insights__:\n",
    "- These columns require some feature engineering techniques to transform it from a text data type into new columns with numerical values of 0 and 1.\n",
    "- Since there are some extra missing values, adopting an adequate approach to fill the missing values is required. \n",
    "- Redundancy should be removed by standardizing the respondents' input.\n",
    "- The __MAJOR__ conditions are: \n",
    "    - Mood Disorder (Depression, Bipolar Disorder, etc)\n",
    "    - Anxiety Disorder (Generalized, Social, Phobia, etc)\n",
    "    - Attention Deficit Hyperactivity Disorder\n",
    "    - Post-traumatic Stress Disorder\n",
    "    - Personality Disorder (Borderline, Antisocial, Paranoid, etc)\n",
    "    - Obsessive-Compulsive Disorder\n",
    "    - Substance Use Disorder\n",
    "    - Stress Response Syndromes\n",
    "    - Addictive Disorder\n",
    "    - Eating Disorder (Anorexia, Bulimia, etc)\n",
    "- The effect of these conditions according to our respondents doesn't affect the productivity of an employee __Often__ but it does __RARELY__."
   ]
  },
  {
   "cell_type": "markdown",
   "id": "b0d191465f2b9365",
   "metadata": {
    "collapsed": false,
    "jupyter": {
     "outputs_hidden": false
    }
   },
   "source": [
    "### 2.7 Columns 55 to 56\n",
    "for these columns, running __.describe()__ & __value_counts()__ methods is enough to unfold the information we seek."
   ]
  },
  {
   "cell_type": "code",
   "execution_count": 21,
   "id": "1822e5ef98f15660",
   "metadata": {
    "ExecuteTime": {
     "end_time": "2024-03-02T18:11:21.768799Z",
     "start_time": "2024-03-02T18:11:21.741141Z"
    },
    "collapsed": false,
    "jupyter": {
     "outputs_hidden": false
    }
   },
   "outputs": [
    {
     "data": {
      "text/plain": [
       "count    1433.000000\n",
       "mean       34.286113\n",
       "std        11.290931\n",
       "min         3.000000\n",
       "25%        28.000000\n",
       "50%        33.000000\n",
       "75%        39.000000\n",
       "max       323.000000\n",
       "Name: What is your age?, dtype: float64"
      ]
     },
     "execution_count": 21,
     "metadata": {},
     "output_type": "execute_result"
    }
   ],
   "source": [
    "data[\"What is your age?\"].describe()"
   ]
  },
  {
   "cell_type": "code",
   "execution_count": 22,
   "id": "aa62a59774e6e94",
   "metadata": {
    "ExecuteTime": {
     "end_time": "2024-03-02T18:11:21.806227Z",
     "start_time": "2024-03-02T18:11:21.773225Z"
    },
    "collapsed": false,
    "jupyter": {
     "outputs_hidden": false
    }
   },
   "outputs": [
    {
     "data": {
      "text/plain": [
       "What is your gender?\n",
       "Male           610\n",
       "male           249\n",
       "Female         153\n",
       "female          95\n",
       "M               86\n",
       "              ... \n",
       "cis male         1\n",
       "Human            1\n",
       "Genderfluid      1\n",
       "Enby             1\n",
       "MALE             1\n",
       "Name: count, Length: 70, dtype: int64"
      ]
     },
     "execution_count": 22,
     "metadata": {},
     "output_type": "execute_result"
    }
   ],
   "source": [
    "data[\"What is your gender?\"].value_counts()"
   ]
  },
  {
   "cell_type": "markdown",
   "id": "3483699f64fe1fa1",
   "metadata": {
    "collapsed": false,
    "jupyter": {
     "outputs_hidden": false
    }
   },
   "source": [
    "__Insights__ : \n",
    "- An obvious typos must be handled due to the existence of unreasonable values 3, 15, and 323 in the age section.\n",
    "- The redundancy in the gender section must be addressed as well.\n"
   ]
  },
  {
   "cell_type": "markdown",
   "id": "1911664d153b51bf",
   "metadata": {
    "collapsed": false,
    "jupyter": {
     "outputs_hidden": false
    }
   },
   "source": [
    "### 2.8 Columns 57 to 60\n",
    "These columns look fine with no unusual inputs."
   ]
  },
  {
   "cell_type": "code",
   "execution_count": 23,
   "id": "8d240826cd36ae17",
   "metadata": {
    "ExecuteTime": {
     "end_time": "2024-03-02T18:11:21.837366Z",
     "start_time": "2024-03-02T18:11:21.811861Z"
    },
    "collapsed": false,
    "jupyter": {
     "outputs_hidden": false
    }
   },
   "outputs": [],
   "source": [
    "# Example data (replace this with your actual data)\n",
    "geo_employee_residency = pd.DataFrame(data[\"What US state or territory do you live in?\"].value_counts()).reset_index()\n",
    "geo_employee_work = pd.DataFrame(data[\"What US state or territory do you work in?\"].value_counts()).reset_index()\n",
    "\n",
    "geo_employee_work.columns = geo_employee_residency.columns = [\"States\", \"Count\"]"
   ]
  },
  {
   "cell_type": "code",
   "execution_count": 24,
   "id": "cfa978b23e5f0350",
   "metadata": {
    "ExecuteTime": {
     "end_time": "2024-03-02T18:11:21.868207Z",
     "start_time": "2024-03-02T18:11:21.846421Z"
    },
    "collapsed": false,
    "jupyter": {
     "outputs_hidden": false
    }
   },
   "outputs": [],
   "source": [
    "from geopy.geocoders import Nominatim\n",
    "\n",
    "def get_state_coordinates(state):\n",
    "    geo_locator = Nominatim(user_agent=\"my_geocoder\")\n",
    "    location = geo_locator.geocode(state + \", USA\")\n",
    "    if location:\n",
    "        return location.latitude, location.longitude\n",
    "    else:\n",
    "        return None"
   ]
  },
  {
   "cell_type": "code",
   "execution_count": 25,
   "id": "af3fffd17675b2a3",
   "metadata": {
    "ExecuteTime": {
     "end_time": "2024-03-02T18:11:59.259890Z",
     "start_time": "2024-03-02T18:11:21.872427Z"
    },
    "collapsed": false,
    "jupyter": {
     "outputs_hidden": false
    }
   },
   "outputs": [
    {
     "data": {
      "text/plain": [
       "{'California': (36.7014631, -118.755997),\n",
       " 'Illinois': (40.0796606, -89.4337288),\n",
       " 'New York': (40.7127281, -74.0060152),\n",
       " 'Michigan': (43.6211955, -84.6824346),\n",
       " 'Texas': (31.2638905, -98.5456116),\n",
       " 'Minnesota': (45.9896587, -94.6113288),\n",
       " 'Washington': (38.8950368, -77.0365427),\n",
       " 'Oregon': (43.9792797, -120.737257),\n",
       " 'Pennsylvania': (40.9699889, -77.7278831),\n",
       " 'Colorado': (38.7251776, -105.607716),\n",
       " 'Tennessee': (35.7730076, -86.2820081),\n",
       " 'Massachusetts': (42.3788774, -72.032366),\n",
       " 'Indiana': (40.3270127, -86.1746933),\n",
       " 'Ohio': (40.2253569, -82.6881395),\n",
       " 'North Carolina': (35.6729639, -79.0392919),\n",
       " 'Florida': (27.7567667, -81.4639835),\n",
       " 'Wisconsin': (44.4308975, -89.6884637),\n",
       " 'Oklahoma': (34.9550817, -97.2684063),\n",
       " 'Maryland': (39.5162401, -76.9382069),\n",
       " 'Georgia': (32.3293809, -83.1137366),\n",
       " 'Kansas': (38.27312, -98.5821872),\n",
       " 'Virginia': (37.1232245, -78.4927721),\n",
       " 'Nebraska': (41.7370229, -99.5873816),\n",
       " 'Missouri': (38.7604815, -92.5617875),\n",
       " 'District of Columbia': (38.89384735, -76.98804281910948),\n",
       " 'New Jersey': (40.0757384, -74.4041622),\n",
       " 'Utah': (39.4225192, -111.714358),\n",
       " 'Arizona': (34.395342, -111.763275),\n",
       " 'Connecticut': (41.6500201, -72.7342163),\n",
       " 'Vermont': (44.5990718, -72.5002608),\n",
       " 'Iowa': (41.9216734, -93.3122705),\n",
       " 'Maine': (45.709097, -68.8590201),\n",
       " 'Kentucky': (37.5726028, -85.1551411),\n",
       " 'New Mexico': (34.5802074, -105.996047),\n",
       " 'South Dakota': (44.6471761, -100.348761),\n",
       " 'Alabama': (33.2588817, -86.8295337),\n",
       " 'North Dakota': (47.6201461, -100.540737),\n",
       " 'New Hampshire': (43.4849133, -71.6553992),\n",
       " 'Nevada': (39.5158825, -116.853722),\n",
       " 'Louisiana': (30.8703881, -92.007126),\n",
       " 'Rhode Island': (41.7962409, -71.5992372),\n",
       " 'Idaho': (43.6447642, -114.015407),\n",
       " 'Alaska': (64.4459613, -149.680909),\n",
       " 'West Virginia': (38.4758406, -80.8408415),\n",
       " 'South Carolina': (33.6874388, -80.4363743),\n",
       " 'Hawaii': (19.593801499999998, -155.42837009716908),\n",
       " 'Montana': (47.3752671, -109.638757),\n",
       " 'Delaware': (38.6920451, -75.4013315)}"
      ]
     },
     "execution_count": 25,
     "metadata": {},
     "output_type": "execute_result"
    }
   ],
   "source": [
    "coordinates_work = {}\n",
    "\n",
    "for element in geo_employee_work[\"States\"].to_list() :\n",
    "    value = get_state_coordinates(element)\n",
    "    coordinates_work[element] = value\n",
    "\n",
    "coordinates_work"
   ]
  },
  {
   "cell_type": "code",
   "execution_count": 26,
   "id": "817f5cbbbc6feff5",
   "metadata": {
    "ExecuteTime": {
     "end_time": "2024-03-02T18:12:33.366315Z",
     "start_time": "2024-03-02T18:11:59.266409Z"
    },
    "collapsed": false,
    "jupyter": {
     "outputs_hidden": false
    }
   },
   "outputs": [
    {
     "data": {
      "text/plain": [
       "{'California': (36.7014631, -118.755997),\n",
       " 'Illinois': (40.0796606, -89.4337288),\n",
       " 'Michigan': (43.6211955, -84.6824346),\n",
       " 'New York': (40.7127281, -74.0060152),\n",
       " 'Washington': (38.8950368, -77.0365427),\n",
       " 'Texas': (31.2638905, -98.5456116),\n",
       " 'Minnesota': (45.9896587, -94.6113288),\n",
       " 'Oregon': (43.9792797, -120.737257),\n",
       " 'Pennsylvania': (40.9699889, -77.7278831),\n",
       " 'Colorado': (38.7251776, -105.607716),\n",
       " 'Tennessee': (35.7730076, -86.2820081),\n",
       " 'Ohio': (40.2253569, -82.6881395),\n",
       " 'Indiana': (40.3270127, -86.1746933),\n",
       " 'Massachusetts': (42.3788774, -72.032366),\n",
       " 'North Carolina': (35.6729639, -79.0392919),\n",
       " 'Florida': (27.7567667, -81.4639835),\n",
       " 'Maryland': (39.5162401, -76.9382069),\n",
       " 'Virginia': (37.1232245, -78.4927721),\n",
       " 'Kansas': (38.27312, -98.5821872),\n",
       " 'Georgia': (32.3293809, -83.1137366),\n",
       " 'Wisconsin': (44.4308975, -89.6884637),\n",
       " 'Oklahoma': (34.9550817, -97.2684063),\n",
       " 'Missouri': (38.7604815, -92.5617875),\n",
       " 'Nebraska': (41.7370229, -99.5873816),\n",
       " 'New Jersey': (40.0757384, -74.4041622),\n",
       " 'Utah': (39.4225192, -111.714358),\n",
       " 'Iowa': (41.9216734, -93.3122705),\n",
       " 'New Hampshire': (43.4849133, -71.6553992),\n",
       " 'Arizona': (34.395342, -111.763275),\n",
       " 'Maine': (45.709097, -68.8590201),\n",
       " 'Connecticut': (41.6500201, -72.7342163),\n",
       " 'Vermont': (44.5990718, -72.5002608),\n",
       " 'Kentucky': (37.5726028, -85.1551411),\n",
       " 'South Dakota': (44.6471761, -100.348761),\n",
       " 'North Dakota': (47.6201461, -100.540737),\n",
       " 'New Mexico': (34.5802074, -105.996047),\n",
       " 'Alabama': (33.2588817, -86.8295337),\n",
       " 'Rhode Island': (41.7962409, -71.5992372),\n",
       " 'Idaho': (43.6447642, -114.015407),\n",
       " 'District of Columbia': (38.89384735, -76.98804281910948),\n",
       " 'Nevada': (39.5158825, -116.853722),\n",
       " 'West Virginia': (38.4758406, -80.8408415),\n",
       " 'Louisiana': (30.8703881, -92.007126),\n",
       " 'Alaska': (64.4459613, -149.680909),\n",
       " 'South Carolina': (33.6874388, -80.4363743),\n",
       " 'Montana': (47.3752671, -109.638757),\n",
       " 'Delaware': (38.6920451, -75.4013315)}"
      ]
     },
     "execution_count": 26,
     "metadata": {},
     "output_type": "execute_result"
    }
   ],
   "source": [
    "coordinates_residency ={}\n",
    "\n",
    "for element in geo_employee_residency[\"States\"].to_list() :\n",
    "    value = get_state_coordinates(element)\n",
    "    coordinates_residency[element] = value\n",
    "\n",
    "coordinates_residency"
   ]
  },
  {
   "cell_type": "code",
   "execution_count": 27,
   "id": "52ee754ba6a98c16",
   "metadata": {
    "ExecuteTime": {
     "end_time": "2024-03-02T18:12:39.052804Z",
     "start_time": "2024-03-02T18:12:33.369256Z"
    },
    "collapsed": false,
    "jupyter": {
     "outputs_hidden": false
    }
   },
   "outputs": [
    {
     "ename": "ValueError",
     "evalue": "Expected two (lat, lon) values for location, instead got: [].",
     "output_type": "error",
     "traceback": [
      "\u001b[1;31m---------------------------------------------------------------------------\u001b[0m",
      "\u001b[1;31mValueError\u001b[0m                                Traceback (most recent call last)",
      "Cell \u001b[1;32mIn[27], line 12\u001b[0m\n\u001b[0;32m      7\u001b[0m heat_data \u001b[38;5;241m=\u001b[39m [\n\u001b[0;32m      8\u001b[0m     []\n\u001b[0;32m      9\u001b[0m ]\n\u001b[0;32m     11\u001b[0m \u001b[38;5;66;03m# Create the heatmap\u001b[39;00m\n\u001b[1;32m---> 12\u001b[0m \u001b[43mHeatMap\u001b[49m\u001b[43m(\u001b[49m\u001b[43mheat_data\u001b[49m\u001b[43m)\u001b[49m\u001b[38;5;241m.\u001b[39madd_to(map_us)\n\u001b[0;32m     14\u001b[0m \u001b[38;5;66;03m# Display the map\u001b[39;00m\n\u001b[0;32m     15\u001b[0m map_us\n",
      "File \u001b[1;32m~\\anaconda3\\lib\\site-packages\\folium\\plugins\\heat_map.py:82\u001b[0m, in \u001b[0;36mHeatMap.__init__\u001b[1;34m(self, data, name, min_opacity, max_zoom, radius, blur, gradient, overlay, control, show, **kwargs)\u001b[0m\n\u001b[0;32m     80\u001b[0m \u001b[38;5;28mself\u001b[39m\u001b[38;5;241m.\u001b[39m_name \u001b[38;5;241m=\u001b[39m \u001b[38;5;124m\"\u001b[39m\u001b[38;5;124mHeatMap\u001b[39m\u001b[38;5;124m\"\u001b[39m\n\u001b[0;32m     81\u001b[0m data \u001b[38;5;241m=\u001b[39m if_pandas_df_convert_to_numpy(data)\n\u001b[1;32m---> 82\u001b[0m \u001b[38;5;28mself\u001b[39m\u001b[38;5;241m.\u001b[39mdata \u001b[38;5;241m=\u001b[39m [\n\u001b[0;32m     83\u001b[0m     [\u001b[38;5;241m*\u001b[39mvalidate_location(line[:\u001b[38;5;241m2\u001b[39m]), \u001b[38;5;241m*\u001b[39mline[\u001b[38;5;241m2\u001b[39m:]] \u001b[38;5;28;01mfor\u001b[39;00m line \u001b[38;5;129;01min\u001b[39;00m data  \u001b[38;5;66;03m# noqa: E999\u001b[39;00m\n\u001b[0;32m     84\u001b[0m ]\n\u001b[0;32m     85\u001b[0m \u001b[38;5;28;01mif\u001b[39;00m np\u001b[38;5;241m.\u001b[39many(np\u001b[38;5;241m.\u001b[39misnan(\u001b[38;5;28mself\u001b[39m\u001b[38;5;241m.\u001b[39mdata)):\n\u001b[0;32m     86\u001b[0m     \u001b[38;5;28;01mraise\u001b[39;00m \u001b[38;5;167;01mValueError\u001b[39;00m(\u001b[38;5;124m\"\u001b[39m\u001b[38;5;124mdata may not contain NaNs.\u001b[39m\u001b[38;5;124m\"\u001b[39m)\n",
      "File \u001b[1;32m~\\anaconda3\\lib\\site-packages\\folium\\plugins\\heat_map.py:83\u001b[0m, in \u001b[0;36m<listcomp>\u001b[1;34m(.0)\u001b[0m\n\u001b[0;32m     80\u001b[0m \u001b[38;5;28mself\u001b[39m\u001b[38;5;241m.\u001b[39m_name \u001b[38;5;241m=\u001b[39m \u001b[38;5;124m\"\u001b[39m\u001b[38;5;124mHeatMap\u001b[39m\u001b[38;5;124m\"\u001b[39m\n\u001b[0;32m     81\u001b[0m data \u001b[38;5;241m=\u001b[39m if_pandas_df_convert_to_numpy(data)\n\u001b[0;32m     82\u001b[0m \u001b[38;5;28mself\u001b[39m\u001b[38;5;241m.\u001b[39mdata \u001b[38;5;241m=\u001b[39m [\n\u001b[1;32m---> 83\u001b[0m     [\u001b[38;5;241m*\u001b[39m\u001b[43mvalidate_location\u001b[49m\u001b[43m(\u001b[49m\u001b[43mline\u001b[49m\u001b[43m[\u001b[49m\u001b[43m:\u001b[49m\u001b[38;5;241;43m2\u001b[39;49m\u001b[43m]\u001b[49m\u001b[43m)\u001b[49m, \u001b[38;5;241m*\u001b[39mline[\u001b[38;5;241m2\u001b[39m:]] \u001b[38;5;28;01mfor\u001b[39;00m line \u001b[38;5;129;01min\u001b[39;00m data  \u001b[38;5;66;03m# noqa: E999\u001b[39;00m\n\u001b[0;32m     84\u001b[0m ]\n\u001b[0;32m     85\u001b[0m \u001b[38;5;28;01mif\u001b[39;00m np\u001b[38;5;241m.\u001b[39many(np\u001b[38;5;241m.\u001b[39misnan(\u001b[38;5;28mself\u001b[39m\u001b[38;5;241m.\u001b[39mdata)):\n\u001b[0;32m     86\u001b[0m     \u001b[38;5;28;01mraise\u001b[39;00m \u001b[38;5;167;01mValueError\u001b[39;00m(\u001b[38;5;124m\"\u001b[39m\u001b[38;5;124mdata may not contain NaNs.\u001b[39m\u001b[38;5;124m\"\u001b[39m)\n",
      "File \u001b[1;32m~\\anaconda3\\lib\\site-packages\\folium\\utilities.py:54\u001b[0m, in \u001b[0;36mvalidate_location\u001b[1;34m(location)\u001b[0m\n\u001b[0;32m     48\u001b[0m     \u001b[38;5;28;01mraise\u001b[39;00m \u001b[38;5;167;01mTypeError\u001b[39;00m(\n\u001b[0;32m     49\u001b[0m         \u001b[38;5;124m\"\u001b[39m\u001b[38;5;124mLocation should be a sized variable, \u001b[39m\u001b[38;5;124m\"\u001b[39m\n\u001b[0;32m     50\u001b[0m         \u001b[38;5;124m\"\u001b[39m\u001b[38;5;124mfor example a list or a tuple, instead got \u001b[39m\u001b[38;5;124m\"\u001b[39m\n\u001b[0;32m     51\u001b[0m         \u001b[38;5;124m\"\u001b[39m\u001b[38;5;132;01m{!r}\u001b[39;00m\u001b[38;5;124m of type \u001b[39m\u001b[38;5;132;01m{}\u001b[39;00m\u001b[38;5;124m.\u001b[39m\u001b[38;5;124m\"\u001b[39m\u001b[38;5;241m.\u001b[39mformat(location, \u001b[38;5;28mtype\u001b[39m(location))\n\u001b[0;32m     52\u001b[0m     )\n\u001b[0;32m     53\u001b[0m \u001b[38;5;28;01mif\u001b[39;00m \u001b[38;5;28mlen\u001b[39m(location) \u001b[38;5;241m!=\u001b[39m \u001b[38;5;241m2\u001b[39m:\n\u001b[1;32m---> 54\u001b[0m     \u001b[38;5;28;01mraise\u001b[39;00m \u001b[38;5;167;01mValueError\u001b[39;00m(\n\u001b[0;32m     55\u001b[0m         \u001b[38;5;124m\"\u001b[39m\u001b[38;5;124mExpected two (lat, lon) values for location, \u001b[39m\u001b[38;5;124m\"\u001b[39m\n\u001b[0;32m     56\u001b[0m         \u001b[38;5;124m\"\u001b[39m\u001b[38;5;124minstead got: \u001b[39m\u001b[38;5;132;01m{!r}\u001b[39;00m\u001b[38;5;124m.\u001b[39m\u001b[38;5;124m\"\u001b[39m\u001b[38;5;241m.\u001b[39mformat(location)\n\u001b[0;32m     57\u001b[0m     )\n\u001b[0;32m     58\u001b[0m \u001b[38;5;28;01mtry\u001b[39;00m:\n\u001b[0;32m     59\u001b[0m     coords \u001b[38;5;241m=\u001b[39m (location[\u001b[38;5;241m0\u001b[39m], location[\u001b[38;5;241m1\u001b[39m])\n",
      "\u001b[1;31mValueError\u001b[0m: Expected two (lat, lon) values for location, instead got: []."
     ]
    }
   ],
   "source": [
    "from folium.plugins import HeatMap\n",
    "\n",
    "# Create a map centered at the United States\n",
    "map_us = folium.Map(location=[37.0902, -95.7129], zoom_start=4)\n",
    "\n",
    "# Create a list of tuples containing the latitude and longitude of each state and its count\n",
    "heat_data = [\n",
    "    []\n",
    "]\n",
    "\n",
    "# Create the heatmap\n",
    "HeatMap(heat_data).add_to(map_us)\n",
    "\n",
    "# Display the map\n",
    "map_us"
   ]
  },
  {
   "cell_type": "code",
   "execution_count": null,
   "id": "627c1d8b84e48e3b",
   "metadata": {
    "ExecuteTime": {
     "end_time": "2024-03-02T18:12:39.053493Z",
     "start_time": "2024-03-02T18:12:39.053493Z"
    },
    "collapsed": false,
    "jupyter": {
     "outputs_hidden": false
    }
   },
   "outputs": [],
   "source": [
    "# Create a geolocator object\n",
    "geolocator = Nominatim(user_agent=\"my_geocoder\")\n",
    "\n",
    "# Example list of cities in the United States\n",
    "cities = ['New York', 'Los Angeles', 'Chicago', 'Houston', 'Phoenix']\n",
    "\n",
    "# Dictionary to store city coordinates\n",
    "city_coordinates = {}\n",
    "\n",
    "# Retrieve coordinates for each city\n",
    "for city in cities:\n",
    "    location = geolocator.geocode(city)\n",
    "    if location:\n",
    "        city_coordinates[city] = (location.latitude, location.longitude)\n",
    "\n",
    "print(city_coordinates)"
   ]
  },
  {
   "cell_type": "code",
   "execution_count": null,
   "id": "7698cf8a1b5e23fa",
   "metadata": {
    "ExecuteTime": {
     "end_time": "2024-03-02T18:12:39.068547Z",
     "start_time": "2024-03-02T18:12:39.068547Z"
    },
    "collapsed": false,
    "jupyter": {
     "outputs_hidden": false
    }
   },
   "outputs": [],
   "source": [
    "import folium\n",
    "from folium.plugins import HeatMap\n",
    "from geopy.geocoders import Nominatim\n",
    "import pandas as pd\n",
    "\n",
    "# Function to get coordinates of a state using geopy\n",
    "def get_state_coordinates(state_name):\n",
    "    geolocator = Nominatim(user_agent=\"my_geocoder\")\n",
    "    location = geolocator.geocode(state_name + \", USA\")\n",
    "    if location:\n",
    "        return location.latitude, location.longitude\n",
    "    else:\n",
    "        return None\n",
    "\n",
    "# Example data - replace this with your own data\n",
    "data = {\n",
    "    'State': ['California', 'New York', 'Texas', 'Florida', 'Illinois'],\n",
    "    'Value': [100, 200, 150, 300, 250]\n",
    "}\n",
    "\n",
    "# Geocode the states and create a DataFrame with coordinates\n",
    "coordinates = []\n",
    "for state in data['State']:\n",
    "    coords = get_state_coordinates(state)\n",
    "    if coords:\n",
    "        coordinates.append({'State': state, 'Latitude': coords[0], 'Longitude': coords[1]})\n",
    "df = pd.DataFrame(coordinates)\n",
    "\n",
    "# Create a base map centered around the US\n",
    "us_map = folium.Map(location=[37.0902, -95.7129], zoom_start=4)\n",
    "\n",
    "# Convert data to list of [latitude, longitude] points\n",
    "heat_data = [[row['Latitude'], row['Longitude'], row['Value']] for index, row in df.iterrows()]\n",
    "\n",
    "# Create HeatMap layer\n",
    "HeatMap(heat_data).add_to(us_map)\n",
    "\n",
    "# Save the map to an HTML file\n",
    "us_map.save(\"heatmap_us_map.html\")\n"
   ]
  },
  {
   "cell_type": "markdown",
   "id": "a04d256619ddf7d1",
   "metadata": {
    "collapsed": false,
    "jupyter": {
     "outputs_hidden": false
    }
   },
   "source": [
    "# Summary\n",
    "The data exploration of this dataset showed various aspects and insights. Some of which will have to be handled in the phase of pre-processing are included here :\n",
    "- Reason 1.\n",
    "- Reason 2.\n",
    "- Reason 3."
   ]
  },
  {
   "cell_type": "markdown",
   "id": "d18fd24c4867f3f5",
   "metadata": {
    "collapsed": false,
    "jupyter": {
     "outputs_hidden": false
    }
   },
   "source": [
    "## Authors"
   ]
  },
  {
   "cell_type": "markdown",
   "id": "fb46f67494873970",
   "metadata": {
    "collapsed": false,
    "jupyter": {
     "outputs_hidden": false
    }
   },
   "source": [
    "<a href=\"https://www.linkedin.com/in/joseph-s-50398b136/?utm_medium=Exinfluencer&utm_source=Exinfluencer&utm_content=000026UJ&utm_term=10006555&utm_id=NA-SkillsNetwork-Channel-SkillsNetworkCoursesIBMDS0321ENSkillsNetwork865-2023-01-01\">Joseph Santarcangelo</a> has a PhD in Electrical Engineering, his research focused on using machine learning, signal processing, and computer vision to determine how videos impact human cognition. Joseph has been working for IBM since he completed his PhD."
   ]
  },
  {
   "cell_type": "markdown",
   "id": "e98ab594e72e06e0",
   "metadata": {
    "collapsed": false,
    "jupyter": {
     "outputs_hidden": false
    }
   },
   "source": [
    "<a href=\"https://www.linkedin.com/in/nayefaboutayoun/?utm_medium=Exinfluencer&utm_source=Exinfluencer&utm_content=000026UJ&utm_term=10006555&utm_id=NA-SkillsNetwork-Channel-SkillsNetworkCoursesIBMDS0321ENSkillsNetwork865-2023-01-01\">Nayef Abou Tayoun</a> is a Data Scientist at IBM and pursuing a Master of Management in Artificial intelligence degree at Queen's University."
   ]
  },
  {
   "cell_type": "markdown",
   "id": "1ad0f54b640cc31d",
   "metadata": {
    "collapsed": false,
    "jupyter": {
     "outputs_hidden": false
    }
   },
   "source": [
    "## Change Log"
   ]
  },
  {
   "cell_type": "markdown",
   "id": "8fd7d18d685c9dd5",
   "metadata": {
    "collapsed": false,
    "jupyter": {
     "outputs_hidden": false
    }
   },
   "source": [
    "| Date       | Version | Changed By    | Change Description      |\n",
    "|------------|---------|---------------|-------------------------|\n",
    "| 2021-10-12 | 1.1     | Lakshmi Holla | Modified markdown       |\n",
    "| 2020-09-20 | 1.0     | Joseph        | Modified Multiple Areas |\n",
    "| 2020-11-10 | 1.1     | Nayef         | updating the input data |"
   ]
  }
 ],
 "metadata": {
  "kernelspec": {
   "display_name": "Python 3 (ipykernel)",
   "language": "python",
   "name": "python3"
  },
  "language_info": {
   "codemirror_mode": {
    "name": "ipython",
    "version": 3
   },
   "file_extension": ".py",
   "mimetype": "text/x-python",
   "name": "python",
   "nbconvert_exporter": "python",
   "pygments_lexer": "ipython3",
   "version": "3.9.7"
  }
 },
 "nbformat": 4,
 "nbformat_minor": 5
}
