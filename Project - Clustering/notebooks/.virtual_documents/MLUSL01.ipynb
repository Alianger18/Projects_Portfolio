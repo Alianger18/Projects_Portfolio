








from pathlib import Path  # Path library for generating OS paths efficiently
import pandas as pd  # Data analysis library
import numpy as np  # Python library for numerical computation 
import seaborn as sns  # Powerful data visualization library
import matplotlib.pyplot as plt  # The base library for plotting graphs in python





# Formulating the directory 
path = Path.cwd().parent

# Loading the data
data = pd.read_csv(f'{path}/data/mental-heath-in-tech-2016_20161114.csv')
data.head()


print(f"The data is formed through {data.shape[1]} columns/features and {data.shape[0]} rows/records.")


data.describe()





# Initiating an empty list data_info 
data_info = []

# Gathering the attributes in one place 
for index, column in enumerate(data.columns):
    info = {
        'name': column,  # The name of the column 
        'empty_values': data[column].isna().sum(),  # The number of empty values in a column
        'unique_values': data[column].unique().__len__(),  # The number of unique values 
        'data_type': data[column].dtypes  # The data type of column
    }

    # Appending the values  
    data_info.append(info)

# Create a DataFrame from the gathered information
null_categories_data = pd.DataFrame(data_info).sort_values(by=['empty_values'], ascending=False)
null_categories_data





# Performing aggregations on the first few columns using the value_counts method
aggregations = {
    "Number of employees": data["Are you self-employed?"].value_counts()[0],
    "Number of self-employed": data["Are you self-employed?"].value_counts()[1],
    "Number of employees in IT related companies":
        data['Is your employer primarily a tech company/organization?'].value_counts()[1],
    "Number of employees in non-IT related companies":
        data['Is your employer primarily a tech company/organization?'].value_counts()[0],
    "Number of employees in non-IT related companies with IT related role":
        data["Is your primary role within your company related to tech/IT?"].value_counts()[1],
    "Number of employees in non-IT related companies with non-IT related role":
        data["Is your primary role within your company related to tech/IT?"].value_counts()[0]
}

# Print the dictionary
aggregations





# Setting the labels and sizes lists 
labels = [
    'Self-employed',
    'Employees in IT related companies',
    'Employees with IT-related role in a non-IT related company',
    'Employees with non-IT-related role in a non-IT related company']

sizes = [
    aggregations["Number of self-employed"],
    aggregations["Number of employees in IT related companies"],
    aggregations["Number of employees in non-IT related companies with IT related role"],
    aggregations["Number of employees in non-IT related companies with non-IT related role"]
]

# Setting the style of the visuals
plt.style.use('fivethirtyeight')

# Starting fig1 and ax1 subplots objects
fig1, ax = plt.subplots(figsize=(25, 10))
ax.pie(
    sizes,  # List of values 
    autopct='%1.3f%%',  # Showing 3 numbers after the decimal point 
    textprops={'fontsize': 22}  # Setting the size of the ratios 
)

ax.legend(
    labels=labels,  # List of labels
    loc="upper left",  # Position of the legend
    fontsize=14)  # Size of the legend

# Plotting the figure
plt.show()








# Performing aggregation using .value_counts()
organization_size = pd.DataFrame(data["How many employees does your company or organization have?"].value_counts())
organization_size


# Plotting horizontal bars plot with proper y-axis label
organization_size.plot(kind='barh')
plt.ylabel("Organization Size")

# Showing the plot
plt.show()














# Performing aggregation using .value_counts()
data["Do you have previous employers?"].value_counts()








# Performing aggregations on the columns, then saving them into dictionaries
phi = data[
    "Would you be willing to bring up a physical health issue with a potential employer in an interview?"].value_counts().to_dict()
mhi = data[
    "Would you bring up a mental health issue with a potential employer in an interview?"].value_counts().to_dict()

# Setting the components for the chart
categories = ['Yes', 'Maybe', 'No']
phi_values = [phi['Yes'], phi['Maybe'], phi['No']]
mhi_values = [mhi['Yes'], mhi['Maybe'], mhi['No']]

# Set the width of the bars
bar_width = 0.35

# Create figure and axis
fig, ax = plt.subplots()

# Plot the first set of bars
bar1 = ax.bar(np.arange(len(categories)), phi_values, bar_width, color='blue', label='Physical health issues')

# Calculate the position for the second set of bars
bar2_position = np.arange(len(categories)) + bar_width

# Plot the second set of bars
bar2 = ax.bar( bar2_position, mhi_values, bar_width, color='red', label='Mental health issues')

# Set labels and ticks
ax.set_xlabel('Categories')
ax.set_ylabel('Count')
ax.set_xticks(np.arange(len(categories)))
ax.set_xticklabels(categories)

# Add legend
bars = [bar1, bar2]
labels = [bar.get_label() for bar in bars]
ax.legend(bars, labels)

# Show plot
plt.title('Intention to reveal physical/mental health issues')
plt.show()





# Saving the columns names in a list
columns = [
    "Do you feel that being identified as a person with a mental health issue would hurt your career?",
    "Do you think that team members/co-workers would view you more negatively if they knew you suffered from a mental health issue?",
    "How willing would you be to share with friends and family that you have a mental illness?"
]

# Saving the prospected charts' titles in a list
titles = [
    "Negative impact on the career",
    "Low status probability",
    "Openness about mental health issue"
]

# Create a figure and three subplots
fig3, axes = plt.subplots(1, 3, figsize=(30, 10))

# Starting the for loop
for index, column in enumerate(columns):
    # Setting the dictionary with the relevant details
    the_dict = data[column].value_counts().to_dict()

    # Solving the categories and their values
    categories = list(the_dict.keys())
    values = [the_dict[category] for category in categories]  # Corrected

    # Plotting the chart without labels and percentages
    axes[index].pie(values, labels=None, autopct='%1.1f%%', textprops={'fontsize': 22}, startangle=90)
    axes[index].set_title(titles[index])

    # Adding legend under each chart with extra space at the bottom
    axes[index].legend(categories, loc='upper center', bbox_to_anchor=(1, 1))

# Adjust layout
plt.tight_layout()

# Show the plot
plt.show()





# 
correlation_matrix = data[[
    "Do you have a family history of mental illness?",
    "Have you had a mental health disorder in the past?", 
    "Do you currently have a mental health disorder?"
]]

# 
correlation_matrix


import numpy as np
import pandas as pd
from scipy.stats import chi2_contingency

# Create DataFrame
df = correlation_matrix

# Function to calculate Cramér's V
def cramers_v(x, y):
    confusion_matrix = pd.crosstab(x, y)
    chi2 = chi2_contingency(confusion_matrix)[0]
    n = confusion_matrix.sum().sum()
    phi2 = chi2 / n
    r, k = confusion_matrix.shape
    phi2corr = max(0, phi2 - ((k-1)*(r-1))/(n-1))
    rcorr = r - ((r-1)**2)/(n-1)
    kcorr = k - ((k-1)**2)/(n-1)
    return np.sqrt(phi2corr / min((kcorr-1), (rcorr-1)))

# Calculate Cramér's V for each pair of columns
cramers_v_matrix = pd.DataFrame(index=df.columns, columns=df.columns, dtype=float)
for i in df.columns:
    for j in df.columns:
        cramers_v_matrix.loc[i, j] = cramers_v(df[i], df[j])

# Print Cramér's V matrix
print("Cramér's V Matrix:")
print(cramers_v_matrix)



import seaborn as sns
import matplotlib.pyplot as plt

# Visualize correlation matrix using heatmap
plt.figure(figsize=(8, 6))
sns.heatmap(cramers_v_matrix, annot=True, cmap='coolwarm', fmt=".2f")
plt.title('Correlation Matrix')
plt.show()





die = pd.DataFrame(data["What is your gender?"].value_counts()).reset_index()
die.head(70)








das = pd.DataFrame(data["What is your age?"].value_counts()).reset_index()

das.plot(kind="scatter",
         x="What is your age?",
         y="count",
         xlim=0,
         ylim=0)

plt.show()





lista = list(set([element for element in data["If so, what condition(s) were you diagnosed with?"].to_list()]))[1:]

my_dict = dict()

for element in lista:
    if '|' in element:
        conditions = element.split("|")

        for condition in conditions:
            if condition in my_dict:
                my_dict[condition] += 1
            else:
                my_dict[condition] = 1
    else:
        if element in my_dict:
            my_dict[element] += 1
        else:
            my_dict[element] = 1

fdd = pd.DataFrame(list(my_dict.items()), columns=['Condition', 'Count'])
fdd






