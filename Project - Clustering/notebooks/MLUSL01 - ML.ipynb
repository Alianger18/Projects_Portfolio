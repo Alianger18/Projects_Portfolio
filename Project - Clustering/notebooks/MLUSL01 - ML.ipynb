{
 "cells": [
  {
   "cell_type": "markdown",
   "source": [
    "# Greetings\n",
    "The [data](https://www.kaggle.com/datasets/osmi/mental-health-in-tech-2016/) used in this notebook is the results of a survey, which were conducted amongst technology-oriented employees back in 2016. "
   ],
   "metadata": {
    "collapsed": false
   },
   "id": "e87ab10ecbab2d7a"
  },
  {
   "cell_type": "markdown",
   "source": [
    "## Data Pre-processing \n"
   ],
   "metadata": {
    "collapsed": false
   },
   "id": "960171b6b31aa09a"
  },
  {
   "cell_type": "markdown",
   "source": [
    "### Data Wrangling\n",
    "This section comes to take advantage of the observations gained from the previous section"
   ],
   "metadata": {
    "collapsed": false
   },
   "id": "5d0d6ae9380360ab"
  },
  {
   "cell_type": "markdown",
   "source": [
    "Importing the required libraries"
   ],
   "metadata": {
    "collapsed": false
   },
   "id": "b10153cbd5cae28d"
  },
  {
   "cell_type": "code",
   "execution_count": 1,
   "id": "initial_id",
   "metadata": {
    "collapsed": true,
    "ExecuteTime": {
     "end_time": "2024-02-12T03:24:00.798714800Z",
     "start_time": "2024-02-12T03:23:59.048220100Z"
    }
   },
   "outputs": [],
   "source": [
    "from pathlib import Path\n",
    "import pandas as pd\n",
    "import numpy as np"
   ]
  },
  {
   "cell_type": "markdown",
   "source": [
    "First, let's start by loading the data. "
   ],
   "metadata": {
    "collapsed": false
   },
   "id": "79242df41ec05046"
  },
  {
   "cell_type": "code",
   "outputs": [
    {
     "data": {
      "text/plain": "    organization_size  is_tech_company          is_mh_benefits_provided  \\\n0  Between 26 and 100                1  Not eligible for coverage / N/A   \n1    Between 6 and 25                1                               No   \n2    Between 6 and 25                1                               No   \n3    Between 6 and 25                0                              Yes   \n4      More than 1000                1                              Yes   \n\n  is_aware_mh_care_available is_mh_discussed_by_employer  \\\n0                        NaN                          No   \n1                        Yes                         Yes   \n2                        NaN                          No   \n3                        Yes                          No   \n4              I am not sure                          No   \n\n  is_mh_resources_provided_by_employer is_anonymity_protected  \\\n0                                   No           I don't know   \n1                                  Yes                    Yes   \n2                                   No           I don't know   \n3                                   No                     No   \n4                                  Yes                    Yes   \n\n  how_is_asking_for_medical_leave_due_to_mhi  \\\n0                                  Very easy   \n1                              Somewhat easy   \n2                 Neither easy nor difficult   \n3                 Neither easy nor difficult   \n4                              Somewhat easy   \n\n  is_discussing_mhd_with_employer_have_negative_consequences  \\\n0                                                 No           \n1                                                 No           \n2                                              Maybe           \n3                                                Yes           \n4                                                Yes           \n\n  is_discussing_phd_with_employer_have_negative_consequences  ...  \\\n0                                                 No          ...   \n1                                                 No          ...   \n2                                                 No          ...   \n3                                              Maybe          ...   \n4                                                Yes          ...   \n\n  is_mhi_interferes_with_your_work_when_treated_effectively  \\\n0                               Not applicable to me          \n1                                             Rarely          \n2                               Not applicable to me          \n3                                          Sometimes          \n4                               Not applicable to me          \n\n  is_mhi_does_not_interfere_with_your_work_when_treated_effectively age  \\\n0                               Not applicable to me                 39   \n1                                          Sometimes                 29   \n2                               Not applicable to me                 38   \n3                                          Sometimes                 43   \n4                                              Often                 42   \n\n   gender      country_of_residency us_state_residency  \\\n0    Male            United Kingdom                NaN   \n1    Male  United States of America           Illinois   \n2    Male            United Kingdom                NaN   \n3  Female  United States of America           Illinois   \n4    Male            United Kingdom                NaN   \n\n            country_of_work us_state_work  \\\n0            United Kingdom           NaN   \n1  United States of America      Illinois   \n2            United Kingdom           NaN   \n3  United States of America      Illinois   \n4            United Kingdom           NaN   \n\n                                    role_description  is_remote  \n0                                 Back-end Developer  Sometimes  \n1             Back-end Developer|Front-end Developer      Never  \n2                                 Back-end Developer     Always  \n3  Executive Leadership|Supervisor/Team Lead|Dev ...  Sometimes  \n4  DevOps/SysAdmin|Support|Back-end Developer|Fro...  Sometimes  \n\n[5 rows x 53 columns]",
      "text/html": "<div>\n<style scoped>\n    .dataframe tbody tr th:only-of-type {\n        vertical-align: middle;\n    }\n\n    .dataframe tbody tr th {\n        vertical-align: top;\n    }\n\n    .dataframe thead th {\n        text-align: right;\n    }\n</style>\n<table border=\"1\" class=\"dataframe\">\n  <thead>\n    <tr style=\"text-align: right;\">\n      <th></th>\n      <th>organization_size</th>\n      <th>is_tech_company</th>\n      <th>is_mh_benefits_provided</th>\n      <th>is_aware_mh_care_available</th>\n      <th>is_mh_discussed_by_employer</th>\n      <th>is_mh_resources_provided_by_employer</th>\n      <th>is_anonymity_protected</th>\n      <th>how_is_asking_for_medical_leave_due_to_mhi</th>\n      <th>is_discussing_mhd_with_employer_have_negative_consequences</th>\n      <th>is_discussing_phd_with_employer_have_negative_consequences</th>\n      <th>...</th>\n      <th>is_mhi_interferes_with_your_work_when_treated_effectively</th>\n      <th>is_mhi_does_not_interfere_with_your_work_when_treated_effectively</th>\n      <th>age</th>\n      <th>gender</th>\n      <th>country_of_residency</th>\n      <th>us_state_residency</th>\n      <th>country_of_work</th>\n      <th>us_state_work</th>\n      <th>role_description</th>\n      <th>is_remote</th>\n    </tr>\n  </thead>\n  <tbody>\n    <tr>\n      <th>0</th>\n      <td>Between 26 and 100</td>\n      <td>1</td>\n      <td>Not eligible for coverage / N/A</td>\n      <td>NaN</td>\n      <td>No</td>\n      <td>No</td>\n      <td>I don't know</td>\n      <td>Very easy</td>\n      <td>No</td>\n      <td>No</td>\n      <td>...</td>\n      <td>Not applicable to me</td>\n      <td>Not applicable to me</td>\n      <td>39</td>\n      <td>Male</td>\n      <td>United Kingdom</td>\n      <td>NaN</td>\n      <td>United Kingdom</td>\n      <td>NaN</td>\n      <td>Back-end Developer</td>\n      <td>Sometimes</td>\n    </tr>\n    <tr>\n      <th>1</th>\n      <td>Between 6 and 25</td>\n      <td>1</td>\n      <td>No</td>\n      <td>Yes</td>\n      <td>Yes</td>\n      <td>Yes</td>\n      <td>Yes</td>\n      <td>Somewhat easy</td>\n      <td>No</td>\n      <td>No</td>\n      <td>...</td>\n      <td>Rarely</td>\n      <td>Sometimes</td>\n      <td>29</td>\n      <td>Male</td>\n      <td>United States of America</td>\n      <td>Illinois</td>\n      <td>United States of America</td>\n      <td>Illinois</td>\n      <td>Back-end Developer|Front-end Developer</td>\n      <td>Never</td>\n    </tr>\n    <tr>\n      <th>2</th>\n      <td>Between 6 and 25</td>\n      <td>1</td>\n      <td>No</td>\n      <td>NaN</td>\n      <td>No</td>\n      <td>No</td>\n      <td>I don't know</td>\n      <td>Neither easy nor difficult</td>\n      <td>Maybe</td>\n      <td>No</td>\n      <td>...</td>\n      <td>Not applicable to me</td>\n      <td>Not applicable to me</td>\n      <td>38</td>\n      <td>Male</td>\n      <td>United Kingdom</td>\n      <td>NaN</td>\n      <td>United Kingdom</td>\n      <td>NaN</td>\n      <td>Back-end Developer</td>\n      <td>Always</td>\n    </tr>\n    <tr>\n      <th>3</th>\n      <td>Between 6 and 25</td>\n      <td>0</td>\n      <td>Yes</td>\n      <td>Yes</td>\n      <td>No</td>\n      <td>No</td>\n      <td>No</td>\n      <td>Neither easy nor difficult</td>\n      <td>Yes</td>\n      <td>Maybe</td>\n      <td>...</td>\n      <td>Sometimes</td>\n      <td>Sometimes</td>\n      <td>43</td>\n      <td>Female</td>\n      <td>United States of America</td>\n      <td>Illinois</td>\n      <td>United States of America</td>\n      <td>Illinois</td>\n      <td>Executive Leadership|Supervisor/Team Lead|Dev ...</td>\n      <td>Sometimes</td>\n    </tr>\n    <tr>\n      <th>4</th>\n      <td>More than 1000</td>\n      <td>1</td>\n      <td>Yes</td>\n      <td>I am not sure</td>\n      <td>No</td>\n      <td>Yes</td>\n      <td>Yes</td>\n      <td>Somewhat easy</td>\n      <td>Yes</td>\n      <td>Yes</td>\n      <td>...</td>\n      <td>Not applicable to me</td>\n      <td>Often</td>\n      <td>42</td>\n      <td>Male</td>\n      <td>United Kingdom</td>\n      <td>NaN</td>\n      <td>United Kingdom</td>\n      <td>NaN</td>\n      <td>DevOps/SysAdmin|Support|Back-end Developer|Fro...</td>\n      <td>Sometimes</td>\n    </tr>\n  </tbody>\n</table>\n<p>5 rows × 53 columns</p>\n</div>"
     },
     "execution_count": 3,
     "metadata": {},
     "output_type": "execute_result"
    }
   ],
   "source": [
    "# Formulating the directory \n",
    "path = Path.cwd().parent\n",
    "\n",
    "# Loading the data\n",
    "df = pd.read_csv(f'{path}/data/data_v2.0.csv')\n",
    "df.head()"
   ],
   "metadata": {
    "collapsed": false,
    "ExecuteTime": {
     "end_time": "2024-02-12T03:25:37.154469500Z",
     "start_time": "2024-02-12T03:25:37.014971900Z"
    }
   },
   "id": "e487bcd3a264c436",
   "execution_count": 3
  },
  {
   "cell_type": "markdown",
   "source": [
    "We'll start be changing the columns names into short names instead of large questions."
   ],
   "metadata": {
    "collapsed": false
   },
   "id": "e24885423b87b145"
  },
  {
   "cell_type": "code",
   "outputs": [
    {
     "data": {
      "text/plain": "                                            Condition  Count\n0   Mood Disorder (Depression, Bipolar Disorder, etc)     42\n1   Personality Disorder (Borderline, Antisocial, ...     18\n2   Anxiety Disorder (Generalized, Social, Phobia,...     40\n3                       Obsessive-Compulsive Disorder     16\n4                           Stress Response Syndromes     18\n5   Psychotic Disorder (Schizophrenia, Schizoaffec...      6\n6            Eating Disorder (Anorexia, Bulimia, etc)      6\n7            Attention Deficit Hyperactivity Disorder     17\n8                      Post-traumatic Stress Disorder     10\n9                               Dissociative Disorder      2\n10                                  Depersonalisation      1\n11                                 Addictive Disorder     16\n12                                  Suicidal Ideation      1\n13                                         Asperger's      1\n14                                             Autism      1\n15                             Substance Use Disorder      9\n16                         depersonalization disorder      1\n17                              post-partum / anxiety      1\n18                                  Asperger Syndrome      1\n19                           Gender Identity Disorder      1\n20                                           Tinnitus      1",
      "text/html": "<div>\n<style scoped>\n    .dataframe tbody tr th:only-of-type {\n        vertical-align: middle;\n    }\n\n    .dataframe tbody tr th {\n        vertical-align: top;\n    }\n\n    .dataframe thead th {\n        text-align: right;\n    }\n</style>\n<table border=\"1\" class=\"dataframe\">\n  <thead>\n    <tr style=\"text-align: right;\">\n      <th></th>\n      <th>Condition</th>\n      <th>Count</th>\n    </tr>\n  </thead>\n  <tbody>\n    <tr>\n      <th>0</th>\n      <td>Mood Disorder (Depression, Bipolar Disorder, etc)</td>\n      <td>42</td>\n    </tr>\n    <tr>\n      <th>1</th>\n      <td>Personality Disorder (Borderline, Antisocial, ...</td>\n      <td>18</td>\n    </tr>\n    <tr>\n      <th>2</th>\n      <td>Anxiety Disorder (Generalized, Social, Phobia,...</td>\n      <td>40</td>\n    </tr>\n    <tr>\n      <th>3</th>\n      <td>Obsessive-Compulsive Disorder</td>\n      <td>16</td>\n    </tr>\n    <tr>\n      <th>4</th>\n      <td>Stress Response Syndromes</td>\n      <td>18</td>\n    </tr>\n    <tr>\n      <th>5</th>\n      <td>Psychotic Disorder (Schizophrenia, Schizoaffec...</td>\n      <td>6</td>\n    </tr>\n    <tr>\n      <th>6</th>\n      <td>Eating Disorder (Anorexia, Bulimia, etc)</td>\n      <td>6</td>\n    </tr>\n    <tr>\n      <th>7</th>\n      <td>Attention Deficit Hyperactivity Disorder</td>\n      <td>17</td>\n    </tr>\n    <tr>\n      <th>8</th>\n      <td>Post-traumatic Stress Disorder</td>\n      <td>10</td>\n    </tr>\n    <tr>\n      <th>9</th>\n      <td>Dissociative Disorder</td>\n      <td>2</td>\n    </tr>\n    <tr>\n      <th>10</th>\n      <td>Depersonalisation</td>\n      <td>1</td>\n    </tr>\n    <tr>\n      <th>11</th>\n      <td>Addictive Disorder</td>\n      <td>16</td>\n    </tr>\n    <tr>\n      <th>12</th>\n      <td>Suicidal Ideation</td>\n      <td>1</td>\n    </tr>\n    <tr>\n      <th>13</th>\n      <td>Asperger's</td>\n      <td>1</td>\n    </tr>\n    <tr>\n      <th>14</th>\n      <td>Autism</td>\n      <td>1</td>\n    </tr>\n    <tr>\n      <th>15</th>\n      <td>Substance Use Disorder</td>\n      <td>9</td>\n    </tr>\n    <tr>\n      <th>16</th>\n      <td>depersonalization disorder</td>\n      <td>1</td>\n    </tr>\n    <tr>\n      <th>17</th>\n      <td>post-partum / anxiety</td>\n      <td>1</td>\n    </tr>\n    <tr>\n      <th>18</th>\n      <td>Asperger Syndrome</td>\n      <td>1</td>\n    </tr>\n    <tr>\n      <th>19</th>\n      <td>Gender Identity Disorder</td>\n      <td>1</td>\n    </tr>\n    <tr>\n      <th>20</th>\n      <td>Tinnitus</td>\n      <td>1</td>\n    </tr>\n  </tbody>\n</table>\n</div>"
     },
     "execution_count": 5,
     "metadata": {},
     "output_type": "execute_result"
    }
   ],
   "source": [
    "lista =list(set([element for element in df[\"suspected_conditions\"].to_list() ]))[1:]\n",
    "\n",
    "my_dict = dict()\n",
    "\n",
    "for element in lista:\n",
    "    if '|' in element :\n",
    "        conditions = element.split(\"|\")\n",
    "\n",
    "        for condition in conditions :\n",
    "            if condition in my_dict:\n",
    "                my_dict[condition] += 1\n",
    "            else:\n",
    "                my_dict[condition] = 1\n",
    "    else:\n",
    "        if element in my_dict:\n",
    "            my_dict[element] += 1\n",
    "        else:\n",
    "            my_dict[element] = 1\n",
    "\n",
    "\n",
    "fdd = pd.DataFrame(list(my_dict.items()), columns=['Condition', 'Count'])\n",
    "fdd"
   ],
   "metadata": {
    "collapsed": false,
    "ExecuteTime": {
     "end_time": "2024-02-12T03:36:42.358213Z",
     "start_time": "2024-02-12T03:36:42.322355600Z"
    }
   },
   "id": "9c2b88efac34ed71",
   "execution_count": 5
  }
 ],
 "metadata": {
  "kernelspec": {
   "display_name": "Python 3",
   "language": "python",
   "name": "python3"
  },
  "language_info": {
   "codemirror_mode": {
    "name": "ipython",
    "version": 2
   },
   "file_extension": ".py",
   "mimetype": "text/x-python",
   "name": "python",
   "nbconvert_exporter": "python",
   "pygments_lexer": "ipython2",
   "version": "2.7.6"
  }
 },
 "nbformat": 4,
 "nbformat_minor": 5
}
