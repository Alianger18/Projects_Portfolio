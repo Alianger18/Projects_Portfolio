{
 "cells": [
  {
   "cell_type": "markdown",
   "id": "e87ab10ecbab2d7a",
   "metadata": {
    "collapsed": false
   },
   "source": [
    "# Greetings\n",
    "The [data](https://www.kaggle.com/datasets/osmi/mental-health-in-tech-2016/) used in this notebook is the results of a survey, which were conducted amongst technology-oriented employees back in 2016. "
   ]
  },
  {
   "cell_type": "markdown",
   "id": "960171b6b31aa09a",
   "metadata": {
    "collapsed": false
   },
   "source": [
    "## Data Pre-processing \n"
   ]
  },
  {
   "cell_type": "markdown",
   "id": "5d0d6ae9380360ab",
   "metadata": {
    "collapsed": false
   },
   "source": [
    "### Data Wrangling\n",
    "This section comes to take advantage of the observations gained from the previous section"
   ]
  },
  {
   "cell_type": "markdown",
   "id": "b10153cbd5cae28d",
   "metadata": {
    "collapsed": false
   },
   "source": [
    "Importing the required libraries"
   ]
  },
  {
   "cell_type": "code",
   "execution_count": 1,
   "id": "initial_id",
   "metadata": {
    "collapsed": true,
    "jupyter": {
     "outputs_hidden": true
    },
    "ExecuteTime": {
     "end_time": "2024-03-05T00:00:37.371519Z",
     "start_time": "2024-03-05T00:00:37.352981Z"
    }
   },
   "outputs": [],
   "source": [
    "from pathlib import Path\n",
    "import seaborn as sns\n",
    "import matplotlib.pyplot as plt\n",
    "import pandas as pd\n",
    "import numpy as np "
   ]
  },
  {
   "cell_type": "markdown",
   "id": "79242df41ec05046",
   "metadata": {
    "collapsed": false
   },
   "source": [
    "First, let's start by loading the data. "
   ]
  },
  {
   "cell_type": "code",
   "execution_count": 2,
   "id": "e487bcd3a264c436",
   "metadata": {
    "collapsed": false,
    "ExecuteTime": {
     "end_time": "2024-03-05T00:00:40.526694Z",
     "start_time": "2024-03-05T00:00:40.416035Z"
    }
   },
   "outputs": [
    {
     "data": {
      "text/plain": "   Are you self-employed?  \\\n0                       0   \n1                       0   \n2                       0   \n3                       1   \n4                       0   \n\n  How many employees does your company or organization have?  \\\n0                                             26-100           \n1                                               6-25           \n2                                               6-25           \n3                                                NaN           \n4                                               6-25           \n\n   Is your employer primarily a tech company/organization?  \\\n0                                                1.0         \n1                                                1.0         \n2                                                1.0         \n3                                                NaN         \n4                                                0.0         \n\n   Is your primary role within your company related to tech/IT?  \\\n0                                                NaN              \n1                                                NaN              \n2                                                NaN              \n3                                                NaN              \n4                                                1.0              \n\n  Does your employer provide mental health benefits as part of healthcare coverage?  \\\n0                    Not eligible for coverage / N/A                                  \n1                                                 No                                  \n2                                                 No                                  \n3                                                NaN                                  \n4                                                Yes                                  \n\n  Do you know the options for mental health care available under your employer-provided coverage?  \\\n0                                                NaN                                                \n1                                                Yes                                                \n2                                                NaN                                                \n3                                                NaN                                                \n4                                                Yes                                                \n\n  Has your employer ever formally discussed mental health (for example, as part of a wellness campaign or other official communication)?  \\\n0                                                 No                                                                                       \n1                                                Yes                                                                                       \n2                                                 No                                                                                       \n3                                                NaN                                                                                       \n4                                                 No                                                                                       \n\n  Does your employer offer resources to learn more about mental health concerns and options for seeking help?  \\\n0                                                 No                                                            \n1                                                Yes                                                            \n2                                                 No                                                            \n3                                                NaN                                                            \n4                                                 No                                                            \n\n  Is your anonymity protected if you choose to take advantage of mental health or substance abuse treatment resources provided by your employer?  \\\n0                                       I don't know                                                                                               \n1                                                Yes                                                                                               \n2                                       I don't know                                                                                               \n3                                                NaN                                                                                               \n4                                                 No                                                                                               \n\n  If a mental health issue prompted you to request a medical leave from work, asking for that leave would be:  \\\n0                                          Very easy                                                            \n1                                      Somewhat easy                                                            \n2                         Neither easy nor difficult                                                            \n3                                                NaN                                                            \n4                         Neither easy nor difficult                                                            \n\n   ...  \\\n0  ...   \n1  ...   \n2  ...   \n3  ...   \n4  ...   \n\n  If you have a mental health issue, do you feel that it interferes with your work when being treated effectively?  \\\n0                               Not applicable to me                                                                 \n1                                             Rarely                                                                 \n2                               Not applicable to me                                                                 \n3                                          Sometimes                                                                 \n4                                          Sometimes                                                                 \n\n  If you have a mental health issue, do you feel that it interferes with your work when NOT being treated effectively?  \\\n0                               Not applicable to me                                                                     \n1                                          Sometimes                                                                     \n2                               Not applicable to me                                                                     \n3                                          Sometimes                                                                     \n4                                          Sometimes                                                                     \n\n  What is your age? What is your gender? What country do you live in?  \\\n0                39                 Male               United Kingdom   \n1                29                 male     United States of America   \n2                38                Male                United Kingdom   \n3                43                 male               United Kingdom   \n4                43               Female     United States of America   \n\n  What US state or territory do you live in?  What country do you work in?  \\\n0                                        NaN                United Kingdom   \n1                                   Illinois      United States of America   \n2                                        NaN                United Kingdom   \n3                                        NaN                United Kingdom   \n4                                   Illinois      United States of America   \n\n  What US state or territory do you work in?  \\\n0                                        NaN   \n1                                   Illinois   \n2                                        NaN   \n3                                        NaN   \n4                                   Illinois   \n\n  Which of the following best describes your work position?  \\\n0                                 Back-end Developer          \n1             Back-end Developer|Front-end Developer          \n2                                 Back-end Developer          \n3                               Supervisor/Team Lead          \n4  Executive Leadership|Supervisor/Team Lead|Dev ...          \n\n  Do you work remotely?  \n0             Sometimes  \n1                 Never  \n2                Always  \n3             Sometimes  \n4             Sometimes  \n\n[5 rows x 63 columns]",
      "text/html": "<div>\n<style scoped>\n    .dataframe tbody tr th:only-of-type {\n        vertical-align: middle;\n    }\n\n    .dataframe tbody tr th {\n        vertical-align: top;\n    }\n\n    .dataframe thead th {\n        text-align: right;\n    }\n</style>\n<table border=\"1\" class=\"dataframe\">\n  <thead>\n    <tr style=\"text-align: right;\">\n      <th></th>\n      <th>Are you self-employed?</th>\n      <th>How many employees does your company or organization have?</th>\n      <th>Is your employer primarily a tech company/organization?</th>\n      <th>Is your primary role within your company related to tech/IT?</th>\n      <th>Does your employer provide mental health benefits as part of healthcare coverage?</th>\n      <th>Do you know the options for mental health care available under your employer-provided coverage?</th>\n      <th>Has your employer ever formally discussed mental health (for example, as part of a wellness campaign or other official communication)?</th>\n      <th>Does your employer offer resources to learn more about mental health concerns and options for seeking help?</th>\n      <th>Is your anonymity protected if you choose to take advantage of mental health or substance abuse treatment resources provided by your employer?</th>\n      <th>If a mental health issue prompted you to request a medical leave from work, asking for that leave would be:</th>\n      <th>...</th>\n      <th>If you have a mental health issue, do you feel that it interferes with your work when being treated effectively?</th>\n      <th>If you have a mental health issue, do you feel that it interferes with your work when NOT being treated effectively?</th>\n      <th>What is your age?</th>\n      <th>What is your gender?</th>\n      <th>What country do you live in?</th>\n      <th>What US state or territory do you live in?</th>\n      <th>What country do you work in?</th>\n      <th>What US state or territory do you work in?</th>\n      <th>Which of the following best describes your work position?</th>\n      <th>Do you work remotely?</th>\n    </tr>\n  </thead>\n  <tbody>\n    <tr>\n      <th>0</th>\n      <td>0</td>\n      <td>26-100</td>\n      <td>1.0</td>\n      <td>NaN</td>\n      <td>Not eligible for coverage / N/A</td>\n      <td>NaN</td>\n      <td>No</td>\n      <td>No</td>\n      <td>I don't know</td>\n      <td>Very easy</td>\n      <td>...</td>\n      <td>Not applicable to me</td>\n      <td>Not applicable to me</td>\n      <td>39</td>\n      <td>Male</td>\n      <td>United Kingdom</td>\n      <td>NaN</td>\n      <td>United Kingdom</td>\n      <td>NaN</td>\n      <td>Back-end Developer</td>\n      <td>Sometimes</td>\n    </tr>\n    <tr>\n      <th>1</th>\n      <td>0</td>\n      <td>6-25</td>\n      <td>1.0</td>\n      <td>NaN</td>\n      <td>No</td>\n      <td>Yes</td>\n      <td>Yes</td>\n      <td>Yes</td>\n      <td>Yes</td>\n      <td>Somewhat easy</td>\n      <td>...</td>\n      <td>Rarely</td>\n      <td>Sometimes</td>\n      <td>29</td>\n      <td>male</td>\n      <td>United States of America</td>\n      <td>Illinois</td>\n      <td>United States of America</td>\n      <td>Illinois</td>\n      <td>Back-end Developer|Front-end Developer</td>\n      <td>Never</td>\n    </tr>\n    <tr>\n      <th>2</th>\n      <td>0</td>\n      <td>6-25</td>\n      <td>1.0</td>\n      <td>NaN</td>\n      <td>No</td>\n      <td>NaN</td>\n      <td>No</td>\n      <td>No</td>\n      <td>I don't know</td>\n      <td>Neither easy nor difficult</td>\n      <td>...</td>\n      <td>Not applicable to me</td>\n      <td>Not applicable to me</td>\n      <td>38</td>\n      <td>Male</td>\n      <td>United Kingdom</td>\n      <td>NaN</td>\n      <td>United Kingdom</td>\n      <td>NaN</td>\n      <td>Back-end Developer</td>\n      <td>Always</td>\n    </tr>\n    <tr>\n      <th>3</th>\n      <td>1</td>\n      <td>NaN</td>\n      <td>NaN</td>\n      <td>NaN</td>\n      <td>NaN</td>\n      <td>NaN</td>\n      <td>NaN</td>\n      <td>NaN</td>\n      <td>NaN</td>\n      <td>NaN</td>\n      <td>...</td>\n      <td>Sometimes</td>\n      <td>Sometimes</td>\n      <td>43</td>\n      <td>male</td>\n      <td>United Kingdom</td>\n      <td>NaN</td>\n      <td>United Kingdom</td>\n      <td>NaN</td>\n      <td>Supervisor/Team Lead</td>\n      <td>Sometimes</td>\n    </tr>\n    <tr>\n      <th>4</th>\n      <td>0</td>\n      <td>6-25</td>\n      <td>0.0</td>\n      <td>1.0</td>\n      <td>Yes</td>\n      <td>Yes</td>\n      <td>No</td>\n      <td>No</td>\n      <td>No</td>\n      <td>Neither easy nor difficult</td>\n      <td>...</td>\n      <td>Sometimes</td>\n      <td>Sometimes</td>\n      <td>43</td>\n      <td>Female</td>\n      <td>United States of America</td>\n      <td>Illinois</td>\n      <td>United States of America</td>\n      <td>Illinois</td>\n      <td>Executive Leadership|Supervisor/Team Lead|Dev ...</td>\n      <td>Sometimes</td>\n    </tr>\n  </tbody>\n</table>\n<p>5 rows × 63 columns</p>\n</div>"
     },
     "execution_count": 2,
     "metadata": {},
     "output_type": "execute_result"
    }
   ],
   "source": [
    "# Formulating the directory \n",
    "path = Path.cwd().parent\n",
    "\n",
    "# Loading the data\n",
    "data = pd.read_csv(f'{path}/data/mental-heath-in-tech-2016_20161114.csv')\n",
    "data.head()"
   ]
  },
  {
   "cell_type": "code",
   "execution_count": 3,
   "id": "7df3f59019488b7d",
   "metadata": {
    "collapsed": false,
    "ExecuteTime": {
     "end_time": "2024-03-05T00:00:46.959217Z",
     "start_time": "2024-03-05T00:00:46.937639Z"
    }
   },
   "outputs": [
    {
     "name": "stdout",
     "output_type": "stream",
     "text": [
      "The data is formed through 63 columns/features and 1433 rows/records.\n"
     ]
    }
   ],
   "source": [
    "print(f\"The data is formed through {data.shape[1]} columns/features and {data.shape[0]} rows/records.\")"
   ]
  },
  {
   "cell_type": "markdown",
   "id": "e24885423b87b145",
   "metadata": {
    "collapsed": false
   },
   "source": [
    "We'll start by renaming the columns into short names instead of large questions."
   ]
  },
  {
   "cell_type": "code",
   "execution_count": 4,
   "id": "6fe029c3f226ee71",
   "metadata": {
    "collapsed": false,
    "ExecuteTime": {
     "end_time": "2024-03-05T00:00:52.415944Z",
     "start_time": "2024-03-05T00:00:52.359419Z"
    }
   },
   "outputs": [
    {
     "data": {
      "text/plain": "   is_self_employed organization_size  is_tech_company  is_tech_role  \\\n0                 0            26-100              1.0           NaN   \n1                 0              6-25              1.0           NaN   \n2                 0              6-25              1.0           NaN   \n3                 1               NaN              NaN           NaN   \n4                 0              6-25              0.0           1.0   \n\n           is_mh_benefits_provided is_aware_mh_care_available  \\\n0  Not eligible for coverage / N/A                        NaN   \n1                               No                        Yes   \n2                               No                        NaN   \n3                              NaN                        NaN   \n4                              Yes                        Yes   \n\n  is_mh_discussed_by_employer is_mh_resources_provided_by_employer  \\\n0                          No                                   No   \n1                         Yes                                  Yes   \n2                          No                                   No   \n3                         NaN                                  NaN   \n4                          No                                   No   \n\n  is_anonymity_protected how_is_asking_for_medical_leave_due_to_mhi  ...  \\\n0           I don't know                                  Very easy  ...   \n1                    Yes                              Somewhat easy  ...   \n2           I don't know                 Neither easy nor difficult  ...   \n3                    NaN                                        NaN  ...   \n4                     No                 Neither easy nor difficult  ...   \n\n  is_mhi_interferes_with_your_work_when_treated_effectively  \\\n0                               Not applicable to me          \n1                                             Rarely          \n2                               Not applicable to me          \n3                                          Sometimes          \n4                                          Sometimes          \n\n  is_mhi_does_not_interfere_with_your_work_when_treated_effectively age  \\\n0                               Not applicable to me                 39   \n1                                          Sometimes                 29   \n2                               Not applicable to me                 38   \n3                                          Sometimes                 43   \n4                                          Sometimes                 43   \n\n   gender      country_of_residency us_state_residency  \\\n0    Male            United Kingdom                NaN   \n1    male  United States of America           Illinois   \n2   Male             United Kingdom                NaN   \n3    male            United Kingdom                NaN   \n4  Female  United States of America           Illinois   \n\n            country_of_work us_state_work  \\\n0            United Kingdom           NaN   \n1  United States of America      Illinois   \n2            United Kingdom           NaN   \n3            United Kingdom           NaN   \n4  United States of America      Illinois   \n\n                                    role_description  is_remote  \n0                                 Back-end Developer  Sometimes  \n1             Back-end Developer|Front-end Developer      Never  \n2                                 Back-end Developer     Always  \n3                               Supervisor/Team Lead  Sometimes  \n4  Executive Leadership|Supervisor/Team Lead|Dev ...  Sometimes  \n\n[5 rows x 63 columns]",
      "text/html": "<div>\n<style scoped>\n    .dataframe tbody tr th:only-of-type {\n        vertical-align: middle;\n    }\n\n    .dataframe tbody tr th {\n        vertical-align: top;\n    }\n\n    .dataframe thead th {\n        text-align: right;\n    }\n</style>\n<table border=\"1\" class=\"dataframe\">\n  <thead>\n    <tr style=\"text-align: right;\">\n      <th></th>\n      <th>is_self_employed</th>\n      <th>organization_size</th>\n      <th>is_tech_company</th>\n      <th>is_tech_role</th>\n      <th>is_mh_benefits_provided</th>\n      <th>is_aware_mh_care_available</th>\n      <th>is_mh_discussed_by_employer</th>\n      <th>is_mh_resources_provided_by_employer</th>\n      <th>is_anonymity_protected</th>\n      <th>how_is_asking_for_medical_leave_due_to_mhi</th>\n      <th>...</th>\n      <th>is_mhi_interferes_with_your_work_when_treated_effectively</th>\n      <th>is_mhi_does_not_interfere_with_your_work_when_treated_effectively</th>\n      <th>age</th>\n      <th>gender</th>\n      <th>country_of_residency</th>\n      <th>us_state_residency</th>\n      <th>country_of_work</th>\n      <th>us_state_work</th>\n      <th>role_description</th>\n      <th>is_remote</th>\n    </tr>\n  </thead>\n  <tbody>\n    <tr>\n      <th>0</th>\n      <td>0</td>\n      <td>26-100</td>\n      <td>1.0</td>\n      <td>NaN</td>\n      <td>Not eligible for coverage / N/A</td>\n      <td>NaN</td>\n      <td>No</td>\n      <td>No</td>\n      <td>I don't know</td>\n      <td>Very easy</td>\n      <td>...</td>\n      <td>Not applicable to me</td>\n      <td>Not applicable to me</td>\n      <td>39</td>\n      <td>Male</td>\n      <td>United Kingdom</td>\n      <td>NaN</td>\n      <td>United Kingdom</td>\n      <td>NaN</td>\n      <td>Back-end Developer</td>\n      <td>Sometimes</td>\n    </tr>\n    <tr>\n      <th>1</th>\n      <td>0</td>\n      <td>6-25</td>\n      <td>1.0</td>\n      <td>NaN</td>\n      <td>No</td>\n      <td>Yes</td>\n      <td>Yes</td>\n      <td>Yes</td>\n      <td>Yes</td>\n      <td>Somewhat easy</td>\n      <td>...</td>\n      <td>Rarely</td>\n      <td>Sometimes</td>\n      <td>29</td>\n      <td>male</td>\n      <td>United States of America</td>\n      <td>Illinois</td>\n      <td>United States of America</td>\n      <td>Illinois</td>\n      <td>Back-end Developer|Front-end Developer</td>\n      <td>Never</td>\n    </tr>\n    <tr>\n      <th>2</th>\n      <td>0</td>\n      <td>6-25</td>\n      <td>1.0</td>\n      <td>NaN</td>\n      <td>No</td>\n      <td>NaN</td>\n      <td>No</td>\n      <td>No</td>\n      <td>I don't know</td>\n      <td>Neither easy nor difficult</td>\n      <td>...</td>\n      <td>Not applicable to me</td>\n      <td>Not applicable to me</td>\n      <td>38</td>\n      <td>Male</td>\n      <td>United Kingdom</td>\n      <td>NaN</td>\n      <td>United Kingdom</td>\n      <td>NaN</td>\n      <td>Back-end Developer</td>\n      <td>Always</td>\n    </tr>\n    <tr>\n      <th>3</th>\n      <td>1</td>\n      <td>NaN</td>\n      <td>NaN</td>\n      <td>NaN</td>\n      <td>NaN</td>\n      <td>NaN</td>\n      <td>NaN</td>\n      <td>NaN</td>\n      <td>NaN</td>\n      <td>NaN</td>\n      <td>...</td>\n      <td>Sometimes</td>\n      <td>Sometimes</td>\n      <td>43</td>\n      <td>male</td>\n      <td>United Kingdom</td>\n      <td>NaN</td>\n      <td>United Kingdom</td>\n      <td>NaN</td>\n      <td>Supervisor/Team Lead</td>\n      <td>Sometimes</td>\n    </tr>\n    <tr>\n      <th>4</th>\n      <td>0</td>\n      <td>6-25</td>\n      <td>0.0</td>\n      <td>1.0</td>\n      <td>Yes</td>\n      <td>Yes</td>\n      <td>No</td>\n      <td>No</td>\n      <td>No</td>\n      <td>Neither easy nor difficult</td>\n      <td>...</td>\n      <td>Sometimes</td>\n      <td>Sometimes</td>\n      <td>43</td>\n      <td>Female</td>\n      <td>United States of America</td>\n      <td>Illinois</td>\n      <td>United States of America</td>\n      <td>Illinois</td>\n      <td>Executive Leadership|Supervisor/Team Lead|Dev ...</td>\n      <td>Sometimes</td>\n    </tr>\n  </tbody>\n</table>\n<p>5 rows × 63 columns</p>\n</div>"
     },
     "execution_count": 4,
     "metadata": {},
     "output_type": "execute_result"
    }
   ],
   "source": [
    "# Here are the new names of the columns \n",
    "new_columns_names = [\"is_self_employed\", # Are you self-employed?\n",
    "                     'organization_size', # How many employees does your company or organization have?\n",
    "                     'is_tech_company', # Is your employer primarily a tech company/organization?\n",
    "                     'is_tech_role', # Is your primary role within your company related to tech/IT? \n",
    "                     'is_mh_benefits_provided', # Does your employer provide mental health benefits as part of healthcare coverage?\n",
    "                     'is_aware_mh_care_available', # Do you know the options for mental health care available under your employer-provided coverage?\n",
    "                     'is_mh_discussed_by_employer', # Has your employer ever formally discussed mental health (for example, as part of a wellness campaign or other official communication)?\n",
    "                     'is_mh_resources_provided_by_employer', # Does your employer offer resources to learn more about mental health concerns and options for seeking help?\n",
    "                     'is_anonymity_protected', # Is your anonymity protected if you choose to take advantage of mental health or substance abuse treatment resources provided by your employer?\n",
    "                     # If a mental health issue prompted you to request a medical leave from work, asking for that leave would be \n",
    "                     'how_is_asking_for_medical_leave_due_to_mhi',\n",
    "                     # Do you think that discussing a mental health disorder with your employer would have negative consequences?\n",
    "                     'is_discussing_mhd_with_employer_have_negative_consequences',\n",
    "                     # Do you think that discussing a physical health disorder with your employer would have negative consequences?\n",
    "                     'is_discussing_phd_with_employer_have_negative_consequences',\n",
    "                     # Would you feel comfortable discussing a mental health disorder with your coworkers?\n",
    "                     'is_willing_to_discuss_mhi_with_colleagues',\n",
    "                     # Would you feel comfortable discussing a mental health disorder with your direct supervisor(s)?\n",
    "                     'is_willing_to_discuss_mhi_with_direct_supervisor',\n",
    "                     # Do you feel that your employer takes mental health as seriously as physical health?\n",
    "                     'is_employer_takes_mh_seriously',\n",
    "                     # Have you heard of or observed negative consequences for co-workers who have been open about mental health issues in your workplace?\n",
    "                     'is_aware_of_previous_negative_consequence_of_colleagues_with_mhi',\n",
    "                     # Do you have medical coverage (private insurance or state-provided) which includes treatment of mental health issues?\n",
    "                     'have_medical_coverage_includes_mental_health_issue',\n",
    "                     # Do you know local or online resources to seek help for a mental health disorder?\n",
    "                     'know_how_to_seek_help',\n",
    "                     # If you have been diagnosed or treated for a mental health disorder, do you ever reveal this to clients or business contacts?\n",
    "                     'is_able_to_reveal_previous_mental_health_issue_to_business_contacts',\n",
    "                     # If you have revealed a mental health issue to a client or business contact, do you believe this has impacted you negatively?\n",
    "                     'is_impacted_negatively_1',\n",
    "                     # If you have been diagnosed or treated for a mental health disorder, do you ever reveal this to coworkers or employees?\n",
    "                     'is_able_to_reveal_previous_mental_health_issue_to_coworkers',\n",
    "                     # If you have revealed a mental health issue to a coworker or employee, do you believe this has impacted you negatively?\n",
    "                     'is_impacted_negatively_2',                \n",
    "                     # Do you believe your productivity is ever affected by a mental health issue?\n",
    "                     'is_productivity_impacted',\n",
    "                     # If yes, what percentage of your work time (time performing primary or secondary job functions) is affected by a mental health issue?\n",
    "                     'percentage_impacted',\n",
    "                     # Do you have previous employers?\n",
    "                     'is_previously_employed',\n",
    "                     # Have your previous employers provided mental health benefits?\n",
    "                     'is_previous_employer_provides_mh_benefits',\n",
    "                     # Were you aware of the options for mental health care provided by your previous employers?\n",
    "                     'is_aware_mh_options_by_previous_employer',\n",
    "                     # Did your previous employers ever formally discuss mental health (as part of a wellness campaign or other official communication)?\n",
    "                     'is_mh_discussed_by_previous_employer',\n",
    "                     # Did your previous employers provide resources to learn more about mental health issues and how to seek help?\n",
    "                     'is_mh_resources_provided_by_previous_employer',\n",
    "                     # Was your anonymity protected if you chose to take advantage of mental health or substance abuse treatment resources with previous employers?\n",
    "                     'is_anonymity_protected_by_previous_employer',\n",
    "                     # Do you think that discussing a mental health disorder with previous employers would have negative consequences?\n",
    "                     'is_discussing_mhd_with_previous_employer_have_negative_consequences',\n",
    "                     # Do you think that discussing a physical health disorder with previous employers would have negative consequences?\n",
    "                     'is_discussing_phd_with_previous_employer_have_negative_consequences',\n",
    "                     # Would you have been willing to discuss a mental health issue with your previous co-workers?\n",
    "                     'is_willing_to_discuss_mhi_with_previous_colleagues',\n",
    "                     # Would you have been willing to discuss a mental health issue with your direct supervisor(s)?\n",
    "                     'is_willing_to_discuss_mhi_with_previous_direct_supervisor',\n",
    "                     # Did you feel that your previous employers took mental health as seriously as physical health?\n",
    "                     'is_previous_employer_takes_mh_seriously',\n",
    "                     # Did you hear of or observe negative consequences for co-workers with mental health issues in your previous workplaces?\n",
    "                     'is_aware_of_previous_negative_consequence_of_colleagues_with_mhi_in_previous_workplace',\n",
    "                     # Would you be willing to bring up a physical health issue with a potential employer in an interview?\n",
    "                     'is_willing_to_bring_phi_in_interview',\n",
    "                     'why_or_why_not_bring_phi_in_interview',  # Why or why not?\n",
    "                     # Would you bring up a mental health issue with a potential employer in an interview?\n",
    "                     'is_willing_to_bring_mhi_in_interview',\n",
    "                     'why_or_why_not_bring_mhi_in_interview',  # Why or why not?\n",
    "                     # Do you feel that being identified as a person with a mental health issue would hurt your career?\n",
    "                     'is_being_identified_with_mhi_would_hurt_your_career',\n",
    "                     # Do you think that team members/co-workers would view you more negatively if they knew you suffered from a mental health issue?\n",
    "                     'is_being_identified_with_mhi_would_lower_your_status_among_colleagues',\n",
    "                     # How willing would you be to share with friends and family that you have a mental illness?\n",
    "                     'is_wiling_to_share_about_mhi',\n",
    "                     # Have you observed or experienced an unsupported or badly handled response to a mental health issue in your current or previous workplace?\n",
    "                     'previously_observed_experienced_response_to_mhi',\n",
    "                     # Have your observations of how another individual who discussed a mental health disorder made you less likely to reveal a mental health issue yourself in your current workplace?\n",
    "                     'is_less_encouraged_to_reveal_mhi',\n",
    "                     'family_history_of_mhi',  # Do you have a family history of mental illness?\n",
    "                     'previous_history_of_mhi',  # Have you had a mental health disorder in the past?\n",
    "                     'is_having_mhd',  # Do you currently have a mental health disorder?\n",
    "                     'diagnosed_conditions',  # If yes, what condition(s) have you been diagnosed with?\n",
    "                     'suspected_conditions',  # If maybe, what condition(s) do you believe you have?\n",
    "                     'diagnosed_by_professional', # Have you been diagnosed with a mental health condition by a medical professional?\n",
    "                     'diagnosed_conditions_by_professional',  # If so, what condition(s) were you diagnosed with?\n",
    "                     'is_sought_treatment_for_mhi', # Have you ever sought treatment for a mental health issue from a mental health professional?\n",
    "                     # If you have a mental health issue, do you feel that it interferes with your work when being treated effectively?\n",
    "                     'is_mhi_interferes_with_your_work_when_treated_effectively',\n",
    "                     # If you have a mental health issue, do you feel that it interferes with your work when NOT being treated effectively?\n",
    "                     'is_mhi_does_not_interfere_with_your_work_when_treated_effectively',\n",
    "                     'age',  # What is your age? \n",
    "                     'gender',  # What is your gender?\n",
    "                     'country_of_residency',  # What country do you live in?'\n",
    "                     'us_state_residency',  # What US state or territory do you live in?\n",
    "                     'country_of_work',  # What country do you work in?\n",
    "                     'us_state_work',  # What US state or territory do you work in?\n",
    "                     'role_description',  # Which of the following best describes your work position?\n",
    "                     'is_remote'  # Do you work remotely?\n",
    "                     ]\n",
    "\n",
    "# Setting the columns names in df\n",
    "data.columns = new_columns_names\n",
    "data.head()"
   ]
  },
  {
   "cell_type": "markdown",
   "id": "ce679c0112b84b79",
   "metadata": {
    "collapsed": false
   },
   "source": [
    "As discussed, we only need to keep the data from employees and not self-employed. This would leave the feature useless, therefore, we'll remove it as well."
   ]
  },
  {
   "cell_type": "code",
   "execution_count": 5,
   "id": "97c2424f666b86d6",
   "metadata": {
    "collapsed": false,
    "ExecuteTime": {
     "end_time": "2024-03-05T00:00:57.639968Z",
     "start_time": "2024-03-05T00:00:57.564068Z"
    }
   },
   "outputs": [
    {
     "data": {
      "text/plain": "  organization_size  is_tech_company  is_tech_role  \\\n0            26-100              1.0           NaN   \n1              6-25              1.0           NaN   \n2              6-25              1.0           NaN   \n4              6-25              0.0           1.0   \n5    More than 1000              1.0           NaN   \n\n           is_mh_benefits_provided is_aware_mh_care_available  \\\n0  Not eligible for coverage / N/A                        NaN   \n1                               No                        Yes   \n2                               No                        NaN   \n4                              Yes                        Yes   \n5                              Yes              I am not sure   \n\n  is_mh_discussed_by_employer is_mh_resources_provided_by_employer  \\\n0                          No                                   No   \n1                         Yes                                  Yes   \n2                          No                                   No   \n4                          No                                   No   \n5                          No                                  Yes   \n\n  is_anonymity_protected how_is_asking_for_medical_leave_due_to_mhi  \\\n0           I don't know                                  Very easy   \n1                    Yes                              Somewhat easy   \n2           I don't know                 Neither easy nor difficult   \n4                     No                 Neither easy nor difficult   \n5                    Yes                              Somewhat easy   \n\n  is_discussing_mhd_with_employer_have_negative_consequences  ...  \\\n0                                                 No          ...   \n1                                                 No          ...   \n2                                              Maybe          ...   \n4                                                Yes          ...   \n5                                                Yes          ...   \n\n  is_mhi_interferes_with_your_work_when_treated_effectively  \\\n0                               Not applicable to me          \n1                                             Rarely          \n2                               Not applicable to me          \n4                                          Sometimes          \n5                               Not applicable to me          \n\n  is_mhi_does_not_interfere_with_your_work_when_treated_effectively age  \\\n0                               Not applicable to me                 39   \n1                                          Sometimes                 29   \n2                               Not applicable to me                 38   \n4                                          Sometimes                 43   \n5                                              Often                 42   \n\n   gender      country_of_residency  us_state_residency  \\\n0    Male            United Kingdom                 NaN   \n1    male  United States of America            Illinois   \n2   Male             United Kingdom                 NaN   \n4  Female  United States of America            Illinois   \n5    Male            United Kingdom                 NaN   \n\n            country_of_work us_state_work  \\\n0            United Kingdom           NaN   \n1  United States of America      Illinois   \n2            United Kingdom           NaN   \n4  United States of America      Illinois   \n5            United Kingdom           NaN   \n\n                                    role_description  is_remote  \n0                                 Back-end Developer  Sometimes  \n1             Back-end Developer|Front-end Developer      Never  \n2                                 Back-end Developer     Always  \n4  Executive Leadership|Supervisor/Team Lead|Dev ...  Sometimes  \n5  DevOps/SysAdmin|Support|Back-end Developer|Fro...  Sometimes  \n\n[5 rows x 62 columns]",
      "text/html": "<div>\n<style scoped>\n    .dataframe tbody tr th:only-of-type {\n        vertical-align: middle;\n    }\n\n    .dataframe tbody tr th {\n        vertical-align: top;\n    }\n\n    .dataframe thead th {\n        text-align: right;\n    }\n</style>\n<table border=\"1\" class=\"dataframe\">\n  <thead>\n    <tr style=\"text-align: right;\">\n      <th></th>\n      <th>organization_size</th>\n      <th>is_tech_company</th>\n      <th>is_tech_role</th>\n      <th>is_mh_benefits_provided</th>\n      <th>is_aware_mh_care_available</th>\n      <th>is_mh_discussed_by_employer</th>\n      <th>is_mh_resources_provided_by_employer</th>\n      <th>is_anonymity_protected</th>\n      <th>how_is_asking_for_medical_leave_due_to_mhi</th>\n      <th>is_discussing_mhd_with_employer_have_negative_consequences</th>\n      <th>...</th>\n      <th>is_mhi_interferes_with_your_work_when_treated_effectively</th>\n      <th>is_mhi_does_not_interfere_with_your_work_when_treated_effectively</th>\n      <th>age</th>\n      <th>gender</th>\n      <th>country_of_residency</th>\n      <th>us_state_residency</th>\n      <th>country_of_work</th>\n      <th>us_state_work</th>\n      <th>role_description</th>\n      <th>is_remote</th>\n    </tr>\n  </thead>\n  <tbody>\n    <tr>\n      <th>0</th>\n      <td>26-100</td>\n      <td>1.0</td>\n      <td>NaN</td>\n      <td>Not eligible for coverage / N/A</td>\n      <td>NaN</td>\n      <td>No</td>\n      <td>No</td>\n      <td>I don't know</td>\n      <td>Very easy</td>\n      <td>No</td>\n      <td>...</td>\n      <td>Not applicable to me</td>\n      <td>Not applicable to me</td>\n      <td>39</td>\n      <td>Male</td>\n      <td>United Kingdom</td>\n      <td>NaN</td>\n      <td>United Kingdom</td>\n      <td>NaN</td>\n      <td>Back-end Developer</td>\n      <td>Sometimes</td>\n    </tr>\n    <tr>\n      <th>1</th>\n      <td>6-25</td>\n      <td>1.0</td>\n      <td>NaN</td>\n      <td>No</td>\n      <td>Yes</td>\n      <td>Yes</td>\n      <td>Yes</td>\n      <td>Yes</td>\n      <td>Somewhat easy</td>\n      <td>No</td>\n      <td>...</td>\n      <td>Rarely</td>\n      <td>Sometimes</td>\n      <td>29</td>\n      <td>male</td>\n      <td>United States of America</td>\n      <td>Illinois</td>\n      <td>United States of America</td>\n      <td>Illinois</td>\n      <td>Back-end Developer|Front-end Developer</td>\n      <td>Never</td>\n    </tr>\n    <tr>\n      <th>2</th>\n      <td>6-25</td>\n      <td>1.0</td>\n      <td>NaN</td>\n      <td>No</td>\n      <td>NaN</td>\n      <td>No</td>\n      <td>No</td>\n      <td>I don't know</td>\n      <td>Neither easy nor difficult</td>\n      <td>Maybe</td>\n      <td>...</td>\n      <td>Not applicable to me</td>\n      <td>Not applicable to me</td>\n      <td>38</td>\n      <td>Male</td>\n      <td>United Kingdom</td>\n      <td>NaN</td>\n      <td>United Kingdom</td>\n      <td>NaN</td>\n      <td>Back-end Developer</td>\n      <td>Always</td>\n    </tr>\n    <tr>\n      <th>4</th>\n      <td>6-25</td>\n      <td>0.0</td>\n      <td>1.0</td>\n      <td>Yes</td>\n      <td>Yes</td>\n      <td>No</td>\n      <td>No</td>\n      <td>No</td>\n      <td>Neither easy nor difficult</td>\n      <td>Yes</td>\n      <td>...</td>\n      <td>Sometimes</td>\n      <td>Sometimes</td>\n      <td>43</td>\n      <td>Female</td>\n      <td>United States of America</td>\n      <td>Illinois</td>\n      <td>United States of America</td>\n      <td>Illinois</td>\n      <td>Executive Leadership|Supervisor/Team Lead|Dev ...</td>\n      <td>Sometimes</td>\n    </tr>\n    <tr>\n      <th>5</th>\n      <td>More than 1000</td>\n      <td>1.0</td>\n      <td>NaN</td>\n      <td>Yes</td>\n      <td>I am not sure</td>\n      <td>No</td>\n      <td>Yes</td>\n      <td>Yes</td>\n      <td>Somewhat easy</td>\n      <td>Yes</td>\n      <td>...</td>\n      <td>Not applicable to me</td>\n      <td>Often</td>\n      <td>42</td>\n      <td>Male</td>\n      <td>United Kingdom</td>\n      <td>NaN</td>\n      <td>United Kingdom</td>\n      <td>NaN</td>\n      <td>DevOps/SysAdmin|Support|Back-end Developer|Fro...</td>\n      <td>Sometimes</td>\n    </tr>\n  </tbody>\n</table>\n<p>5 rows × 62 columns</p>\n</div>"
     },
     "execution_count": 5,
     "metadata": {},
     "output_type": "execute_result"
    }
   ],
   "source": [
    "# Keeping only the rows containing data about employees\n",
    "raw_df = data[data[\"is_self_employed\"] == 0]\n",
    "\n",
    "# Removing the feature\n",
    "df = raw_df.drop(columns=[\"is_self_employed\"], axis=1)\n",
    "\n",
    "# Overview of the new data\n",
    "df.head()"
   ]
  },
  {
   "cell_type": "markdown",
   "source": [
    "Addressing these missing values will help narrow the dataset into only the respondents we seek their responses."
   ],
   "metadata": {
    "collapsed": false
   },
   "id": "416da039ff449232"
  },
  {
   "cell_type": "code",
   "execution_count": 6,
   "id": "42f350fffedfc230",
   "metadata": {
    "collapsed": false,
    "ExecuteTime": {
     "end_time": "2024-03-05T00:01:06.314456Z",
     "start_time": "2024-03-05T00:01:06.287017Z"
    }
   },
   "outputs": [
    {
     "data": {
      "text/plain": "is_tech_role\nundefined    883\n1.0          248\n0.0           15\nName: count, dtype: int64"
     },
     "execution_count": 6,
     "metadata": {},
     "output_type": "execute_result"
    }
   ],
   "source": [
    "# Let's fill the NaN values with undefined\n",
    "df[\"is_tech_role\"].replace(np.nan, \"undefined\", inplace=True)\n",
    "\n",
    "# The count of our values 0,1, and undefined\n",
    "df[\"is_tech_role\"].value_counts()"
   ]
  },
  {
   "cell_type": "markdown",
   "source": [
    "Based on the role description column, the following list was created containing only non-IT-related roles."
   ],
   "metadata": {
    "collapsed": false
   },
   "id": "383a58581f01ac1d"
  },
  {
   "cell_type": "code",
   "execution_count": 7,
   "id": "6f4ab004339506a7",
   "metadata": {
    "collapsed": false,
    "ExecuteTime": {
     "end_time": "2024-03-05T00:01:10.921545Z",
     "start_time": "2024-03-05T00:01:10.912452Z"
    }
   },
   "outputs": [],
   "source": [
    "non_it_roles = ['Other', 'Supervisor/Team Lead', 'Executive Leadership', 'Support', 'Designer', 'Other|HR',\n",
    "                'One-person shop', 'Sales', 'HR', 'Other|Support', 'Supervisor/Team Lead|Executive Leadership',\n",
    "                'Executive Leadership|Supervisor/Team Lead', 'Other|Supervisor/Team Lead', 'Other|Executive Leadership',\n",
    "                'Designer|Support|Supervisor/Team Lead', 'Supervisor/Team Lead|Sales', 'Designer|Supervisor/Team Lead',\n",
    "                'Support|Sales|Designer', 'HR|Supervisor/Team Lead|Executive Leadership', 'Supervisor/Team Lead|Other',\n",
    "                'Executive Leadership|Supervisor/Team Lead|Designer', 'Executive Leadership|Supervisor/Team Lead|Sales'\n",
    "                ]"
   ]
  },
  {
   "cell_type": "markdown",
   "source": [
    "Next, we're iterating over the whole dataset and evaluate the roles then assigning if the roles are IT-related or not."
   ],
   "metadata": {
    "collapsed": false
   },
   "id": "5c85874396761143"
  },
  {
   "cell_type": "code",
   "execution_count": 8,
   "id": "5ae462b5275e75c5",
   "metadata": {
    "collapsed": false,
    "ExecuteTime": {
     "end_time": "2024-03-05T00:01:13.158909Z",
     "start_time": "2024-03-05T00:01:12.900613Z"
    }
   },
   "outputs": [
    {
     "data": {
      "text/plain": "is_tech_role\n1    948\n0    198\nName: count, dtype: int64"
     },
     "execution_count": 8,
     "metadata": {},
     "output_type": "execute_result"
    }
   ],
   "source": [
    "# Filling the values with 0 or 1 based on the role's description\n",
    "for i in range(1146):\n",
    "    if df.iloc[i, 2] == \"undefined\" and df.iloc[i, 60] in non_it_roles:\n",
    "        df.iloc[i, 2] = 0\n",
    "    else:\n",
    "        df.iloc[i, 2] = 1\n",
    "\n",
    "# Transforming the column data type into integer\n",
    "df[\"is_tech_role\"] = df[\"is_tech_role\"].astype(int)\n",
    "\n",
    "# Viewing the end-results\n",
    "df[\"is_tech_role\"].value_counts()"
   ]
  },
  {
   "cell_type": "markdown",
   "source": [
    "Consecutively, we'll see the type of companies the respondents work for through a pie chart"
   ],
   "metadata": {
    "collapsed": false
   },
   "id": "60c6ef1a6a54e921"
  },
  {
   "cell_type": "code",
   "execution_count": 9,
   "id": "1253f4202d759031",
   "metadata": {
    "collapsed": false,
    "ExecuteTime": {
     "end_time": "2024-03-05T00:01:26.838965Z",
     "start_time": "2024-03-05T00:01:26.799024Z"
    }
   },
   "outputs": [
    {
     "data": {
      "text/plain": "                                          Categories  Count\n0  Employees with IT-related role in an IT relate...    685\n1  Employees with IT-related role in a non-IT rel...    263\n2  Employees with non-IT-related role in an IT re...    198",
      "text/html": "<div>\n<style scoped>\n    .dataframe tbody tr th:only-of-type {\n        vertical-align: middle;\n    }\n\n    .dataframe tbody tr th {\n        vertical-align: top;\n    }\n\n    .dataframe thead th {\n        text-align: right;\n    }\n</style>\n<table border=\"1\" class=\"dataframe\">\n  <thead>\n    <tr style=\"text-align: right;\">\n      <th></th>\n      <th>Categories</th>\n      <th>Count</th>\n    </tr>\n  </thead>\n  <tbody>\n    <tr>\n      <th>0</th>\n      <td>Employees with IT-related role in an IT relate...</td>\n      <td>685</td>\n    </tr>\n    <tr>\n      <th>1</th>\n      <td>Employees with IT-related role in a non-IT rel...</td>\n      <td>263</td>\n    </tr>\n    <tr>\n      <th>2</th>\n      <td>Employees with non-IT-related role in an IT re...</td>\n      <td>198</td>\n    </tr>\n  </tbody>\n</table>\n</div>"
     },
     "execution_count": 9,
     "metadata": {},
     "output_type": "execute_result"
    }
   ],
   "source": [
    "# Setting the dataframe raw_1 and the list raw_list_1\n",
    "raw_1 = df[[\"is_tech_role\", \"is_tech_company\"]].value_counts().reset_index()\n",
    "\n",
    "list_1 = [\"Employees with IT-related role in an IT related company\", \n",
    "          \"Employees with IT-related role in a non-IT related company\", \n",
    "          \"Employees with non-IT-related role in an IT related company\"\n",
    "          ]\n",
    "\n",
    "# Selecting only 2 columns\n",
    "raw_2 = raw_1.iloc[:, 1:]\n",
    "\n",
    "# Assigning new columns names and values\n",
    "raw_2.columns = [\"Categories\", \"Count\"]\n",
    "raw_2[\"Categories\"] = list_1\n",
    "\n",
    "# Print the dataframe raw_2\n",
    "raw_2.head()"
   ]
  },
  {
   "cell_type": "code",
   "execution_count": 10,
   "id": "ac410f0271c75c37",
   "metadata": {
    "collapsed": false,
    "ExecuteTime": {
     "end_time": "2024-03-05T00:01:39.470045Z",
     "start_time": "2024-03-05T00:01:38.907630Z"
    }
   },
   "outputs": [
    {
     "data": {
      "text/plain": "<Figure size 1500x500 with 1 Axes>",
      "image/png": "[encoded data removed]"
     },
     "metadata": {},
     "output_type": "display_data"
    }
   ],
   "source": [
    "# Setting the style of the visuals\n",
    "plt.style.use('fast')\n",
    "\n",
    "# Starting fig1 and ax1 subplots objects\n",
    "fig1, ax = plt.subplots(figsize=(15, 5))\n",
    "ax.pie(\n",
    "    raw_2[\"Count\"].to_list(),  # List of values\n",
    "    startangle=90, \n",
    "    autopct='%1.2f%%',  # Showing 3 numbers after the decimal point \n",
    "    textprops={'fontsize': 12}  # Setting the size of the ratios \n",
    ")\n",
    "\n",
    "# Setting the legend parameters\n",
    "ax.legend(\n",
    "    labels=raw_2[\"Categories\"].to_list(),  # List of labels\n",
    "    loc=\"upper center\",  # Position of the legend\n",
    "    bbox_to_anchor=(0.5, 1.1),\n",
    "    fontsize=8)  # Size of the legend\n",
    "\n",
    "# Plotting the figure\n",
    "plt.show()"
   ]
  },
  {
   "cell_type": "markdown",
   "id": "f69c17fb66a4099b",
   "metadata": {
    "collapsed": false
   },
   "source": [
    "Since we consider only records of employees in IT-related roles, the remaining records shall be excluded."
   ]
  },
  {
   "cell_type": "code",
   "outputs": [
    {
     "data": {
      "text/plain": "  organization_size  is_tech_company          is_mh_benefits_provided  \\\n0            26-100              1.0  Not eligible for coverage / N/A   \n1              6-25              1.0                               No   \n2              6-25              1.0                               No   \n4              6-25              0.0                              Yes   \n5    More than 1000              1.0                              Yes   \n\n  is_aware_mh_care_available is_mh_discussed_by_employer  \\\n0                        NaN                          No   \n1                        Yes                         Yes   \n2                        NaN                          No   \n4                        Yes                          No   \n5              I am not sure                          No   \n\n  is_mh_resources_provided_by_employer is_anonymity_protected  \\\n0                                   No           I don't know   \n1                                  Yes                    Yes   \n2                                   No           I don't know   \n4                                   No                     No   \n5                                  Yes                    Yes   \n\n  how_is_asking_for_medical_leave_due_to_mhi  \\\n0                                  Very easy   \n1                              Somewhat easy   \n2                 Neither easy nor difficult   \n4                 Neither easy nor difficult   \n5                              Somewhat easy   \n\n  is_discussing_mhd_with_employer_have_negative_consequences  \\\n0                                                 No           \n1                                                 No           \n2                                              Maybe           \n4                                                Yes           \n5                                                Yes           \n\n  is_discussing_phd_with_employer_have_negative_consequences  ...  \\\n0                                                 No          ...   \n1                                                 No          ...   \n2                                                 No          ...   \n4                                              Maybe          ...   \n5                                                Yes          ...   \n\n  is_mhi_interferes_with_your_work_when_treated_effectively  \\\n0                               Not applicable to me          \n1                                             Rarely          \n2                               Not applicable to me          \n4                                          Sometimes          \n5                               Not applicable to me          \n\n  is_mhi_does_not_interfere_with_your_work_when_treated_effectively age  \\\n0                               Not applicable to me                 39   \n1                                          Sometimes                 29   \n2                               Not applicable to me                 38   \n4                                          Sometimes                 43   \n5                                              Often                 42   \n\n   gender      country_of_residency us_state_residency  \\\n0    Male            United Kingdom                NaN   \n1    male  United States of America           Illinois   \n2   Male             United Kingdom                NaN   \n4  Female  United States of America           Illinois   \n5    Male            United Kingdom                NaN   \n\n            country_of_work us_state_work  \\\n0            United Kingdom           NaN   \n1  United States of America      Illinois   \n2            United Kingdom           NaN   \n4  United States of America      Illinois   \n5            United Kingdom           NaN   \n\n                                    role_description  is_remote  \n0                                 Back-end Developer  Sometimes  \n1             Back-end Developer|Front-end Developer      Never  \n2                                 Back-end Developer     Always  \n4  Executive Leadership|Supervisor/Team Lead|Dev ...  Sometimes  \n5  DevOps/SysAdmin|Support|Back-end Developer|Fro...  Sometimes  \n\n[5 rows x 61 columns]",
      "text/html": "<div>\n<style scoped>\n    .dataframe tbody tr th:only-of-type {\n        vertical-align: middle;\n    }\n\n    .dataframe tbody tr th {\n        vertical-align: top;\n    }\n\n    .dataframe thead th {\n        text-align: right;\n    }\n</style>\n<table border=\"1\" class=\"dataframe\">\n  <thead>\n    <tr style=\"text-align: right;\">\n      <th></th>\n      <th>organization_size</th>\n      <th>is_tech_company</th>\n      <th>is_mh_benefits_provided</th>\n      <th>is_aware_mh_care_available</th>\n      <th>is_mh_discussed_by_employer</th>\n      <th>is_mh_resources_provided_by_employer</th>\n      <th>is_anonymity_protected</th>\n      <th>how_is_asking_for_medical_leave_due_to_mhi</th>\n      <th>is_discussing_mhd_with_employer_have_negative_consequences</th>\n      <th>is_discussing_phd_with_employer_have_negative_consequences</th>\n      <th>...</th>\n      <th>is_mhi_interferes_with_your_work_when_treated_effectively</th>\n      <th>is_mhi_does_not_interfere_with_your_work_when_treated_effectively</th>\n      <th>age</th>\n      <th>gender</th>\n      <th>country_of_residency</th>\n      <th>us_state_residency</th>\n      <th>country_of_work</th>\n      <th>us_state_work</th>\n      <th>role_description</th>\n      <th>is_remote</th>\n    </tr>\n  </thead>\n  <tbody>\n    <tr>\n      <th>0</th>\n      <td>26-100</td>\n      <td>1.0</td>\n      <td>Not eligible for coverage / N/A</td>\n      <td>NaN</td>\n      <td>No</td>\n      <td>No</td>\n      <td>I don't know</td>\n      <td>Very easy</td>\n      <td>No</td>\n      <td>No</td>\n      <td>...</td>\n      <td>Not applicable to me</td>\n      <td>Not applicable to me</td>\n      <td>39</td>\n      <td>Male</td>\n      <td>United Kingdom</td>\n      <td>NaN</td>\n      <td>United Kingdom</td>\n      <td>NaN</td>\n      <td>Back-end Developer</td>\n      <td>Sometimes</td>\n    </tr>\n    <tr>\n      <th>1</th>\n      <td>6-25</td>\n      <td>1.0</td>\n      <td>No</td>\n      <td>Yes</td>\n      <td>Yes</td>\n      <td>Yes</td>\n      <td>Yes</td>\n      <td>Somewhat easy</td>\n      <td>No</td>\n      <td>No</td>\n      <td>...</td>\n      <td>Rarely</td>\n      <td>Sometimes</td>\n      <td>29</td>\n      <td>male</td>\n      <td>United States of America</td>\n      <td>Illinois</td>\n      <td>United States of America</td>\n      <td>Illinois</td>\n      <td>Back-end Developer|Front-end Developer</td>\n      <td>Never</td>\n    </tr>\n    <tr>\n      <th>2</th>\n      <td>6-25</td>\n      <td>1.0</td>\n      <td>No</td>\n      <td>NaN</td>\n      <td>No</td>\n      <td>No</td>\n      <td>I don't know</td>\n      <td>Neither easy nor difficult</td>\n      <td>Maybe</td>\n      <td>No</td>\n      <td>...</td>\n      <td>Not applicable to me</td>\n      <td>Not applicable to me</td>\n      <td>38</td>\n      <td>Male</td>\n      <td>United Kingdom</td>\n      <td>NaN</td>\n      <td>United Kingdom</td>\n      <td>NaN</td>\n      <td>Back-end Developer</td>\n      <td>Always</td>\n    </tr>\n    <tr>\n      <th>4</th>\n      <td>6-25</td>\n      <td>0.0</td>\n      <td>Yes</td>\n      <td>Yes</td>\n      <td>No</td>\n      <td>No</td>\n      <td>No</td>\n      <td>Neither easy nor difficult</td>\n      <td>Yes</td>\n      <td>Maybe</td>\n      <td>...</td>\n      <td>Sometimes</td>\n      <td>Sometimes</td>\n      <td>43</td>\n      <td>Female</td>\n      <td>United States of America</td>\n      <td>Illinois</td>\n      <td>United States of America</td>\n      <td>Illinois</td>\n      <td>Executive Leadership|Supervisor/Team Lead|Dev ...</td>\n      <td>Sometimes</td>\n    </tr>\n    <tr>\n      <th>5</th>\n      <td>More than 1000</td>\n      <td>1.0</td>\n      <td>Yes</td>\n      <td>I am not sure</td>\n      <td>No</td>\n      <td>Yes</td>\n      <td>Yes</td>\n      <td>Somewhat easy</td>\n      <td>Yes</td>\n      <td>Yes</td>\n      <td>...</td>\n      <td>Not applicable to me</td>\n      <td>Often</td>\n      <td>42</td>\n      <td>Male</td>\n      <td>United Kingdom</td>\n      <td>NaN</td>\n      <td>United Kingdom</td>\n      <td>NaN</td>\n      <td>DevOps/SysAdmin|Support|Back-end Developer|Fro...</td>\n      <td>Sometimes</td>\n    </tr>\n  </tbody>\n</table>\n<p>5 rows × 61 columns</p>\n</div>"
     },
     "execution_count": 11,
     "metadata": {},
     "output_type": "execute_result"
    }
   ],
   "source": [
    "# Selecting only IT-related roles\n",
    "df = df[df[\"is_tech_role\"] == 1]\n",
    "\n",
    "# Dropping the is_tech_role column\n",
    "df.drop(columns=[\"is_tech_role\"], inplace=True)\n",
    "\n",
    "# Printing the dataframe df\n",
    "df.head()"
   ],
   "metadata": {
    "collapsed": false,
    "ExecuteTime": {
     "end_time": "2024-03-05T00:01:44.097919Z",
     "start_time": "2024-03-05T00:01:44.035955Z"
    }
   },
   "id": "2d2153a818e8085c",
   "execution_count": 11
  },
  {
   "cell_type": "markdown",
   "source": [
    "Standardization can be applied to some columns in our dataset. Organization_size is a good candidate for this process."
   ],
   "metadata": {
    "collapsed": false
   },
   "id": "9c0cd784139e9ccd"
  },
  {
   "cell_type": "code",
   "execution_count": 12,
   "id": "66fc3fbe6a8cf734",
   "metadata": {
    "collapsed": false,
    "ExecuteTime": {
     "end_time": "2024-03-05T00:01:50.147795Z",
     "start_time": "2024-03-05T00:01:50.110751Z"
    }
   },
   "outputs": [
    {
     "data": {
      "text/plain": "organization_size\nBetween 26 and 100      249\nMore than 1000          223\nBetween 101 and 500     194\nBetween 6 and 25        172\nBetween 501 and 1000     60\nLess than 5              50\nName: count, dtype: int64"
     },
     "execution_count": 12,
     "metadata": {},
     "output_type": "execute_result"
    }
   ],
   "source": [
    "# Adjusting the categories of organization_size\n",
    "df['organization_size'] = df['organization_size'].replace(\n",
    "    {'1-5': 'Less than 5',\n",
    "     '6-25': 'Between 6 and 25',\n",
    "     '26-100': 'Between 26 and 100',\n",
    "     '100-500': 'Between 101 and 500',\n",
    "     '500-1000': 'Between 501 and 1000'\n",
    "     }\n",
    ")\n",
    "\n",
    "# Demonstrating the number of occurrences \n",
    "df['organization_size'].value_counts()"
   ]
  },
  {
   "cell_type": "markdown",
   "source": [
    "To ensure data quality, Data transformation is applied on the data. "
   ],
   "metadata": {
    "collapsed": false
   },
   "id": "4301c21d417f184f"
  },
  {
   "cell_type": "code",
   "outputs": [
    {
     "data": {
      "text/plain": "    organization_size  is_tech_company          is_mh_benefits_provided  \\\n0  Between 26 and 100                1  Not eligible for coverage / N/A   \n1    Between 6 and 25                1                               No   \n2    Between 6 and 25                1                               No   \n4    Between 6 and 25                0                              Yes   \n5      More than 1000                1                              Yes   \n\n  is_aware_mh_care_available is_mh_discussed_by_employer  \\\n0                        NaN                          No   \n1                        Yes                         Yes   \n2                        NaN                          No   \n4                        Yes                          No   \n5              I am not sure                          No   \n\n  is_mh_resources_provided_by_employer is_anonymity_protected  \\\n0                                   No           I don't know   \n1                                  Yes                    Yes   \n2                                   No           I don't know   \n4                                   No                     No   \n5                                  Yes                    Yes   \n\n  how_is_asking_for_medical_leave_due_to_mhi  \\\n0                                  Very easy   \n1                              Somewhat easy   \n2                 Neither easy nor difficult   \n4                 Neither easy nor difficult   \n5                              Somewhat easy   \n\n  is_discussing_mhd_with_employer_have_negative_consequences  \\\n0                                                 No           \n1                                                 No           \n2                                              Maybe           \n4                                                Yes           \n5                                                Yes           \n\n  is_discussing_phd_with_employer_have_negative_consequences  ...  \\\n0                                                 No          ...   \n1                                                 No          ...   \n2                                                 No          ...   \n4                                              Maybe          ...   \n5                                                Yes          ...   \n\n  is_mhi_interferes_with_your_work_when_treated_effectively  \\\n0                               Not applicable to me          \n1                                             Rarely          \n2                               Not applicable to me          \n4                                          Sometimes          \n5                               Not applicable to me          \n\n  is_mhi_does_not_interfere_with_your_work_when_treated_effectively age  \\\n0                               Not applicable to me                 39   \n1                                          Sometimes                 29   \n2                               Not applicable to me                 38   \n4                                          Sometimes                 43   \n5                                              Often                 42   \n\n   gender      country_of_residency us_state_residency  \\\n0    Male            United Kingdom                NaN   \n1    male  United States of America           Illinois   \n2   Male             United Kingdom                NaN   \n4  Female  United States of America           Illinois   \n5    Male            United Kingdom                NaN   \n\n            country_of_work us_state_work  \\\n0            United Kingdom           NaN   \n1  United States of America      Illinois   \n2            United Kingdom           NaN   \n4  United States of America      Illinois   \n5            United Kingdom           NaN   \n\n                                    role_description  is_remote  \n0                                 Back-end Developer  Sometimes  \n1             Back-end Developer|Front-end Developer      Never  \n2                                 Back-end Developer     Always  \n4  Executive Leadership|Supervisor/Team Lead|Dev ...  Sometimes  \n5  DevOps/SysAdmin|Support|Back-end Developer|Fro...  Sometimes  \n\n[5 rows x 61 columns]",
      "text/html": "<div>\n<style scoped>\n    .dataframe tbody tr th:only-of-type {\n        vertical-align: middle;\n    }\n\n    .dataframe tbody tr th {\n        vertical-align: top;\n    }\n\n    .dataframe thead th {\n        text-align: right;\n    }\n</style>\n<table border=\"1\" class=\"dataframe\">\n  <thead>\n    <tr style=\"text-align: right;\">\n      <th></th>\n      <th>organization_size</th>\n      <th>is_tech_company</th>\n      <th>is_mh_benefits_provided</th>\n      <th>is_aware_mh_care_available</th>\n      <th>is_mh_discussed_by_employer</th>\n      <th>is_mh_resources_provided_by_employer</th>\n      <th>is_anonymity_protected</th>\n      <th>how_is_asking_for_medical_leave_due_to_mhi</th>\n      <th>is_discussing_mhd_with_employer_have_negative_consequences</th>\n      <th>is_discussing_phd_with_employer_have_negative_consequences</th>\n      <th>...</th>\n      <th>is_mhi_interferes_with_your_work_when_treated_effectively</th>\n      <th>is_mhi_does_not_interfere_with_your_work_when_treated_effectively</th>\n      <th>age</th>\n      <th>gender</th>\n      <th>country_of_residency</th>\n      <th>us_state_residency</th>\n      <th>country_of_work</th>\n      <th>us_state_work</th>\n      <th>role_description</th>\n      <th>is_remote</th>\n    </tr>\n  </thead>\n  <tbody>\n    <tr>\n      <th>0</th>\n      <td>Between 26 and 100</td>\n      <td>1</td>\n      <td>Not eligible for coverage / N/A</td>\n      <td>NaN</td>\n      <td>No</td>\n      <td>No</td>\n      <td>I don't know</td>\n      <td>Very easy</td>\n      <td>No</td>\n      <td>No</td>\n      <td>...</td>\n      <td>Not applicable to me</td>\n      <td>Not applicable to me</td>\n      <td>39</td>\n      <td>Male</td>\n      <td>United Kingdom</td>\n      <td>NaN</td>\n      <td>United Kingdom</td>\n      <td>NaN</td>\n      <td>Back-end Developer</td>\n      <td>Sometimes</td>\n    </tr>\n    <tr>\n      <th>1</th>\n      <td>Between 6 and 25</td>\n      <td>1</td>\n      <td>No</td>\n      <td>Yes</td>\n      <td>Yes</td>\n      <td>Yes</td>\n      <td>Yes</td>\n      <td>Somewhat easy</td>\n      <td>No</td>\n      <td>No</td>\n      <td>...</td>\n      <td>Rarely</td>\n      <td>Sometimes</td>\n      <td>29</td>\n      <td>male</td>\n      <td>United States of America</td>\n      <td>Illinois</td>\n      <td>United States of America</td>\n      <td>Illinois</td>\n      <td>Back-end Developer|Front-end Developer</td>\n      <td>Never</td>\n    </tr>\n    <tr>\n      <th>2</th>\n      <td>Between 6 and 25</td>\n      <td>1</td>\n      <td>No</td>\n      <td>NaN</td>\n      <td>No</td>\n      <td>No</td>\n      <td>I don't know</td>\n      <td>Neither easy nor difficult</td>\n      <td>Maybe</td>\n      <td>No</td>\n      <td>...</td>\n      <td>Not applicable to me</td>\n      <td>Not applicable to me</td>\n      <td>38</td>\n      <td>Male</td>\n      <td>United Kingdom</td>\n      <td>NaN</td>\n      <td>United Kingdom</td>\n      <td>NaN</td>\n      <td>Back-end Developer</td>\n      <td>Always</td>\n    </tr>\n    <tr>\n      <th>4</th>\n      <td>Between 6 and 25</td>\n      <td>0</td>\n      <td>Yes</td>\n      <td>Yes</td>\n      <td>No</td>\n      <td>No</td>\n      <td>No</td>\n      <td>Neither easy nor difficult</td>\n      <td>Yes</td>\n      <td>Maybe</td>\n      <td>...</td>\n      <td>Sometimes</td>\n      <td>Sometimes</td>\n      <td>43</td>\n      <td>Female</td>\n      <td>United States of America</td>\n      <td>Illinois</td>\n      <td>United States of America</td>\n      <td>Illinois</td>\n      <td>Executive Leadership|Supervisor/Team Lead|Dev ...</td>\n      <td>Sometimes</td>\n    </tr>\n    <tr>\n      <th>5</th>\n      <td>More than 1000</td>\n      <td>1</td>\n      <td>Yes</td>\n      <td>I am not sure</td>\n      <td>No</td>\n      <td>Yes</td>\n      <td>Yes</td>\n      <td>Somewhat easy</td>\n      <td>Yes</td>\n      <td>Yes</td>\n      <td>...</td>\n      <td>Not applicable to me</td>\n      <td>Often</td>\n      <td>42</td>\n      <td>Male</td>\n      <td>United Kingdom</td>\n      <td>NaN</td>\n      <td>United Kingdom</td>\n      <td>NaN</td>\n      <td>DevOps/SysAdmin|Support|Back-end Developer|Fro...</td>\n      <td>Sometimes</td>\n    </tr>\n  </tbody>\n</table>\n<p>5 rows × 61 columns</p>\n</div>"
     },
     "execution_count": 13,
     "metadata": {},
     "output_type": "execute_result"
    }
   ],
   "source": [
    "# Transforming this column from float64 into binary int64\n",
    "df['is_tech_company'] = df['is_tech_company'].astype(int)\n",
    "\n",
    "# Transforming this column from a text into int64\n",
    "df[['is_aware_of_previous_negative_consequence_of_colleagues_with_mhi', 'diagnosed_by_professional']] = df[\n",
    "    ['is_aware_of_previous_negative_consequence_of_colleagues_with_mhi', 'diagnosed_by_professional']].replace(\n",
    "    [\"Yes\", \"No\"], [1, 0])\n",
    "\n",
    "# Print the dataframe\n",
    "df.head()"
   ],
   "metadata": {
    "collapsed": false,
    "ExecuteTime": {
     "end_time": "2024-03-05T00:01:54.802208Z",
     "start_time": "2024-03-05T00:01:54.733624Z"
    }
   },
   "id": "db98b6a95553c88f",
   "execution_count": 13
  },
  {
   "cell_type": "code",
   "outputs": [
    {
     "data": {
      "text/plain": "                                                 name  empty_values data_type\n20                           is_productivity_impacted           948    object\n14  have_medical_coverage_includes_mental_health_i...           948   float64\n21                                percentage_impacted           948    object\n19                           is_impacted_negatively_2           948    object\n18  is_able_to_reveal_previous_mental_health_issue...           948    object\n..                                                ...           ...       ...\n1                                     is_tech_company             0     int32\n34               is_willing_to_bring_phi_in_interview             0    object\n36               is_willing_to_bring_mhi_in_interview             0    object\n38  is_being_identified_with_mhi_would_hurt_your_c...             0    object\n60                                          is_remote             0    object\n\n[61 rows x 3 columns]",
      "text/html": "<div>\n<style scoped>\n    .dataframe tbody tr th:only-of-type {\n        vertical-align: middle;\n    }\n\n    .dataframe tbody tr th {\n        vertical-align: top;\n    }\n\n    .dataframe thead th {\n        text-align: right;\n    }\n</style>\n<table border=\"1\" class=\"dataframe\">\n  <thead>\n    <tr style=\"text-align: right;\">\n      <th></th>\n      <th>name</th>\n      <th>empty_values</th>\n      <th>data_type</th>\n    </tr>\n  </thead>\n  <tbody>\n    <tr>\n      <th>20</th>\n      <td>is_productivity_impacted</td>\n      <td>948</td>\n      <td>object</td>\n    </tr>\n    <tr>\n      <th>14</th>\n      <td>have_medical_coverage_includes_mental_health_i...</td>\n      <td>948</td>\n      <td>float64</td>\n    </tr>\n    <tr>\n      <th>21</th>\n      <td>percentage_impacted</td>\n      <td>948</td>\n      <td>object</td>\n    </tr>\n    <tr>\n      <th>19</th>\n      <td>is_impacted_negatively_2</td>\n      <td>948</td>\n      <td>object</td>\n    </tr>\n    <tr>\n      <th>18</th>\n      <td>is_able_to_reveal_previous_mental_health_issue...</td>\n      <td>948</td>\n      <td>object</td>\n    </tr>\n    <tr>\n      <th>...</th>\n      <td>...</td>\n      <td>...</td>\n      <td>...</td>\n    </tr>\n    <tr>\n      <th>1</th>\n      <td>is_tech_company</td>\n      <td>0</td>\n      <td>int32</td>\n    </tr>\n    <tr>\n      <th>34</th>\n      <td>is_willing_to_bring_phi_in_interview</td>\n      <td>0</td>\n      <td>object</td>\n    </tr>\n    <tr>\n      <th>36</th>\n      <td>is_willing_to_bring_mhi_in_interview</td>\n      <td>0</td>\n      <td>object</td>\n    </tr>\n    <tr>\n      <th>38</th>\n      <td>is_being_identified_with_mhi_would_hurt_your_c...</td>\n      <td>0</td>\n      <td>object</td>\n    </tr>\n    <tr>\n      <th>60</th>\n      <td>is_remote</td>\n      <td>0</td>\n      <td>object</td>\n    </tr>\n  </tbody>\n</table>\n<p>61 rows × 3 columns</p>\n</div>"
     },
     "execution_count": 14,
     "metadata": {},
     "output_type": "execute_result"
    }
   ],
   "source": [
    "# Initiating an empty list data_info \n",
    "data_info = []\n",
    "\n",
    "# Gathering the attributes in one place \n",
    "for index, column in enumerate(df.columns):\n",
    "    info = {\n",
    "        'name': column,                                 # The name of the column \n",
    "        'empty_values': df[column].isna().sum(),      # The number of empty values in a column\n",
    "        'data_type': df[column].dtypes                # The data type of column\n",
    "    }\n",
    "\n",
    "    # Filtering to only include features containing empty values  \n",
    "    data_info.append(info)\n",
    "\n",
    "# Create a DataFrame from the gathered information\n",
    "null_categories_data = pd.DataFrame(data_info).sort_values(by=['empty_values'], ascending=False)\n",
    "null_categories_data"
   ],
   "metadata": {
    "collapsed": false,
    "ExecuteTime": {
     "end_time": "2024-03-05T00:02:22.378657Z",
     "start_time": "2024-03-05T00:02:22.325382Z"
    }
   },
   "id": "9c2b88efac34ed71",
   "execution_count": 14
  },
  {
   "cell_type": "code",
   "outputs": [
    {
     "data": {
      "text/plain": "['is_productivity_impacted',\n 'have_medical_coverage_includes_mental_health_issue',\n 'percentage_impacted',\n 'is_impacted_negatively_2',\n 'is_able_to_reveal_previous_mental_health_issue_to_coworkers',\n 'is_impacted_negatively_1',\n 'is_able_to_reveal_previous_mental_health_issue_to_business_contacts',\n 'know_how_to_seek_help']"
     },
     "execution_count": 15,
     "metadata": {},
     "output_type": "execute_result"
    }
   ],
   "source": [
    "# Storing these columns in a list called: to_be_deleted\n",
    "to_be_deleted = list(null_categories_data[null_categories_data[\"empty_values\"] == 948].iloc[:, 0])\n",
    "to_be_deleted"
   ],
   "metadata": {
    "collapsed": false,
    "ExecuteTime": {
     "end_time": "2024-03-05T00:02:23.199293Z",
     "start_time": "2024-03-05T00:02:23.172333Z"
    }
   },
   "id": "428aceec47da1f95",
   "execution_count": 15
  },
  {
   "cell_type": "code",
   "outputs": [
    {
     "data": {
      "text/plain": "    organization_size  is_tech_company          is_mh_benefits_provided  \\\n0  Between 26 and 100                1  Not eligible for coverage / N/A   \n1    Between 6 and 25                1                               No   \n2    Between 6 and 25                1                               No   \n4    Between 6 and 25                0                              Yes   \n5      More than 1000                1                              Yes   \n\n  is_aware_mh_care_available is_mh_discussed_by_employer  \\\n0                        NaN                          No   \n1                        Yes                         Yes   \n2                        NaN                          No   \n4                        Yes                          No   \n5              I am not sure                          No   \n\n  is_mh_resources_provided_by_employer is_anonymity_protected  \\\n0                                   No           I don't know   \n1                                  Yes                    Yes   \n2                                   No           I don't know   \n4                                   No                     No   \n5                                  Yes                    Yes   \n\n  how_is_asking_for_medical_leave_due_to_mhi  \\\n0                                  Very easy   \n1                              Somewhat easy   \n2                 Neither easy nor difficult   \n4                 Neither easy nor difficult   \n5                              Somewhat easy   \n\n  is_discussing_mhd_with_employer_have_negative_consequences  \\\n0                                                 No           \n1                                                 No           \n2                                              Maybe           \n4                                                Yes           \n5                                                Yes           \n\n  is_discussing_phd_with_employer_have_negative_consequences  ...  \\\n0                                                 No          ...   \n1                                                 No          ...   \n2                                                 No          ...   \n4                                              Maybe          ...   \n5                                                Yes          ...   \n\n  is_mhi_interferes_with_your_work_when_treated_effectively  \\\n0                               Not applicable to me          \n1                                             Rarely          \n2                               Not applicable to me          \n4                                          Sometimes          \n5                               Not applicable to me          \n\n  is_mhi_does_not_interfere_with_your_work_when_treated_effectively age  \\\n0                               Not applicable to me                 39   \n1                                          Sometimes                 29   \n2                               Not applicable to me                 38   \n4                                          Sometimes                 43   \n5                                              Often                 42   \n\n   gender      country_of_residency us_state_residency  \\\n0    Male            United Kingdom                NaN   \n1    male  United States of America           Illinois   \n2   Male             United Kingdom                NaN   \n4  Female  United States of America           Illinois   \n5    Male            United Kingdom                NaN   \n\n            country_of_work us_state_work  \\\n0            United Kingdom           NaN   \n1  United States of America      Illinois   \n2            United Kingdom           NaN   \n4  United States of America      Illinois   \n5            United Kingdom           NaN   \n\n                                    role_description  is_remote  \n0                                 Back-end Developer  Sometimes  \n1             Back-end Developer|Front-end Developer      Never  \n2                                 Back-end Developer     Always  \n4  Executive Leadership|Supervisor/Team Lead|Dev ...  Sometimes  \n5  DevOps/SysAdmin|Support|Back-end Developer|Fro...  Sometimes  \n\n[5 rows x 51 columns]",
      "text/html": "<div>\n<style scoped>\n    .dataframe tbody tr th:only-of-type {\n        vertical-align: middle;\n    }\n\n    .dataframe tbody tr th {\n        vertical-align: top;\n    }\n\n    .dataframe thead th {\n        text-align: right;\n    }\n</style>\n<table border=\"1\" class=\"dataframe\">\n  <thead>\n    <tr style=\"text-align: right;\">\n      <th></th>\n      <th>organization_size</th>\n      <th>is_tech_company</th>\n      <th>is_mh_benefits_provided</th>\n      <th>is_aware_mh_care_available</th>\n      <th>is_mh_discussed_by_employer</th>\n      <th>is_mh_resources_provided_by_employer</th>\n      <th>is_anonymity_protected</th>\n      <th>how_is_asking_for_medical_leave_due_to_mhi</th>\n      <th>is_discussing_mhd_with_employer_have_negative_consequences</th>\n      <th>is_discussing_phd_with_employer_have_negative_consequences</th>\n      <th>...</th>\n      <th>is_mhi_interferes_with_your_work_when_treated_effectively</th>\n      <th>is_mhi_does_not_interfere_with_your_work_when_treated_effectively</th>\n      <th>age</th>\n      <th>gender</th>\n      <th>country_of_residency</th>\n      <th>us_state_residency</th>\n      <th>country_of_work</th>\n      <th>us_state_work</th>\n      <th>role_description</th>\n      <th>is_remote</th>\n    </tr>\n  </thead>\n  <tbody>\n    <tr>\n      <th>0</th>\n      <td>Between 26 and 100</td>\n      <td>1</td>\n      <td>Not eligible for coverage / N/A</td>\n      <td>NaN</td>\n      <td>No</td>\n      <td>No</td>\n      <td>I don't know</td>\n      <td>Very easy</td>\n      <td>No</td>\n      <td>No</td>\n      <td>...</td>\n      <td>Not applicable to me</td>\n      <td>Not applicable to me</td>\n      <td>39</td>\n      <td>Male</td>\n      <td>United Kingdom</td>\n      <td>NaN</td>\n      <td>United Kingdom</td>\n      <td>NaN</td>\n      <td>Back-end Developer</td>\n      <td>Sometimes</td>\n    </tr>\n    <tr>\n      <th>1</th>\n      <td>Between 6 and 25</td>\n      <td>1</td>\n      <td>No</td>\n      <td>Yes</td>\n      <td>Yes</td>\n      <td>Yes</td>\n      <td>Yes</td>\n      <td>Somewhat easy</td>\n      <td>No</td>\n      <td>No</td>\n      <td>...</td>\n      <td>Rarely</td>\n      <td>Sometimes</td>\n      <td>29</td>\n      <td>male</td>\n      <td>United States of America</td>\n      <td>Illinois</td>\n      <td>United States of America</td>\n      <td>Illinois</td>\n      <td>Back-end Developer|Front-end Developer</td>\n      <td>Never</td>\n    </tr>\n    <tr>\n      <th>2</th>\n      <td>Between 6 and 25</td>\n      <td>1</td>\n      <td>No</td>\n      <td>NaN</td>\n      <td>No</td>\n      <td>No</td>\n      <td>I don't know</td>\n      <td>Neither easy nor difficult</td>\n      <td>Maybe</td>\n      <td>No</td>\n      <td>...</td>\n      <td>Not applicable to me</td>\n      <td>Not applicable to me</td>\n      <td>38</td>\n      <td>Male</td>\n      <td>United Kingdom</td>\n      <td>NaN</td>\n      <td>United Kingdom</td>\n      <td>NaN</td>\n      <td>Back-end Developer</td>\n      <td>Always</td>\n    </tr>\n    <tr>\n      <th>4</th>\n      <td>Between 6 and 25</td>\n      <td>0</td>\n      <td>Yes</td>\n      <td>Yes</td>\n      <td>No</td>\n      <td>No</td>\n      <td>No</td>\n      <td>Neither easy nor difficult</td>\n      <td>Yes</td>\n      <td>Maybe</td>\n      <td>...</td>\n      <td>Sometimes</td>\n      <td>Sometimes</td>\n      <td>43</td>\n      <td>Female</td>\n      <td>United States of America</td>\n      <td>Illinois</td>\n      <td>United States of America</td>\n      <td>Illinois</td>\n      <td>Executive Leadership|Supervisor/Team Lead|Dev ...</td>\n      <td>Sometimes</td>\n    </tr>\n    <tr>\n      <th>5</th>\n      <td>More than 1000</td>\n      <td>1</td>\n      <td>Yes</td>\n      <td>I am not sure</td>\n      <td>No</td>\n      <td>Yes</td>\n      <td>Yes</td>\n      <td>Somewhat easy</td>\n      <td>Yes</td>\n      <td>Yes</td>\n      <td>...</td>\n      <td>Not applicable to me</td>\n      <td>Often</td>\n      <td>42</td>\n      <td>Male</td>\n      <td>United Kingdom</td>\n      <td>NaN</td>\n      <td>United Kingdom</td>\n      <td>NaN</td>\n      <td>DevOps/SysAdmin|Support|Back-end Developer|Fro...</td>\n      <td>Sometimes</td>\n    </tr>\n  </tbody>\n</table>\n<p>5 rows × 51 columns</p>\n</div>"
     },
     "execution_count": 16,
     "metadata": {},
     "output_type": "execute_result"
    }
   ],
   "source": [
    "# Using the list to_be_deleted to drop empty columns\n",
    "df.drop(columns=to_be_deleted, axis=1, inplace=True)\n",
    "\n",
    "# Drop text columns with no rewarding piece of information\n",
    "df.drop([\"why_or_why_not_bring_phi_in_interview\", \"why_or_why_not_bring_mhi_in_interview\"], axis=1, inplace=True)\n",
    "\n",
    "# \n",
    "df.head()"
   ],
   "metadata": {
    "collapsed": false,
    "ExecuteTime": {
     "end_time": "2024-03-05T00:02:24.557568Z",
     "start_time": "2024-03-05T00:02:24.481968Z"
    }
   },
   "id": "dd39d7f2e6cdb49f",
   "execution_count": 16
  },
  {
   "cell_type": "markdown",
   "source": [
    "In the following columns, we shall proceed on filling missing values using uncertainty options available in the columns as unique values."
   ],
   "metadata": {
    "collapsed": false
   },
   "id": "190567c35a95fc95"
  },
  {
   "cell_type": "code",
   "outputs": [
    {
     "data": {
      "text/plain": "previously_observed_experienced_response_to_mhi  is_less_encouraged_to_reveal_mhi\nNo                                               Maybe                               417\nMaybe/Not sure                                   Maybe                               149\n                                                 No                                   91\nYes, I observed                                  Yes                                  68\n                                                 Maybe                                50\nYes, I experienced                               Maybe                                41\n                                                 Yes                                  37\nYes, I observed                                  No                                   36\nMaybe/Not sure                                   Yes                                  32\nYes, I experienced                               No                                   27\nName: count, dtype: int64"
     },
     "execution_count": 19,
     "metadata": {},
     "output_type": "execute_result"
    }
   ],
   "source": [
    "#  Filling the missing values with the appropriate unique values\n",
    "df[\n",
    "    'is_aware_mh_care_available'].fillna(\n",
    "    'I am not sure', inplace=True)\n",
    "\n",
    "# Replacing the missing values\n",
    "df[\n",
    "    'previously_observed_experienced_response_to_mhi'].fillna(\n",
    "    \"Maybe/Not sure\", inplace=True)\n",
    "df[\n",
    "    'is_less_encouraged_to_reveal_mhi'].fillna(\n",
    "    \"Maybe\", inplace=True)\n"
   ],
   "metadata": {
    "collapsed": false,
    "ExecuteTime": {
     "end_time": "2024-03-05T00:04:43.034967Z",
     "start_time": "2024-03-05T00:04:43.008012Z"
    }
   },
   "id": "87cef7c19614dc2c",
   "execution_count": 19
  },
  {
   "cell_type": "code",
   "execution_count": 40,
   "id": "a4bdab8e2b35414c",
   "metadata": {
    "collapsed": false,
    "ExecuteTime": {
     "end_time": "2024-03-05T00:27:08.376675Z",
     "start_time": "2024-03-05T00:27:08.158642Z"
    }
   },
   "outputs": [
    {
     "data": {
      "text/plain": "<Figure size 640x480 with 1 Axes>",
      "image/png": "[encoded data removed]"
     },
     "metadata": {},
     "output_type": "display_data"
    }
   ],
   "source": [
    "# \n",
    "df.loc[(df['age'] > 60), 'age'] = df.loc[(df['age'] < 17), 'age'] = df[\"age\"].median()\n",
    "\n",
    "rico = pd.DataFrame(df['age'].value_counts()).reset_index()\n",
    "\n",
    "# \n",
    "sns.boxplot(data=rico, x='age')\n",
    "\n",
    "plt.show()"
   ]
  },
  {
   "cell_type": "code",
   "execution_count": 41,
   "id": "513d90a95e2158ae",
   "metadata": {
    "collapsed": false,
    "ExecuteTime": {
     "end_time": "2024-03-05T00:30:24.133940Z",
     "start_time": "2024-03-05T00:30:24.078696Z"
    }
   },
   "outputs": [
    {
     "data": {
      "text/plain": "gender\nMale      727\nFemale    197\nOther      24\nName: count, dtype: int64"
     },
     "execution_count": 41,
     "metadata": {},
     "output_type": "execute_result"
    }
   ],
   "source": [
    "# Reassigning the values to Male, Female, or Other\n",
    "df['gender'].replace(\n",
    "    ['male', 'm', 'M', 'Male (cis)', 'cisdude', 'Dude', 'Male.', 'Cis male', 'Cis Male', 'cis male', 'cis man', 'mail',\n",
    "     'Male (trans, FtM)', 'Male/genderqueer', 'Malr', 'Man', 'Sex is male', 'man', 'male ', 'M|', 'Male ', 'MALE',\n",
    "     'Male (trans, FtM)',\n",
    "     'I\\'m a man why didn\\'t you make this a drop down question. You should of asked sex? And I would of answered yes please. Seriously how much text can this take? '\n",
    "     ],\n",
    "    'Male', inplace=True)\n",
    "\n",
    "df['gender'].replace(\n",
    "    ['Female', 'female', 'I identify as female.', 'female ', 'Female assigned at birth ', 'Cis female ', 'F', 'Woman',\n",
    "     'Transitioned, M2F', 'Female or Multi-Gender Femme', 'woman', 'female/woman', 'Cisgender Female', 'fm', 'f',\n",
    "     'fem', ' Female', 'Cis-woman', 'Female ', 'Female (props for making this a freeform field, though)',\n",
    "     ],\n",
    "    'Female', inplace=True)\n",
    "\n",
    "df['gender'].replace(\n",
    "    ['Genderfluid (born female)', 'female-bodied; no feelings about gender', 'non-binary', 'AFAB', 'Agender',\n",
    "     'genderqueer',\n",
    "     'Genderflux demi-girl', 'mtf', 'Genderqueer', 'Transgender woman', 'Other/Transfeminine', 'human', 'Queer',\n",
    "     'Unicorn',\n",
    "     'Androgynous', 'Fluid', 'nb masculine', 'Genderfluid', 'none of your business', 'Bigender', 'Enby',\n",
    "     'genderqueer woman',\n",
    "     'Nonbinary', 'male 9:1 female, roughly', 'Human', np.nan\n",
    "     ],\n",
    "    'Other', inplace=True)\n",
    "\n",
    "# Overview of the transformed data\n",
    "df.gender.value_counts()"
   ]
  },
  {
   "cell_type": "code",
   "outputs": [],
   "source": [
    "def conditions_counter(column_name):\n",
    "    \"\"\"\n",
    "    :param column_name: The name of column desired\n",
    "    :return: a Dataframe containing the conditions and the number of their occurrences in the column\n",
    "    \"\"\"\n",
    "\n",
    "    # Creating the list of unique values excluding empty values\n",
    "    a_list = pd.DataFrame(data[column_name].value_counts()).reset_index().iloc[:, 0].to_list()\n",
    "\n",
    "    # Creating an empty dictionary\n",
    "    a_dict = dict()\n",
    "\n",
    "    # Initiating a for-loop\n",
    "    for element in a_list:\n",
    "        # Inspecting the existence of a character \n",
    "        if '|' in element:\n",
    "            elements = element.split(\"|\")\n",
    "            # If the condition is met\n",
    "            for unit in elements:\n",
    "                # Iterating each unit  \n",
    "                if unit in a_dict:\n",
    "                    a_dict[unit] += 1  # Augment the number if it does exist\n",
    "                else:\n",
    "                    a_dict[unit] = 1  # Set the number to 1 if a new occurrence is found\n",
    "        else:\n",
    "            if element in a_dict:\n",
    "                a_dict[element] += 1\n",
    "            else:\n",
    "                a_dict[element] = 1\n",
    "\n",
    "    # Turning the data stored in the dictionary into a dataframe\n",
    "    dframe = pd.DataFrame(list(a_dict.items()), columns=['Condition', 'Count'])\n",
    "\n",
    "    # The final output of the function\n",
    "    return dframe"
   ],
   "metadata": {
    "collapsed": false,
    "ExecuteTime": {
     "end_time": "2024-03-05T00:38:05.330194Z",
     "start_time": "2024-03-05T00:38:05.315817Z"
    }
   },
   "id": "fd15107a8ba02533",
   "execution_count": 55
  },
  {
   "cell_type": "code",
   "outputs": [
    {
     "data": {
      "text/plain": "                                            Condition  Count\n0   Anxiety Disorder (Generalized, Social, Phobia,...     71\n1   Mood Disorder (Depression, Bipolar Disorder, etc)     76\n2            Attention Deficit Hyperactivity Disorder     38\n3                      Post-traumatic Stress Disorder     37\n4            Eating Disorder (Anorexia, Bulimia, etc)     17\n5                       Obsessive-Compulsive Disorder     26\n6                              Substance Use Disorder     25\n7                                  Addictive Disorder     25\n8                           Stress Response Syndromes     24\n9   Psychotic Disorder (Schizophrenia, Schizoaffec...      2\n10  Personality Disorder (Borderline, Antisocial, ...     26\n11                              Dissociative Disorder      9\n12                            ADD (w/o Hyperactivity)      1\n13                   Schizotypal Personality Disorder      1\n14  Combination of physical impairment (strongly n...      1\n15                           Autism spectrum disorder      1\n16                                   Sexual addiction      1\n17                                  Sleeping Disorder      1\n18  I haven't been formally diagnosed, so I felt u...      1\n19                                  Intimate Disorder      1\n20                                             Autism      3\n21                                        Transgender      1\n22                           Autism Spectrum Disorder      1\n23                                Autism (Asperger's)      1\n24                                         Depression      1\n25                                            PDD-NOS      1\n26                                           Burn out      1\n27                        Seasonal Affective Disorder      1\n28  Pervasive Developmental Disorder (Not Otherwis...      1\n29                             Traumatic Brain Injury      1\n30                                 PTSD (undiagnosed)      1\n31                                           Asperges      1\n32                                   Gender Dysphoria      1",
      "text/html": "<div>\n<style scoped>\n    .dataframe tbody tr th:only-of-type {\n        vertical-align: middle;\n    }\n\n    .dataframe tbody tr th {\n        vertical-align: top;\n    }\n\n    .dataframe thead th {\n        text-align: right;\n    }\n</style>\n<table border=\"1\" class=\"dataframe\">\n  <thead>\n    <tr style=\"text-align: right;\">\n      <th></th>\n      <th>Condition</th>\n      <th>Count</th>\n    </tr>\n  </thead>\n  <tbody>\n    <tr>\n      <th>0</th>\n      <td>Anxiety Disorder (Generalized, Social, Phobia,...</td>\n      <td>71</td>\n    </tr>\n    <tr>\n      <th>1</th>\n      <td>Mood Disorder (Depression, Bipolar Disorder, etc)</td>\n      <td>76</td>\n    </tr>\n    <tr>\n      <th>2</th>\n      <td>Attention Deficit Hyperactivity Disorder</td>\n      <td>38</td>\n    </tr>\n    <tr>\n      <th>3</th>\n      <td>Post-traumatic Stress Disorder</td>\n      <td>37</td>\n    </tr>\n    <tr>\n      <th>4</th>\n      <td>Eating Disorder (Anorexia, Bulimia, etc)</td>\n      <td>17</td>\n    </tr>\n    <tr>\n      <th>5</th>\n      <td>Obsessive-Compulsive Disorder</td>\n      <td>26</td>\n    </tr>\n    <tr>\n      <th>6</th>\n      <td>Substance Use Disorder</td>\n      <td>25</td>\n    </tr>\n    <tr>\n      <th>7</th>\n      <td>Addictive Disorder</td>\n      <td>25</td>\n    </tr>\n    <tr>\n      <th>8</th>\n      <td>Stress Response Syndromes</td>\n      <td>24</td>\n    </tr>\n    <tr>\n      <th>9</th>\n      <td>Psychotic Disorder (Schizophrenia, Schizoaffec...</td>\n      <td>2</td>\n    </tr>\n    <tr>\n      <th>10</th>\n      <td>Personality Disorder (Borderline, Antisocial, ...</td>\n      <td>26</td>\n    </tr>\n    <tr>\n      <th>11</th>\n      <td>Dissociative Disorder</td>\n      <td>9</td>\n    </tr>\n    <tr>\n      <th>12</th>\n      <td>ADD (w/o Hyperactivity)</td>\n      <td>1</td>\n    </tr>\n    <tr>\n      <th>13</th>\n      <td>Schizotypal Personality Disorder</td>\n      <td>1</td>\n    </tr>\n    <tr>\n      <th>14</th>\n      <td>Combination of physical impairment (strongly n...</td>\n      <td>1</td>\n    </tr>\n    <tr>\n      <th>15</th>\n      <td>Autism spectrum disorder</td>\n      <td>1</td>\n    </tr>\n    <tr>\n      <th>16</th>\n      <td>Sexual addiction</td>\n      <td>1</td>\n    </tr>\n    <tr>\n      <th>17</th>\n      <td>Sleeping Disorder</td>\n      <td>1</td>\n    </tr>\n    <tr>\n      <th>18</th>\n      <td>I haven't been formally diagnosed, so I felt u...</td>\n      <td>1</td>\n    </tr>\n    <tr>\n      <th>19</th>\n      <td>Intimate Disorder</td>\n      <td>1</td>\n    </tr>\n    <tr>\n      <th>20</th>\n      <td>Autism</td>\n      <td>3</td>\n    </tr>\n    <tr>\n      <th>21</th>\n      <td>Transgender</td>\n      <td>1</td>\n    </tr>\n    <tr>\n      <th>22</th>\n      <td>Autism Spectrum Disorder</td>\n      <td>1</td>\n    </tr>\n    <tr>\n      <th>23</th>\n      <td>Autism (Asperger's)</td>\n      <td>1</td>\n    </tr>\n    <tr>\n      <th>24</th>\n      <td>Depression</td>\n      <td>1</td>\n    </tr>\n    <tr>\n      <th>25</th>\n      <td>PDD-NOS</td>\n      <td>1</td>\n    </tr>\n    <tr>\n      <th>26</th>\n      <td>Burn out</td>\n      <td>1</td>\n    </tr>\n    <tr>\n      <th>27</th>\n      <td>Seasonal Affective Disorder</td>\n      <td>1</td>\n    </tr>\n    <tr>\n      <th>28</th>\n      <td>Pervasive Developmental Disorder (Not Otherwis...</td>\n      <td>1</td>\n    </tr>\n    <tr>\n      <th>29</th>\n      <td>Traumatic Brain Injury</td>\n      <td>1</td>\n    </tr>\n    <tr>\n      <th>30</th>\n      <td>PTSD (undiagnosed)</td>\n      <td>1</td>\n    </tr>\n    <tr>\n      <th>31</th>\n      <td>Asperges</td>\n      <td>1</td>\n    </tr>\n    <tr>\n      <th>32</th>\n      <td>Gender Dysphoria</td>\n      <td>1</td>\n    </tr>\n  </tbody>\n</table>\n</div>"
     },
     "execution_count": 56,
     "metadata": {},
     "output_type": "execute_result"
    }
   ],
   "source": [
    "known_conditions = conditions_counter(\"diagnosed_conditions\") \n",
    "known_conditions"
   ],
   "metadata": {
    "collapsed": false,
    "ExecuteTime": {
     "end_time": "2024-03-05T00:38:06.617026Z",
     "start_time": "2024-03-05T00:38:06.589608Z"
    }
   },
   "id": "2bc10e878c4f2453",
   "execution_count": 56
  },
  {
   "cell_type": "code",
   "execution_count": 42,
   "id": "16faf8372804de4b",
   "metadata": {
    "collapsed": false,
    "ExecuteTime": {
     "end_time": "2024-03-05T00:30:30.523810Z",
     "start_time": "2024-03-05T00:30:30.492712Z"
    }
   },
   "outputs": [
    {
     "data": {
      "text/plain": "        organization_size  is_tech_company          is_mh_benefits_provided  \\\n0      Between 26 and 100                1  Not eligible for coverage / N/A   \n1        Between 6 and 25                1                               No   \n2        Between 6 and 25                1                               No   \n4        Between 6 and 25                0                              Yes   \n5          More than 1000                1                              Yes   \n...                   ...              ...                              ...   \n1423  Between 101 and 500                1                              Yes   \n1424  Between 101 and 500                1  Not eligible for coverage / N/A   \n1425  Between 101 and 500                1                              Yes   \n1430  Between 101 and 500                1                              Yes   \n1431  Between 101 and 500                0                     I don't know   \n\n     is_aware_mh_care_available is_mh_discussed_by_employer  \\\n0                 I am not sure                          No   \n1                           Yes                         Yes   \n2                 I am not sure                          No   \n4                           Yes                          No   \n5                 I am not sure                          No   \n...                         ...                         ...   \n1423              I am not sure                         Yes   \n1424              I am not sure                          No   \n1425              I am not sure                         Yes   \n1430                        Yes                         Yes   \n1431              I am not sure                          No   \n\n     is_mh_resources_provided_by_employer is_anonymity_protected  \\\n0                                      No           I don't know   \n1                                     Yes                    Yes   \n2                                      No           I don't know   \n4                                      No                     No   \n5                                     Yes                    Yes   \n...                                   ...                    ...   \n1423                         I don't know           I don't know   \n1424                                   No           I don't know   \n1425                                  Yes                    Yes   \n1430                                  Yes           I don't know   \n1431                                  Yes           I don't know   \n\n     how_is_asking_for_medical_leave_due_to_mhi  \\\n0                                     Very easy   \n1                                 Somewhat easy   \n2                    Neither easy nor difficult   \n4                    Neither easy nor difficult   \n5                                 Somewhat easy   \n...                                         ...   \n1423                              Somewhat easy   \n1424                         Somewhat difficult   \n1425                              Somewhat easy   \n1430                         Somewhat difficult   \n1431                         Somewhat difficult   \n\n     is_discussing_mhd_with_employer_have_negative_consequences  \\\n0                                                    No           \n1                                                    No           \n2                                                 Maybe           \n4                                                   Yes           \n5                                                   Yes           \n...                                                 ...           \n1423                                                 No           \n1424                                              Maybe           \n1425                                                 No           \n1430                                              Maybe           \n1431                                              Maybe           \n\n     is_discussing_phd_with_employer_have_negative_consequences  ...  \\\n0                                                    No          ...   \n1                                                    No          ...   \n2                                                    No          ...   \n4                                                 Maybe          ...   \n5                                                   Yes          ...   \n...                                                 ...          ...   \n1423                                                 No          ...   \n1424                                                 No          ...   \n1425                                                 No          ...   \n1430                                              Maybe          ...   \n1431                                                 No          ...   \n\n     is_mhi_interferes_with_your_work_when_treated_effectively  \\\n0                                  Not applicable to me          \n1                                                Rarely          \n2                                  Not applicable to me          \n4                                             Sometimes          \n5                                  Not applicable to me          \n...                                                 ...          \n1423                               Not applicable to me          \n1424                                             Rarely          \n1425                                             Rarely          \n1430                                             Rarely          \n1431                                          Sometimes          \n\n     is_mhi_does_not_interfere_with_your_work_when_treated_effectively age  \\\n0                                  Not applicable to me                 39   \n1                                             Sometimes                 29   \n2                                  Not applicable to me                 38   \n4                                             Sometimes                 43   \n5                                                 Often                 42   \n...                                                 ...                 ..   \n1423                               Not applicable to me                 24   \n1424                                              Often                 22   \n1425                                             Rarely                 24   \n1430                                          Sometimes                 52   \n1431                                              Often                 30   \n\n      gender      country_of_residency us_state_residency  \\\n0       Male            United Kingdom                NaN   \n1       Male  United States of America           Illinois   \n2       Male            United Kingdom                NaN   \n4     Female  United States of America           Illinois   \n5       Male            United Kingdom                NaN   \n...      ...                       ...                ...   \n1423    Male                    Canada                NaN   \n1424  Female                    Canada                NaN   \n1425    Male                    Canada                NaN   \n1430    Male  United States of America            Georgia   \n1431  Female  United States of America           Nebraska   \n\n               country_of_work us_state_work  \\\n0               United Kingdom           NaN   \n1     United States of America      Illinois   \n2               United Kingdom           NaN   \n4     United States of America      Illinois   \n5               United Kingdom           NaN   \n...                        ...           ...   \n1423                    Canada           NaN   \n1424                    Canada           NaN   \n1425                    Canada           NaN   \n1430  United States of America       Georgia   \n1431  United States of America      Nebraska   \n\n                                       role_description  is_remote  \n0                                    Back-end Developer  Sometimes  \n1                Back-end Developer|Front-end Developer      Never  \n2                                    Back-end Developer     Always  \n4     Executive Leadership|Supervisor/Team Lead|Dev ...  Sometimes  \n5     DevOps/SysAdmin|Support|Back-end Developer|Fro...  Sometimes  \n...                                                 ...        ...  \n1423                                 Back-end Developer  Sometimes  \n1424             Back-end Developer|Front-end Developer  Sometimes  \n1425  Supervisor/Team Lead|Front-end Developer|Back-...  Sometimes  \n1430                                 Back-end Developer  Sometimes  \n1431                                    DevOps/SysAdmin  Sometimes  \n\n[948 rows x 51 columns]",
      "text/html": "<div>\n<style scoped>\n    .dataframe tbody tr th:only-of-type {\n        vertical-align: middle;\n    }\n\n    .dataframe tbody tr th {\n        vertical-align: top;\n    }\n\n    .dataframe thead th {\n        text-align: right;\n    }\n</style>\n<table border=\"1\" class=\"dataframe\">\n  <thead>\n    <tr style=\"text-align: right;\">\n      <th></th>\n      <th>organization_size</th>\n      <th>is_tech_company</th>\n      <th>is_mh_benefits_provided</th>\n      <th>is_aware_mh_care_available</th>\n      <th>is_mh_discussed_by_employer</th>\n      <th>is_mh_resources_provided_by_employer</th>\n      <th>is_anonymity_protected</th>\n      <th>how_is_asking_for_medical_leave_due_to_mhi</th>\n      <th>is_discussing_mhd_with_employer_have_negative_consequences</th>\n      <th>is_discussing_phd_with_employer_have_negative_consequences</th>\n      <th>...</th>\n      <th>is_mhi_interferes_with_your_work_when_treated_effectively</th>\n      <th>is_mhi_does_not_interfere_with_your_work_when_treated_effectively</th>\n      <th>age</th>\n      <th>gender</th>\n      <th>country_of_residency</th>\n      <th>us_state_residency</th>\n      <th>country_of_work</th>\n      <th>us_state_work</th>\n      <th>role_description</th>\n      <th>is_remote</th>\n    </tr>\n  </thead>\n  <tbody>\n    <tr>\n      <th>0</th>\n      <td>Between 26 and 100</td>\n      <td>1</td>\n      <td>Not eligible for coverage / N/A</td>\n      <td>I am not sure</td>\n      <td>No</td>\n      <td>No</td>\n      <td>I don't know</td>\n      <td>Very easy</td>\n      <td>No</td>\n      <td>No</td>\n      <td>...</td>\n      <td>Not applicable to me</td>\n      <td>Not applicable to me</td>\n      <td>39</td>\n      <td>Male</td>\n      <td>United Kingdom</td>\n      <td>NaN</td>\n      <td>United Kingdom</td>\n      <td>NaN</td>\n      <td>Back-end Developer</td>\n      <td>Sometimes</td>\n    </tr>\n    <tr>\n      <th>1</th>\n      <td>Between 6 and 25</td>\n      <td>1</td>\n      <td>No</td>\n      <td>Yes</td>\n      <td>Yes</td>\n      <td>Yes</td>\n      <td>Yes</td>\n      <td>Somewhat easy</td>\n      <td>No</td>\n      <td>No</td>\n      <td>...</td>\n      <td>Rarely</td>\n      <td>Sometimes</td>\n      <td>29</td>\n      <td>Male</td>\n      <td>United States of America</td>\n      <td>Illinois</td>\n      <td>United States of America</td>\n      <td>Illinois</td>\n      <td>Back-end Developer|Front-end Developer</td>\n      <td>Never</td>\n    </tr>\n    <tr>\n      <th>2</th>\n      <td>Between 6 and 25</td>\n      <td>1</td>\n      <td>No</td>\n      <td>I am not sure</td>\n      <td>No</td>\n      <td>No</td>\n      <td>I don't know</td>\n      <td>Neither easy nor difficult</td>\n      <td>Maybe</td>\n      <td>No</td>\n      <td>...</td>\n      <td>Not applicable to me</td>\n      <td>Not applicable to me</td>\n      <td>38</td>\n      <td>Male</td>\n      <td>United Kingdom</td>\n      <td>NaN</td>\n      <td>United Kingdom</td>\n      <td>NaN</td>\n      <td>Back-end Developer</td>\n      <td>Always</td>\n    </tr>\n    <tr>\n      <th>4</th>\n      <td>Between 6 and 25</td>\n      <td>0</td>\n      <td>Yes</td>\n      <td>Yes</td>\n      <td>No</td>\n      <td>No</td>\n      <td>No</td>\n      <td>Neither easy nor difficult</td>\n      <td>Yes</td>\n      <td>Maybe</td>\n      <td>...</td>\n      <td>Sometimes</td>\n      <td>Sometimes</td>\n      <td>43</td>\n      <td>Female</td>\n      <td>United States of America</td>\n      <td>Illinois</td>\n      <td>United States of America</td>\n      <td>Illinois</td>\n      <td>Executive Leadership|Supervisor/Team Lead|Dev ...</td>\n      <td>Sometimes</td>\n    </tr>\n    <tr>\n      <th>5</th>\n      <td>More than 1000</td>\n      <td>1</td>\n      <td>Yes</td>\n      <td>I am not sure</td>\n      <td>No</td>\n      <td>Yes</td>\n      <td>Yes</td>\n      <td>Somewhat easy</td>\n      <td>Yes</td>\n      <td>Yes</td>\n      <td>...</td>\n      <td>Not applicable to me</td>\n      <td>Often</td>\n      <td>42</td>\n      <td>Male</td>\n      <td>United Kingdom</td>\n      <td>NaN</td>\n      <td>United Kingdom</td>\n      <td>NaN</td>\n      <td>DevOps/SysAdmin|Support|Back-end Developer|Fro...</td>\n      <td>Sometimes</td>\n    </tr>\n    <tr>\n      <th>...</th>\n      <td>...</td>\n      <td>...</td>\n      <td>...</td>\n      <td>...</td>\n      <td>...</td>\n      <td>...</td>\n      <td>...</td>\n      <td>...</td>\n      <td>...</td>\n      <td>...</td>\n      <td>...</td>\n      <td>...</td>\n      <td>...</td>\n      <td>...</td>\n      <td>...</td>\n      <td>...</td>\n      <td>...</td>\n      <td>...</td>\n      <td>...</td>\n      <td>...</td>\n      <td>...</td>\n    </tr>\n    <tr>\n      <th>1423</th>\n      <td>Between 101 and 500</td>\n      <td>1</td>\n      <td>Yes</td>\n      <td>I am not sure</td>\n      <td>Yes</td>\n      <td>I don't know</td>\n      <td>I don't know</td>\n      <td>Somewhat easy</td>\n      <td>No</td>\n      <td>No</td>\n      <td>...</td>\n      <td>Not applicable to me</td>\n      <td>Not applicable to me</td>\n      <td>24</td>\n      <td>Male</td>\n      <td>Canada</td>\n      <td>NaN</td>\n      <td>Canada</td>\n      <td>NaN</td>\n      <td>Back-end Developer</td>\n      <td>Sometimes</td>\n    </tr>\n    <tr>\n      <th>1424</th>\n      <td>Between 101 and 500</td>\n      <td>1</td>\n      <td>Not eligible for coverage / N/A</td>\n      <td>I am not sure</td>\n      <td>No</td>\n      <td>No</td>\n      <td>I don't know</td>\n      <td>Somewhat difficult</td>\n      <td>Maybe</td>\n      <td>No</td>\n      <td>...</td>\n      <td>Rarely</td>\n      <td>Often</td>\n      <td>22</td>\n      <td>Female</td>\n      <td>Canada</td>\n      <td>NaN</td>\n      <td>Canada</td>\n      <td>NaN</td>\n      <td>Back-end Developer|Front-end Developer</td>\n      <td>Sometimes</td>\n    </tr>\n    <tr>\n      <th>1425</th>\n      <td>Between 101 and 500</td>\n      <td>1</td>\n      <td>Yes</td>\n      <td>I am not sure</td>\n      <td>Yes</td>\n      <td>Yes</td>\n      <td>Yes</td>\n      <td>Somewhat easy</td>\n      <td>No</td>\n      <td>No</td>\n      <td>...</td>\n      <td>Rarely</td>\n      <td>Rarely</td>\n      <td>24</td>\n      <td>Male</td>\n      <td>Canada</td>\n      <td>NaN</td>\n      <td>Canada</td>\n      <td>NaN</td>\n      <td>Supervisor/Team Lead|Front-end Developer|Back-...</td>\n      <td>Sometimes</td>\n    </tr>\n    <tr>\n      <th>1430</th>\n      <td>Between 101 and 500</td>\n      <td>1</td>\n      <td>Yes</td>\n      <td>Yes</td>\n      <td>Yes</td>\n      <td>Yes</td>\n      <td>I don't know</td>\n      <td>Somewhat difficult</td>\n      <td>Maybe</td>\n      <td>Maybe</td>\n      <td>...</td>\n      <td>Rarely</td>\n      <td>Sometimes</td>\n      <td>52</td>\n      <td>Male</td>\n      <td>United States of America</td>\n      <td>Georgia</td>\n      <td>United States of America</td>\n      <td>Georgia</td>\n      <td>Back-end Developer</td>\n      <td>Sometimes</td>\n    </tr>\n    <tr>\n      <th>1431</th>\n      <td>Between 101 and 500</td>\n      <td>0</td>\n      <td>I don't know</td>\n      <td>I am not sure</td>\n      <td>No</td>\n      <td>Yes</td>\n      <td>I don't know</td>\n      <td>Somewhat difficult</td>\n      <td>Maybe</td>\n      <td>No</td>\n      <td>...</td>\n      <td>Sometimes</td>\n      <td>Often</td>\n      <td>30</td>\n      <td>Female</td>\n      <td>United States of America</td>\n      <td>Nebraska</td>\n      <td>United States of America</td>\n      <td>Nebraska</td>\n      <td>DevOps/SysAdmin</td>\n      <td>Sometimes</td>\n    </tr>\n  </tbody>\n</table>\n<p>948 rows × 51 columns</p>\n</div>"
     },
     "execution_count": 42,
     "metadata": {},
     "output_type": "execute_result"
    }
   ],
   "source": [
    "df"
   ]
  },
  {
   "cell_type": "code",
   "execution_count": null,
   "id": "bd9649f2d7494684",
   "metadata": {
    "collapsed": false
   },
   "outputs": [],
   "source": [
    "# Save the cleansed dataset in the respective directory\n",
    "df.to_csv(f\"{path}/data/data_v2.0.csv\")"
   ]
  },
  {
   "cell_type": "markdown",
   "id": "2ecf30382be229e7",
   "metadata": {
    "collapsed": false
   },
   "source": [
    "### 2.4 Columns 40 to 42\n",
    "There's a wide belief that mental health issues can threaten the career, and it shouldn't be discussed with anybody. In the nex few columns, we try to test the belief through what the respondents have said."
   ]
  },
  {
   "cell_type": "code",
   "execution_count": null,
   "id": "bd588ddb4c8f929b",
   "metadata": {
    "collapsed": false
   },
   "outputs": [],
   "source": [
    "# Saving the columns names in a list\n",
    "columns = [\n",
    "    \"Do you feel that being identified as a person with a mental health issue would hurt your career?\",\n",
    "    \"Do you think that team members/co-workers would view you more negatively if they knew you suffered from a mental health issue?\",\n",
    "    \"How willing would you be to share with friends and family that you have a mental illness?\"\n",
    "]\n",
    "\n",
    "# Saving the prospected charts' titles in a list\n",
    "titles = [\n",
    "    \"Negative impact on the career\",\n",
    "    \"Low status probability\",\n",
    "    \"Openness about mental health issue\"\n",
    "]\n",
    "\n",
    "# Create a figure and three subplots\n",
    "fig3, axes = plt.subplots(1, 3, figsize=(30, 10))\n",
    "\n",
    "# Starting the for loop\n",
    "for index, column in enumerate(columns):\n",
    "    # Setting the dictionary with the relevant details\n",
    "    the_dict = data[column].value_counts().to_dict()\n",
    "\n",
    "    # Solving the categories and their values\n",
    "    categories = list(the_dict.keys())\n",
    "    values = [the_dict[category] for category in categories]  # Corrected\n",
    "\n",
    "    # Plotting the chart without labels and percentages\n",
    "    axes[index].pie(values, labels=None, autopct='%1.1f%%', textprops={'fontsize': 22}, startangle=90)\n",
    "    axes[index].set_title(titles[index])\n",
    "\n",
    "    # Adding legend under each chart with extra space at the bottom\n",
    "    axes[index].legend(categories, loc='upper center', bbox_to_anchor=(1, 1))\n",
    "\n",
    "# Adjust layout\n",
    "plt.tight_layout()\n",
    "\n",
    "# Show the plot\n",
    "plt.show()"
   ]
  },
  {
   "cell_type": "markdown",
   "id": "27e266e1ef803fd0",
   "metadata": {
    "collapsed": false
   },
   "source": [
    "__Insights :__\n",
    "- It's made obvious that there is a tendency to believe that having mental health issues has a negative impact on the career and may lower an employee's status among its co-workers or at least uncertainty on its actual effect.\n",
    "- On the other hand, there is an obvious tendency to discuss mental health issues among friends and family."
   ]
  },
  {
   "cell_type": "markdown",
   "id": "f464c85c8bebae62",
   "metadata": {
    "collapsed": false
   },
   "source": [
    "### 2.5 Columns 43 to 44\n",
    "\n",
    "The next two columns address another aspect which is the impact of previous experience/observation of a wrongly handled mental health issue by current/previous employer. There is a noticeable number of empty values, although we'll make sure to work with the data we possess. "
   ]
  },
  {
   "cell_type": "code",
   "execution_count": null,
   "id": "b69b2327472213b3",
   "metadata": {
    "collapsed": false
   },
   "outputs": [],
   "source": [
    "# Setting a subset with the two columns called new_df\n",
    "new_df = data[[\n",
    "    \"Have you observed or experienced an unsupportive or badly handled response to a mental health issue in your current or previous workplace?\",\n",
    "    \"Have your observations of how another individual who discussed a mental health disorder made you less likely to reveal a mental health issue yourself in your current workplace?\"\n",
    "]].copy()\n",
    "\n",
    "# Plotting the bar plot using seaborn\n",
    "sns.countplot(\n",
    "    x=\"Have you observed or experienced an unsupportive or badly handled response to a mental health issue in your current or previous workplace?\",\n",
    "    hue=\"Have your observations of how another individual who discussed a mental health disorder made you less likely to reveal a mental health issue yourself in your current workplace?\",\n",
    "    data=new_df)\n",
    "\n",
    "# Setting labels and legend\n",
    "plt.xlabel(\"Previous observation/experience of badly handled mental health issue\")\n",
    "plt.ylabel(\"Number of respondents\")\n",
    "plt.legend(title=\"Does it impact?\")\n",
    "\n",
    "# Showing the chart\n",
    "plt.show()"
   ]
  },
  {
   "cell_type": "markdown",
   "id": "2dd591f78c5089a",
   "metadata": {
    "collapsed": false
   },
   "source": [
    "__Insights__ : \n",
    "- There is an important number of empty values present in these columns which can't be known due to which reason.\n",
    "- The respondents who have experienced/observed badly handled mental health issues are more likely to never reveal their mental health issues if they ever suffer one. "
   ]
  },
  {
   "cell_type": "markdown",
   "id": "b8b4d0341b1f304b",
   "metadata": {
    "collapsed": false
   },
   "source": [
    "### 2.6 Columns 45 to 46\n",
    "\n",
    "In the next two columns, we try to relate the mental health issues with the family history of an employee."
   ]
  },
  {
   "cell_type": "code",
   "execution_count": null,
   "id": "21a741b221bf590c",
   "metadata": {
    "collapsed": false
   },
   "outputs": [],
   "source": [
    "# Setting a subset with the two columns called new_df\n",
    "new_df = data[[\n",
    "    \"Do you have a family history of mental illness?\", \n",
    "    \"Have you had a mental health disorder in the past?\"\n",
    "]].copy()\n",
    "\n",
    "# Plotting the bar plot using seaborn\n",
    "sns.countplot(\n",
    "    x=\"Do you have a family history of mental illness?\",\n",
    "    hue=\"Have you had a mental health disorder in the past?\",\n",
    "    data=new_df)\n",
    "\n",
    "# Setting labels and legend\n",
    "plt.xlabel(\"Family's History of Mental Health Issues\")\n",
    "plt.ylabel(\"Number of respondents\")\n",
    "plt.legend(title=\"Previous mental health issues\")\n",
    "\n",
    "# Showing the chart\n",
    "plt.show()"
   ]
  },
  {
   "cell_type": "markdown",
   "id": "84f32788c5879789",
   "metadata": {
    "collapsed": false
   },
   "source": [
    "__Insights__ : \n",
    "- Employees who have family health issues have gone through some previous mental health issues.\n",
    "- Employees who have NO family health issues don't have any past mental health illness."
   ]
  }
 ],
 "metadata": {
  "kernelspec": {
   "display_name": "Python 3 (ipykernel)",
   "language": "python",
   "name": "python3"
  },
  "language_info": {
   "codemirror_mode": {
    "name": "ipython",
    "version": 3
   },
   "file_extension": ".py",
   "mimetype": "text/x-python",
   "name": "python",
   "nbconvert_exporter": "python",
   "pygments_lexer": "ipython3",
   "version": "3.9.7"
  }
 },
 "nbformat": 4,
 "nbformat_minor": 5
}
