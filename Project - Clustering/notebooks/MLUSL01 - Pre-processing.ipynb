{
 "cells": [
  {
   "cell_type": "markdown",
   "source": [
    "# <center> Clustering Project <center/>\n",
    "<center> DLBDSMLUSL01 - Machine Learning : Unsupervised Learning <center/>\n",
    "<center> IU International University of Applied Sciences <center/>"
   ],
   "metadata": {
    "collapsed": false
   },
   "id": "7a2b6963cf2e65c0"
  },
  {
   "cell_type": "markdown",
   "source": [
    "# Greetings\n",
    "The [data](https://www.kaggle.com/datasets/osmi/mental-health-in-tech-2016/) used in this notebook is the results of a survey, which were conducted amongst technology-oriented employees back in 2016."
   ],
   "metadata": {
    "collapsed": false
   },
   "id": "e87ab10ecbab2d7a"
  },
  {
   "cell_type": "markdown",
   "id": "960171b6b31aa09a",
   "metadata": {
    "collapsed": false
   },
   "source": [
    "## Data Pre-processing \n",
    "In this section, we make advantage of the findings of the Exploratory Data Analysis (EDA) to fix the problems occurring in the dataset. Subsequently, we'll delve into encoding the data to prepare it for clustering in the next phase."
   ]
  },
  {
   "cell_type": "markdown",
   "source": [
    "### List of contents :\n",
    "1. __Data Cleaning__\n",
    "1.1. Slicing the data\n",
    "1.2. Handling the missing data\n",
    "2. __Features Encoding__\n",
    "2.1. Ordinal labels\n",
    "2.2. Nominal Labels\n",
    "3. __Summary__"
   ],
   "metadata": {
    "collapsed": false
   },
   "id": "3d763da923fd7fb5"
  },
  {
   "cell_type": "markdown",
   "id": "b10153cbd5cae28d",
   "metadata": {
    "collapsed": false
   },
   "source": [
    "Importing the required libraries"
   ]
  },
  {
   "cell_type": "code",
   "execution_count": null,
   "id": "initial_id",
   "metadata": {
    "collapsed": true,
    "jupyter": {
     "outputs_hidden": true
    }
   },
   "outputs": [],
   "source": [
    "from sklearn.preprocessing import LabelEncoder, OneHotEncoder # Our solution for label encoding\n",
    "from pathlib import Path # Path library for generating OS paths efficiently\n",
    "import matplotlib.pyplot as plt # The base library for plotting graphs in python\n",
    "import pandas as pd # Data analysis library\n",
    "import numpy as np # Python library for numerical computation "
   ]
  },
  {
   "cell_type": "markdown",
   "id": "79242df41ec05046",
   "metadata": {
    "collapsed": false
   },
   "source": [
    "First, let's start by loading the data. "
   ]
  },
  {
   "cell_type": "code",
   "execution_count": null,
   "id": "e487bcd3a264c436",
   "metadata": {
    "collapsed": false
   },
   "outputs": [],
   "source": [
    "# Formulating the directory \n",
    "path = Path.cwd().parent\n",
    "\n",
    "# Loading the data\n",
    "data = pd.read_csv(f'{path}/data/mental-heath-in-tech-2016_20161114.csv')\n",
    "\n",
    "# Displaying the data\n",
    "data.head()"
   ]
  },
  {
   "cell_type": "code",
   "execution_count": null,
   "id": "7df3f59019488b7d",
   "metadata": {
    "collapsed": false
   },
   "outputs": [],
   "source": [
    "print(f\"The data is formed through {data.shape[1]} columns/features and {data.shape[0]} rows/records.\")"
   ]
  },
  {
   "cell_type": "markdown",
   "source": [
    "#### 1. Data Cleaning\n",
    "Numerous problems were discovered within the dataset such as missing and erroneous data and even inadequate data for the purpose of our case study. \n",
    "In this phase, we proceed to clean the data."
   ],
   "metadata": {
    "collapsed": false
   },
   "id": "ed6e85137158411"
  },
  {
   "cell_type": "markdown",
   "id": "e24885423b87b145",
   "metadata": {
    "collapsed": false
   },
   "source": [
    "We'll start by renaming the columns into short names instead of large questions."
   ]
  },
  {
   "cell_type": "code",
   "execution_count": null,
   "id": "6fe029c3f226ee71",
   "metadata": {
    "collapsed": false
   },
   "outputs": [],
   "source": [
    "# Here are the new names of the columns \n",
    "new_columns_names = [\n",
    "    'is_self_employed',  # Are you self-employed?\n",
    "    'organization_size',  # How many employees does your company or organization have?\n",
    "    'is_tech_company',  # Is your employer primarily a tech company/organization?\n",
    "    'is_tech_role',  # Is your primary role within your company related to tech/IT? \n",
    "    'is_mh_benefits_provided',  # Does your employer provide mental health benefits as part of healthcare coverage?\n",
    "    'is_aware_mh_care_available', # Do you know the options for mental health care available under your employer-provided coverage?\n",
    "    'is_mh_discussed_by_employer', # Has your employer ever formally discussed mental health (for example, as part of a wellness campaign or other official communication)?\n",
    "    'is_mh_resources_provided_by_employer', # Does your employer offer resources to learn more about mental health concerns and options for seeking help?\n",
    "    'is_anonymity_protected', # Is your anonymity protected if you choose to take advantage of mental health or substance abuse treatment resources provided by your employer?\n",
    "    'how_is_asking_for_medical_leave_due_to_mhi', # If a mental health issue prompted you to request a medical leave from work, asking for that leave would be \n",
    "    'is_discussing_mhd_with_employer_have_negative_consequences', # Do you think that discussing a mental health disorder with your employer would have negative consequences?\n",
    "    'is_discussing_phd_with_employer_have_negative_consequences', # Do you think that discussing a physical health disorder with your employer would have negative consequences?\n",
    "    'is_willing_to_discuss_mhi_with_colleagues', # Would you feel comfortable discussing a mental health disorder with your coworkers?\n",
    "    'is_willing_to_discuss_mhi_with_direct_supervisor', # Would you feel comfortable discussing a mental health disorder with your direct supervisor(s)?\n",
    "    'is_employer_takes_mh_seriously', # Do you feel that your employer takes mental health as seriously as physical health?\n",
    "    # Have you heard of or observed negative consequences for co-workers who have been open about mental health issues in your workplace?\n",
    "    'is_aware_of_previous_negative_consequence_of_colleagues_with_mhi',\n",
    "    # Do you have medical coverage (private insurance or state-provided) which includes treatment of mental health issues?\n",
    "    'have_medical_coverage_includes_mental_health_issue',\n",
    "    # Do you know local or online resources to seek help for a mental health disorder?\n",
    "    'know_how_to_seek_help',\n",
    "    # If you have been diagnosed or treated for a mental health disorder, do you ever reveal this to clients or business contacts?\n",
    "    'is_able_to_reveal_previous_mental_health_issue_to_business_contacts',\n",
    "    # If you have revealed a mental health issue to a client or business contact, do you believe this has impacted you negatively?\n",
    "    'is_impacted_negatively_1',\n",
    "    # If you have been diagnosed or treated for a mental health disorder, do you ever reveal this to coworkers or employees?\n",
    "    'is_able_to_reveal_previous_mental_health_issue_to_coworkers',\n",
    "    # If you have revealed a mental health issue to a coworker or employee, do you believe this has impacted you negatively?\n",
    "    'is_impacted_negatively_2',\n",
    "    # Do you believe your productivity is ever affected by a mental health issue?\n",
    "    'is_productivity_impacted',\n",
    "    # If yes, what percentage of your work time (time performing primary or secondary job functions) is affected by a mental health issue?\n",
    "    'percentage_impacted',\n",
    "    # Do you have previous employers?\n",
    "    'is_previously_employed',\n",
    "    # Have your previous employers provided mental health benefits?\n",
    "    'is_previous_employer_provides_mh_benefits',\n",
    "    # Were you aware of the options for mental health care provided by your previous employers?\n",
    "    'is_aware_mh_options_by_previous_employer',\n",
    "    # Did your previous employers ever formally discuss mental health (as part of a wellness campaign or other official communication)?\n",
    "    'is_mh_discussed_by_previous_employer',\n",
    "    # Did your previous employers provide resources to learn more about mental health issues and how to seek help?\n",
    "    'is_mh_resources_provided_by_previous_employer',\n",
    "    # Was your anonymity protected if you chose to take advantage of mental health or substance abuse treatment resources with previous employers?\n",
    "    'is_anonymity_protected_by_previous_employer',\n",
    "    # Do you think that discussing a mental health disorder with previous employers would have negative consequences?\n",
    "    'is_discussing_mhd_with_previous_employer_have_negative_consequences',\n",
    "    # Do you think that discussing a physical health disorder with previous employers would have negative consequences?\n",
    "    'is_discussing_phd_with_previous_employer_have_negative_consequences',\n",
    "    # Would you have been willing to discuss a mental health issue with your previous co-workers?\n",
    "    'is_willing_to_discuss_mhi_with_previous_colleagues',\n",
    "    # Would you have been willing to discuss a mental health issue with your direct supervisor(s)?\n",
    "    'is_willing_to_discuss_mhi_with_previous_direct_supervisor',\n",
    "    # Did you feel that your previous employers took mental health as seriously as physical health?\n",
    "    'is_previous_employer_takes_mh_seriously',\n",
    "    # Did you hear of or observe negative consequences for co-workers with mental health issues in your previous workplaces?\n",
    "    'is_aware_of_previous_negative_consequence_of_colleagues_with_mhi_in_previous_workplace',\n",
    "    'is_willing_to_bring_phi_in_interview', # Would you be willing to bring up a physical health issue with a potential employer in an interview?\n",
    "    'why_or_why_not_bring_phi_in_interview',  # Why or why not?\n",
    "    'is_willing_to_bring_mhi_in_interview', # Would you bring up a mental health issue with a potential employer in an interview?\n",
    "    'why_or_why_not_bring_mhi_in_interview',  # Why or why not?\n",
    "    'is_being_identified_with_mhi_would_hurt_your_career', # Do you feel that being identified as a person with a mental health issue would hurt your career?\n",
    "    'is_being_identified_with_mhi_would_lower_your_status_among_colleagues', # Do you think that team members/co-workers would view you more negatively if they knew you suffered from a mental health issue?\n",
    "    'is_wiling_to_share_about_mhi', # How willing would you be to share with friends and family that you have a mental illness?\n",
    "    # Have you observed or experienced an unsupported or badly handled response to a mental health issue in your current or previous workplace?\n",
    "    'previously_observed_experienced_response_to_mhi',\n",
    "    # Have your observations of how another individual who discussed a mental health disorder made you less likely to reveal a mental health issue yourself in your current workplace?\n",
    "    'is_less_encouraged_to_reveal_mhi',\n",
    "    'family_history_of_mhi',  # Do you have a family history of mental illness?\n",
    "    'previous_history_of_mhi',  # Have you had a mental health disorder in the past?\n",
    "    'is_having_mhd',  # Do you currently have a mental health disorder?\n",
    "    'known_conditions',  # If yes, what condition(s) have you been diagnosed with?\n",
    "    'suspected_conditions',  # If maybe, what condition(s) do you believe you have?\n",
    "    'diagnosed_by_professional',  # Have you been diagnosed with a mental health condition by a medical professional?\n",
    "    'diagnosed_conditions_by_professional',  # If so, what condition(s) were you diagnosed with?\n",
    "    'is_sought_treatment_for_mhi', # Have you ever sought treatment for a mental health issue from a mental health professional?\n",
    "    'is_mhi_interferes_with_your_work_when_treated_effectively', # If you have a mental health issue, do you feel that it interferes with your work when being treated effectively?\n",
    "    'is_mhi_does_not_interfere_with_your_work_when_treated_effectively', # If you have a mental health issue, do you feel that it interferes with your work when NOT being treated effectively?\n",
    "    'age',  # What is your age? \n",
    "    'gender',  # What is your gender?\n",
    "    'country_of_residency',  # What country do you live in?'\n",
    "    'us_state_residency',  # What US state or territory do you live in?\n",
    "    'country_of_work',  # What country do you work in?\n",
    "    'us_state_work',  # What US state or territory do you work in?\n",
    "    'role_description',  # Which of the following best describes your work position?\n",
    "    'is_remote'  # Do you work remotely?\n",
    "]\n",
    "\n",
    "# Setting the columns names in df\n",
    "data.columns = new_columns_names\n",
    "data.head()"
   ]
  },
  {
   "cell_type": "markdown",
   "id": "ce679c0112b84b79",
   "metadata": {
    "collapsed": false
   },
   "source": [
    "#### 1.1 Slicing the data \n",
    "As discussed, we only need to keep the data from employees and not self-employed. This would leave the feature useless, therefore, we'll remove it as well."
   ]
  },
  {
   "cell_type": "code",
   "execution_count": null,
   "id": "97c2424f666b86d6",
   "metadata": {
    "collapsed": false
   },
   "outputs": [],
   "source": [
    "# Keeping only the rows containing data about employees\n",
    "raw_df = data[data[\"is_self_employed\"] == 0]\n",
    "\n",
    "# Removing the feature\n",
    "df = raw_df.drop(columns=[\"is_self_employed\"], axis=1)\n",
    "\n",
    "# Overview of the new data\n",
    "df.head()"
   ]
  },
  {
   "cell_type": "markdown",
   "source": [
    "Addressing these missing values will help narrow the dataset into only the respondents we seek their responses."
   ],
   "metadata": {
    "collapsed": false
   },
   "id": "416da039ff449232"
  },
  {
   "cell_type": "code",
   "execution_count": null,
   "id": "42f350fffedfc230",
   "metadata": {
    "collapsed": false
   },
   "outputs": [],
   "source": [
    "# Let's fill the NaN values with undefined\n",
    "df[\"is_tech_role\"].replace(np.nan, \"undefined\", inplace=True)\n",
    "\n",
    "# The count of our values 0,1, and undefined\n",
    "df[\"is_tech_role\"].value_counts()"
   ]
  },
  {
   "cell_type": "markdown",
   "source": [
    "Based on the role description column, we created the list containing only non-IT-related roles. Upon using this list, we're iterating over the whole dataset and evaluate the roles then assigning if the roles are IT-related or not."
   ],
   "metadata": {
    "collapsed": false
   },
   "id": "383a58581f01ac1d"
  },
  {
   "cell_type": "code",
   "execution_count": null,
   "id": "5ae462b5275e75c5",
   "metadata": {
    "collapsed": false
   },
   "outputs": [],
   "source": [
    "# Saving the non-IT-roles into a list: non_it_roles\n",
    "non_it_roles = [\n",
    "    'Supervisor/Team Lead|Other', 'Supervisor/Team Lead|Sales', 'Supervisor/Team Lead|Support', 'Support', 'Executive Leadership|Supervisor/Team Lead|Sales', 'Support|Designer', 'Support|HR|Supervisor/Team Lead|Executive Leadership', \n",
    "    'Support|Other', 'Sales', 'Executive Leadership|Supervisor/Team Lead|Designer', 'Support|Sales|Designer', 'Other',\n",
    "    'Supervisor/Team Lead|Executive Leadership', 'Other|Support', 'Other|HR', 'Executive Leadership|Supervisor/Team Lead', \n",
    "    'Designer', 'Supervisor/Team Lead', 'One-person shop', 'HR|Supervisor/Team Lead|Executive Leadership', 'Supervisor/Team Lead|Designer', 'Other|Executive Leadership', 'Executive Leadership', 'Designer|Supervisor/Team Lead', 'HR',\n",
    "    'Other|Supervisor/Team Lead', 'Designer|Support|Supervisor/Team Lead'\n",
    "]\n",
    "\n",
    "# Filling the values with 0 or 1 based on the role's description\n",
    "for i in range(1146):\n",
    "    if df.iloc[i, 60] in non_it_roles:\n",
    "        df.iloc[i, 2] = 0\n",
    "    else:\n",
    "        df.iloc[i, 2] = 1\n",
    "\n",
    "# Transforming the column data type into integer\n",
    "df[\"is_tech_role\"] = df[\"is_tech_role\"].astype(int)\n",
    "\n",
    "# Viewing the end-results\n",
    "df[\"is_tech_role\"].value_counts()"
   ]
  },
  {
   "cell_type": "markdown",
   "source": [
    "Consecutively, we'll see the type of companies the respondents work for through a pie chart"
   ],
   "metadata": {
    "collapsed": false
   },
   "id": "60c6ef1a6a54e921"
  },
  {
   "cell_type": "code",
   "execution_count": null,
   "id": "1253f4202d759031",
   "metadata": {
    "collapsed": false
   },
   "outputs": [],
   "source": [
    "# Setting the dataframe raw_1 and the list raw_list_1\n",
    "df_1 = df[[\"is_tech_role\", \"is_tech_company\"]].value_counts().reset_index()\n",
    "\n",
    "list_1 = [\"Employees with IT-related role in an IT-related company\", \n",
    "          \"Employees with non-IT-related role in an IT-related company\", \n",
    "          \"Employees with IT-related role in a non-IT-related company\",\n",
    "          \"Employees with non-IT-related role in a non-IT-related company\"\n",
    "          ]\n",
    "\n",
    "# Selecting only 2 columns\n",
    "df_2 = df_1.iloc[:, 1:]\n",
    "\n",
    "# Assigning new columns names and values\n",
    "df_2.columns = [\"Categories\", \"Count\"]\n",
    "df_2[\"Categories\"] = list_1\n",
    "\n",
    "# Print the dataframe raw_2\n",
    "df_2.head()"
   ]
  },
  {
   "cell_type": "code",
   "execution_count": null,
   "id": "ac410f0271c75c37",
   "metadata": {
    "collapsed": false
   },
   "outputs": [],
   "source": [
    "# Setting the style of the visuals\n",
    "plt.style.use('fast')\n",
    "\n",
    "# Starting fig1 and ax1 subplots objects\n",
    "fig1, ax = plt.subplots(figsize=(15, 5))\n",
    "\n",
    "# Plotting the pie chart\n",
    "ax.pie(\n",
    "    df_2[\"Count\"].to_list(),  # List of values\n",
    "    startangle=90, \n",
    "    autopct='%1.2f%%',  # Showing 3 numbers after the decimal point \n",
    "    textprops={'fontsize': 12}  # Setting the size of the ratios \n",
    ")\n",
    "\n",
    "# Setting the legend parameters\n",
    "ax.legend(\n",
    "    labels=df_2[\"Categories\"].to_list(),  # List of labels\n",
    "    loc=\"upper center\",  # Position of the legend\n",
    "    bbox_to_anchor=(0.5, 1.1),\n",
    "    fontsize=8)  # Size of the legend\n",
    "\n",
    "# Plotting the figure\n",
    "plt.show()"
   ]
  },
  {
   "cell_type": "markdown",
   "id": "f69c17fb66a4099b",
   "metadata": {
    "collapsed": false
   },
   "source": [
    "Since we consider only records of employees in IT-related roles, the remaining records shall be excluded."
   ]
  },
  {
   "cell_type": "code",
   "outputs": [],
   "source": [
    "# Selecting only IT-related roles\n",
    "df = df[df[\"is_tech_role\"] == 1]\n",
    "\n",
    "# Dropping the is_tech_role column\n",
    "df.drop(columns=[\"is_tech_role\"], inplace=True)\n",
    "\n",
    "# Printing the dataframe df\n",
    "df.head()"
   ],
   "metadata": {
    "collapsed": false
   },
   "id": "2d2153a818e8085c",
   "execution_count": null
  },
  {
   "cell_type": "markdown",
   "source": [
    "#### 1.2. Handling the missing data\n",
    "The dataset contains missing data that needs to be addressed by either dropping those records or properly filling in the missing values."
   ],
   "metadata": {
    "collapsed": false
   },
   "id": "a9a69e285fa751b6"
  },
  {
   "cell_type": "markdown",
   "source": [
    "The first step involves dropping columns that are entirely empty and do not contribute any meaningful information, but before that, we define a function __dataset_describer()__ which will help us along the way."
   ],
   "metadata": {
    "collapsed": false
   },
   "id": "ce5bad896011bf09"
  },
  {
   "cell_type": "code",
   "outputs": [],
   "source": [
    "def dataset_describer(dataframe):\n",
    "    \"\"\"\n",
    "    parameters :\n",
    "    dataframe : Any pandas dataframe.\n",
    "    return:\n",
    "    described : the empty values, unique values and, list of this unique values along with their datatypes of the given dataframe's columns. \n",
    "    \"\"\"\n",
    "    # Initiating an empty list data_info \n",
    "    data_info = []\n",
    "\n",
    "    # Gathering the attributes in one place \n",
    "    for col in dataframe.columns:\n",
    "        attributes = {\n",
    "            # The name of the column\n",
    "            'name': col,\n",
    "\n",
    "            # The number of empty values in a column\n",
    "            'empty_values': dataframe[col].isna().sum(),\n",
    "\n",
    "            # The number of unique values\n",
    "            'number_unique_values': [dataframe[col].unique().__len__() - 1 if dataframe[col].isna().sum() != 0 else dataframe[col].unique().__len__()][0],\n",
    "\n",
    "            # The list of unique values\n",
    "            'set_unique_values': [list(set(dataframe[col])) if dataframe[col].unique().__len__() != 1 else \"None\"][0],\n",
    "\n",
    "            # The data type of column\n",
    "            'data_type': dataframe[col].dtypes\n",
    "        }\n",
    "\n",
    "        # Filtering to only include features containing empty values  \n",
    "        data_info.append(attributes)\n",
    "\n",
    "    # Create a DataFrame from the gathered information\n",
    "    described = pd.DataFrame(data_info).sort_values(by=['empty_values'], ascending=False)\n",
    "    \n",
    "    # Providing the described dataframe as a result of the function\n",
    "    return described"
   ],
   "metadata": {
    "collapsed": false
   },
   "id": "9c2b88efac34ed71",
   "execution_count": null
  },
  {
   "cell_type": "code",
   "outputs": [],
   "source": [
    "# Calling the function\n",
    "described_df = dataset_describer(df)\n",
    "\n",
    "# Output the results\n",
    "described_df"
   ],
   "metadata": {
    "collapsed": false
   },
   "id": "6940c17921f3393f",
   "execution_count": null
  },
  {
   "cell_type": "code",
   "outputs": [],
   "source": [
    "# Storing these columns in a list called: to_be_deleted\n",
    "to_be_deleted = list(described_df[described_df[\"empty_values\"] == 865].iloc[:, 0])\n",
    "\n",
    "# Using the list to_be_deleted to drop empty columns\n",
    "df.drop(columns=to_be_deleted, axis=1, inplace=True)\n",
    "\n",
    "# Drop text columns with no rewarding piece of information\n",
    "df.drop([\"why_or_why_not_bring_phi_in_interview\", \"why_or_why_not_bring_mhi_in_interview\"], axis=1, inplace=True)"
   ],
   "metadata": {
    "collapsed": false
   },
   "id": "dd39d7f2e6cdb49f",
   "execution_count": null
  },
  {
   "cell_type": "markdown",
   "source": [
    "Next, we'll run some transformations to standardize the data within each column along with their datatypes."
   ],
   "metadata": {
    "collapsed": false
   },
   "id": "d3bda19376b95cc3"
  },
  {
   "cell_type": "code",
   "outputs": [],
   "source": [
    "# Transforming this column from float64 into binary int64\n",
    "df['is_tech_company'] = df['is_tech_company'].astype(\"int64\")\n",
    "\n",
    "# Transforming this column from a text into int64\n",
    "df[['is_aware_of_previous_negative_consequence_of_colleagues_with_mhi', 'diagnosed_by_professional']] = df[\n",
    "    ['is_aware_of_previous_negative_consequence_of_colleagues_with_mhi', 'diagnosed_by_professional']].replace(\n",
    "    [\"Yes\", \"No\"], [1, 0])\n",
    "\n",
    "# Adjusting erroneous inout in the feature\n",
    "df[[\"is_employer_takes_mh_seriously\", \"is_anonymity_protected_by_previous_employer\"]] = df[\n",
    "    [\"is_employer_takes_mh_seriously\", \"is_anonymity_protected_by_previous_employer\"]].replace('I don\\'t know',\n",
    "                                                                                               \"I don't know\")\n",
    "\n",
    "# Setting the outliers to the median of the age column\n",
    "df.loc[(df['age'] > 65), 'age'] = df.loc[(df['age'] < 18), 'age'] = df[\"age\"].median()\n",
    "\n",
    "#  Filling the missing values with the appropriate uncertainty unique values available in each feature\n",
    "df['is_aware_mh_care_available'].fillna('I am not sure', inplace=True)\n",
    "\n",
    "df['previously_observed_experienced_response_to_mhi'].fillna(\"Maybe/Not sure\", inplace=True)\n",
    "\n",
    "df['is_less_encouraged_to_reveal_mhi'].fillna(\"Maybe\", inplace=True)"
   ],
   "metadata": {
    "collapsed": false
   },
   "id": "db98b6a95553c88f",
   "execution_count": null
  },
  {
   "cell_type": "code",
   "outputs": [],
   "source": [
    "# Reassigning the values to Male, Female, or Other\n",
    "df['gender'].replace(\n",
    "    ['male', 'm', 'M', 'Male (cis)', 'cisdude', 'Dude', 'Male.', 'Cis male', 'Cis Male', 'cis male', 'cis man', 'mail',\n",
    "     'Male (trans, FtM)', 'Male/genderqueer', 'Malr', 'Man', 'Sex is male', 'man', 'male ', 'M|', 'Male ', 'MALE',\n",
    "     'Male (trans, FtM)',\n",
    "     'I\\'m a man why didn\\'t you make this a drop down question. You should of asked sex? And I would of answered yes please. Seriously how much text can this take? '\n",
    "     ],\n",
    "    'Male', inplace=True)\n",
    "\n",
    "df['gender'].replace(\n",
    "    ['Female', 'female', 'I identify as female.', 'female ', 'Female assigned at birth ', 'Cis female ', 'F', 'Woman',\n",
    "     'Transitioned, M2F', 'Female or Multi-Gender Femme', 'woman', 'female/woman', 'Cisgender Female', 'fm', 'f',\n",
    "     'fem', ' Female', 'Cis-woman', 'Female ', 'Female (props for making this a freeform field, though)',\n",
    "     ],\n",
    "    'Female', inplace=True)\n",
    "\n",
    "df['gender'].replace(\n",
    "    ['Genderfluid (born female)', 'female-bodied; no feelings about gender', 'non-binary', 'AFAB', 'Agender',\n",
    "     'genderqueer',\n",
    "     'Genderflux demi-girl', 'mtf', 'Genderqueer', 'Transgender woman', 'Other/Transfeminine', 'human', 'Queer',\n",
    "     'Unicorn',\n",
    "     'Androgynous', 'Fluid', 'nb masculine', 'Genderfluid', 'none of your business', 'Bigender', 'Enby',\n",
    "     'genderqueer woman',\n",
    "     'Nonbinary', 'male 9:1 female, roughly', 'Human', np.nan\n",
    "     ],\n",
    "    'Other', inplace=True)\n",
    "\n",
    "# Overview of the transformed data\n",
    "df[\"gender\"].value_counts()"
   ],
   "metadata": {
    "collapsed": false
   },
   "id": "513d90a95e2158ae",
   "execution_count": null
  },
  {
   "cell_type": "markdown",
   "source": [
    "On the other hand, we'll change the data to fit the other columns to avoid ambiguity."
   ],
   "metadata": {
    "collapsed": false
   },
   "id": "7ca8061891cd7690"
  },
  {
   "cell_type": "code",
   "outputs": [],
   "source": [
    "# Specifying the important columns in a list\n",
    "concerned_columns = ['is_having_mhd', 'known_conditions', 'suspected_conditions', 'diagnosed_by_professional', 'diagnosed_conditions_by_professional']\n",
    "\n",
    "# Previewing the error in data\n",
    "df.loc[(df[\"is_having_mhd\"] != 'No') & (df[\"known_conditions\"].isna()) & (df[\"suspected_conditions\"].isna()), concerned_columns]"
   ],
   "metadata": {
    "collapsed": false
   },
   "id": "4e90ddfa37ab951b",
   "execution_count": null
  },
  {
   "cell_type": "code",
   "outputs": [],
   "source": [
    "# Replacing all the responses with no known or suspected conditions with the appropriate value in the is_having_mhd column\n",
    "df.loc[(df[\"is_having_mhd\"] != 'No') & (df[\"known_conditions\"].isna()) & (\n",
    "    df[\"suspected_conditions\"].isna()), \"is_having_mhd\"] = \"No\"\n",
    "\n",
    "# Replacing the response with no diagnosed condition by a professional with the appropriate value in the diagnosed_by_professional column\n",
    "df.loc[(df[\"diagnosed_by_professional\"] == 1) & (\n",
    "    df[\"diagnosed_conditions_by_professional\"].isna()), \"diagnosed_by_professional\"] = 0\n",
    "\n",
    "# Eliminating the PTSD condition since it's not diagnosed and after being diagnosed by a professional, the respondent didn't include it as a diagnosed condition\n",
    "df.loc[(df[\"is_having_mhd\"] == \"Yes\") \n",
    "       & \n",
    "       (df[\"known_conditions\"] == \"Attention Deficit Hyperactivity Disorder|PTSD (undiagnosed)\"), \"known_conditions\"] = \"Attention Deficit Hyperactivity Disorder\""
   ],
   "metadata": {
    "collapsed": false
   },
   "id": "eb4f2fd23d799579",
   "execution_count": null
  },
  {
   "cell_type": "markdown",
   "source": [
    "Finally, we'll proceed to standardize the mental health conditions available in the dataset.\n",
    "\n",
    "The function __conditions_counter()__ will help determine the conditions available for us in the dataset."
   ],
   "metadata": {
    "collapsed": false
   },
   "id": "a612f9a7deb262c6"
  },
  {
   "cell_type": "code",
   "outputs": [],
   "source": [
    "def conditions_counter(column_name):\n",
    "    \"\"\"\n",
    "    :param column_name: The name of column desired\n",
    "    :return: a Dataframe containing the conditions and the number of their occurrences in the column\n",
    "    \"\"\"\n",
    "\n",
    "    # Creating the list of unique values excluding empty values\n",
    "    a_list = pd.DataFrame(df[column_name].value_counts()).reset_index().iloc[:, 0].to_list()\n",
    "\n",
    "    # Creating an empty dictionary\n",
    "    a_dict = dict()\n",
    "\n",
    "    # Initiating a for-loop\n",
    "    for element in a_list:\n",
    "        # Inspecting the existence of a character \n",
    "        if '|' in element:\n",
    "            elements = element.split(\"|\")\n",
    "            # If the condition is met\n",
    "            for unit in elements:\n",
    "                # Iterating each unit  \n",
    "                if unit in a_dict:\n",
    "                    a_dict[unit] += 1  # Augment the number if it does exist\n",
    "                else:\n",
    "                    a_dict[unit] = 1  # Set the number to 1 if a new occurrence is found\n",
    "        else:\n",
    "            if element in a_dict:\n",
    "                a_dict[element] += 1\n",
    "            else:\n",
    "                a_dict[element] = 1\n",
    "\n",
    "    # Turning the data stored in the dictionary into a dataframe\n",
    "    dframe = pd.DataFrame(list(a_dict.items()), columns=['Condition', 'Count'])\n",
    "\n",
    "    # The final output of the function\n",
    "    return dframe"
   ],
   "metadata": {
    "collapsed": false
   },
   "id": "fd15107a8ba02533",
   "execution_count": null
  },
  {
   "cell_type": "code",
   "outputs": [],
   "source": [
    "# Setting the dataframes\n",
    "known_conditions = conditions_counter(\"known_conditions\")\n",
    "suspected_conditions = conditions_counter(\"suspected_conditions\")\n",
    "diagnosed_conditions = conditions_counter(\"diagnosed_conditions_by_professional\")\n",
    "\n",
    "# Merging the data frames into final_df\n",
    "conditions_df = pd.merge(\n",
    "    pd.merge(\n",
    "        known_conditions,\n",
    "        suspected_conditions,\n",
    "        on='Condition', how='outer',\n",
    "        suffixes=('_known', '_suspected')\n",
    "    ), diagnosed_conditions, on='Condition', how='outer')\n",
    "\n",
    "# Replacing empty values\n",
    "conditions_df[['Count_known', 'Count_suspected', 'Count']] = conditions_df[\n",
    "    ['Count_known', 'Count_suspected', 'Count']].replace(np.nan, 0)\n",
    "\n",
    "# Adjusting the data type\n",
    "conditions_df[['Count_known', 'Count_suspected', 'Count']] = conditions_df[\n",
    "    ['Count_known', 'Count_suspected', 'Count']].astype('int64')\n",
    "\n",
    "# Adding a new column called: Total\n",
    "conditions_df[\"Total\"] = conditions_df[\"Count_known\"] + conditions_df[\"Count_suspected\"] + conditions_df[\"Count\"]\n",
    "conditions_df.sort_values(\"Total\", ascending=False, inplace=True)\n",
    "\n",
    "# Renaming te columns for better clarity \n",
    "conditions_df.columns = [\"Conditions\", \"Known\", \"Suspected\", \"Diagnosed_by_professional\", \"Total\"]\n",
    "\n",
    "# Print final_df\n",
    "conditions_df"
   ],
   "metadata": {
    "collapsed": false
   },
   "id": "9856b2318da70fe0",
   "execution_count": null
  },
  {
   "cell_type": "markdown",
   "source": [
    "As we came across the conditions our respondents mentioned, a standardization was applied to relief redundancy."
   ],
   "metadata": {
    "collapsed": false
   },
   "id": "e8187fdb28b8567a"
  },
  {
   "cell_type": "code",
   "outputs": [],
   "source": [
    "# Fixing typos and standardizing terms in 'suspected_conditions' column\n",
    "df['suspected_conditions'] = df['suspected_conditions'].str.replace('depersonalization disorder', 'Depersonalisation')\n",
    "df['suspected_conditions'] = df['suspected_conditions'].str.replace('post-partum / anxiety', 'Postpartum Anxiety')\n",
    "\n",
    "# Fixing typos and standardizing terms in 'diagnosed_conditions_by_professional' column\n",
    "df['diagnosed_conditions_by_professional'] = df['diagnosed_conditions_by_professional'].str.replace(\"attention deficit disorder (but not the hyperactive version)\", \"ADD (w/o Hyperactivity)\")\n",
    "\n",
    "# Standardizing Autism Spectrum conditions\n",
    "df['known_conditions'] = df['known_conditions'].str.replace(\"Autism (Asperger's)\", 'Autism Spectrum')\n",
    "\n",
    "df['suspected_conditions'] = df['suspected_conditions'].str.replace(\"Asperger Syndrome\", 'Autism Spectrum')\n",
    "df['suspected_conditions'] = df['suspected_conditions'].str.replace(\"Asperger's\", 'Autism Spectrum')\n",
    "\n",
    "df['diagnosed_conditions_by_professional'] = df['diagnosed_conditions_by_professional'].str.replace(\"Asperger Syndrome\", 'Autism Spectrum')\n",
    "df['diagnosed_conditions_by_professional'] = df['diagnosed_conditions_by_professional'].str.replace(\"Autism (Asperger's)\", 'Autism Spectrum')\n",
    "\n",
    "# Standardizing Autism Spectrum Disorder conditions\n",
    "df['known_conditions'] = df['known_conditions'].str.replace(\"Autism spectrum disorder\", 'Autism Spectrum Disorder')\n",
    "\n",
    "df['diagnosed_conditions_by_professional'] = df['diagnosed_conditions_by_professional'].str.replace(\"Autism - while not a \\\"mental illness\\\", still greatly affects how I handle anxiety\", 'Autism Spectrum Disorder')\n",
    "\n",
    "df['diagnosed_conditions_by_professional'] = df['diagnosed_conditions_by_professional'].str.replace(\"autism spectrum disorder\", 'Autism Spectrum Disorder')\n",
    "\n",
    "# Replacing the assumption with the right diagnosis\n",
    "df['known_conditions'] = df['known_conditions'].str.replace(\"Transgender\", \"Gender Identity Disorder\")"
   ],
   "metadata": {
    "collapsed": false
   },
   "id": "1f0addf0eaf1d19c",
   "execution_count": null
  },
  {
   "cell_type": "markdown",
   "source": [
    "Eventually, we perform an overview on the data we've got left before we save it into a new file __data_v2.0.csv__."
   ],
   "metadata": {
    "collapsed": false
   },
   "id": "95b35092a4534117"
  },
  {
   "cell_type": "code",
   "outputs": [],
   "source": [
    "print(f\"The data is formed through {df.shape[1]} columns/features and {df.shape[0]} rows/records.\")"
   ],
   "metadata": {
    "collapsed": false
   },
   "id": "7220b007a5f4e974",
   "execution_count": null
  },
  {
   "cell_type": "code",
   "outputs": [],
   "source": [
    "df"
   ],
   "metadata": {
    "collapsed": false
   },
   "id": "5e2edd538df119c9",
   "execution_count": null
  },
  {
   "cell_type": "code",
   "outputs": [],
   "source": [
    "# Save the cleansed dataset in the respective directory\n",
    "# df.to_csv(f\"{path}/data/data_v2.0.csv\", index=False)"
   ],
   "metadata": {
    "collapsed": false
   },
   "id": "75e1f942ea712970",
   "execution_count": null
  },
  {
   "cell_type": "markdown",
   "source": [
    "### 2. Features Encoding"
   ],
   "metadata": {
    "collapsed": false
   },
   "id": "8130e597738a1f21"
  },
  {
   "cell_type": "markdown",
   "source": [
    "In this chapter, we try to transform our categorical data into numerical data through data binning or what so to be called __LABEL ENCODING__.\n",
    "Before proceeding to this operation, a distinct has to be made between __ordinal__ & __nominal__ labels because each type requires a different approach."
   ],
   "metadata": {
    "collapsed": false
   },
   "id": "db27c70f7ad6ba3a"
  },
  {
   "cell_type": "markdown",
   "source": [
    "We'll initiate by replacing all the missing values with __(-1)__."
   ],
   "metadata": {
    "collapsed": false
   },
   "id": "ad3bf578484cfc93"
  },
  {
   "cell_type": "code",
   "outputs": [],
   "source": [
    "# Filling the missing values with -1 \n",
    "df.fillna(-1, inplace=True)"
   ],
   "metadata": {
    "collapsed": false
   },
   "id": "656e1173f0f39eb2",
   "execution_count": null
  },
  {
   "cell_type": "code",
   "outputs": [],
   "source": [
    "described_df = dataset_describer(df)\n",
    "described_df"
   ],
   "metadata": {
    "collapsed": false
   },
   "id": "f421474e53eaa3cd",
   "execution_count": null
  },
  {
   "cell_type": "markdown",
   "source": [
    "On this basis, we can categorize our columns into : \n",
    "* ___Ordinal Categories___ :\n",
    "    - __[0, 1 ]__ : These values represent binary choices, found in the following columns: \n",
    "        - is_tech_company, diagnosed_by_professional\n",
    "        - is_previously_employed, is_sought_treatment_for_mhi\n",
    "        - is_aware_of_previous_negative_consequence_of_colleagues_with_mhi.\n",
    "    - __[Often, Rarely, Sometimes, Not applicable to me, Never]__ : Similarly to the previous list, these values can be ranked based on frequency. Found in the following columns : \n",
    "        - is_mhi_does_not_interfere_with_your_work_when_treated_effectively\n",
    "        - is_mhi_interferes_with_your_work_when_treated_effectively_ columns.\n",
    "    - __[Sometimes, Always, Never]__ : These values can be ranked based on frequency, found in the _is_remote_ column.\n",
    "    - __[26-100, 1-5, 100-500, More than 1000, 500-1000, 6-25]__ : These values represent ranges of numbers, where the ordering is based on the size of the numbers. Found in the _organization_size_ column.\n",
    "    - __[Neither easy nor difficult, Somewhat difficult, Very easy, Somewhat easy, I don't know, Very difficult]__ : These values can be ranked based on difficulty level. Found in the _how_is_asking_for_medical_leave_due_to_mhi_ column.\n",
    "    - __[Somewhat not open, Very open, Somewhat open, Neutral, Not applicable to me (I do not have a mental illness), Not open at all]__ : These values can be ranked based on openness. Found in the _is_wiling_to_share_about_mhi_ column.\n",
    "* ___Nominal Categories___ : These values represent categorical choices without any inherent order, found in the rest of the columns."
   ],
   "metadata": {
    "collapsed": false
   },
   "id": "864eddf4714146cd"
  },
  {
   "cell_type": "code",
   "outputs": [],
   "source": [
    "# Grouping the ordinal categories into a list: ordinals\n",
    "ordinals = [\n",
    "    \"is_tech_company\",\n",
    "    \"diagnosed_by_professional\",\n",
    "    \"is_previously_employed\",\n",
    "    \"is_sought_treatment_for_mhi\",\n",
    "    \"is_aware_of_previous_negative_consequence_of_colleagues_with_mhi\",\n",
    "    \"is_mhi_does_not_interfere_with_your_work_when_treated_effectively\",\n",
    "    \"is_mhi_interferes_with_your_work_when_treated_effectively\",\n",
    "    \"is_remote\",\n",
    "    \"organization_size\",\n",
    "    \"how_is_asking_for_medical_leave_due_to_mhi\",\n",
    "    \"is_wiling_to_share_about_mhi\"]\n",
    "\n",
    "#\n",
    "described_df[\"category\"] = described_df[\"name\"].apply(lambda x: \"Ordinal\" if x in ordinals else \"Nominal\")"
   ],
   "metadata": {
    "collapsed": false
   },
   "id": "a9f7b937d8e54d99",
   "execution_count": null
  },
  {
   "cell_type": "code",
   "outputs": [],
   "source": [
    "described_df[\"category\"].value_counts()"
   ],
   "metadata": {
    "collapsed": false
   },
   "id": "94c972baf5f9703f",
   "execution_count": null
  },
  {
   "cell_type": "markdown",
   "source": [
    "Indeed, we managed to split our columns to ordinal and nominal columns and ready to encode our data."
   ],
   "metadata": {
    "collapsed": false
   },
   "id": "a5c0169c0ce10a89"
  },
  {
   "cell_type": "markdown",
   "source": [
    "#### 2.1 Ordinal Labels:\n"
   ],
   "metadata": {
    "collapsed": false
   },
   "id": "be974262256a6a02"
  },
  {
   "cell_type": "code",
   "outputs": [],
   "source": [
    "# Initiating the label encoder: le\n",
    "le = LabelEncoder()\n",
    "\n",
    "# Creating a map for later use: label_mapping\n",
    "ordinals_label_mapping = {}\n",
    "\n",
    "# Initiating the loop\n",
    "for label in ordinals:\n",
    "    # Gathering the data\n",
    "    array = df[label].to_list()\n",
    "\n",
    "    # Encoding the data\n",
    "    df[label + '_encoded'] = le.fit_transform(array)\n",
    "    \n",
    "    # Saving to label mapping :\n",
    "    ordinals_label_mapping[label] = dict(zip(le.classes_, le.transform(le.classes_)))\n",
    "\n",
    "ordinals_label_mapping"
   ],
   "metadata": {
    "collapsed": false
   },
   "id": "c247a61472811670",
   "execution_count": null
  },
  {
   "cell_type": "code",
   "outputs": [],
   "source": [],
   "metadata": {
    "collapsed": false
   },
   "id": "1261193975b04070",
   "execution_count": null
  },
  {
   "cell_type": "code",
   "outputs": [],
   "source": [],
   "metadata": {
    "collapsed": false
   },
   "id": "a284942dd3ced096"
  },
  {
   "cell_type": "markdown",
   "source": [
    "#### 2.2 Nominal Labels:\n"
   ],
   "metadata": {
    "collapsed": false
   },
   "id": "7705cfd2e4f822df"
  },
  {
   "cell_type": "code",
   "outputs": [],
   "source": [
    "nominals = described_df.loc[described_df[\"category\"] == \"Nominal\", \"name\"].to_list()\n",
    "nominals"
   ],
   "metadata": {
    "collapsed": false
   },
   "id": "ec0fb9d55c1ca78a",
   "execution_count": null
  },
  {
   "cell_type": "code",
   "outputs": [],
   "source": [
    "# Initiating the label encoder: le\n",
    "ohe = OneHotEncoder()\n",
    "\n",
    "# Creating a map for later use: label_mapping\n",
    "nominals_label_mapping = {}\n",
    "\n",
    "# Initiating the loop\n",
    "for label in nominals:\n",
    "    # Gathering the data\n",
    "    array = df[label].to_list()\n",
    "\n",
    "    # Encoding the data\n",
    "    df[label + '_encoded'] = le.fit_transform(array)\n",
    "\n",
    "    # Saving to label mapping :\n",
    "    ordinals_label_mapping[label] = dict(zip(le.classes_, le.transform(le.classes_)))\n",
    "\n",
    "ordinals_label_mapping"
   ],
   "metadata": {
    "collapsed": false
   },
   "id": "59f85370c65949ff"
  },
  {
   "cell_type": "code",
   "outputs": [],
   "source": [
    "# Sample categorical data\n",
    "data = [['Red'], ['Green'], ['Blue'], ['Red'], ['Blue']]\n",
    "\n",
    "# Initialize OneHotEncoder\n",
    "one_hot_encoder = OneHotEncoder()\n",
    "\n",
    "# Fit and transform data\n",
    "encoded_data = one_hot_encoder.fit_transform(data).toarray()\n",
    "\n",
    "# Print the encoded data\n",
    "print(\"Encoded data:\")\n",
    "print(encoded_data)"
   ],
   "metadata": {
    "collapsed": false
   },
   "id": "6eb53790cab2a5f5",
   "execution_count": null
  },
  {
   "cell_type": "code",
   "outputs": [],
   "source": [
    "# leto = described_df.loc[described_df[\"number_unique_values\"] <= 6, \"set_unique_values\"].to_list()"
   ],
   "metadata": {
    "collapsed": false
   },
   "id": "15a62327295e0b0",
   "execution_count": null
  },
  {
   "cell_type": "code",
   "outputs": [],
   "source": [
    "# print(f\"The data is formed through {df.shape[1]} columns/features and {df.shape[0]} rows/records.\")"
   ],
   "metadata": {
    "collapsed": false
   },
   "id": "152c4f5e4e1227cc",
   "execution_count": null
  },
  {
   "cell_type": "code",
   "execution_count": null,
   "id": "bd9649f2d7494684",
   "metadata": {
    "collapsed": false
   },
   "outputs": [],
   "source": [
    "# Save the cleansed dataset in the respective directory\n",
    "# df.to_csv(f\"{path}/data/data_v2.0.csv\")"
   ]
  },
  {
   "cell_type": "markdown",
   "source": [
    "# 3. Summary"
   ],
   "metadata": {
    "collapsed": false
   },
   "id": "53761b7728fca5d8"
  },
  {
   "cell_type": "markdown",
   "source": [
    "## Author"
   ],
   "metadata": {
    "collapsed": false
   },
   "id": "8dcf1c19836771f8"
  },
  {
   "cell_type": "markdown",
   "source": [
    "<a href=\"https://www.linkedin.com/in/ab0858s/\">Abdelali BARIR</a> is a former veteran in the Moroccan's Royal Armed Forces, and a self taught data scientist. Currently enrolled in BSc. Data Science in IU International University of Applied Sciences."
   ],
   "metadata": {
    "collapsed": false
   },
   "id": "9f676d747c88ee6d"
  },
  {
   "cell_type": "markdown",
   "source": [
    "## Change Log"
   ],
   "metadata": {
    "collapsed": false
   },
   "id": "dda8507b26c40b13"
  },
  {
   "cell_type": "markdown",
   "source": [
    "| Date       | Version | Changed By     | Change Description      |\n",
    "|------------|---------|----------------|-------------------------|\n",
    "| 2024-03-10 | 1.0     | Abdelali Barir | Modified markdown       |\n",
    "|------------|---------|----------------|-------------------------|"
   ],
   "metadata": {
    "collapsed": false
   },
   "id": "9d2017cd194c9533"
  }
 ],
 "metadata": {
  "kernelspec": {
   "display_name": "Python 3 (ipykernel)",
   "language": "python",
   "name": "python3"
  },
  "language_info": {
   "codemirror_mode": {
    "name": "ipython",
    "version": 3
   },
   "file_extension": ".py",
   "mimetype": "text/x-python",
   "name": "python",
   "nbconvert_exporter": "python",
   "pygments_lexer": "ipython3",
   "version": "3.9.7"
  }
 },
 "nbformat": 4,
 "nbformat_minor": 5
}
