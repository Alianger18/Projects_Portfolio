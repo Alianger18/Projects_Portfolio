{
 "cells": [
  {
   "cell_type": "markdown",
   "id": "e87ab10ecbab2d7a",
   "metadata": {
    "collapsed": false
   },
   "source": [
    "# Greetings\n",
    "The [data](https://www.kaggle.com/datasets/osmi/mental-health-in-tech-2016/) used in this notebook is the results of a survey, which were conducted amongst technology-oriented employees back in 2016."
   ]
  },
  {
   "cell_type": "markdown",
   "id": "960171b6b31aa09a",
   "metadata": {
    "collapsed": false
   },
   "source": [
    "## Data Pre-processing \n",
    "In this section, we make advantage of the findings of the Exploratory Data Analysis (EDA) to fix the problems occurring in the dataset. Subsequently, we'll delve into encoding the data to prepare it for clustering in the next phase."
   ]
  },
  {
   "cell_type": "markdown",
   "source": [
    "### List of contents :\n",
    "1. Data Cleaning\n",
    "1.1. Slicing the data\n",
    "1.2. Handling the missing data\n",
    "2. Features Encoding\n",
    "3. Summary"
   ],
   "metadata": {
    "collapsed": false
   },
   "id": "3d763da923fd7fb5"
  },
  {
   "cell_type": "markdown",
   "id": "b10153cbd5cae28d",
   "metadata": {
    "collapsed": false
   },
   "source": [
    "Importing the required libraries"
   ]
  },
  {
   "cell_type": "code",
   "execution_count": 1,
   "id": "initial_id",
   "metadata": {
    "collapsed": true,
    "jupyter": {
     "outputs_hidden": true
    },
    "ExecuteTime": {
     "end_time": "2024-03-17T17:42:55.741014Z",
     "start_time": "2024-03-17T17:42:53.029715Z"
    }
   },
   "outputs": [],
   "source": [
    "from sklearn import preprocessing\n",
    "from pathlib import Path # Path library for generating OS paths efficiently\n",
    "import pandas as pd # Data analysis library\n",
    "import numpy as np # Python library for numerical computation \n",
    "import matplotlib.pyplot as plt # The base library for plotting graphs in python"
   ]
  },
  {
   "cell_type": "markdown",
   "id": "79242df41ec05046",
   "metadata": {
    "collapsed": false
   },
   "source": [
    "First, let's start by loading the data. "
   ]
  },
  {
   "cell_type": "code",
   "execution_count": 2,
   "id": "e487bcd3a264c436",
   "metadata": {
    "collapsed": false,
    "ExecuteTime": {
     "end_time": "2024-03-17T17:42:55.818675Z",
     "start_time": "2024-03-17T17:42:55.746334Z"
    }
   },
   "outputs": [
    {
     "data": {
      "text/plain": "   Are you self-employed?  \\\n0                       0   \n1                       0   \n2                       0   \n3                       1   \n4                       0   \n\n  How many employees does your company or organization have?  \\\n0                                             26-100           \n1                                               6-25           \n2                                               6-25           \n3                                                NaN           \n4                                               6-25           \n\n   Is your employer primarily a tech company/organization?  \\\n0                                                1.0         \n1                                                1.0         \n2                                                1.0         \n3                                                NaN         \n4                                                0.0         \n\n   Is your primary role within your company related to tech/IT?  \\\n0                                                NaN              \n1                                                NaN              \n2                                                NaN              \n3                                                NaN              \n4                                                1.0              \n\n  Does your employer provide mental health benefits as part of healthcare coverage?  \\\n0                    Not eligible for coverage / N/A                                  \n1                                                 No                                  \n2                                                 No                                  \n3                                                NaN                                  \n4                                                Yes                                  \n\n  Do you know the options for mental health care available under your employer-provided coverage?  \\\n0                                                NaN                                                \n1                                                Yes                                                \n2                                                NaN                                                \n3                                                NaN                                                \n4                                                Yes                                                \n\n  Has your employer ever formally discussed mental health (for example, as part of a wellness campaign or other official communication)?  \\\n0                                                 No                                                                                       \n1                                                Yes                                                                                       \n2                                                 No                                                                                       \n3                                                NaN                                                                                       \n4                                                 No                                                                                       \n\n  Does your employer offer resources to learn more about mental health concerns and options for seeking help?  \\\n0                                                 No                                                            \n1                                                Yes                                                            \n2                                                 No                                                            \n3                                                NaN                                                            \n4                                                 No                                                            \n\n  Is your anonymity protected if you choose to take advantage of mental health or substance abuse treatment resources provided by your employer?  \\\n0                                       I don't know                                                                                               \n1                                                Yes                                                                                               \n2                                       I don't know                                                                                               \n3                                                NaN                                                                                               \n4                                                 No                                                                                               \n\n  If a mental health issue prompted you to request a medical leave from work, asking for that leave would be:  \\\n0                                          Very easy                                                            \n1                                      Somewhat easy                                                            \n2                         Neither easy nor difficult                                                            \n3                                                NaN                                                            \n4                         Neither easy nor difficult                                                            \n\n   ...  \\\n0  ...   \n1  ...   \n2  ...   \n3  ...   \n4  ...   \n\n  If you have a mental health issue, do you feel that it interferes with your work when being treated effectively?  \\\n0                               Not applicable to me                                                                 \n1                                             Rarely                                                                 \n2                               Not applicable to me                                                                 \n3                                          Sometimes                                                                 \n4                                          Sometimes                                                                 \n\n  If you have a mental health issue, do you feel that it interferes with your work when NOT being treated effectively?  \\\n0                               Not applicable to me                                                                     \n1                                          Sometimes                                                                     \n2                               Not applicable to me                                                                     \n3                                          Sometimes                                                                     \n4                                          Sometimes                                                                     \n\n  What is your age? What is your gender? What country do you live in?  \\\n0                39                 Male               United Kingdom   \n1                29                 male     United States of America   \n2                38                Male                United Kingdom   \n3                43                 male               United Kingdom   \n4                43               Female     United States of America   \n\n  What US state or territory do you live in?  What country do you work in?  \\\n0                                        NaN                United Kingdom   \n1                                   Illinois      United States of America   \n2                                        NaN                United Kingdom   \n3                                        NaN                United Kingdom   \n4                                   Illinois      United States of America   \n\n  What US state or territory do you work in?  \\\n0                                        NaN   \n1                                   Illinois   \n2                                        NaN   \n3                                        NaN   \n4                                   Illinois   \n\n  Which of the following best describes your work position?  \\\n0                                 Back-end Developer          \n1             Back-end Developer|Front-end Developer          \n2                                 Back-end Developer          \n3                               Supervisor/Team Lead          \n4  Executive Leadership|Supervisor/Team Lead|Dev ...          \n\n  Do you work remotely?  \n0             Sometimes  \n1                 Never  \n2                Always  \n3             Sometimes  \n4             Sometimes  \n\n[5 rows x 63 columns]",
      "text/html": "<div>\n<style scoped>\n    .dataframe tbody tr th:only-of-type {\n        vertical-align: middle;\n    }\n\n    .dataframe tbody tr th {\n        vertical-align: top;\n    }\n\n    .dataframe thead th {\n        text-align: right;\n    }\n</style>\n<table border=\"1\" class=\"dataframe\">\n  <thead>\n    <tr style=\"text-align: right;\">\n      <th></th>\n      <th>Are you self-employed?</th>\n      <th>How many employees does your company or organization have?</th>\n      <th>Is your employer primarily a tech company/organization?</th>\n      <th>Is your primary role within your company related to tech/IT?</th>\n      <th>Does your employer provide mental health benefits as part of healthcare coverage?</th>\n      <th>Do you know the options for mental health care available under your employer-provided coverage?</th>\n      <th>Has your employer ever formally discussed mental health (for example, as part of a wellness campaign or other official communication)?</th>\n      <th>Does your employer offer resources to learn more about mental health concerns and options for seeking help?</th>\n      <th>Is your anonymity protected if you choose to take advantage of mental health or substance abuse treatment resources provided by your employer?</th>\n      <th>If a mental health issue prompted you to request a medical leave from work, asking for that leave would be:</th>\n      <th>...</th>\n      <th>If you have a mental health issue, do you feel that it interferes with your work when being treated effectively?</th>\n      <th>If you have a mental health issue, do you feel that it interferes with your work when NOT being treated effectively?</th>\n      <th>What is your age?</th>\n      <th>What is your gender?</th>\n      <th>What country do you live in?</th>\n      <th>What US state or territory do you live in?</th>\n      <th>What country do you work in?</th>\n      <th>What US state or territory do you work in?</th>\n      <th>Which of the following best describes your work position?</th>\n      <th>Do you work remotely?</th>\n    </tr>\n  </thead>\n  <tbody>\n    <tr>\n      <th>0</th>\n      <td>0</td>\n      <td>26-100</td>\n      <td>1.0</td>\n      <td>NaN</td>\n      <td>Not eligible for coverage / N/A</td>\n      <td>NaN</td>\n      <td>No</td>\n      <td>No</td>\n      <td>I don't know</td>\n      <td>Very easy</td>\n      <td>...</td>\n      <td>Not applicable to me</td>\n      <td>Not applicable to me</td>\n      <td>39</td>\n      <td>Male</td>\n      <td>United Kingdom</td>\n      <td>NaN</td>\n      <td>United Kingdom</td>\n      <td>NaN</td>\n      <td>Back-end Developer</td>\n      <td>Sometimes</td>\n    </tr>\n    <tr>\n      <th>1</th>\n      <td>0</td>\n      <td>6-25</td>\n      <td>1.0</td>\n      <td>NaN</td>\n      <td>No</td>\n      <td>Yes</td>\n      <td>Yes</td>\n      <td>Yes</td>\n      <td>Yes</td>\n      <td>Somewhat easy</td>\n      <td>...</td>\n      <td>Rarely</td>\n      <td>Sometimes</td>\n      <td>29</td>\n      <td>male</td>\n      <td>United States of America</td>\n      <td>Illinois</td>\n      <td>United States of America</td>\n      <td>Illinois</td>\n      <td>Back-end Developer|Front-end Developer</td>\n      <td>Never</td>\n    </tr>\n    <tr>\n      <th>2</th>\n      <td>0</td>\n      <td>6-25</td>\n      <td>1.0</td>\n      <td>NaN</td>\n      <td>No</td>\n      <td>NaN</td>\n      <td>No</td>\n      <td>No</td>\n      <td>I don't know</td>\n      <td>Neither easy nor difficult</td>\n      <td>...</td>\n      <td>Not applicable to me</td>\n      <td>Not applicable to me</td>\n      <td>38</td>\n      <td>Male</td>\n      <td>United Kingdom</td>\n      <td>NaN</td>\n      <td>United Kingdom</td>\n      <td>NaN</td>\n      <td>Back-end Developer</td>\n      <td>Always</td>\n    </tr>\n    <tr>\n      <th>3</th>\n      <td>1</td>\n      <td>NaN</td>\n      <td>NaN</td>\n      <td>NaN</td>\n      <td>NaN</td>\n      <td>NaN</td>\n      <td>NaN</td>\n      <td>NaN</td>\n      <td>NaN</td>\n      <td>NaN</td>\n      <td>...</td>\n      <td>Sometimes</td>\n      <td>Sometimes</td>\n      <td>43</td>\n      <td>male</td>\n      <td>United Kingdom</td>\n      <td>NaN</td>\n      <td>United Kingdom</td>\n      <td>NaN</td>\n      <td>Supervisor/Team Lead</td>\n      <td>Sometimes</td>\n    </tr>\n    <tr>\n      <th>4</th>\n      <td>0</td>\n      <td>6-25</td>\n      <td>0.0</td>\n      <td>1.0</td>\n      <td>Yes</td>\n      <td>Yes</td>\n      <td>No</td>\n      <td>No</td>\n      <td>No</td>\n      <td>Neither easy nor difficult</td>\n      <td>...</td>\n      <td>Sometimes</td>\n      <td>Sometimes</td>\n      <td>43</td>\n      <td>Female</td>\n      <td>United States of America</td>\n      <td>Illinois</td>\n      <td>United States of America</td>\n      <td>Illinois</td>\n      <td>Executive Leadership|Supervisor/Team Lead|Dev ...</td>\n      <td>Sometimes</td>\n    </tr>\n  </tbody>\n</table>\n<p>5 rows × 63 columns</p>\n</div>"
     },
     "execution_count": 2,
     "metadata": {},
     "output_type": "execute_result"
    }
   ],
   "source": [
    "# Formulating the directory \n",
    "path = Path.cwd().parent\n",
    "\n",
    "# Loading the data\n",
    "data = pd.read_csv(f'{path}/data/mental-heath-in-tech-2016_20161114.csv')\n",
    "\n",
    "# Displaying the data\n",
    "data.head()"
   ]
  },
  {
   "cell_type": "code",
   "execution_count": 3,
   "id": "7df3f59019488b7d",
   "metadata": {
    "collapsed": false
   },
   "outputs": [
    {
     "name": "stdout",
     "output_type": "stream",
     "text": [
      "The data is formed through 63 columns/features and 1433 rows/records.\n"
     ]
    }
   ],
   "source": [
    "print(f\"The data is formed through {data.shape[1]} columns/features and {data.shape[0]} rows/records.\")"
   ]
  },
  {
   "cell_type": "markdown",
   "source": [
    "#### 1. Data Cleaning\n",
    "Numerous problems were discovered within the dataset such as missing and erroneous data and even inadequate data for the purpose of our case study. \n",
    "In this phase, we proceed to clean the data."
   ],
   "metadata": {
    "collapsed": false
   },
   "id": "ed6e85137158411"
  },
  {
   "cell_type": "markdown",
   "id": "e24885423b87b145",
   "metadata": {
    "collapsed": false
   },
   "source": [
    "We'll start by renaming the columns into short names instead of large questions."
   ]
  },
  {
   "cell_type": "code",
   "execution_count": 4,
   "id": "6fe029c3f226ee71",
   "metadata": {
    "collapsed": false,
    "ExecuteTime": {
     "end_time": "2024-03-17T17:42:55.880804Z",
     "start_time": "2024-03-17T17:42:55.838052Z"
    }
   },
   "outputs": [
    {
     "data": {
      "text/plain": "   is_self_employed organization_size  is_tech_company  is_tech_role  \\\n0                 0            26-100              1.0           NaN   \n1                 0              6-25              1.0           NaN   \n2                 0              6-25              1.0           NaN   \n3                 1               NaN              NaN           NaN   \n4                 0              6-25              0.0           1.0   \n\n           is_mh_benefits_provided is_aware_mh_care_available  \\\n0  Not eligible for coverage / N/A                        NaN   \n1                               No                        Yes   \n2                               No                        NaN   \n3                              NaN                        NaN   \n4                              Yes                        Yes   \n\n  is_mh_discussed_by_employer is_mh_resources_provided_by_employer  \\\n0                          No                                   No   \n1                         Yes                                  Yes   \n2                          No                                   No   \n3                         NaN                                  NaN   \n4                          No                                   No   \n\n  is_anonymity_protected how_is_asking_for_medical_leave_due_to_mhi  ...  \\\n0           I don't know                                  Very easy  ...   \n1                    Yes                              Somewhat easy  ...   \n2           I don't know                 Neither easy nor difficult  ...   \n3                    NaN                                        NaN  ...   \n4                     No                 Neither easy nor difficult  ...   \n\n  is_mhi_interferes_with_your_work_when_treated_effectively  \\\n0                               Not applicable to me          \n1                                             Rarely          \n2                               Not applicable to me          \n3                                          Sometimes          \n4                                          Sometimes          \n\n  is_mhi_does_not_interfere_with_your_work_when_treated_effectively age  \\\n0                               Not applicable to me                 39   \n1                                          Sometimes                 29   \n2                               Not applicable to me                 38   \n3                                          Sometimes                 43   \n4                                          Sometimes                 43   \n\n   gender      country_of_residency us_state_residency  \\\n0    Male            United Kingdom                NaN   \n1    male  United States of America           Illinois   \n2   Male             United Kingdom                NaN   \n3    male            United Kingdom                NaN   \n4  Female  United States of America           Illinois   \n\n            country_of_work us_state_work  \\\n0            United Kingdom           NaN   \n1  United States of America      Illinois   \n2            United Kingdom           NaN   \n3            United Kingdom           NaN   \n4  United States of America      Illinois   \n\n                                    role_description  is_remote  \n0                                 Back-end Developer  Sometimes  \n1             Back-end Developer|Front-end Developer      Never  \n2                                 Back-end Developer     Always  \n3                               Supervisor/Team Lead  Sometimes  \n4  Executive Leadership|Supervisor/Team Lead|Dev ...  Sometimes  \n\n[5 rows x 63 columns]",
      "text/html": "<div>\n<style scoped>\n    .dataframe tbody tr th:only-of-type {\n        vertical-align: middle;\n    }\n\n    .dataframe tbody tr th {\n        vertical-align: top;\n    }\n\n    .dataframe thead th {\n        text-align: right;\n    }\n</style>\n<table border=\"1\" class=\"dataframe\">\n  <thead>\n    <tr style=\"text-align: right;\">\n      <th></th>\n      <th>is_self_employed</th>\n      <th>organization_size</th>\n      <th>is_tech_company</th>\n      <th>is_tech_role</th>\n      <th>is_mh_benefits_provided</th>\n      <th>is_aware_mh_care_available</th>\n      <th>is_mh_discussed_by_employer</th>\n      <th>is_mh_resources_provided_by_employer</th>\n      <th>is_anonymity_protected</th>\n      <th>how_is_asking_for_medical_leave_due_to_mhi</th>\n      <th>...</th>\n      <th>is_mhi_interferes_with_your_work_when_treated_effectively</th>\n      <th>is_mhi_does_not_interfere_with_your_work_when_treated_effectively</th>\n      <th>age</th>\n      <th>gender</th>\n      <th>country_of_residency</th>\n      <th>us_state_residency</th>\n      <th>country_of_work</th>\n      <th>us_state_work</th>\n      <th>role_description</th>\n      <th>is_remote</th>\n    </tr>\n  </thead>\n  <tbody>\n    <tr>\n      <th>0</th>\n      <td>0</td>\n      <td>26-100</td>\n      <td>1.0</td>\n      <td>NaN</td>\n      <td>Not eligible for coverage / N/A</td>\n      <td>NaN</td>\n      <td>No</td>\n      <td>No</td>\n      <td>I don't know</td>\n      <td>Very easy</td>\n      <td>...</td>\n      <td>Not applicable to me</td>\n      <td>Not applicable to me</td>\n      <td>39</td>\n      <td>Male</td>\n      <td>United Kingdom</td>\n      <td>NaN</td>\n      <td>United Kingdom</td>\n      <td>NaN</td>\n      <td>Back-end Developer</td>\n      <td>Sometimes</td>\n    </tr>\n    <tr>\n      <th>1</th>\n      <td>0</td>\n      <td>6-25</td>\n      <td>1.0</td>\n      <td>NaN</td>\n      <td>No</td>\n      <td>Yes</td>\n      <td>Yes</td>\n      <td>Yes</td>\n      <td>Yes</td>\n      <td>Somewhat easy</td>\n      <td>...</td>\n      <td>Rarely</td>\n      <td>Sometimes</td>\n      <td>29</td>\n      <td>male</td>\n      <td>United States of America</td>\n      <td>Illinois</td>\n      <td>United States of America</td>\n      <td>Illinois</td>\n      <td>Back-end Developer|Front-end Developer</td>\n      <td>Never</td>\n    </tr>\n    <tr>\n      <th>2</th>\n      <td>0</td>\n      <td>6-25</td>\n      <td>1.0</td>\n      <td>NaN</td>\n      <td>No</td>\n      <td>NaN</td>\n      <td>No</td>\n      <td>No</td>\n      <td>I don't know</td>\n      <td>Neither easy nor difficult</td>\n      <td>...</td>\n      <td>Not applicable to me</td>\n      <td>Not applicable to me</td>\n      <td>38</td>\n      <td>Male</td>\n      <td>United Kingdom</td>\n      <td>NaN</td>\n      <td>United Kingdom</td>\n      <td>NaN</td>\n      <td>Back-end Developer</td>\n      <td>Always</td>\n    </tr>\n    <tr>\n      <th>3</th>\n      <td>1</td>\n      <td>NaN</td>\n      <td>NaN</td>\n      <td>NaN</td>\n      <td>NaN</td>\n      <td>NaN</td>\n      <td>NaN</td>\n      <td>NaN</td>\n      <td>NaN</td>\n      <td>NaN</td>\n      <td>...</td>\n      <td>Sometimes</td>\n      <td>Sometimes</td>\n      <td>43</td>\n      <td>male</td>\n      <td>United Kingdom</td>\n      <td>NaN</td>\n      <td>United Kingdom</td>\n      <td>NaN</td>\n      <td>Supervisor/Team Lead</td>\n      <td>Sometimes</td>\n    </tr>\n    <tr>\n      <th>4</th>\n      <td>0</td>\n      <td>6-25</td>\n      <td>0.0</td>\n      <td>1.0</td>\n      <td>Yes</td>\n      <td>Yes</td>\n      <td>No</td>\n      <td>No</td>\n      <td>No</td>\n      <td>Neither easy nor difficult</td>\n      <td>...</td>\n      <td>Sometimes</td>\n      <td>Sometimes</td>\n      <td>43</td>\n      <td>Female</td>\n      <td>United States of America</td>\n      <td>Illinois</td>\n      <td>United States of America</td>\n      <td>Illinois</td>\n      <td>Executive Leadership|Supervisor/Team Lead|Dev ...</td>\n      <td>Sometimes</td>\n    </tr>\n  </tbody>\n</table>\n<p>5 rows × 63 columns</p>\n</div>"
     },
     "execution_count": 4,
     "metadata": {},
     "output_type": "execute_result"
    }
   ],
   "source": [
    "# Here are the new names of the columns \n",
    "new_columns_names = [\n",
    "    'is_self_employed',  # Are you self-employed?\n",
    "    'organization_size',  # How many employees does your company or organization have?\n",
    "    'is_tech_company',  # Is your employer primarily a tech company/organization?\n",
    "    'is_tech_role',  # Is your primary role within your company related to tech/IT? \n",
    "    'is_mh_benefits_provided',  # Does your employer provide mental health benefits as part of healthcare coverage?\n",
    "    'is_aware_mh_care_available', # Do you know the options for mental health care available under your employer-provided coverage?\n",
    "    'is_mh_discussed_by_employer', # Has your employer ever formally discussed mental health (for example, as part of a wellness campaign or other official communication)?\n",
    "    'is_mh_resources_provided_by_employer', # Does your employer offer resources to learn more about mental health concerns and options for seeking help?\n",
    "    'is_anonymity_protected', # Is your anonymity protected if you choose to take advantage of mental health or substance abuse treatment resources provided by your employer?\n",
    "    'how_is_asking_for_medical_leave_due_to_mhi', # If a mental health issue prompted you to request a medical leave from work, asking for that leave would be \n",
    "    'is_discussing_mhd_with_employer_have_negative_consequences', # Do you think that discussing a mental health disorder with your employer would have negative consequences?\n",
    "    'is_discussing_phd_with_employer_have_negative_consequences', # Do you think that discussing a physical health disorder with your employer would have negative consequences?\n",
    "    'is_willing_to_discuss_mhi_with_colleagues', # Would you feel comfortable discussing a mental health disorder with your coworkers?\n",
    "    'is_willing_to_discuss_mhi_with_direct_supervisor', # Would you feel comfortable discussing a mental health disorder with your direct supervisor(s)?\n",
    "    'is_employer_takes_mh_seriously', # Do you feel that your employer takes mental health as seriously as physical health?\n",
    "    # Have you heard of or observed negative consequences for co-workers who have been open about mental health issues in your workplace?\n",
    "    'is_aware_of_previous_negative_consequence_of_colleagues_with_mhi',\n",
    "    # Do you have medical coverage (private insurance or state-provided) which includes treatment of mental health issues?\n",
    "    'have_medical_coverage_includes_mental_health_issue',\n",
    "    # Do you know local or online resources to seek help for a mental health disorder?\n",
    "    'know_how_to_seek_help',\n",
    "    # If you have been diagnosed or treated for a mental health disorder, do you ever reveal this to clients or business contacts?\n",
    "    'is_able_to_reveal_previous_mental_health_issue_to_business_contacts',\n",
    "    # If you have revealed a mental health issue to a client or business contact, do you believe this has impacted you negatively?\n",
    "    'is_impacted_negatively_1',\n",
    "    # If you have been diagnosed or treated for a mental health disorder, do you ever reveal this to coworkers or employees?\n",
    "    'is_able_to_reveal_previous_mental_health_issue_to_coworkers',\n",
    "    # If you have revealed a mental health issue to a coworker or employee, do you believe this has impacted you negatively?\n",
    "    'is_impacted_negatively_2',\n",
    "    # Do you believe your productivity is ever affected by a mental health issue?\n",
    "    'is_productivity_impacted',\n",
    "    # If yes, what percentage of your work time (time performing primary or secondary job functions) is affected by a mental health issue?\n",
    "    'percentage_impacted',\n",
    "    # Do you have previous employers?\n",
    "    'is_previously_employed',\n",
    "    # Have your previous employers provided mental health benefits?\n",
    "    'is_previous_employer_provides_mh_benefits',\n",
    "    # Were you aware of the options for mental health care provided by your previous employers?\n",
    "    'is_aware_mh_options_by_previous_employer',\n",
    "    # Did your previous employers ever formally discuss mental health (as part of a wellness campaign or other official communication)?\n",
    "    'is_mh_discussed_by_previous_employer',\n",
    "    # Did your previous employers provide resources to learn more about mental health issues and how to seek help?\n",
    "    'is_mh_resources_provided_by_previous_employer',\n",
    "    # Was your anonymity protected if you chose to take advantage of mental health or substance abuse treatment resources with previous employers?\n",
    "    'is_anonymity_protected_by_previous_employer',\n",
    "    # Do you think that discussing a mental health disorder with previous employers would have negative consequences?\n",
    "    'is_discussing_mhd_with_previous_employer_have_negative_consequences',\n",
    "    # Do you think that discussing a physical health disorder with previous employers would have negative consequences?\n",
    "    'is_discussing_phd_with_previous_employer_have_negative_consequences',\n",
    "    # Would you have been willing to discuss a mental health issue with your previous co-workers?\n",
    "    'is_willing_to_discuss_mhi_with_previous_colleagues',\n",
    "    # Would you have been willing to discuss a mental health issue with your direct supervisor(s)?\n",
    "    'is_willing_to_discuss_mhi_with_previous_direct_supervisor',\n",
    "    # Did you feel that your previous employers took mental health as seriously as physical health?\n",
    "    'is_previous_employer_takes_mh_seriously',\n",
    "    # Did you hear of or observe negative consequences for co-workers with mental health issues in your previous workplaces?\n",
    "    'is_aware_of_previous_negative_consequence_of_colleagues_with_mhi_in_previous_workplace',\n",
    "    'is_willing_to_bring_phi_in_interview', # Would you be willing to bring up a physical health issue with a potential employer in an interview?\n",
    "    'why_or_why_not_bring_phi_in_interview',  # Why or why not?\n",
    "    'is_willing_to_bring_mhi_in_interview', # Would you bring up a mental health issue with a potential employer in an interview?\n",
    "    'why_or_why_not_bring_mhi_in_interview',  # Why or why not?\n",
    "    'is_being_identified_with_mhi_would_hurt_your_career', # Do you feel that being identified as a person with a mental health issue would hurt your career?\n",
    "    'is_being_identified_with_mhi_would_lower_your_status_among_colleagues', # Do you think that team members/co-workers would view you more negatively if they knew you suffered from a mental health issue?\n",
    "    'is_wiling_to_share_about_mhi', # How willing would you be to share with friends and family that you have a mental illness?\n",
    "    # Have you observed or experienced an unsupported or badly handled response to a mental health issue in your current or previous workplace?\n",
    "    'previously_observed_experienced_response_to_mhi',\n",
    "    # Have your observations of how another individual who discussed a mental health disorder made you less likely to reveal a mental health issue yourself in your current workplace?\n",
    "    'is_less_encouraged_to_reveal_mhi',\n",
    "    'family_history_of_mhi',  # Do you have a family history of mental illness?\n",
    "    'previous_history_of_mhi',  # Have you had a mental health disorder in the past?\n",
    "    'is_having_mhd',  # Do you currently have a mental health disorder?\n",
    "    'known_conditions',  # If yes, what condition(s) have you been diagnosed with?\n",
    "    'suspected_conditions',  # If maybe, what condition(s) do you believe you have?\n",
    "    'diagnosed_by_professional',  # Have you been diagnosed with a mental health condition by a medical professional?\n",
    "    'diagnosed_conditions_by_professional',  # If so, what condition(s) were you diagnosed with?\n",
    "    'is_sought_treatment_for_mhi', # Have you ever sought treatment for a mental health issue from a mental health professional?\n",
    "    'is_mhi_interferes_with_your_work_when_treated_effectively', # If you have a mental health issue, do you feel that it interferes with your work when being treated effectively?\n",
    "    'is_mhi_does_not_interfere_with_your_work_when_treated_effectively', # If you have a mental health issue, do you feel that it interferes with your work when NOT being treated effectively?\n",
    "    'age',  # What is your age? \n",
    "    'gender',  # What is your gender?\n",
    "    'country_of_residency',  # What country do you live in?'\n",
    "    'us_state_residency',  # What US state or territory do you live in?\n",
    "    'country_of_work',  # What country do you work in?\n",
    "    'us_state_work',  # What US state or territory do you work in?\n",
    "    'role_description',  # Which of the following best describes your work position?\n",
    "    'is_remote'  # Do you work remotely?\n",
    "]\n",
    "\n",
    "# Setting the columns names in df\n",
    "data.columns = new_columns_names\n",
    "data.head()"
   ]
  },
  {
   "cell_type": "markdown",
   "id": "ce679c0112b84b79",
   "metadata": {
    "collapsed": false
   },
   "source": [
    "#### 1.1 Slicing the data \n",
    "As discussed, we only need to keep the data from employees and not self-employed. This would leave the feature useless, therefore, we'll remove it as well."
   ]
  },
  {
   "cell_type": "code",
   "execution_count": 5,
   "id": "97c2424f666b86d6",
   "metadata": {
    "collapsed": false,
    "ExecuteTime": {
     "end_time": "2024-03-17T17:42:55.927263Z",
     "start_time": "2024-03-17T17:42:55.886741Z"
    }
   },
   "outputs": [
    {
     "data": {
      "text/plain": "  organization_size  is_tech_company  is_tech_role  \\\n0            26-100              1.0           NaN   \n1              6-25              1.0           NaN   \n2              6-25              1.0           NaN   \n4              6-25              0.0           1.0   \n5    More than 1000              1.0           NaN   \n\n           is_mh_benefits_provided is_aware_mh_care_available  \\\n0  Not eligible for coverage / N/A                        NaN   \n1                               No                        Yes   \n2                               No                        NaN   \n4                              Yes                        Yes   \n5                              Yes              I am not sure   \n\n  is_mh_discussed_by_employer is_mh_resources_provided_by_employer  \\\n0                          No                                   No   \n1                         Yes                                  Yes   \n2                          No                                   No   \n4                          No                                   No   \n5                          No                                  Yes   \n\n  is_anonymity_protected how_is_asking_for_medical_leave_due_to_mhi  \\\n0           I don't know                                  Very easy   \n1                    Yes                              Somewhat easy   \n2           I don't know                 Neither easy nor difficult   \n4                     No                 Neither easy nor difficult   \n5                    Yes                              Somewhat easy   \n\n  is_discussing_mhd_with_employer_have_negative_consequences  ...  \\\n0                                                 No          ...   \n1                                                 No          ...   \n2                                              Maybe          ...   \n4                                                Yes          ...   \n5                                                Yes          ...   \n\n  is_mhi_interferes_with_your_work_when_treated_effectively  \\\n0                               Not applicable to me          \n1                                             Rarely          \n2                               Not applicable to me          \n4                                          Sometimes          \n5                               Not applicable to me          \n\n  is_mhi_does_not_interfere_with_your_work_when_treated_effectively age  \\\n0                               Not applicable to me                 39   \n1                                          Sometimes                 29   \n2                               Not applicable to me                 38   \n4                                          Sometimes                 43   \n5                                              Often                 42   \n\n   gender      country_of_residency  us_state_residency  \\\n0    Male            United Kingdom                 NaN   \n1    male  United States of America            Illinois   \n2   Male             United Kingdom                 NaN   \n4  Female  United States of America            Illinois   \n5    Male            United Kingdom                 NaN   \n\n            country_of_work us_state_work  \\\n0            United Kingdom           NaN   \n1  United States of America      Illinois   \n2            United Kingdom           NaN   \n4  United States of America      Illinois   \n5            United Kingdom           NaN   \n\n                                    role_description  is_remote  \n0                                 Back-end Developer  Sometimes  \n1             Back-end Developer|Front-end Developer      Never  \n2                                 Back-end Developer     Always  \n4  Executive Leadership|Supervisor/Team Lead|Dev ...  Sometimes  \n5  DevOps/SysAdmin|Support|Back-end Developer|Fro...  Sometimes  \n\n[5 rows x 62 columns]",
      "text/html": "<div>\n<style scoped>\n    .dataframe tbody tr th:only-of-type {\n        vertical-align: middle;\n    }\n\n    .dataframe tbody tr th {\n        vertical-align: top;\n    }\n\n    .dataframe thead th {\n        text-align: right;\n    }\n</style>\n<table border=\"1\" class=\"dataframe\">\n  <thead>\n    <tr style=\"text-align: right;\">\n      <th></th>\n      <th>organization_size</th>\n      <th>is_tech_company</th>\n      <th>is_tech_role</th>\n      <th>is_mh_benefits_provided</th>\n      <th>is_aware_mh_care_available</th>\n      <th>is_mh_discussed_by_employer</th>\n      <th>is_mh_resources_provided_by_employer</th>\n      <th>is_anonymity_protected</th>\n      <th>how_is_asking_for_medical_leave_due_to_mhi</th>\n      <th>is_discussing_mhd_with_employer_have_negative_consequences</th>\n      <th>...</th>\n      <th>is_mhi_interferes_with_your_work_when_treated_effectively</th>\n      <th>is_mhi_does_not_interfere_with_your_work_when_treated_effectively</th>\n      <th>age</th>\n      <th>gender</th>\n      <th>country_of_residency</th>\n      <th>us_state_residency</th>\n      <th>country_of_work</th>\n      <th>us_state_work</th>\n      <th>role_description</th>\n      <th>is_remote</th>\n    </tr>\n  </thead>\n  <tbody>\n    <tr>\n      <th>0</th>\n      <td>26-100</td>\n      <td>1.0</td>\n      <td>NaN</td>\n      <td>Not eligible for coverage / N/A</td>\n      <td>NaN</td>\n      <td>No</td>\n      <td>No</td>\n      <td>I don't know</td>\n      <td>Very easy</td>\n      <td>No</td>\n      <td>...</td>\n      <td>Not applicable to me</td>\n      <td>Not applicable to me</td>\n      <td>39</td>\n      <td>Male</td>\n      <td>United Kingdom</td>\n      <td>NaN</td>\n      <td>United Kingdom</td>\n      <td>NaN</td>\n      <td>Back-end Developer</td>\n      <td>Sometimes</td>\n    </tr>\n    <tr>\n      <th>1</th>\n      <td>6-25</td>\n      <td>1.0</td>\n      <td>NaN</td>\n      <td>No</td>\n      <td>Yes</td>\n      <td>Yes</td>\n      <td>Yes</td>\n      <td>Yes</td>\n      <td>Somewhat easy</td>\n      <td>No</td>\n      <td>...</td>\n      <td>Rarely</td>\n      <td>Sometimes</td>\n      <td>29</td>\n      <td>male</td>\n      <td>United States of America</td>\n      <td>Illinois</td>\n      <td>United States of America</td>\n      <td>Illinois</td>\n      <td>Back-end Developer|Front-end Developer</td>\n      <td>Never</td>\n    </tr>\n    <tr>\n      <th>2</th>\n      <td>6-25</td>\n      <td>1.0</td>\n      <td>NaN</td>\n      <td>No</td>\n      <td>NaN</td>\n      <td>No</td>\n      <td>No</td>\n      <td>I don't know</td>\n      <td>Neither easy nor difficult</td>\n      <td>Maybe</td>\n      <td>...</td>\n      <td>Not applicable to me</td>\n      <td>Not applicable to me</td>\n      <td>38</td>\n      <td>Male</td>\n      <td>United Kingdom</td>\n      <td>NaN</td>\n      <td>United Kingdom</td>\n      <td>NaN</td>\n      <td>Back-end Developer</td>\n      <td>Always</td>\n    </tr>\n    <tr>\n      <th>4</th>\n      <td>6-25</td>\n      <td>0.0</td>\n      <td>1.0</td>\n      <td>Yes</td>\n      <td>Yes</td>\n      <td>No</td>\n      <td>No</td>\n      <td>No</td>\n      <td>Neither easy nor difficult</td>\n      <td>Yes</td>\n      <td>...</td>\n      <td>Sometimes</td>\n      <td>Sometimes</td>\n      <td>43</td>\n      <td>Female</td>\n      <td>United States of America</td>\n      <td>Illinois</td>\n      <td>United States of America</td>\n      <td>Illinois</td>\n      <td>Executive Leadership|Supervisor/Team Lead|Dev ...</td>\n      <td>Sometimes</td>\n    </tr>\n    <tr>\n      <th>5</th>\n      <td>More than 1000</td>\n      <td>1.0</td>\n      <td>NaN</td>\n      <td>Yes</td>\n      <td>I am not sure</td>\n      <td>No</td>\n      <td>Yes</td>\n      <td>Yes</td>\n      <td>Somewhat easy</td>\n      <td>Yes</td>\n      <td>...</td>\n      <td>Not applicable to me</td>\n      <td>Often</td>\n      <td>42</td>\n      <td>Male</td>\n      <td>United Kingdom</td>\n      <td>NaN</td>\n      <td>United Kingdom</td>\n      <td>NaN</td>\n      <td>DevOps/SysAdmin|Support|Back-end Developer|Fro...</td>\n      <td>Sometimes</td>\n    </tr>\n  </tbody>\n</table>\n<p>5 rows × 62 columns</p>\n</div>"
     },
     "execution_count": 5,
     "metadata": {},
     "output_type": "execute_result"
    }
   ],
   "source": [
    "# Keeping only the rows containing data about employees\n",
    "raw_df = data[data[\"is_self_employed\"] == 0]\n",
    "\n",
    "# Removing the feature\n",
    "df = raw_df.drop(columns=[\"is_self_employed\"], axis=1)\n",
    "\n",
    "# Overview of the new data\n",
    "df.head()"
   ]
  },
  {
   "cell_type": "markdown",
   "source": [
    "Addressing these missing values will help narrow the dataset into only the respondents we seek their responses."
   ],
   "metadata": {
    "collapsed": false
   },
   "id": "416da039ff449232"
  },
  {
   "cell_type": "code",
   "execution_count": 6,
   "id": "42f350fffedfc230",
   "metadata": {
    "collapsed": false,
    "ExecuteTime": {
     "end_time": "2024-03-17T17:42:55.943457Z",
     "start_time": "2024-03-17T17:42:55.929614Z"
    }
   },
   "outputs": [
    {
     "data": {
      "text/plain": "is_tech_role\nundefined    883\n1.0          248\n0.0           15\nName: count, dtype: int64"
     },
     "execution_count": 6,
     "metadata": {},
     "output_type": "execute_result"
    }
   ],
   "source": [
    "# Let's fill the NaN values with undefined\n",
    "df[\"is_tech_role\"].replace(np.nan, \"undefined\", inplace=True)\n",
    "\n",
    "# The count of our values 0,1, and undefined\n",
    "df[\"is_tech_role\"].value_counts()"
   ]
  },
  {
   "cell_type": "markdown",
   "source": [
    "Based on the role description column, we created the list containing only non-IT-related roles. Upon using this list, we're iterating over the whole dataset and evaluate the roles then assigning if the roles are IT-related or not."
   ],
   "metadata": {
    "collapsed": false
   },
   "id": "383a58581f01ac1d"
  },
  {
   "cell_type": "code",
   "execution_count": 7,
   "id": "5ae462b5275e75c5",
   "metadata": {
    "collapsed": false,
    "ExecuteTime": {
     "end_time": "2024-03-17T17:42:56.082669Z",
     "start_time": "2024-03-17T17:42:55.945091Z"
    }
   },
   "outputs": [
    {
     "data": {
      "text/plain": "is_tech_role\n1    865\n0    281\nName: count, dtype: int64"
     },
     "execution_count": 7,
     "metadata": {},
     "output_type": "execute_result"
    }
   ],
   "source": [
    "# Saving the non-IT-roles into a list: non_it_roles\n",
    "non_it_roles = [\n",
    "    'Supervisor/Team Lead|Other', 'Supervisor/Team Lead|Sales', 'Supervisor/Team Lead|Support', 'Support', 'Executive Leadership|Supervisor/Team Lead|Sales', 'Support|Designer',\n",
    "    'Support|HR|Supervisor/Team Lead|Executive Leadership', 'Support|Other', 'Sales', 'Executive Leadership|Supervisor/Team Lead|Designer', 'Support|Sales|Designer', 'Other',\n",
    "    'Supervisor/Team Lead|Executive Leadership', 'Other|Support', 'Other|HR', 'Executive Leadership|Supervisor/Team Lead', 'Designer', 'Supervisor/Team Lead', 'One-person shop',\n",
    "    'HR|Supervisor/Team Lead|Executive Leadership', 'HR', 'Supervisor/Team Lead|Designer', 'Other|Executive Leadership', 'Executive Leadership', 'Designer|Supervisor/Team Lead',\n",
    "    'Other|Supervisor/Team Lead', 'Designer|Support|Supervisor/Team Lead'\n",
    "]\n",
    "\n",
    "# Filling the values with 0 or 1 based on the role's description\n",
    "for i in range(1146):\n",
    "    if df.iloc[i, 60] in non_it_roles:\n",
    "        df.iloc[i, 2] = 0\n",
    "    else:\n",
    "        df.iloc[i, 2] = 1\n",
    "\n",
    "# Transforming the column data type into integer\n",
    "df[\"is_tech_role\"] = df[\"is_tech_role\"].astype(int)\n",
    "\n",
    "# Viewing the end-results\n",
    "df[\"is_tech_role\"].value_counts()"
   ]
  },
  {
   "cell_type": "markdown",
   "source": [
    "Consecutively, we'll see the type of companies the respondents work for through a pie chart"
   ],
   "metadata": {
    "collapsed": false
   },
   "id": "60c6ef1a6a54e921"
  },
  {
   "cell_type": "code",
   "execution_count": 8,
   "id": "1253f4202d759031",
   "metadata": {
    "collapsed": false,
    "ExecuteTime": {
     "end_time": "2024-03-17T17:42:56.114369Z",
     "start_time": "2024-03-17T17:42:56.086207Z"
    }
   },
   "outputs": [
    {
     "data": {
      "text/plain": "                                          Categories  Count\n0  Employees with IT-related role in an IT-relate...    678\n1  Employees with non-IT-related role in an IT-re...    205\n2  Employees with IT-related role in a non-IT-rel...    187\n3  Employees with non-IT-related role in a non-IT...     76",
      "text/html": "<div>\n<style scoped>\n    .dataframe tbody tr th:only-of-type {\n        vertical-align: middle;\n    }\n\n    .dataframe tbody tr th {\n        vertical-align: top;\n    }\n\n    .dataframe thead th {\n        text-align: right;\n    }\n</style>\n<table border=\"1\" class=\"dataframe\">\n  <thead>\n    <tr style=\"text-align: right;\">\n      <th></th>\n      <th>Categories</th>\n      <th>Count</th>\n    </tr>\n  </thead>\n  <tbody>\n    <tr>\n      <th>0</th>\n      <td>Employees with IT-related role in an IT-relate...</td>\n      <td>678</td>\n    </tr>\n    <tr>\n      <th>1</th>\n      <td>Employees with non-IT-related role in an IT-re...</td>\n      <td>205</td>\n    </tr>\n    <tr>\n      <th>2</th>\n      <td>Employees with IT-related role in a non-IT-rel...</td>\n      <td>187</td>\n    </tr>\n    <tr>\n      <th>3</th>\n      <td>Employees with non-IT-related role in a non-IT...</td>\n      <td>76</td>\n    </tr>\n  </tbody>\n</table>\n</div>"
     },
     "execution_count": 8,
     "metadata": {},
     "output_type": "execute_result"
    }
   ],
   "source": [
    "# Setting the dataframe raw_1 and the list raw_list_1\n",
    "df_1 = df[[\"is_tech_role\", \"is_tech_company\"]].value_counts().reset_index()\n",
    "\n",
    "list_1 = [\"Employees with IT-related role in an IT-related company\", \n",
    "          \"Employees with non-IT-related role in an IT-related company\", \n",
    "          \"Employees with IT-related role in a non-IT-related company\",\n",
    "          \"Employees with non-IT-related role in a non-IT-related company\"\n",
    "          ]\n",
    "\n",
    "# Selecting only 2 columns\n",
    "df_2 = df_1.iloc[:, 1:]\n",
    "\n",
    "# Assigning new columns names and values\n",
    "df_2.columns = [\"Categories\", \"Count\"]\n",
    "df_2[\"Categories\"] = list_1\n",
    "\n",
    "# Print the dataframe raw_2\n",
    "df_2.head()"
   ]
  },
  {
   "cell_type": "code",
   "execution_count": 9,
   "id": "ac410f0271c75c37",
   "metadata": {
    "collapsed": false,
    "ExecuteTime": {
     "end_time": "2024-03-17T17:42:56.353153Z",
     "start_time": "2024-03-17T17:42:56.118041Z"
    }
   },
   "outputs": [
    {
     "data": {
      "text/plain": "<Figure size 1500x500 with 1 Axes>",
      "image/png": "[encoded data removed]"
     },
     "metadata": {},
     "output_type": "display_data"
    }
   ],
   "source": [
    "# Setting the style of the visuals\n",
    "plt.style.use('fast')\n",
    "\n",
    "# Starting fig1 and ax1 subplots objects\n",
    "fig1, ax = plt.subplots(figsize=(15, 5))\n",
    "\n",
    "# Plotting the pie chart\n",
    "ax.pie(\n",
    "    df_2[\"Count\"].to_list(),  # List of values\n",
    "    startangle=90, \n",
    "    autopct='%1.2f%%',  # Showing 3 numbers after the decimal point \n",
    "    textprops={'fontsize': 12}  # Setting the size of the ratios \n",
    ")\n",
    "\n",
    "# Setting the legend parameters\n",
    "ax.legend(\n",
    "    labels=df_2[\"Categories\"].to_list(),  # List of labels\n",
    "    loc=\"upper center\",  # Position of the legend\n",
    "    bbox_to_anchor=(0.5, 1.1),\n",
    "    fontsize=8)  # Size of the legend\n",
    "\n",
    "# Plotting the figure\n",
    "plt.show()"
   ]
  },
  {
   "cell_type": "markdown",
   "id": "f69c17fb66a4099b",
   "metadata": {
    "collapsed": false
   },
   "source": [
    "Since we consider only records of employees in IT-related roles, the remaining records shall be excluded."
   ]
  },
  {
   "cell_type": "code",
   "outputs": [
    {
     "data": {
      "text/plain": "  organization_size  is_tech_company          is_mh_benefits_provided  \\\n0            26-100              1.0  Not eligible for coverage / N/A   \n1              6-25              1.0                               No   \n2              6-25              1.0                               No   \n4              6-25              0.0                              Yes   \n5    More than 1000              1.0                              Yes   \n\n  is_aware_mh_care_available is_mh_discussed_by_employer  \\\n0                        NaN                          No   \n1                        Yes                         Yes   \n2                        NaN                          No   \n4                        Yes                          No   \n5              I am not sure                          No   \n\n  is_mh_resources_provided_by_employer is_anonymity_protected  \\\n0                                   No           I don't know   \n1                                  Yes                    Yes   \n2                                   No           I don't know   \n4                                   No                     No   \n5                                  Yes                    Yes   \n\n  how_is_asking_for_medical_leave_due_to_mhi  \\\n0                                  Very easy   \n1                              Somewhat easy   \n2                 Neither easy nor difficult   \n4                 Neither easy nor difficult   \n5                              Somewhat easy   \n\n  is_discussing_mhd_with_employer_have_negative_consequences  \\\n0                                                 No           \n1                                                 No           \n2                                              Maybe           \n4                                                Yes           \n5                                                Yes           \n\n  is_discussing_phd_with_employer_have_negative_consequences  ...  \\\n0                                                 No          ...   \n1                                                 No          ...   \n2                                                 No          ...   \n4                                              Maybe          ...   \n5                                                Yes          ...   \n\n  is_mhi_interferes_with_your_work_when_treated_effectively  \\\n0                               Not applicable to me          \n1                                             Rarely          \n2                               Not applicable to me          \n4                                          Sometimes          \n5                               Not applicable to me          \n\n  is_mhi_does_not_interfere_with_your_work_when_treated_effectively age  \\\n0                               Not applicable to me                 39   \n1                                          Sometimes                 29   \n2                               Not applicable to me                 38   \n4                                          Sometimes                 43   \n5                                              Often                 42   \n\n   gender      country_of_residency us_state_residency  \\\n0    Male            United Kingdom                NaN   \n1    male  United States of America           Illinois   \n2   Male             United Kingdom                NaN   \n4  Female  United States of America           Illinois   \n5    Male            United Kingdom                NaN   \n\n            country_of_work us_state_work  \\\n0            United Kingdom           NaN   \n1  United States of America      Illinois   \n2            United Kingdom           NaN   \n4  United States of America      Illinois   \n5            United Kingdom           NaN   \n\n                                    role_description  is_remote  \n0                                 Back-end Developer  Sometimes  \n1             Back-end Developer|Front-end Developer      Never  \n2                                 Back-end Developer     Always  \n4  Executive Leadership|Supervisor/Team Lead|Dev ...  Sometimes  \n5  DevOps/SysAdmin|Support|Back-end Developer|Fro...  Sometimes  \n\n[5 rows x 61 columns]",
      "text/html": "<div>\n<style scoped>\n    .dataframe tbody tr th:only-of-type {\n        vertical-align: middle;\n    }\n\n    .dataframe tbody tr th {\n        vertical-align: top;\n    }\n\n    .dataframe thead th {\n        text-align: right;\n    }\n</style>\n<table border=\"1\" class=\"dataframe\">\n  <thead>\n    <tr style=\"text-align: right;\">\n      <th></th>\n      <th>organization_size</th>\n      <th>is_tech_company</th>\n      <th>is_mh_benefits_provided</th>\n      <th>is_aware_mh_care_available</th>\n      <th>is_mh_discussed_by_employer</th>\n      <th>is_mh_resources_provided_by_employer</th>\n      <th>is_anonymity_protected</th>\n      <th>how_is_asking_for_medical_leave_due_to_mhi</th>\n      <th>is_discussing_mhd_with_employer_have_negative_consequences</th>\n      <th>is_discussing_phd_with_employer_have_negative_consequences</th>\n      <th>...</th>\n      <th>is_mhi_interferes_with_your_work_when_treated_effectively</th>\n      <th>is_mhi_does_not_interfere_with_your_work_when_treated_effectively</th>\n      <th>age</th>\n      <th>gender</th>\n      <th>country_of_residency</th>\n      <th>us_state_residency</th>\n      <th>country_of_work</th>\n      <th>us_state_work</th>\n      <th>role_description</th>\n      <th>is_remote</th>\n    </tr>\n  </thead>\n  <tbody>\n    <tr>\n      <th>0</th>\n      <td>26-100</td>\n      <td>1.0</td>\n      <td>Not eligible for coverage / N/A</td>\n      <td>NaN</td>\n      <td>No</td>\n      <td>No</td>\n      <td>I don't know</td>\n      <td>Very easy</td>\n      <td>No</td>\n      <td>No</td>\n      <td>...</td>\n      <td>Not applicable to me</td>\n      <td>Not applicable to me</td>\n      <td>39</td>\n      <td>Male</td>\n      <td>United Kingdom</td>\n      <td>NaN</td>\n      <td>United Kingdom</td>\n      <td>NaN</td>\n      <td>Back-end Developer</td>\n      <td>Sometimes</td>\n    </tr>\n    <tr>\n      <th>1</th>\n      <td>6-25</td>\n      <td>1.0</td>\n      <td>No</td>\n      <td>Yes</td>\n      <td>Yes</td>\n      <td>Yes</td>\n      <td>Yes</td>\n      <td>Somewhat easy</td>\n      <td>No</td>\n      <td>No</td>\n      <td>...</td>\n      <td>Rarely</td>\n      <td>Sometimes</td>\n      <td>29</td>\n      <td>male</td>\n      <td>United States of America</td>\n      <td>Illinois</td>\n      <td>United States of America</td>\n      <td>Illinois</td>\n      <td>Back-end Developer|Front-end Developer</td>\n      <td>Never</td>\n    </tr>\n    <tr>\n      <th>2</th>\n      <td>6-25</td>\n      <td>1.0</td>\n      <td>No</td>\n      <td>NaN</td>\n      <td>No</td>\n      <td>No</td>\n      <td>I don't know</td>\n      <td>Neither easy nor difficult</td>\n      <td>Maybe</td>\n      <td>No</td>\n      <td>...</td>\n      <td>Not applicable to me</td>\n      <td>Not applicable to me</td>\n      <td>38</td>\n      <td>Male</td>\n      <td>United Kingdom</td>\n      <td>NaN</td>\n      <td>United Kingdom</td>\n      <td>NaN</td>\n      <td>Back-end Developer</td>\n      <td>Always</td>\n    </tr>\n    <tr>\n      <th>4</th>\n      <td>6-25</td>\n      <td>0.0</td>\n      <td>Yes</td>\n      <td>Yes</td>\n      <td>No</td>\n      <td>No</td>\n      <td>No</td>\n      <td>Neither easy nor difficult</td>\n      <td>Yes</td>\n      <td>Maybe</td>\n      <td>...</td>\n      <td>Sometimes</td>\n      <td>Sometimes</td>\n      <td>43</td>\n      <td>Female</td>\n      <td>United States of America</td>\n      <td>Illinois</td>\n      <td>United States of America</td>\n      <td>Illinois</td>\n      <td>Executive Leadership|Supervisor/Team Lead|Dev ...</td>\n      <td>Sometimes</td>\n    </tr>\n    <tr>\n      <th>5</th>\n      <td>More than 1000</td>\n      <td>1.0</td>\n      <td>Yes</td>\n      <td>I am not sure</td>\n      <td>No</td>\n      <td>Yes</td>\n      <td>Yes</td>\n      <td>Somewhat easy</td>\n      <td>Yes</td>\n      <td>Yes</td>\n      <td>...</td>\n      <td>Not applicable to me</td>\n      <td>Often</td>\n      <td>42</td>\n      <td>Male</td>\n      <td>United Kingdom</td>\n      <td>NaN</td>\n      <td>United Kingdom</td>\n      <td>NaN</td>\n      <td>DevOps/SysAdmin|Support|Back-end Developer|Fro...</td>\n      <td>Sometimes</td>\n    </tr>\n  </tbody>\n</table>\n<p>5 rows × 61 columns</p>\n</div>"
     },
     "execution_count": 10,
     "metadata": {},
     "output_type": "execute_result"
    }
   ],
   "source": [
    "# Selecting only IT-related roles\n",
    "df = df[df[\"is_tech_role\"] == 1]\n",
    "\n",
    "# Dropping the is_tech_role column\n",
    "df.drop(columns=[\"is_tech_role\"], inplace=True)\n",
    "\n",
    "# Printing the dataframe df\n",
    "df.head()"
   ],
   "metadata": {
    "collapsed": false,
    "ExecuteTime": {
     "end_time": "2024-03-17T17:42:56.400062Z",
     "start_time": "2024-03-17T17:42:56.356615Z"
    }
   },
   "id": "2d2153a818e8085c",
   "execution_count": 10
  },
  {
   "cell_type": "markdown",
   "source": [
    "#### 1.2. Handling the missing data\n",
    "The dataset contains missing data that needs to be addressed by either dropping those records or properly filling in the missing values."
   ],
   "metadata": {
    "collapsed": false
   },
   "id": "a9a69e285fa751b6"
  },
  {
   "cell_type": "markdown",
   "source": [
    "The first step involves dropping columns that are entirely empty and do not contribute any meaningful information, but before that, we define a function __dataset_describer()__ which will help us along the way."
   ],
   "metadata": {
    "collapsed": false
   },
   "id": "ce5bad896011bf09"
  },
  {
   "cell_type": "code",
   "outputs": [],
   "source": [
    "def dataset_describer(dataframe):\n",
    "    \"\"\"\n",
    "    parameters :\n",
    "    dataframe : Any pandas dataframe.\n",
    "    return:\n",
    "    described : the empty values, unique values and, list of this unique values along with their datatypes of the given dataframe's columns. \n",
    "    \"\"\"\n",
    "    # Initiating an empty list data_info \n",
    "    data_info = []\n",
    "\n",
    "    # Gathering the attributes in one place \n",
    "    for col in dataframe.columns:\n",
    "        attributes = {\n",
    "            # The name of the column\n",
    "            'name': col,\n",
    "\n",
    "            # The number of empty values in a column\n",
    "            'empty_values': dataframe[col].isna().sum(),\n",
    "\n",
    "            # The number of unique values\n",
    "            'number_unique_values': [dataframe[col].unique().__len__() - 1 if dataframe[col].isna().sum() != 0 else dataframe[col].unique().__len__()][0],\n",
    "\n",
    "            # The list of unique values\n",
    "            'set_unique_values': [list(set(dataframe[col])) if dataframe[col].unique().__len__() != 1 else \"None\"][0],\n",
    "\n",
    "            # The data type of column\n",
    "            'data_type': dataframe[col].dtypes\n",
    "        }\n",
    "\n",
    "        # Filtering to only include features containing empty values  \n",
    "        data_info.append(attributes)\n",
    "\n",
    "    # Create a DataFrame from the gathered information\n",
    "    described = pd.DataFrame(data_info).sort_values(by=['empty_values'], ascending=False)\n",
    "    \n",
    "    # Providing the described dataframe as a result of the function\n",
    "    return described"
   ],
   "metadata": {
    "collapsed": false,
    "ExecuteTime": {
     "end_time": "2024-03-17T17:42:56.416042Z",
     "start_time": "2024-03-17T17:42:56.402467Z"
    }
   },
   "id": "9c2b88efac34ed71",
   "execution_count": 11
  },
  {
   "cell_type": "code",
   "outputs": [
    {
     "data": {
      "text/plain": "                                                 name  empty_values  \\\n20                           is_productivity_impacted           865   \n14  have_medical_coverage_includes_mental_health_i...           865   \n21                                percentage_impacted           865   \n19                           is_impacted_negatively_2           865   \n18  is_able_to_reveal_previous_mental_health_issue...           865   \n..                                                ...           ...   \n1                                     is_tech_company             0   \n34               is_willing_to_bring_phi_in_interview             0   \n36               is_willing_to_bring_mhi_in_interview             0   \n38  is_being_identified_with_mhi_would_hurt_your_c...             0   \n60                                          is_remote             0   \n\n    number_unique_values                                  set_unique_values  \\\n20                     0                                               None   \n14                     0                                               None   \n21                     0                                               None   \n19                     0                                               None   \n18                     0                                               None   \n..                   ...                                                ...   \n1                      2                                         [0.0, 1.0]   \n34                     3                                   [Maybe, Yes, No]   \n36                     3                                   [Maybe, No, Yes]   \n38                     5  [Yes, I think it would, No, I don't think it w...   \n60                     3                         [Sometimes, Never, Always]   \n\n   data_type  \n20    object  \n14   float64  \n21    object  \n19    object  \n18    object  \n..       ...  \n1    float64  \n34    object  \n36    object  \n38    object  \n60    object  \n\n[61 rows x 5 columns]",
      "text/html": "<div>\n<style scoped>\n    .dataframe tbody tr th:only-of-type {\n        vertical-align: middle;\n    }\n\n    .dataframe tbody tr th {\n        vertical-align: top;\n    }\n\n    .dataframe thead th {\n        text-align: right;\n    }\n</style>\n<table border=\"1\" class=\"dataframe\">\n  <thead>\n    <tr style=\"text-align: right;\">\n      <th></th>\n      <th>name</th>\n      <th>empty_values</th>\n      <th>number_unique_values</th>\n      <th>set_unique_values</th>\n      <th>data_type</th>\n    </tr>\n  </thead>\n  <tbody>\n    <tr>\n      <th>20</th>\n      <td>is_productivity_impacted</td>\n      <td>865</td>\n      <td>0</td>\n      <td>None</td>\n      <td>object</td>\n    </tr>\n    <tr>\n      <th>14</th>\n      <td>have_medical_coverage_includes_mental_health_i...</td>\n      <td>865</td>\n      <td>0</td>\n      <td>None</td>\n      <td>float64</td>\n    </tr>\n    <tr>\n      <th>21</th>\n      <td>percentage_impacted</td>\n      <td>865</td>\n      <td>0</td>\n      <td>None</td>\n      <td>object</td>\n    </tr>\n    <tr>\n      <th>19</th>\n      <td>is_impacted_negatively_2</td>\n      <td>865</td>\n      <td>0</td>\n      <td>None</td>\n      <td>object</td>\n    </tr>\n    <tr>\n      <th>18</th>\n      <td>is_able_to_reveal_previous_mental_health_issue...</td>\n      <td>865</td>\n      <td>0</td>\n      <td>None</td>\n      <td>object</td>\n    </tr>\n    <tr>\n      <th>...</th>\n      <td>...</td>\n      <td>...</td>\n      <td>...</td>\n      <td>...</td>\n      <td>...</td>\n    </tr>\n    <tr>\n      <th>1</th>\n      <td>is_tech_company</td>\n      <td>0</td>\n      <td>2</td>\n      <td>[0.0, 1.0]</td>\n      <td>float64</td>\n    </tr>\n    <tr>\n      <th>34</th>\n      <td>is_willing_to_bring_phi_in_interview</td>\n      <td>0</td>\n      <td>3</td>\n      <td>[Maybe, Yes, No]</td>\n      <td>object</td>\n    </tr>\n    <tr>\n      <th>36</th>\n      <td>is_willing_to_bring_mhi_in_interview</td>\n      <td>0</td>\n      <td>3</td>\n      <td>[Maybe, No, Yes]</td>\n      <td>object</td>\n    </tr>\n    <tr>\n      <th>38</th>\n      <td>is_being_identified_with_mhi_would_hurt_your_c...</td>\n      <td>0</td>\n      <td>5</td>\n      <td>[Yes, I think it would, No, I don't think it w...</td>\n      <td>object</td>\n    </tr>\n    <tr>\n      <th>60</th>\n      <td>is_remote</td>\n      <td>0</td>\n      <td>3</td>\n      <td>[Sometimes, Never, Always]</td>\n      <td>object</td>\n    </tr>\n  </tbody>\n</table>\n<p>61 rows × 5 columns</p>\n</div>"
     },
     "execution_count": 12,
     "metadata": {},
     "output_type": "execute_result"
    }
   ],
   "source": [
    "described_df = dataset_describer(df)\n",
    "described_df"
   ],
   "metadata": {
    "collapsed": false,
    "ExecuteTime": {
     "end_time": "2024-03-17T17:42:56.493647Z",
     "start_time": "2024-03-17T17:42:56.418589Z"
    }
   },
   "id": "6940c17921f3393f",
   "execution_count": 12
  },
  {
   "cell_type": "code",
   "outputs": [],
   "source": [
    "# Storing these columns in a list called: to_be_deleted\n",
    "to_be_deleted = list(described_df[described_df[\"empty_values\"] == 865].iloc[:, 0])\n",
    "\n",
    "# Using the list to_be_deleted to drop empty columns\n",
    "df.drop(columns=to_be_deleted, axis=1, inplace=True)\n",
    "\n",
    "# Drop text columns with no rewarding piece of information\n",
    "df.drop([\"why_or_why_not_bring_phi_in_interview\", \"why_or_why_not_bring_mhi_in_interview\"], axis=1, inplace=True)"
   ],
   "metadata": {
    "collapsed": false,
    "ExecuteTime": {
     "end_time": "2024-03-17T17:42:56.509802Z",
     "start_time": "2024-03-17T17:42:56.496587Z"
    }
   },
   "id": "dd39d7f2e6cdb49f",
   "execution_count": 13
  },
  {
   "cell_type": "markdown",
   "source": [
    "Next, we'll run some transformations to standardize the data within each column along with their datatypes."
   ],
   "metadata": {
    "collapsed": false
   },
   "id": "d3bda19376b95cc3"
  },
  {
   "cell_type": "code",
   "outputs": [],
   "source": [
    "# Transforming this column from float64 into binary int64\n",
    "df['is_tech_company'] = df['is_tech_company'].astype(\"int64\")\n",
    "\n",
    "# Transforming this column from a text into int64\n",
    "df[['is_aware_of_previous_negative_consequence_of_colleagues_with_mhi', 'diagnosed_by_professional']] = df[\n",
    "    ['is_aware_of_previous_negative_consequence_of_colleagues_with_mhi', 'diagnosed_by_professional']].replace(\n",
    "    [\"Yes\", \"No\"], [1, 0])\n",
    "\n",
    "# Adjusting erroneous inout in the feature\n",
    "df[[\"is_employer_takes_mh_seriously\", \"is_anonymity_protected_by_previous_employer\"]] = df[\n",
    "    [\"is_employer_takes_mh_seriously\", \"is_anonymity_protected_by_previous_employer\"]].replace('I don\\'t know',\n",
    "                                                                                               \"I don't know\")\n",
    "\n",
    "# Setting the outliers to the median of the age column\n",
    "df.loc[(df['age'] > 65), 'age'] = df.loc[(df['age'] < 18), 'age'] = df[\"age\"].median()\n",
    "\n",
    "#  Filling the missing values with the appropriate uncertainty unique values available in each feature\n",
    "df['is_aware_mh_care_available'].fillna('I am not sure', inplace=True)\n",
    "\n",
    "df['previously_observed_experienced_response_to_mhi'].fillna(\"Maybe/Not sure\", inplace=True)\n",
    "\n",
    "df['is_less_encouraged_to_reveal_mhi'].fillna(\"Maybe\", inplace=True)"
   ],
   "metadata": {
    "collapsed": false,
    "ExecuteTime": {
     "end_time": "2024-03-17T17:42:56.541478Z",
     "start_time": "2024-03-17T17:42:56.518678Z"
    }
   },
   "id": "db98b6a95553c88f",
   "execution_count": 14
  },
  {
   "cell_type": "code",
   "outputs": [
    {
     "data": {
      "text/plain": "gender\nMale      672\nFemale    170\nOther      23\nName: count, dtype: int64"
     },
     "execution_count": 15,
     "metadata": {},
     "output_type": "execute_result"
    }
   ],
   "source": [
    "# Reassigning the values to Male, Female, or Other\n",
    "df['gender'].replace(\n",
    "    ['male', 'm', 'M', 'Male (cis)', 'cisdude', 'Dude', 'Male.', 'Cis male', 'Cis Male', 'cis male', 'cis man', 'mail',\n",
    "     'Male (trans, FtM)', 'Male/genderqueer', 'Malr', 'Man', 'Sex is male', 'man', 'male ', 'M|', 'Male ', 'MALE',\n",
    "     'Male (trans, FtM)',\n",
    "     'I\\'m a man why didn\\'t you make this a drop down question. You should of asked sex? And I would of answered yes please. Seriously how much text can this take? '\n",
    "     ],\n",
    "    'Male', inplace=True)\n",
    "\n",
    "df['gender'].replace(\n",
    "    ['Female', 'female', 'I identify as female.', 'female ', 'Female assigned at birth ', 'Cis female ', 'F', 'Woman',\n",
    "     'Transitioned, M2F', 'Female or Multi-Gender Femme', 'woman', 'female/woman', 'Cisgender Female', 'fm', 'f',\n",
    "     'fem', ' Female', 'Cis-woman', 'Female ', 'Female (props for making this a freeform field, though)',\n",
    "     ],\n",
    "    'Female', inplace=True)\n",
    "\n",
    "df['gender'].replace(\n",
    "    ['Genderfluid (born female)', 'female-bodied; no feelings about gender', 'non-binary', 'AFAB', 'Agender',\n",
    "     'genderqueer',\n",
    "     'Genderflux demi-girl', 'mtf', 'Genderqueer', 'Transgender woman', 'Other/Transfeminine', 'human', 'Queer',\n",
    "     'Unicorn',\n",
    "     'Androgynous', 'Fluid', 'nb masculine', 'Genderfluid', 'none of your business', 'Bigender', 'Enby',\n",
    "     'genderqueer woman',\n",
    "     'Nonbinary', 'male 9:1 female, roughly', 'Human', np.nan\n",
    "     ],\n",
    "    'Other', inplace=True)\n",
    "\n",
    "# Overview of the transformed data\n",
    "df[\"gender\"].value_counts()"
   ],
   "metadata": {
    "collapsed": false,
    "ExecuteTime": {
     "end_time": "2024-03-17T17:42:56.572088Z",
     "start_time": "2024-03-17T17:42:56.543879Z"
    }
   },
   "id": "513d90a95e2158ae",
   "execution_count": 15
  },
  {
   "cell_type": "markdown",
   "source": [
    "On the other hand, we'll change the data to fit the other columns to avoid ambiguity."
   ],
   "metadata": {
    "collapsed": false
   },
   "id": "7ca8061891cd7690"
  },
  {
   "cell_type": "code",
   "outputs": [
    {
     "data": {
      "text/plain": "     is_having_mhd known_conditions suspected_conditions  \\\n164            Yes              NaN                  NaN   \n574            Yes              NaN                  NaN   \n635            Yes              NaN                  NaN   \n714          Maybe              NaN                  NaN   \n765          Maybe              NaN                  NaN   \n1059           Yes              NaN                  NaN   \n\n      diagnosed_by_professional  \\\n164                           0   \n574                           1   \n635                           1   \n714                           0   \n765                           0   \n1059                          1   \n\n                   diagnosed_conditions_by_professional  \n164                                                 NaN  \n574                                                 NaN  \n635   Anxiety Disorder (Generalized, Social, Phobia,...  \n714                                                 NaN  \n765                                                 NaN  \n1059  Attention Deficit Hyperactivity Disorder|Mood ...  ",
      "text/html": "<div>\n<style scoped>\n    .dataframe tbody tr th:only-of-type {\n        vertical-align: middle;\n    }\n\n    .dataframe tbody tr th {\n        vertical-align: top;\n    }\n\n    .dataframe thead th {\n        text-align: right;\n    }\n</style>\n<table border=\"1\" class=\"dataframe\">\n  <thead>\n    <tr style=\"text-align: right;\">\n      <th></th>\n      <th>is_having_mhd</th>\n      <th>known_conditions</th>\n      <th>suspected_conditions</th>\n      <th>diagnosed_by_professional</th>\n      <th>diagnosed_conditions_by_professional</th>\n    </tr>\n  </thead>\n  <tbody>\n    <tr>\n      <th>164</th>\n      <td>Yes</td>\n      <td>NaN</td>\n      <td>NaN</td>\n      <td>0</td>\n      <td>NaN</td>\n    </tr>\n    <tr>\n      <th>574</th>\n      <td>Yes</td>\n      <td>NaN</td>\n      <td>NaN</td>\n      <td>1</td>\n      <td>NaN</td>\n    </tr>\n    <tr>\n      <th>635</th>\n      <td>Yes</td>\n      <td>NaN</td>\n      <td>NaN</td>\n      <td>1</td>\n      <td>Anxiety Disorder (Generalized, Social, Phobia,...</td>\n    </tr>\n    <tr>\n      <th>714</th>\n      <td>Maybe</td>\n      <td>NaN</td>\n      <td>NaN</td>\n      <td>0</td>\n      <td>NaN</td>\n    </tr>\n    <tr>\n      <th>765</th>\n      <td>Maybe</td>\n      <td>NaN</td>\n      <td>NaN</td>\n      <td>0</td>\n      <td>NaN</td>\n    </tr>\n    <tr>\n      <th>1059</th>\n      <td>Yes</td>\n      <td>NaN</td>\n      <td>NaN</td>\n      <td>1</td>\n      <td>Attention Deficit Hyperactivity Disorder|Mood ...</td>\n    </tr>\n  </tbody>\n</table>\n</div>"
     },
     "execution_count": 16,
     "metadata": {},
     "output_type": "execute_result"
    }
   ],
   "source": [
    "# Specifying the important columns in a list\n",
    "concerned_columns = ['is_having_mhd', 'known_conditions', 'suspected_conditions', 'diagnosed_by_professional', 'diagnosed_conditions_by_professional']\n",
    "\n",
    "# Previewing the error in data\n",
    "df.loc[(df[\"is_having_mhd\"] != 'No') & (df[\"known_conditions\"].isna()) & (df[\"suspected_conditions\"].isna()), concerned_columns]"
   ],
   "metadata": {
    "collapsed": false,
    "ExecuteTime": {
     "end_time": "2024-03-17T17:42:56.603414Z",
     "start_time": "2024-03-17T17:42:56.575730Z"
    }
   },
   "id": "4e90ddfa37ab951b",
   "execution_count": 16
  },
  {
   "cell_type": "code",
   "outputs": [],
   "source": [
    "# Replacing all the responses with no known or suspected conditions with the appropriate value in the is_having_mhd column\n",
    "df.loc[(df[\"is_having_mhd\"] != 'No') & (df[\"known_conditions\"].isna()) & (\n",
    "    df[\"suspected_conditions\"].isna()), \"is_having_mhd\"] = \"No\"\n",
    "\n",
    "# Replacing the response with no diagnosed condition by a professional with the appropriate value in the diagnosed_by_professional column\n",
    "df.loc[(df[\"diagnosed_by_professional\"] == 1) & (\n",
    "    df[\"diagnosed_conditions_by_professional\"].isna()), \"diagnosed_by_professional\"] = 0\n",
    "\n",
    "# Eliminating the PTSD condition since it's not diagnosed and after being diagnosed by a professional, the respondent didn't include it as a diagnosed condition\n",
    "df.loc[(df[\"is_having_mhd\"] == \"Yes\") \n",
    "       & \n",
    "       (df[\"known_conditions\"] == \"Attention Deficit Hyperactivity Disorder|PTSD (undiagnosed)\"), \"known_conditions\"] = \"Attention Deficit Hyperactivity Disorder\""
   ],
   "metadata": {
    "collapsed": false,
    "ExecuteTime": {
     "end_time": "2024-03-17T17:42:56.619294Z",
     "start_time": "2024-03-17T17:42:56.605719Z"
    }
   },
   "id": "eb4f2fd23d799579",
   "execution_count": 17
  },
  {
   "cell_type": "markdown",
   "source": [
    "Finally, we'll proceed to standardize the mental health conditions available in the dataset.\n",
    "\n",
    "The function __conditions_counter()__ will help determine the conditions available for us in the dataset."
   ],
   "metadata": {
    "collapsed": false
   },
   "id": "a612f9a7deb262c6"
  },
  {
   "cell_type": "code",
   "outputs": [],
   "source": [
    "def conditions_counter(column_name):\n",
    "    \"\"\"\n",
    "    :param column_name: The name of column desired\n",
    "    :return: a Dataframe containing the conditions and the number of their occurrences in the column\n",
    "    \"\"\"\n",
    "\n",
    "    # Creating the list of unique values excluding empty values\n",
    "    a_list = pd.DataFrame(df[column_name].value_counts()).reset_index().iloc[:, 0].to_list()\n",
    "\n",
    "    # Creating an empty dictionary\n",
    "    a_dict = dict()\n",
    "\n",
    "    # Initiating a for-loop\n",
    "    for element in a_list:\n",
    "        # Inspecting the existence of a character \n",
    "        if '|' in element:\n",
    "            elements = element.split(\"|\")\n",
    "            # If the condition is met\n",
    "            for unit in elements:\n",
    "                # Iterating each unit  \n",
    "                if unit in a_dict:\n",
    "                    a_dict[unit] += 1  # Augment the number if it does exist\n",
    "                else:\n",
    "                    a_dict[unit] = 1  # Set the number to 1 if a new occurrence is found\n",
    "        else:\n",
    "            if element in a_dict:\n",
    "                a_dict[element] += 1\n",
    "            else:\n",
    "                a_dict[element] = 1\n",
    "\n",
    "    # Turning the data stored in the dictionary into a dataframe\n",
    "    dframe = pd.DataFrame(list(a_dict.items()), columns=['Condition', 'Count'])\n",
    "\n",
    "    # The final output of the function\n",
    "    return dframe"
   ],
   "metadata": {
    "collapsed": false,
    "ExecuteTime": {
     "end_time": "2024-03-17T17:42:56.634998Z",
     "start_time": "2024-03-17T17:42:56.621612Z"
    }
   },
   "id": "fd15107a8ba02533",
   "execution_count": 18
  },
  {
   "cell_type": "code",
   "outputs": [
    {
     "data": {
      "text/plain": "                                           Conditions  Known  Suspected  \\\n1   Mood Disorder (Depression, Bipolar Disorder, etc)     49         41   \n0   Anxiety Disorder (Generalized, Social, Phobia,...     50         39   \n2            Attention Deficit Hyperactivity Disorder     24         17   \n3                      Post-traumatic Stress Disorder     23         10   \n8   Personality Disorder (Borderline, Antisocial, ...     15         17   \n5                       Obsessive-Compulsive Disorder     18         15   \n9                           Stress Response Syndromes     16         18   \n6                              Substance Use Disorder     16          9   \n7                                  Addictive Disorder     13         16   \n4            Eating Disorder (Anorexia, Bulimia, etc)      9          6   \n10  Psychotic Disorder (Schizophrenia, Schizoaffec...      2          6   \n12                              Dissociative Disorder      3          2   \n19                                  Asperger Syndrome      0          1   \n17                                Autism (Asperger's)      1          0   \n24                           Gender Identity Disorder      0          1   \n14                            ADD (w/o Hyperactivity)      1          0   \n23                                  Suicidal Ideation      0          1   \n27  Autism - while not a \"mental illness\", still g...      0          0   \n28  attention deficit disorder (but not the hypera...      0          0   \n26                                  Depersonalisation      0          1   \n25                                           Tinnitus      0          1   \n29                                PDD-NOS (see above)      0          0   \n15                                        Transgender      1          0   \n22                              post-partum / anxiety      0          1   \n21                         depersonalization disorder      0          1   \n20                                         Asperger's      0          1   \n18                           Autism spectrum disorder      1          0   \n16  Pervasive Developmental Disorder (Not Otherwis...      1          0   \n13                                   Sexual addiction      1          0   \n11                                  Sleeping Disorder      1          0   \n30                           autism spectrum disorder      0          0   \n\n    Diagnosed_by_professional  Total  \n1                          39    129  \n0                          34    123  \n2                          17     58  \n3                          20     53  \n8                          14     46  \n5                          11     44  \n9                           7     41  \n6                          12     37  \n7                           7     36  \n4                           7     22  \n10                          2     10  \n12                          4      9  \n19                          1      2  \n17                          1      2  \n24                          1      2  \n14                          1      2  \n23                          1      2  \n27                          1      1  \n28                          1      1  \n26                          0      1  \n25                          0      1  \n29                          1      1  \n15                          0      1  \n22                          0      1  \n21                          0      1  \n20                          0      1  \n18                          0      1  \n16                          0      1  \n13                          0      1  \n11                          0      1  \n30                          1      1  ",
      "text/html": "<div>\n<style scoped>\n    .dataframe tbody tr th:only-of-type {\n        vertical-align: middle;\n    }\n\n    .dataframe tbody tr th {\n        vertical-align: top;\n    }\n\n    .dataframe thead th {\n        text-align: right;\n    }\n</style>\n<table border=\"1\" class=\"dataframe\">\n  <thead>\n    <tr style=\"text-align: right;\">\n      <th></th>\n      <th>Conditions</th>\n      <th>Known</th>\n      <th>Suspected</th>\n      <th>Diagnosed_by_professional</th>\n      <th>Total</th>\n    </tr>\n  </thead>\n  <tbody>\n    <tr>\n      <th>1</th>\n      <td>Mood Disorder (Depression, Bipolar Disorder, etc)</td>\n      <td>49</td>\n      <td>41</td>\n      <td>39</td>\n      <td>129</td>\n    </tr>\n    <tr>\n      <th>0</th>\n      <td>Anxiety Disorder (Generalized, Social, Phobia,...</td>\n      <td>50</td>\n      <td>39</td>\n      <td>34</td>\n      <td>123</td>\n    </tr>\n    <tr>\n      <th>2</th>\n      <td>Attention Deficit Hyperactivity Disorder</td>\n      <td>24</td>\n      <td>17</td>\n      <td>17</td>\n      <td>58</td>\n    </tr>\n    <tr>\n      <th>3</th>\n      <td>Post-traumatic Stress Disorder</td>\n      <td>23</td>\n      <td>10</td>\n      <td>20</td>\n      <td>53</td>\n    </tr>\n    <tr>\n      <th>8</th>\n      <td>Personality Disorder (Borderline, Antisocial, ...</td>\n      <td>15</td>\n      <td>17</td>\n      <td>14</td>\n      <td>46</td>\n    </tr>\n    <tr>\n      <th>5</th>\n      <td>Obsessive-Compulsive Disorder</td>\n      <td>18</td>\n      <td>15</td>\n      <td>11</td>\n      <td>44</td>\n    </tr>\n    <tr>\n      <th>9</th>\n      <td>Stress Response Syndromes</td>\n      <td>16</td>\n      <td>18</td>\n      <td>7</td>\n      <td>41</td>\n    </tr>\n    <tr>\n      <th>6</th>\n      <td>Substance Use Disorder</td>\n      <td>16</td>\n      <td>9</td>\n      <td>12</td>\n      <td>37</td>\n    </tr>\n    <tr>\n      <th>7</th>\n      <td>Addictive Disorder</td>\n      <td>13</td>\n      <td>16</td>\n      <td>7</td>\n      <td>36</td>\n    </tr>\n    <tr>\n      <th>4</th>\n      <td>Eating Disorder (Anorexia, Bulimia, etc)</td>\n      <td>9</td>\n      <td>6</td>\n      <td>7</td>\n      <td>22</td>\n    </tr>\n    <tr>\n      <th>10</th>\n      <td>Psychotic Disorder (Schizophrenia, Schizoaffec...</td>\n      <td>2</td>\n      <td>6</td>\n      <td>2</td>\n      <td>10</td>\n    </tr>\n    <tr>\n      <th>12</th>\n      <td>Dissociative Disorder</td>\n      <td>3</td>\n      <td>2</td>\n      <td>4</td>\n      <td>9</td>\n    </tr>\n    <tr>\n      <th>19</th>\n      <td>Asperger Syndrome</td>\n      <td>0</td>\n      <td>1</td>\n      <td>1</td>\n      <td>2</td>\n    </tr>\n    <tr>\n      <th>17</th>\n      <td>Autism (Asperger's)</td>\n      <td>1</td>\n      <td>0</td>\n      <td>1</td>\n      <td>2</td>\n    </tr>\n    <tr>\n      <th>24</th>\n      <td>Gender Identity Disorder</td>\n      <td>0</td>\n      <td>1</td>\n      <td>1</td>\n      <td>2</td>\n    </tr>\n    <tr>\n      <th>14</th>\n      <td>ADD (w/o Hyperactivity)</td>\n      <td>1</td>\n      <td>0</td>\n      <td>1</td>\n      <td>2</td>\n    </tr>\n    <tr>\n      <th>23</th>\n      <td>Suicidal Ideation</td>\n      <td>0</td>\n      <td>1</td>\n      <td>1</td>\n      <td>2</td>\n    </tr>\n    <tr>\n      <th>27</th>\n      <td>Autism - while not a \"mental illness\", still g...</td>\n      <td>0</td>\n      <td>0</td>\n      <td>1</td>\n      <td>1</td>\n    </tr>\n    <tr>\n      <th>28</th>\n      <td>attention deficit disorder (but not the hypera...</td>\n      <td>0</td>\n      <td>0</td>\n      <td>1</td>\n      <td>1</td>\n    </tr>\n    <tr>\n      <th>26</th>\n      <td>Depersonalisation</td>\n      <td>0</td>\n      <td>1</td>\n      <td>0</td>\n      <td>1</td>\n    </tr>\n    <tr>\n      <th>25</th>\n      <td>Tinnitus</td>\n      <td>0</td>\n      <td>1</td>\n      <td>0</td>\n      <td>1</td>\n    </tr>\n    <tr>\n      <th>29</th>\n      <td>PDD-NOS (see above)</td>\n      <td>0</td>\n      <td>0</td>\n      <td>1</td>\n      <td>1</td>\n    </tr>\n    <tr>\n      <th>15</th>\n      <td>Transgender</td>\n      <td>1</td>\n      <td>0</td>\n      <td>0</td>\n      <td>1</td>\n    </tr>\n    <tr>\n      <th>22</th>\n      <td>post-partum / anxiety</td>\n      <td>0</td>\n      <td>1</td>\n      <td>0</td>\n      <td>1</td>\n    </tr>\n    <tr>\n      <th>21</th>\n      <td>depersonalization disorder</td>\n      <td>0</td>\n      <td>1</td>\n      <td>0</td>\n      <td>1</td>\n    </tr>\n    <tr>\n      <th>20</th>\n      <td>Asperger's</td>\n      <td>0</td>\n      <td>1</td>\n      <td>0</td>\n      <td>1</td>\n    </tr>\n    <tr>\n      <th>18</th>\n      <td>Autism spectrum disorder</td>\n      <td>1</td>\n      <td>0</td>\n      <td>0</td>\n      <td>1</td>\n    </tr>\n    <tr>\n      <th>16</th>\n      <td>Pervasive Developmental Disorder (Not Otherwis...</td>\n      <td>1</td>\n      <td>0</td>\n      <td>0</td>\n      <td>1</td>\n    </tr>\n    <tr>\n      <th>13</th>\n      <td>Sexual addiction</td>\n      <td>1</td>\n      <td>0</td>\n      <td>0</td>\n      <td>1</td>\n    </tr>\n    <tr>\n      <th>11</th>\n      <td>Sleeping Disorder</td>\n      <td>1</td>\n      <td>0</td>\n      <td>0</td>\n      <td>1</td>\n    </tr>\n    <tr>\n      <th>30</th>\n      <td>autism spectrum disorder</td>\n      <td>0</td>\n      <td>0</td>\n      <td>1</td>\n      <td>1</td>\n    </tr>\n  </tbody>\n</table>\n</div>"
     },
     "execution_count": 19,
     "metadata": {},
     "output_type": "execute_result"
    }
   ],
   "source": [
    "# Setting the dataframes\n",
    "known_conditions = conditions_counter(\"known_conditions\")\n",
    "suspected_conditions = conditions_counter(\"suspected_conditions\")\n",
    "diagnosed_conditions = conditions_counter(\"diagnosed_conditions_by_professional\")\n",
    "\n",
    "# Merging the data frames into final_df\n",
    "conditions_df = pd.merge(\n",
    "    pd.merge(\n",
    "        known_conditions,\n",
    "        suspected_conditions,\n",
    "        on='Condition', how='outer',\n",
    "        suffixes=('_known', '_suspected')\n",
    "    ), diagnosed_conditions, on='Condition', how='outer')\n",
    "\n",
    "# Replacing empty values\n",
    "conditions_df[['Count_known', 'Count_suspected', 'Count']] = conditions_df[\n",
    "    ['Count_known', 'Count_suspected', 'Count']].replace(np.nan, 0)\n",
    "\n",
    "# Adjusting the data type\n",
    "conditions_df[['Count_known', 'Count_suspected', 'Count']] = conditions_df[\n",
    "    ['Count_known', 'Count_suspected', 'Count']].astype('int64')\n",
    "\n",
    "# Adding a new column called: Total\n",
    "conditions_df[\"Total\"] = conditions_df[\"Count_known\"] + conditions_df[\"Count_suspected\"] + conditions_df[\"Count\"]\n",
    "conditions_df.sort_values(\"Total\", ascending=False, inplace=True)\n",
    "\n",
    "# Renaming te columns for better clarity \n",
    "conditions_df.columns = [\"Conditions\", \"Known\", \"Suspected\", \"Diagnosed_by_professional\", \"Total\"]\n",
    "\n",
    "# Print final_df\n",
    "conditions_df"
   ],
   "metadata": {
    "collapsed": false,
    "ExecuteTime": {
     "end_time": "2024-03-17T17:42:56.667317Z",
     "start_time": "2024-03-17T17:42:56.636176Z"
    }
   },
   "id": "9856b2318da70fe0",
   "execution_count": 19
  },
  {
   "cell_type": "markdown",
   "source": [
    "As we came across the conditions our respondents mentioned, a standardization was applied to relief redundancy."
   ],
   "metadata": {
    "collapsed": false
   },
   "id": "e8187fdb28b8567a"
  },
  {
   "cell_type": "code",
   "outputs": [],
   "source": [
    "# Fixing typos and standardizing terms in 'suspected_conditions' column\n",
    "df['suspected_conditions'] = df['suspected_conditions'].str.replace('depersonalization disorder', 'Depersonalisation')\n",
    "df['suspected_conditions'] = df['suspected_conditions'].str.replace('post-partum / anxiety', 'Postpartum Anxiety')\n",
    "\n",
    "# Fixing typos and standardizing terms in 'diagnosed_conditions_by_professional' column\n",
    "df['diagnosed_conditions_by_professional'] = df['diagnosed_conditions_by_professional'].str.replace(\"attention deficit disorder (but not the hyperactive version)\", \"ADD (w/o Hyperactivity)\")\n",
    "\n",
    "# Standardizing Autism Spectrum conditions\n",
    "df['known_conditions'] = df['known_conditions'].str.replace(\"Autism (Asperger's)\", 'Autism Spectrum')\n",
    "\n",
    "df['suspected_conditions'] = df['suspected_conditions'].str.replace(\"Asperger Syndrome\", 'Autism Spectrum')\n",
    "df['suspected_conditions'] = df['suspected_conditions'].str.replace(\"Asperger's\", 'Autism Spectrum')\n",
    "\n",
    "df['diagnosed_conditions_by_professional'] = df['diagnosed_conditions_by_professional'].str.replace(\"Asperger Syndrome\", 'Autism Spectrum')\n",
    "df['diagnosed_conditions_by_professional'] = df['diagnosed_conditions_by_professional'].str.replace(\"Autism (Asperger's)\", 'Autism Spectrum')\n",
    "\n",
    "# Standardizing Autism Spectrum Disorder conditions\n",
    "df['known_conditions'] = df['known_conditions'].str.replace(\"Autism spectrum disorder\", 'Autism Spectrum Disorder')\n",
    "\n",
    "df['diagnosed_conditions_by_professional'] = df['diagnosed_conditions_by_professional'].str.replace(\"Autism - while not a \\\"mental illness\\\", still greatly affects how I handle anxiety\", 'Autism Spectrum Disorder')\n",
    "\n",
    "df['diagnosed_conditions_by_professional'] = df['diagnosed_conditions_by_professional'].str.replace(\"autism spectrum disorder\", 'Autism Spectrum Disorder')\n",
    "\n",
    "# Replacing the assumption with the right diagnosis\n",
    "df['known_conditions'] = df['known_conditions'].str.replace(\"Transgender\", \"Gender Identity Disorder\")"
   ],
   "metadata": {
    "collapsed": false,
    "ExecuteTime": {
     "end_time": "2024-03-17T17:42:56.698442Z",
     "start_time": "2024-03-17T17:42:56.669522Z"
    }
   },
   "id": "1f0addf0eaf1d19c",
   "execution_count": 20
  },
  {
   "cell_type": "markdown",
   "source": [
    "Eventually, we perform an overview on the data we've got left before we save it into a new file __data_v2.0.csv__."
   ],
   "metadata": {
    "collapsed": false
   },
   "id": "95b35092a4534117"
  },
  {
   "cell_type": "code",
   "outputs": [
    {
     "name": "stdout",
     "output_type": "stream",
     "text": [
      "The data is formed through 51 columns/features and 865 rows/records.\n"
     ]
    }
   ],
   "source": [
    "print(f\"The data is formed through {df.shape[1]} columns/features and {df.shape[0]} rows/records.\")"
   ],
   "metadata": {
    "collapsed": false,
    "ExecuteTime": {
     "end_time": "2024-03-17T17:42:56.761931Z",
     "start_time": "2024-03-17T17:42:56.749801Z"
    }
   },
   "id": "7220b007a5f4e974",
   "execution_count": 22
  },
  {
   "cell_type": "code",
   "outputs": [],
   "source": [
    "# Save the cleansed dataset in the respective directory\n",
    "df.to_csv(f\"{path}/data/data_v2.0.csv\", index=False)"
   ],
   "metadata": {
    "collapsed": false,
    "ExecuteTime": {
     "end_time": "2024-03-17T17:59:23.430112Z",
     "start_time": "2024-03-17T17:59:23.383467Z"
    }
   },
   "id": "75e1f942ea712970",
   "execution_count": 27
  },
  {
   "cell_type": "markdown",
   "source": [
    "### 2. Features Encoding"
   ],
   "metadata": {
    "collapsed": false
   },
   "id": "8130e597738a1f21"
  },
  {
   "cell_type": "code",
   "outputs": [],
   "source": [
    "# print(f\"The data is formed through {df.shape[1]} columns/features and {df.shape[0]} rows/records.\")"
   ],
   "metadata": {
    "collapsed": false,
    "ExecuteTime": {
     "end_time": "2024-03-17T17:42:56.807816Z",
     "start_time": "2024-03-17T17:42:56.794934Z"
    }
   },
   "id": "152c4f5e4e1227cc",
   "execution_count": 24
  },
  {
   "cell_type": "code",
   "execution_count": 25,
   "id": "bd9649f2d7494684",
   "metadata": {
    "collapsed": false,
    "ExecuteTime": {
     "end_time": "2024-03-17T17:42:56.823701Z",
     "start_time": "2024-03-17T17:42:56.810974Z"
    }
   },
   "outputs": [],
   "source": [
    "# Save the cleansed dataset in the respective directory\n",
    "# df.to_csv(f\"{path}/data/data_v2.0.csv\")"
   ]
  },
  {
   "cell_type": "markdown",
   "source": [
    "# 3. Summary"
   ],
   "metadata": {
    "collapsed": false
   },
   "id": "53761b7728fca5d8"
  },
  {
   "cell_type": "markdown",
   "source": [
    "## Author"
   ],
   "metadata": {
    "collapsed": false
   },
   "id": "8dcf1c19836771f8"
  },
  {
   "cell_type": "markdown",
   "source": [
    "<a href=\"https://www.linkedin.com/in/ab0858s/\">Abdelali BARIR</a> is a former veteran in the Moroccan's Royal Armed Forces, and a self taught data scientist. Currently enrolled in BSc. Data Science in IU International University of Applied Sciences."
   ],
   "metadata": {
    "collapsed": false
   },
   "id": "9f676d747c88ee6d"
  },
  {
   "cell_type": "markdown",
   "source": [
    "## Change Log"
   ],
   "metadata": {
    "collapsed": false
   },
   "id": "dda8507b26c40b13"
  },
  {
   "cell_type": "markdown",
   "source": [
    "| Date       | Version | Changed By     | Change Description      |\n",
    "|------------|---------|----------------|-------------------------|\n",
    "| 2024-03-10 | 1.0     | Abdelali Barir | Modified markdown       |\n",
    "|------------|---------|----------------|-------------------------|"
   ],
   "metadata": {
    "collapsed": false
   },
   "id": "9d2017cd194c9533"
  }
 ],
 "metadata": {
  "kernelspec": {
   "display_name": "Python 3 (ipykernel)",
   "language": "python",
   "name": "python3"
  },
  "language_info": {
   "codemirror_mode": {
    "name": "ipython",
    "version": 3
   },
   "file_extension": ".py",
   "mimetype": "text/x-python",
   "name": "python",
   "nbconvert_exporter": "python",
   "pygments_lexer": "ipython3",
   "version": "3.9.7"
  }
 },
 "nbformat": 4,
 "nbformat_minor": 5
}
