{
 "cells": [
  {
   "metadata": {},
   "cell_type": "markdown",
   "source": [
    "# <center> Data Science in Healthcare : Breast Cancer Detection <center/>\n",
    "<center> <b>DLBDSME01<b/> - Model Engineering <center/>\n",
    "<center> IU International University of Applied Sciences <center/>"
   ],
   "id": "4b3bfa153627fb8e"
  },
  {
   "metadata": {},
   "cell_type": "markdown",
   "source": "Hello, in this project, our objective is _(State it here)_",
   "id": "83fe861e57f64cad"
  },
  {
   "metadata": {},
   "cell_type": "markdown",
   "source": [
    "## List of contents :\n",
    "1. Overview\n",
    "2. Creating models\n",
    "3. Training/testing\n",
    "4. Evaluation\n",
    "4.1. _Actual vs. Predicted values Plot_\n",
    "4.2. _Residuals Plots_\n",
    "4.3. _Metrics_\n",
    "5. Monitoring\n",
    "6. Summary"
   ],
   "id": "eac5fcabedbdb738"
  },
  {
   "metadata": {},
   "cell_type": "markdown",
   "source": "Start with importing the required libraries :",
   "id": "aca2ba9f7e255da3"
  },
  {
   "metadata": {
    "collapsed": true,
    "jupyter": {
     "outputs_hidden": true
    },
    "ExecuteTime": {
     "end_time": "2025-03-23T06:30:18.645812Z",
     "start_time": "2025-03-23T06:29:59.035313Z"
    }
   },
   "cell_type": "code",
   "source": [
    "# Importing the required libraries\n",
    "from sklearn.metrics import mean_squared_error, mean_absolute_error, r2_score, root_mean_squared_error, accuracy_score, classification_report\n",
    "from sklearn.model_selection import RandomizedSearchCV\n",
    "from sklearn.model_selection import train_test_split\n",
    "from sklearn.ensemble import RandomForestRegressor\n",
    "from sklearn.linear_model import LinearRegression\n",
    "from sklearn.neural_network import MLPClassifier\n",
    "from sklearn.tree import DecisionTreeRegressor\n",
    "from sklearn.svm import SVR\n",
    "from pathlib import Path\n",
    "import pandas as pd\n",
    "import warnings\n",
    "import mlflow\n",
    "\n",
    "# Avoid unnecessary warnings\n",
    "warnings.filterwarnings(\"ignore\")"
   ],
   "id": "84dcce19341d923",
   "outputs": [],
   "execution_count": 1
  },
  {
   "metadata": {},
   "cell_type": "markdown",
   "source": [
    "### 1. Overview\n",
    "The data we'll use is fictitious, created to reflect the typical operational conditions of the manufacturing machines during regular operation. These conditions are around the following ranges :\n",
    "* __Sound__       : Between 60 dB and 85 dB.\n",
    "* __Temperature__ : Between 68°F and 86°F.\n",
    "* __Humidity__    : Between 40% and 60% of RH."
   ],
   "id": "1850a0861379cc04"
  },
  {
   "metadata": {},
   "cell_type": "markdown",
   "source": "Starting with loading the data",
   "id": "ce87958a8ba70a11"
  },
  {
   "metadata": {
    "collapsed": false
   },
   "cell_type": "code",
   "source": [
    "# Formulating the directory\n",
    "path = Path.cwd().parent\n",
    "\n",
    "# Loading the data\n",
    "data = pd.read_csv(f'{path}/data/Data for Task 1.csv')\n",
    "\n",
    "# Display a sample of the data\n",
    "data.sample(15)"
   ],
   "id": "8dd4ce28a9a22adc",
   "outputs": [],
   "execution_count": null
  },
  {
   "metadata": {},
   "cell_type": "code",
   "source": [
    "# Displaying the data's description\n",
    "data.describe()"
   ],
   "id": "388b926fc8c82199",
   "outputs": [],
   "execution_count": null
  },
  {
   "metadata": {},
   "cell_type": "markdown",
   "source": [
    "### 2. Creating models\n",
    "Subsequently, the following models are chosen to become our model :\n",
    "* Linear Regression.\n",
    "* Decision Tree.\n",
    "* Random Forest.\n",
    "* Support Vector Machine."
   ],
   "id": "37d919571f11bf7c"
  },
  {
   "metadata": {
    "collapsed": false
   },
   "cell_type": "code",
   "source": [
    "# Dictionary to store models\n",
    "models = {\n",
    "    'Linear Regression': LinearRegression(),\n",
    "    'Decision Tree': DecisionTreeRegressor(),\n",
    "    'Random Forest': RandomForestRegressor(),\n",
    "    'Support Vector Machine': SVR()\n",
    "}"
   ],
   "id": "8704fe53df2d7a51",
   "outputs": [],
   "execution_count": null
  },
  {
   "metadata": {},
   "cell_type": "markdown",
   "source": [
    "### 3. Training/Testing\n",
    "Next, the models created are going to be trained on 70% of the data and tested on the rest."
   ],
   "id": "b52cd5b5e787961"
  },
  {
   "metadata": {
    "collapsed": false
   },
   "cell_type": "code",
   "source": [
    "# Specifying the train/test data\n",
    "X_train, X_test, y_train, y_test = train_test_split(\n",
    "    data[['sound', 'temperature', 'humidity']], data['score'],\n",
    "    test_size=0.3\n",
    ")\n",
    "\n",
    "# Setting a default tracking directory\n",
    "mlflow.set_tracking_uri(f\"file:{path}/mlruns\")\n",
    "\n",
    "# Starting a new experiment\n",
    "mlflow.create_experiment(\"Training prospected models\")\n",
    "\n",
    "for model_name, model_instance in models.items():\n",
    "    # Tagging the experiment (if needed)\n",
    "    mlflow.set_experiment(\"Training prospected models\")\n",
    "\n",
    "    # Starting a run\n",
    "    with mlflow.start_run(run_name=f'Training {model_name}'):\n",
    "        # Training the model\n",
    "        model_instance.fit(X_train, y_train)\n",
    "\n",
    "        # Evaluating the model\n",
    "        y_estimate = model_instance.predict(X_test)\n",
    "\n",
    "        # Measuring accuracy of the model\n",
    "        mse = mean_squared_error(y_test, y_estimate)\n",
    "        rmse = root_mean_squared_error(y_test, y_estimate)\n",
    "        mae = mean_absolute_error(y_test, y_estimate)\n",
    "        r2 = r2_score(y_test, y_estimate)\n",
    "\n",
    "        # Logging the model\n",
    "        mlflow.sklearn.log_model(sk_model=model_instance, artifact_path=\"model\",\n",
    "                                 registered_model_name=model_name)\n",
    "\n",
    "        # Logging metrics\n",
    "        mlflow.log_metrics({\"MSE\": mse, \"RMSE\": rmse, \"MAE\": mae, \"R-squared\": r2})"
   ],
   "id": "2f879d6207f8f368",
   "outputs": [],
   "execution_count": null
  },
  {
   "metadata": {},
   "cell_type": "markdown",
   "source": "### 5. Monitoring",
   "id": "e21ed9e503ff2b87"
  },
  {
   "metadata": {},
   "cell_type": "markdown",
   "source": "For better illustration, a scatter plot is used to provide a visual comparison of the models.",
   "id": "f8e08297539e827c"
  },
  {
   "metadata": {},
   "cell_type": "markdown",
   "source": [
    "### 6. __Summary__\n",
    "In this project, 4 models underwent training on fictional data. The models included _Linear Regression_, _Decision Tree_, _Random Forest_, and _Support Vector Machine_.\n",
    "Upon evaluating these models, it was determined that __Linear Regression__ stood out as the most efficient for the dataset and the preceding visualization effectively depicted the distinctions among the models."
   ],
   "id": "a92c4c0a30b87cd"
  },
  {
   "metadata": {},
   "cell_type": "markdown",
   "source": [
    "## Author\n",
    "<a href=\"https://www.linkedin.com/in/ab0858s/\">Abdelali BARIR</a> is a former veteran in the Moroccan's Royal Armed Forces, and a self-taught python programmer. Currently enrolled in B.Sc. Data Science in __IU International University of Applied Sciences__."
   ],
   "id": "584210be75761277"
  },
  {
   "metadata": {},
   "cell_type": "markdown",
   "source": [
    "## Change Log\n",
    "\n",
    "| Date         | Version   | Changed By       | Change Description        |\n",
    "|--------------|-----------|------------------|---------------------------|\n",
    "| 2024-07-10   | 1.0       | Abdelali Barir   | Modified markdown         |\n",
    "| ------------ | --------- | ---------------- | ------------------------- |\n"
   ],
   "id": "1d0a5d3c1c073002"
  }
 ],
 "metadata": {
  "kernelspec": {
   "display_name": "Python 3",
   "language": "python",
   "name": "python3"
  },
  "language_info": {
   "codemirror_mode": {
    "name": "ipython",
    "version": 2
   },
   "file_extension": ".py",
   "mimetype": "text/x-python",
   "name": "python",
   "nbconvert_exporter": "python",
   "pygments_lexer": "ipython2",
   "version": "2.7.6"
  }
 },
 "nbformat": 4,
 "nbformat_minor": 5
}
