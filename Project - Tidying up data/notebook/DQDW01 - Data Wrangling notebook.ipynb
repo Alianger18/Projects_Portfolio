{
 "cells": [
  {
   "cell_type": "markdown",
   "id": "42b3ea7b9ef4c8b2",
   "metadata": {},
   "source": [
    "# <center> Enhancing the quality of data <center/>\n",
    "<center> DLBDSDQDW01 - Data Wrangling and Data Quality <center/>\n",
    "<center> IU International University of Applied Sciences <center/>"
   ]
  },
  {
   "cell_type": "markdown",
   "id": "e87ab10ecbab2d7a",
   "metadata": {},
   "source": [
    "# Greetings\n",
    "In this project, we tackle the challenges associated with analyzing real-world and messy datasets. Recognizing the inherent difficulties in seamlessly transitioning from hypothesis formulation to data analysis, this work emphasizes the importance of data cleaning, reshaping, and tidying as foundational steps in the analytical process. By applying Data Wrangling techniques and Quality methods, we aim to uncover patterns and insights, despite the noisy and incomplete nature of the data. This analysis not only highlights the relationships and trends within the dataset but also demonstrates the ability to effectively manage and interpret unstructured data, ultimately supporting informed decision-making. This projet will be based on this quantitative analysis of [data](https://www.kaggle.com/datasets/osmi/mental-health-in-tech-2016/) resulting from anonymous surveys from people working in IT-related companies around the world."
   ]
  },
  {
   "metadata": {},
   "cell_type": "markdown",
   "source": [
    "### List of contents :\n",
    "1. _Introduction_\n",
    "2. _Exploratory the Data_\n",
    "3. _Data Cleaning_\n",
    "4. _Summary_"
   ],
   "id": "4d0573f44a5169e6"
  },
  {
   "cell_type": "markdown",
   "id": "46a80051b3161db8",
   "metadata": {},
   "source": [
    "Importing the required libraries"
   ]
  },
  {
   "cell_type": "code",
   "id": "8de084a7d7a9cd72",
   "metadata": {
    "ExecuteTime": {
     "end_time": "2024-12-26T14:19:03.066941Z",
     "start_time": "2024-12-26T14:19:01.587200Z"
    }
   },
   "source": [
    "# Importing the required libraries\n",
    "import matplotlib.pyplot as plt\n",
    "from pathlib import Path\n",
    "import seaborn as sns\n",
    "import pandas as pd\n",
    "import numpy as np\n",
    "import kagglehub\n",
    "import textwrap\n",
    "import warnings\n",
    "import shutil\n",
    "\n",
    "# Ignoring irrelevant warnings\n",
    "warnings.filterwarnings('ignore')"
   ],
   "outputs": [],
   "execution_count": 1
  },
  {
   "cell_type": "markdown",
   "id": "78e0dc95f855873b",
   "metadata": {},
   "source": [
    "## 1. Introduction\n",
    "First, let's start by loading the data."
   ]
  },
  {
   "metadata": {
    "ExecuteTime": {
     "end_time": "2024-12-26T14:19:30.129539Z",
     "start_time": "2024-12-26T14:19:30.019990Z"
    }
   },
   "cell_type": "code",
   "source": [
    "# Formulating the current working directory\n",
    "path = Path.cwd().parent\n",
    "\n",
    "### The following 2 lines of code are for one-time execution only,\n",
    "### rewriting the data each time you run the cell may be disturbing.\n",
    "\n",
    "# Download latest version\n",
    "path_to_dataset = kagglehub.dataset_download(\"osmi/mental-health-in-tech-2016\")\n",
    "\n",
    "# Move the file or directory\n",
    "shutil.move(f\"{path_to_dataset}/mental-heath-in-tech-2016_20161114.csv\", f\"{path}/data\")\n",
    "\n",
    "# Loading the data\n",
    "df = pd.read_csv(f'{path}/data/mental-heath-in-tech-2016_20161114.csv')\n",
    "\n",
    "# Printing the first rows\n",
    "df.head()"
   ],
   "id": "f4861a2c077b9a3d",
   "outputs": [
    {
     "data": {
      "text/plain": [
       "   Are you self-employed?  \\\n",
       "0                       0   \n",
       "1                       0   \n",
       "2                       0   \n",
       "3                       1   \n",
       "4                       0   \n",
       "\n",
       "  How many employees does your company or organization have?  \\\n",
       "0                                             26-100           \n",
       "1                                               6-25           \n",
       "2                                               6-25           \n",
       "3                                                NaN           \n",
       "4                                               6-25           \n",
       "\n",
       "   Is your employer primarily a tech company/organization?  \\\n",
       "0                                                1.0         \n",
       "1                                                1.0         \n",
       "2                                                1.0         \n",
       "3                                                NaN         \n",
       "4                                                0.0         \n",
       "\n",
       "   Is your primary role within your company related to tech/IT?  \\\n",
       "0                                                NaN              \n",
       "1                                                NaN              \n",
       "2                                                NaN              \n",
       "3                                                NaN              \n",
       "4                                                1.0              \n",
       "\n",
       "  Does your employer provide mental health benefits as part of healthcare coverage?  \\\n",
       "0                    Not eligible for coverage / N/A                                  \n",
       "1                                                 No                                  \n",
       "2                                                 No                                  \n",
       "3                                                NaN                                  \n",
       "4                                                Yes                                  \n",
       "\n",
       "  Do you know the options for mental health care available under your employer-provided coverage?  \\\n",
       "0                                                NaN                                                \n",
       "1                                                Yes                                                \n",
       "2                                                NaN                                                \n",
       "3                                                NaN                                                \n",
       "4                                                Yes                                                \n",
       "\n",
       "  Has your employer ever formally discussed mental health (for example, as part of a wellness campaign or other official communication)?  \\\n",
       "0                                                 No                                                                                       \n",
       "1                                                Yes                                                                                       \n",
       "2                                                 No                                                                                       \n",
       "3                                                NaN                                                                                       \n",
       "4                                                 No                                                                                       \n",
       "\n",
       "  Does your employer offer resources to learn more about mental health concerns and options for seeking help?  \\\n",
       "0                                                 No                                                            \n",
       "1                                                Yes                                                            \n",
       "2                                                 No                                                            \n",
       "3                                                NaN                                                            \n",
       "4                                                 No                                                            \n",
       "\n",
       "  Is your anonymity protected if you choose to take advantage of mental health or substance abuse treatment resources provided by your employer?  \\\n",
       "0                                       I don't know                                                                                               \n",
       "1                                                Yes                                                                                               \n",
       "2                                       I don't know                                                                                               \n",
       "3                                                NaN                                                                                               \n",
       "4                                                 No                                                                                               \n",
       "\n",
       "  If a mental health issue prompted you to request a medical leave from work, asking for that leave would be:  \\\n",
       "0                                          Very easy                                                            \n",
       "1                                      Somewhat easy                                                            \n",
       "2                         Neither easy nor difficult                                                            \n",
       "3                                                NaN                                                            \n",
       "4                         Neither easy nor difficult                                                            \n",
       "\n",
       "   ...  \\\n",
       "0  ...   \n",
       "1  ...   \n",
       "2  ...   \n",
       "3  ...   \n",
       "4  ...   \n",
       "\n",
       "  If you have a mental health issue, do you feel that it interferes with your work when being treated effectively?  \\\n",
       "0                               Not applicable to me                                                                 \n",
       "1                                             Rarely                                                                 \n",
       "2                               Not applicable to me                                                                 \n",
       "3                                          Sometimes                                                                 \n",
       "4                                          Sometimes                                                                 \n",
       "\n",
       "  If you have a mental health issue, do you feel that it interferes with your work when NOT being treated effectively?  \\\n",
       "0                               Not applicable to me                                                                     \n",
       "1                                          Sometimes                                                                     \n",
       "2                               Not applicable to me                                                                     \n",
       "3                                          Sometimes                                                                     \n",
       "4                                          Sometimes                                                                     \n",
       "\n",
       "  What is your age? What is your gender? What country do you live in?  \\\n",
       "0                39                 Male               United Kingdom   \n",
       "1                29                 male     United States of America   \n",
       "2                38                Male                United Kingdom   \n",
       "3                43                 male               United Kingdom   \n",
       "4                43               Female     United States of America   \n",
       "\n",
       "  What US state or territory do you live in?  What country do you work in?  \\\n",
       "0                                        NaN                United Kingdom   \n",
       "1                                   Illinois      United States of America   \n",
       "2                                        NaN                United Kingdom   \n",
       "3                                        NaN                United Kingdom   \n",
       "4                                   Illinois      United States of America   \n",
       "\n",
       "  What US state or territory do you work in?  \\\n",
       "0                                        NaN   \n",
       "1                                   Illinois   \n",
       "2                                        NaN   \n",
       "3                                        NaN   \n",
       "4                                   Illinois   \n",
       "\n",
       "  Which of the following best describes your work position?  \\\n",
       "0                                 Back-end Developer          \n",
       "1             Back-end Developer|Front-end Developer          \n",
       "2                                 Back-end Developer          \n",
       "3                               Supervisor/Team Lead          \n",
       "4  Executive Leadership|Supervisor/Team Lead|Dev ...          \n",
       "\n",
       "  Do you work remotely?  \n",
       "0             Sometimes  \n",
       "1                 Never  \n",
       "2                Always  \n",
       "3             Sometimes  \n",
       "4             Sometimes  \n",
       "\n",
       "[5 rows x 63 columns]"
      ],
      "text/html": [
       "<div>\n",
       "<style scoped>\n",
       "    .dataframe tbody tr th:only-of-type {\n",
       "        vertical-align: middle;\n",
       "    }\n",
       "\n",
       "    .dataframe tbody tr th {\n",
       "        vertical-align: top;\n",
       "    }\n",
       "\n",
       "    .dataframe thead th {\n",
       "        text-align: right;\n",
       "    }\n",
       "</style>\n",
       "<table border=\"1\" class=\"dataframe\">\n",
       "  <thead>\n",
       "    <tr style=\"text-align: right;\">\n",
       "      <th></th>\n",
       "      <th>Are you self-employed?</th>\n",
       "      <th>How many employees does your company or organization have?</th>\n",
       "      <th>Is your employer primarily a tech company/organization?</th>\n",
       "      <th>Is your primary role within your company related to tech/IT?</th>\n",
       "      <th>Does your employer provide mental health benefits as part of healthcare coverage?</th>\n",
       "      <th>Do you know the options for mental health care available under your employer-provided coverage?</th>\n",
       "      <th>Has your employer ever formally discussed mental health (for example, as part of a wellness campaign or other official communication)?</th>\n",
       "      <th>Does your employer offer resources to learn more about mental health concerns and options for seeking help?</th>\n",
       "      <th>Is your anonymity protected if you choose to take advantage of mental health or substance abuse treatment resources provided by your employer?</th>\n",
       "      <th>If a mental health issue prompted you to request a medical leave from work, asking for that leave would be:</th>\n",
       "      <th>...</th>\n",
       "      <th>If you have a mental health issue, do you feel that it interferes with your work when being treated effectively?</th>\n",
       "      <th>If you have a mental health issue, do you feel that it interferes with your work when NOT being treated effectively?</th>\n",
       "      <th>What is your age?</th>\n",
       "      <th>What is your gender?</th>\n",
       "      <th>What country do you live in?</th>\n",
       "      <th>What US state or territory do you live in?</th>\n",
       "      <th>What country do you work in?</th>\n",
       "      <th>What US state or territory do you work in?</th>\n",
       "      <th>Which of the following best describes your work position?</th>\n",
       "      <th>Do you work remotely?</th>\n",
       "    </tr>\n",
       "  </thead>\n",
       "  <tbody>\n",
       "    <tr>\n",
       "      <th>0</th>\n",
       "      <td>0</td>\n",
       "      <td>26-100</td>\n",
       "      <td>1.0</td>\n",
       "      <td>NaN</td>\n",
       "      <td>Not eligible for coverage / N/A</td>\n",
       "      <td>NaN</td>\n",
       "      <td>No</td>\n",
       "      <td>No</td>\n",
       "      <td>I don't know</td>\n",
       "      <td>Very easy</td>\n",
       "      <td>...</td>\n",
       "      <td>Not applicable to me</td>\n",
       "      <td>Not applicable to me</td>\n",
       "      <td>39</td>\n",
       "      <td>Male</td>\n",
       "      <td>United Kingdom</td>\n",
       "      <td>NaN</td>\n",
       "      <td>United Kingdom</td>\n",
       "      <td>NaN</td>\n",
       "      <td>Back-end Developer</td>\n",
       "      <td>Sometimes</td>\n",
       "    </tr>\n",
       "    <tr>\n",
       "      <th>1</th>\n",
       "      <td>0</td>\n",
       "      <td>6-25</td>\n",
       "      <td>1.0</td>\n",
       "      <td>NaN</td>\n",
       "      <td>No</td>\n",
       "      <td>Yes</td>\n",
       "      <td>Yes</td>\n",
       "      <td>Yes</td>\n",
       "      <td>Yes</td>\n",
       "      <td>Somewhat easy</td>\n",
       "      <td>...</td>\n",
       "      <td>Rarely</td>\n",
       "      <td>Sometimes</td>\n",
       "      <td>29</td>\n",
       "      <td>male</td>\n",
       "      <td>United States of America</td>\n",
       "      <td>Illinois</td>\n",
       "      <td>United States of America</td>\n",
       "      <td>Illinois</td>\n",
       "      <td>Back-end Developer|Front-end Developer</td>\n",
       "      <td>Never</td>\n",
       "    </tr>\n",
       "    <tr>\n",
       "      <th>2</th>\n",
       "      <td>0</td>\n",
       "      <td>6-25</td>\n",
       "      <td>1.0</td>\n",
       "      <td>NaN</td>\n",
       "      <td>No</td>\n",
       "      <td>NaN</td>\n",
       "      <td>No</td>\n",
       "      <td>No</td>\n",
       "      <td>I don't know</td>\n",
       "      <td>Neither easy nor difficult</td>\n",
       "      <td>...</td>\n",
       "      <td>Not applicable to me</td>\n",
       "      <td>Not applicable to me</td>\n",
       "      <td>38</td>\n",
       "      <td>Male</td>\n",
       "      <td>United Kingdom</td>\n",
       "      <td>NaN</td>\n",
       "      <td>United Kingdom</td>\n",
       "      <td>NaN</td>\n",
       "      <td>Back-end Developer</td>\n",
       "      <td>Always</td>\n",
       "    </tr>\n",
       "    <tr>\n",
       "      <th>3</th>\n",
       "      <td>1</td>\n",
       "      <td>NaN</td>\n",
       "      <td>NaN</td>\n",
       "      <td>NaN</td>\n",
       "      <td>NaN</td>\n",
       "      <td>NaN</td>\n",
       "      <td>NaN</td>\n",
       "      <td>NaN</td>\n",
       "      <td>NaN</td>\n",
       "      <td>NaN</td>\n",
       "      <td>...</td>\n",
       "      <td>Sometimes</td>\n",
       "      <td>Sometimes</td>\n",
       "      <td>43</td>\n",
       "      <td>male</td>\n",
       "      <td>United Kingdom</td>\n",
       "      <td>NaN</td>\n",
       "      <td>United Kingdom</td>\n",
       "      <td>NaN</td>\n",
       "      <td>Supervisor/Team Lead</td>\n",
       "      <td>Sometimes</td>\n",
       "    </tr>\n",
       "    <tr>\n",
       "      <th>4</th>\n",
       "      <td>0</td>\n",
       "      <td>6-25</td>\n",
       "      <td>0.0</td>\n",
       "      <td>1.0</td>\n",
       "      <td>Yes</td>\n",
       "      <td>Yes</td>\n",
       "      <td>No</td>\n",
       "      <td>No</td>\n",
       "      <td>No</td>\n",
       "      <td>Neither easy nor difficult</td>\n",
       "      <td>...</td>\n",
       "      <td>Sometimes</td>\n",
       "      <td>Sometimes</td>\n",
       "      <td>43</td>\n",
       "      <td>Female</td>\n",
       "      <td>United States of America</td>\n",
       "      <td>Illinois</td>\n",
       "      <td>United States of America</td>\n",
       "      <td>Illinois</td>\n",
       "      <td>Executive Leadership|Supervisor/Team Lead|Dev ...</td>\n",
       "      <td>Sometimes</td>\n",
       "    </tr>\n",
       "  </tbody>\n",
       "</table>\n",
       "<p>5 rows × 63 columns</p>\n",
       "</div>"
      ]
     },
     "execution_count": 2,
     "metadata": {},
     "output_type": "execute_result"
    }
   ],
   "execution_count": 2
  },
  {
   "cell_type": "code",
   "id": "1c122ca78f957db3",
   "metadata": {
    "ExecuteTime": {
     "end_time": "2024-12-26T14:19:54.085591Z",
     "start_time": "2024-12-26T14:19:54.079948Z"
    }
   },
   "source": [
    "# Printing the shape of our data\n",
    "print(f\"The data is formed through {df.shape[1]} columns/features and {df.shape[0]} rows/records.\")"
   ],
   "outputs": [
    {
     "name": "stdout",
     "output_type": "stream",
     "text": [
      "The data is formed through 63 columns/features and 1433 rows/records.\n"
     ]
    }
   ],
   "execution_count": 3
  },
  {
   "metadata": {},
   "cell_type": "markdown",
   "source": "## 2. Exploratory Data Analysis",
   "id": "559cfbe0e8dd1469"
  },
  {
   "metadata": {},
   "cell_type": "markdown",
   "source": [
    "As we seek further investigations, we might use the __\".info()\"__ method, but we want to need to explore unique values within each column as this information will help us later on.\n",
    "We'll define a new function to provide us with the infromations we need to know on the dataset."
   ],
   "id": "bf2d3ba48471ddde"
  },
  {
   "metadata": {
    "ExecuteTime": {
     "end_time": "2024-12-26T14:20:07.524878Z",
     "start_time": "2024-12-26T14:20:07.512965Z"
    }
   },
   "cell_type": "code",
   "source": [
    "# Creating a user-defined function : Discover_df\n",
    "def discover_df(dataframe : pd.DataFrame, only_na=False, only_binary=False) -> pd.DataFrame:\n",
    "    \"\"\"\n",
    "\n",
    "    Construct a dataframe with custom features based on an existing dataframe.\n",
    "\n",
    "    Parameter:\n",
    "    dataframe: any pandas dataframe\n",
    "    only_na: (optional) Set to false by default, if True, returns only the columns containing missing values.\n",
    "    only_binary (optional) Set to false by default, if True, return only the columns containing binary values.\n",
    "\n",
    "    Returns:\n",
    "    datafram: a pandas dataframe with detailed report on the dataset including missing values, unique values, and data types.\n",
    "    \"\"\"\n",
    "    # Initiating an empty list data_info\n",
    "    data_info = []\n",
    "\n",
    "    # Looping over the dataset\n",
    "    for index, column in enumerate(dataframe.columns):\n",
    "\n",
    "        # Collecting the necessary information\n",
    "        info = {\n",
    "            # The name of the column\n",
    "            'name': column,\n",
    "\n",
    "            # The number of empty values in a column\n",
    "            'empty_values': df[column].isna().sum(),\n",
    "\n",
    "            # The number of unique values\n",
    "            'unique_values_count': [df[column].unique().__len__() - 1 if df[column].isna().sum() != 0 else df[column].unique().__len__()][0],\n",
    "\n",
    "            # The list of unique values\n",
    "            'unique_values_list': [element for element in df[column].unique() if element is not np.nan and element != \"nan\" ],\n",
    "\n",
    "            # The data type of column\n",
    "            'data_type': df[column].dtypes\n",
    "        }\n",
    "\n",
    "        # Appending the values in the pre-defined dictionary\n",
    "        data_info.append(info)\n",
    "\n",
    "    # Create a DataFrame from the gathered information\n",
    "    discovered_df = pd.DataFrame(data_info).sort_values(by=\"empty_values\", ascending=False)\n",
    "\n",
    "    # Return the output\n",
    "    if only_na:\n",
    "        discovered_df = discovered_df[discovered_df['empty_values'] != 0]\n",
    "        return discovered_df\n",
    "    elif only_binary:\n",
    "        discovered_df = discovered_df[discovered_df['unique_values_count'] == 2]\n",
    "        return discovered_df\n",
    "    else:\n",
    "        return discovered_df"
   ],
   "id": "87cca7c649844334",
   "outputs": [],
   "execution_count": 4
  },
  {
   "metadata": {
    "ExecuteTime": {
     "end_time": "2024-12-26T14:20:10.927233Z",
     "start_time": "2024-12-26T14:20:10.871928Z"
    }
   },
   "cell_type": "code",
   "source": [
    "# Apply the function to our data\n",
    "discovered = discover_df(df)\n",
    "\n",
    "# Print the dataframe\n",
    "discovered"
   ],
   "id": "998b1db326936e2f",
   "outputs": [
    {
     "data": {
      "text/plain": [
       "                                                 name  empty_values  \\\n",
       "19  If you have revealed a mental health issue to ...          1289   \n",
       "23  If yes, what percentage of your work time (tim...          1229   \n",
       "3   Is your primary role within your company relat...          1170   \n",
       "16  Do you have medical coverage (private insuranc...          1146   \n",
       "18  If you have been diagnosed or treated for a me...          1146   \n",
       "..                                                ...           ...   \n",
       "55                                  What is your age?             0   \n",
       "57                       What country do you live in?             0   \n",
       "59                       What country do you work in?             0   \n",
       "61  Which of the following best describes your wor...             0   \n",
       "62                              Do you work remotely?             0   \n",
       "\n",
       "    unique_values_count                                 unique_values_list  \\\n",
       "19                    3                            [I'm not sure, Yes, No]   \n",
       "23                    4                   [1-25%, 76-100%, 26-50%, 51-75%]   \n",
       "3                     2                                    [nan, 1.0, 0.0]   \n",
       "16                    2                                    [nan, 1.0, 0.0]   \n",
       "18                    5  [Sometimes, if it comes up, No, because it doe...   \n",
       "..                  ...                                                ...   \n",
       "55                   53  [39, 29, 38, 43, 42, 30, 37, 44, 28, 34, 35, 5...   \n",
       "57                   53  [United Kingdom, United States of America, Can...   \n",
       "59                   53  [United Kingdom, United States of America, Can...   \n",
       "61                  264  [Back-end Developer, Back-end Developer|Front-...   \n",
       "62                    3                         [Sometimes, Never, Always]   \n",
       "\n",
       "   data_type  \n",
       "19    object  \n",
       "23    object  \n",
       "3    float64  \n",
       "16   float64  \n",
       "18    object  \n",
       "..       ...  \n",
       "55     int64  \n",
       "57    object  \n",
       "59    object  \n",
       "61    object  \n",
       "62    object  \n",
       "\n",
       "[63 rows x 5 columns]"
      ],
      "text/html": [
       "<div>\n",
       "<style scoped>\n",
       "    .dataframe tbody tr th:only-of-type {\n",
       "        vertical-align: middle;\n",
       "    }\n",
       "\n",
       "    .dataframe tbody tr th {\n",
       "        vertical-align: top;\n",
       "    }\n",
       "\n",
       "    .dataframe thead th {\n",
       "        text-align: right;\n",
       "    }\n",
       "</style>\n",
       "<table border=\"1\" class=\"dataframe\">\n",
       "  <thead>\n",
       "    <tr style=\"text-align: right;\">\n",
       "      <th></th>\n",
       "      <th>name</th>\n",
       "      <th>empty_values</th>\n",
       "      <th>unique_values_count</th>\n",
       "      <th>unique_values_list</th>\n",
       "      <th>data_type</th>\n",
       "    </tr>\n",
       "  </thead>\n",
       "  <tbody>\n",
       "    <tr>\n",
       "      <th>19</th>\n",
       "      <td>If you have revealed a mental health issue to ...</td>\n",
       "      <td>1289</td>\n",
       "      <td>3</td>\n",
       "      <td>[I'm not sure, Yes, No]</td>\n",
       "      <td>object</td>\n",
       "    </tr>\n",
       "    <tr>\n",
       "      <th>23</th>\n",
       "      <td>If yes, what percentage of your work time (tim...</td>\n",
       "      <td>1229</td>\n",
       "      <td>4</td>\n",
       "      <td>[1-25%, 76-100%, 26-50%, 51-75%]</td>\n",
       "      <td>object</td>\n",
       "    </tr>\n",
       "    <tr>\n",
       "      <th>3</th>\n",
       "      <td>Is your primary role within your company relat...</td>\n",
       "      <td>1170</td>\n",
       "      <td>2</td>\n",
       "      <td>[nan, 1.0, 0.0]</td>\n",
       "      <td>float64</td>\n",
       "    </tr>\n",
       "    <tr>\n",
       "      <th>16</th>\n",
       "      <td>Do you have medical coverage (private insuranc...</td>\n",
       "      <td>1146</td>\n",
       "      <td>2</td>\n",
       "      <td>[nan, 1.0, 0.0]</td>\n",
       "      <td>float64</td>\n",
       "    </tr>\n",
       "    <tr>\n",
       "      <th>18</th>\n",
       "      <td>If you have been diagnosed or treated for a me...</td>\n",
       "      <td>1146</td>\n",
       "      <td>5</td>\n",
       "      <td>[Sometimes, if it comes up, No, because it doe...</td>\n",
       "      <td>object</td>\n",
       "    </tr>\n",
       "    <tr>\n",
       "      <th>...</th>\n",
       "      <td>...</td>\n",
       "      <td>...</td>\n",
       "      <td>...</td>\n",
       "      <td>...</td>\n",
       "      <td>...</td>\n",
       "    </tr>\n",
       "    <tr>\n",
       "      <th>55</th>\n",
       "      <td>What is your age?</td>\n",
       "      <td>0</td>\n",
       "      <td>53</td>\n",
       "      <td>[39, 29, 38, 43, 42, 30, 37, 44, 28, 34, 35, 5...</td>\n",
       "      <td>int64</td>\n",
       "    </tr>\n",
       "    <tr>\n",
       "      <th>57</th>\n",
       "      <td>What country do you live in?</td>\n",
       "      <td>0</td>\n",
       "      <td>53</td>\n",
       "      <td>[United Kingdom, United States of America, Can...</td>\n",
       "      <td>object</td>\n",
       "    </tr>\n",
       "    <tr>\n",
       "      <th>59</th>\n",
       "      <td>What country do you work in?</td>\n",
       "      <td>0</td>\n",
       "      <td>53</td>\n",
       "      <td>[United Kingdom, United States of America, Can...</td>\n",
       "      <td>object</td>\n",
       "    </tr>\n",
       "    <tr>\n",
       "      <th>61</th>\n",
       "      <td>Which of the following best describes your wor...</td>\n",
       "      <td>0</td>\n",
       "      <td>264</td>\n",
       "      <td>[Back-end Developer, Back-end Developer|Front-...</td>\n",
       "      <td>object</td>\n",
       "    </tr>\n",
       "    <tr>\n",
       "      <th>62</th>\n",
       "      <td>Do you work remotely?</td>\n",
       "      <td>0</td>\n",
       "      <td>3</td>\n",
       "      <td>[Sometimes, Never, Always]</td>\n",
       "      <td>object</td>\n",
       "    </tr>\n",
       "  </tbody>\n",
       "</table>\n",
       "<p>63 rows × 5 columns</p>\n",
       "</div>"
      ]
     },
     "execution_count": 5,
     "metadata": {},
     "output_type": "execute_result"
    }
   ],
   "execution_count": 5
  },
  {
   "metadata": {},
   "cell_type": "markdown",
   "source": [
    "__Insights :__\n",
    "- Out of a total of 63 columns, 7 columns contain numerical data while 15 columns contain more than 500 missing entries.\n",
    "- Unusual entries within columns such as _age_ and _gender_ were identified.\n",
    "- Large numbers of unique values necessitate grouping into smaller categories.\n",
    "- Long columns names in the form of questions can benefit from a transformation into short columns names."
   ],
   "id": "de18392448f12715"
  },
  {
   "metadata": {},
   "cell_type": "markdown",
   "source": "## 3. Data Preprocessing\n",
   "id": "1f9a4722b8d2824b"
  },
  {
   "metadata": {},
   "cell_type": "markdown",
   "source": "We'll start by renaming the columns into short names instead of large questions.",
   "id": "b0be16a9c6a9ec7a"
  },
  {
   "metadata": {
    "collapsed": false,
    "ExecuteTime": {
     "end_time": "2024-12-26T14:20:19.146152Z",
     "start_time": "2024-12-26T14:20:19.115592Z"
    }
   },
   "cell_type": "code",
   "source": [
    "# Here are the new names of the columns\n",
    "new_columns_names = [\n",
    "    # Are you self-employed?\n",
    "    'is_self_employed',\n",
    "    # How many employees does your company or organization have?\n",
    "    'organization_size',\n",
    "    # Is your employer primarily a tech company/organization?\n",
    "    'is_tech_company',\n",
    "    # Is your primary role within your company related to tech/IT?\n",
    "    'is_tech_role',\n",
    "    # Does your employer provide mental health benefits as part of healthcare coverage?\n",
    "    'is_mh_benefits_provided',\n",
    "    # Do you know the options for mental health care available under your employer-provided coverage?\n",
    "    'is_aware_mh_care_available',\n",
    "    # Has your employer ever formally discussed mental health (for example, as part of a wellness campaign or other official communication)?\n",
    "    'is_mh_discussed_by_employer',\n",
    "    # Does your employer offer resources to learn more about mental health concerns and options for seeking help?\n",
    "    'is_mh_resources_provided_by_employer',\n",
    "    # Is your anonymity protected if you choose to take advantage of mental health or substance abuse treatment resources provided by your employer?\n",
    "    'is_anonymity_protected',\n",
    "    # If a mental health issue prompted you to request a medical leave from work, asking for that leave would be\n",
    "    'how_is_asking_for_medical_leave_due_to_mhi',\n",
    "    # Do you think that discussing a mental health disorder with your employer would have negative consequences?\n",
    "    'is_discussing_mhd_with_employer_have_negative_consequences',\n",
    "    # Do you think that discussing a physical health disorder with your employer would have negative consequences?\n",
    "    'is_discussing_phd_with_employer_have_negative_consequences',\n",
    "    # Would you feel comfortable discussing a mental health disorder with your coworkers?\n",
    "    'is_willing_to_discuss_mhi_with_colleagues',\n",
    "    # Would you feel comfortable discussing a mental health disorder with your direct supervisor(s)?\n",
    "    'is_willing_to_discuss_mhi_with_direct_supervisor',\n",
    "    # Do you feel that your employer takes mental health as seriously as physical health?\n",
    "    'is_employer_takes_mh_seriously',\n",
    "    # Have you heard of or observed negative consequences for co-workers who have been open about mental health issues in your workplace?\n",
    "    'is_aware_of_previous_negative_consequence_of_colleagues_with_mhi',\n",
    "    # Do you have medical coverage (private insurance or state-provided) which includes treatment of mental health issues?\n",
    "    'have_medical_coverage_includes_mental_health_issue',\n",
    "    # Do you know local or online resources to seek help for a mental health disorder?\n",
    "    'know_how_to_seek_help',\n",
    "    # If you have been diagnosed or treated for a mental health disorder, do you ever reveal this to clients or business contacts?\n",
    "    'is_willing_to_reveal_previous_mental_health_issue_to_business_contacts',\n",
    "    # If you have revealed a mental health issue to a client or business contact, do you believe this has impacted you negatively?\n",
    "    'is_impacted_negatively_1',\n",
    "    # If you have been diagnosed or treated for a mental health disorder, do you ever reveal this to coworkers or employees?\n",
    "    'is_able_to_reveal_previous_mental_health_issue_to_coworkers',\n",
    "    # If you have revealed a mental health issue to a coworker or employee, do you believe this has impacted you negatively?\n",
    "    'is_impacted_negatively_2',\n",
    "    # Do you believe your productivity is ever affected by a mental health issue?\n",
    "    'is_productivity_impacted',\n",
    "    # If yes, what percentage of your work time (time performing primary or secondary job functions) is affected by a mental health issue?\n",
    "    'percentage_impacted',\n",
    "    # Do you have previous employers?\n",
    "    'is_previously_employed',\n",
    "    # Have your previous employers provided mental health benefits?\n",
    "    'is_previous_employer_provides_mh_benefits',\n",
    "    # Were you aware of the options for mental health care provided by your previous employers?\n",
    "    'is_aware_mh_options_by_previous_employer',\n",
    "    # Did your previous employers ever formally discuss mental health (as part of a wellness campaign or other official communication)?\n",
    "    'is_mh_discussed_by_previous_employer',\n",
    "    # Did your previous employers provide resources to learn more about mental health issues and how to seek help?\n",
    "    'is_mh_resources_provided_by_previous_employer',\n",
    "    # Was your anonymity protected if you chose to take advantage of mental health or substance abuse treatment resources with previous employers?\n",
    "    'is_anonymity_protected_by_previous_employer',\n",
    "    # Do you think that discussing a mental health disorder with previous employers would have negative consequences?\n",
    "    'is_discussing_mhd_with_previous_employer_have_negative_consequences',\n",
    "    # Do you think that discussing a physical health disorder with previous employers would have negative consequences?\n",
    "    'is_discussing_phd_with_previous_employer_have_negative_consequences',\n",
    "    # Would you have been willing to discuss a mental health issue with your previous co-workers?\n",
    "    'is_willing_to_discuss_mhi_with_previous_colleagues',\n",
    "    # Would you have been willing to discuss a mental health issue with your direct supervisor(s)?\n",
    "    'is_willing_to_discuss_mhi_with_previous_direct_supervisor',\n",
    "    # Did you feel that your previous employers took mental health as seriously as physical health?\n",
    "    'is_previous_employer_takes_mh_seriously',\n",
    "    # Did you hear of or observe negative consequences for co-workers with mental health issues in your previous workplaces?\n",
    "    'is_aware_of_previous_negative_consequence_of_colleagues_with_mhi_in_previous_workplace',\n",
    "    # Would you be willing to bring up a physical health issue with a potential employer in an interview?\n",
    "    'is_willing_to_bring_phi_in_interview',\n",
    "    # Why or why not?\n",
    "    'why_or_why_not_bring_phi_in_interview',\n",
    "    # Would you bring up a mental health issue with a potential employer in an interview?\n",
    "    'is_willing_to_bring_mhi_in_interview',\n",
    "    # Why or why not?\n",
    "    'why_or_why_not_bring_mhi_in_interview',\n",
    "    # Do you feel that being identified as a person with a mental health issue would hurt your career?\n",
    "    'is_being_identified_with_mhi_would_hurt_your_career',\n",
    "    # Do you think that team members/co-workers would view you more negatively if they knew you suffered from a mental health issue?\n",
    "    'is_being_identified_with_mhi_would_lower_your_status_among_colleagues',\n",
    "    # How willing would you be to share with friends and family that you have a mental illness?\n",
    "    'is_wiling_to_share_about_mhi',\n",
    "    # Have you observed or experienced an unsupported or badly handled response to a mental health issue in your current or previous workplace?\n",
    "    'previously_observed_experienced_response_to_mhi',\n",
    "    # Have your observations of how another individual who discussed a mental health disorder made you less likely to reveal a mental health issue yourself in your current workplace?\n",
    "    'is_less_encouraged_to_reveal_mhi',\n",
    "    # Do you have a family history of mental illness?\n",
    "    'family_history_of_mhi',\n",
    "    # Have you had a mental health disorder in the past?\n",
    "    'previous_history_of_mhi',\n",
    "    # Do you currently have a mental health disorder?\n",
    "    'is_having_mhd',\n",
    "    # If yes, what condition(s) have you been diagnosed with?\n",
    "    'known_conditions',\n",
    "    # If maybe, what condition(s) do you believe you have?\n",
    "    'suspected_conditions',\n",
    "    # Have you been diagnosed with a mental health condition by a medical professional?\n",
    "    'diagnosed_by_professional',\n",
    "    # If so, what condition(s) were you diagnosed with?\n",
    "    'diagnosed_conditions_by_professional',\n",
    "    # Have you ever sought treatment for a mental health issue from a mental health professional?\n",
    "    'is_sought_treatment_for_mhi',\n",
    "    # If you have a mental health issue, do you feel that it interferes with your work when being treated effectively?\n",
    "    'is_mhi_interferes_with_your_work_when_treated_effectively',\n",
    "    # If you have a mental health issue, do you feel that it interferes with your work when NOT being treated effectively?\n",
    "    'is_mhi_does_not_interfere_with_your_work_when_treated_effectively',\n",
    "    # What is your age?\n",
    "    'age',\n",
    "    # What is your gender?\n",
    "    'gender',\n",
    "    # What country do you live in?'\n",
    "    'country_of_residency',\n",
    "    # What US state or territory do you live in?\n",
    "    'us_state_residency',\n",
    "    # What country do you work in?\n",
    "    'country_of_work',\n",
    "    # What US state or territory do you work in?\n",
    "    'us_state_work',\n",
    "    # Which of the following best describes your work position?\n",
    "    'role_description',\n",
    "    # Do you work remotely?\n",
    "    'is_remote'\n",
    "]\n",
    "\n",
    "# Setting the columns names in df\n",
    "df.columns = new_columns_names\n",
    "\n",
    "# Preview the data\n",
    "df.head()"
   ],
   "id": "50a52ef85ba918f7",
   "outputs": [
    {
     "data": {
      "text/plain": [
       "   is_self_employed organization_size  is_tech_company  is_tech_role  \\\n",
       "0                 0            26-100              1.0           NaN   \n",
       "1                 0              6-25              1.0           NaN   \n",
       "2                 0              6-25              1.0           NaN   \n",
       "3                 1               NaN              NaN           NaN   \n",
       "4                 0              6-25              0.0           1.0   \n",
       "\n",
       "           is_mh_benefits_provided is_aware_mh_care_available  \\\n",
       "0  Not eligible for coverage / N/A                        NaN   \n",
       "1                               No                        Yes   \n",
       "2                               No                        NaN   \n",
       "3                              NaN                        NaN   \n",
       "4                              Yes                        Yes   \n",
       "\n",
       "  is_mh_discussed_by_employer is_mh_resources_provided_by_employer  \\\n",
       "0                          No                                   No   \n",
       "1                         Yes                                  Yes   \n",
       "2                          No                                   No   \n",
       "3                         NaN                                  NaN   \n",
       "4                          No                                   No   \n",
       "\n",
       "  is_anonymity_protected how_is_asking_for_medical_leave_due_to_mhi  ...  \\\n",
       "0           I don't know                                  Very easy  ...   \n",
       "1                    Yes                              Somewhat easy  ...   \n",
       "2           I don't know                 Neither easy nor difficult  ...   \n",
       "3                    NaN                                        NaN  ...   \n",
       "4                     No                 Neither easy nor difficult  ...   \n",
       "\n",
       "  is_mhi_interferes_with_your_work_when_treated_effectively  \\\n",
       "0                               Not applicable to me          \n",
       "1                                             Rarely          \n",
       "2                               Not applicable to me          \n",
       "3                                          Sometimes          \n",
       "4                                          Sometimes          \n",
       "\n",
       "  is_mhi_does_not_interfere_with_your_work_when_treated_effectively age  \\\n",
       "0                               Not applicable to me                 39   \n",
       "1                                          Sometimes                 29   \n",
       "2                               Not applicable to me                 38   \n",
       "3                                          Sometimes                 43   \n",
       "4                                          Sometimes                 43   \n",
       "\n",
       "   gender      country_of_residency us_state_residency  \\\n",
       "0    Male            United Kingdom                NaN   \n",
       "1    male  United States of America           Illinois   \n",
       "2   Male             United Kingdom                NaN   \n",
       "3    male            United Kingdom                NaN   \n",
       "4  Female  United States of America           Illinois   \n",
       "\n",
       "            country_of_work us_state_work  \\\n",
       "0            United Kingdom           NaN   \n",
       "1  United States of America      Illinois   \n",
       "2            United Kingdom           NaN   \n",
       "3            United Kingdom           NaN   \n",
       "4  United States of America      Illinois   \n",
       "\n",
       "                                    role_description  is_remote  \n",
       "0                                 Back-end Developer  Sometimes  \n",
       "1             Back-end Developer|Front-end Developer      Never  \n",
       "2                                 Back-end Developer     Always  \n",
       "3                               Supervisor/Team Lead  Sometimes  \n",
       "4  Executive Leadership|Supervisor/Team Lead|Dev ...  Sometimes  \n",
       "\n",
       "[5 rows x 63 columns]"
      ],
      "text/html": [
       "<div>\n",
       "<style scoped>\n",
       "    .dataframe tbody tr th:only-of-type {\n",
       "        vertical-align: middle;\n",
       "    }\n",
       "\n",
       "    .dataframe tbody tr th {\n",
       "        vertical-align: top;\n",
       "    }\n",
       "\n",
       "    .dataframe thead th {\n",
       "        text-align: right;\n",
       "    }\n",
       "</style>\n",
       "<table border=\"1\" class=\"dataframe\">\n",
       "  <thead>\n",
       "    <tr style=\"text-align: right;\">\n",
       "      <th></th>\n",
       "      <th>is_self_employed</th>\n",
       "      <th>organization_size</th>\n",
       "      <th>is_tech_company</th>\n",
       "      <th>is_tech_role</th>\n",
       "      <th>is_mh_benefits_provided</th>\n",
       "      <th>is_aware_mh_care_available</th>\n",
       "      <th>is_mh_discussed_by_employer</th>\n",
       "      <th>is_mh_resources_provided_by_employer</th>\n",
       "      <th>is_anonymity_protected</th>\n",
       "      <th>how_is_asking_for_medical_leave_due_to_mhi</th>\n",
       "      <th>...</th>\n",
       "      <th>is_mhi_interferes_with_your_work_when_treated_effectively</th>\n",
       "      <th>is_mhi_does_not_interfere_with_your_work_when_treated_effectively</th>\n",
       "      <th>age</th>\n",
       "      <th>gender</th>\n",
       "      <th>country_of_residency</th>\n",
       "      <th>us_state_residency</th>\n",
       "      <th>country_of_work</th>\n",
       "      <th>us_state_work</th>\n",
       "      <th>role_description</th>\n",
       "      <th>is_remote</th>\n",
       "    </tr>\n",
       "  </thead>\n",
       "  <tbody>\n",
       "    <tr>\n",
       "      <th>0</th>\n",
       "      <td>0</td>\n",
       "      <td>26-100</td>\n",
       "      <td>1.0</td>\n",
       "      <td>NaN</td>\n",
       "      <td>Not eligible for coverage / N/A</td>\n",
       "      <td>NaN</td>\n",
       "      <td>No</td>\n",
       "      <td>No</td>\n",
       "      <td>I don't know</td>\n",
       "      <td>Very easy</td>\n",
       "      <td>...</td>\n",
       "      <td>Not applicable to me</td>\n",
       "      <td>Not applicable to me</td>\n",
       "      <td>39</td>\n",
       "      <td>Male</td>\n",
       "      <td>United Kingdom</td>\n",
       "      <td>NaN</td>\n",
       "      <td>United Kingdom</td>\n",
       "      <td>NaN</td>\n",
       "      <td>Back-end Developer</td>\n",
       "      <td>Sometimes</td>\n",
       "    </tr>\n",
       "    <tr>\n",
       "      <th>1</th>\n",
       "      <td>0</td>\n",
       "      <td>6-25</td>\n",
       "      <td>1.0</td>\n",
       "      <td>NaN</td>\n",
       "      <td>No</td>\n",
       "      <td>Yes</td>\n",
       "      <td>Yes</td>\n",
       "      <td>Yes</td>\n",
       "      <td>Yes</td>\n",
       "      <td>Somewhat easy</td>\n",
       "      <td>...</td>\n",
       "      <td>Rarely</td>\n",
       "      <td>Sometimes</td>\n",
       "      <td>29</td>\n",
       "      <td>male</td>\n",
       "      <td>United States of America</td>\n",
       "      <td>Illinois</td>\n",
       "      <td>United States of America</td>\n",
       "      <td>Illinois</td>\n",
       "      <td>Back-end Developer|Front-end Developer</td>\n",
       "      <td>Never</td>\n",
       "    </tr>\n",
       "    <tr>\n",
       "      <th>2</th>\n",
       "      <td>0</td>\n",
       "      <td>6-25</td>\n",
       "      <td>1.0</td>\n",
       "      <td>NaN</td>\n",
       "      <td>No</td>\n",
       "      <td>NaN</td>\n",
       "      <td>No</td>\n",
       "      <td>No</td>\n",
       "      <td>I don't know</td>\n",
       "      <td>Neither easy nor difficult</td>\n",
       "      <td>...</td>\n",
       "      <td>Not applicable to me</td>\n",
       "      <td>Not applicable to me</td>\n",
       "      <td>38</td>\n",
       "      <td>Male</td>\n",
       "      <td>United Kingdom</td>\n",
       "      <td>NaN</td>\n",
       "      <td>United Kingdom</td>\n",
       "      <td>NaN</td>\n",
       "      <td>Back-end Developer</td>\n",
       "      <td>Always</td>\n",
       "    </tr>\n",
       "    <tr>\n",
       "      <th>3</th>\n",
       "      <td>1</td>\n",
       "      <td>NaN</td>\n",
       "      <td>NaN</td>\n",
       "      <td>NaN</td>\n",
       "      <td>NaN</td>\n",
       "      <td>NaN</td>\n",
       "      <td>NaN</td>\n",
       "      <td>NaN</td>\n",
       "      <td>NaN</td>\n",
       "      <td>NaN</td>\n",
       "      <td>...</td>\n",
       "      <td>Sometimes</td>\n",
       "      <td>Sometimes</td>\n",
       "      <td>43</td>\n",
       "      <td>male</td>\n",
       "      <td>United Kingdom</td>\n",
       "      <td>NaN</td>\n",
       "      <td>United Kingdom</td>\n",
       "      <td>NaN</td>\n",
       "      <td>Supervisor/Team Lead</td>\n",
       "      <td>Sometimes</td>\n",
       "    </tr>\n",
       "    <tr>\n",
       "      <th>4</th>\n",
       "      <td>0</td>\n",
       "      <td>6-25</td>\n",
       "      <td>0.0</td>\n",
       "      <td>1.0</td>\n",
       "      <td>Yes</td>\n",
       "      <td>Yes</td>\n",
       "      <td>No</td>\n",
       "      <td>No</td>\n",
       "      <td>No</td>\n",
       "      <td>Neither easy nor difficult</td>\n",
       "      <td>...</td>\n",
       "      <td>Sometimes</td>\n",
       "      <td>Sometimes</td>\n",
       "      <td>43</td>\n",
       "      <td>Female</td>\n",
       "      <td>United States of America</td>\n",
       "      <td>Illinois</td>\n",
       "      <td>United States of America</td>\n",
       "      <td>Illinois</td>\n",
       "      <td>Executive Leadership|Supervisor/Team Lead|Dev ...</td>\n",
       "      <td>Sometimes</td>\n",
       "    </tr>\n",
       "  </tbody>\n",
       "</table>\n",
       "<p>5 rows × 63 columns</p>\n",
       "</div>"
      ]
     },
     "execution_count": 6,
     "metadata": {},
     "output_type": "execute_result"
    }
   ],
   "execution_count": 6
  },
  {
   "metadata": {},
   "cell_type": "markdown",
   "source": [
    "### 3.1 Handling Raw input\n",
    "Including open-ended questions in surveys offers a great opportunity to know more about the ideas of the repondents. However, there is a trade-off to make. The more elaborate the question is, the harder it's to classify the answer of the participant. In some cases, the existence of some words can determine the orientation of the answer but this isn't one of those cases."
   ],
   "id": "c17ba6e3fda6989a"
  },
  {
   "metadata": {
    "ExecuteTime": {
     "end_time": "2024-12-26T14:20:25.338599Z",
     "start_time": "2024-12-26T14:20:25.320082Z"
    }
   },
   "cell_type": "code",
   "source": [
    "# Load the arranged data\n",
    "data = pd.read_csv(f'{path}/data/data_v0.5.csv')\n",
    "\n",
    "# Replace the old entries with the new categories\n",
    "df['why_or_why_not_bring_phi_in_interview'] = data[\"Why or why not?\"]\n",
    "df['why_or_why_not_bring_mhi_in_interview'] = data[\"Why or why not?.1\"]\n",
    "\n",
    "# Display the new categories\n",
    "df['why_or_why_not_bring_phi_in_interview'].value_counts()"
   ],
   "id": "c917684e5df297f",
   "outputs": [
    {
     "data": {
      "text/plain": [
       "why_or_why_not_bring_phi_in_interview\n",
       "Bias and Discrimination                517\n",
       "Low hiring chances                     237\n",
       "Performance-related Concerns           235\n",
       "Transparency and Integrity             210\n",
       "Privacy and Personal Concerns          101\n",
       "Uncertainty about Employer Reaction     50\n",
       "Other                                   25\n",
       "Ineffective Disclosure                  25\n",
       "Legal Implications                      24\n",
       "Negative impact on the outcome           9\n",
       "Name: count, dtype: int64"
      ]
     },
     "execution_count": 7,
     "metadata": {},
     "output_type": "execute_result"
    }
   ],
   "execution_count": 7
  },
  {
   "metadata": {},
   "cell_type": "markdown",
   "source": [
    "### 3.2 Handling Missing values\n",
    "The existence of missing values in a dataset can be caused by several factors.\n",
    "Let's first identify the columns where we have missing values."
   ],
   "id": "5c8b3d7992f09461"
  },
  {
   "metadata": {
    "ExecuteTime": {
     "end_time": "2024-12-26T14:20:29.990644Z",
     "start_time": "2024-12-26T14:20:29.929104Z"
    }
   },
   "cell_type": "code",
   "source": [
    "# Apply the new names\n",
    "discovered = discover_df(df, only_na=True)\n",
    "\n",
    "# Print the dataframe\n",
    "discovered.head()"
   ],
   "id": "d2d6447ab15a0908",
   "outputs": [
    {
     "data": {
      "text/plain": [
       "                                                 name  empty_values  \\\n",
       "19                           is_impacted_negatively_1          1289   \n",
       "23                                percentage_impacted          1229   \n",
       "3                                        is_tech_role          1170   \n",
       "16  have_medical_coverage_includes_mental_health_i...          1146   \n",
       "18  is_willing_to_reveal_previous_mental_health_is...          1146   \n",
       "\n",
       "    unique_values_count                                 unique_values_list  \\\n",
       "19                    3                            [I'm not sure, Yes, No]   \n",
       "23                    4                   [1-25%, 76-100%, 26-50%, 51-75%]   \n",
       "3                     2                                    [nan, 1.0, 0.0]   \n",
       "16                    2                                    [nan, 1.0, 0.0]   \n",
       "18                    5  [Sometimes, if it comes up, No, because it doe...   \n",
       "\n",
       "   data_type  \n",
       "19    object  \n",
       "23    object  \n",
       "3    float64  \n",
       "16   float64  \n",
       "18    object  "
      ],
      "text/html": [
       "<div>\n",
       "<style scoped>\n",
       "    .dataframe tbody tr th:only-of-type {\n",
       "        vertical-align: middle;\n",
       "    }\n",
       "\n",
       "    .dataframe tbody tr th {\n",
       "        vertical-align: top;\n",
       "    }\n",
       "\n",
       "    .dataframe thead th {\n",
       "        text-align: right;\n",
       "    }\n",
       "</style>\n",
       "<table border=\"1\" class=\"dataframe\">\n",
       "  <thead>\n",
       "    <tr style=\"text-align: right;\">\n",
       "      <th></th>\n",
       "      <th>name</th>\n",
       "      <th>empty_values</th>\n",
       "      <th>unique_values_count</th>\n",
       "      <th>unique_values_list</th>\n",
       "      <th>data_type</th>\n",
       "    </tr>\n",
       "  </thead>\n",
       "  <tbody>\n",
       "    <tr>\n",
       "      <th>19</th>\n",
       "      <td>is_impacted_negatively_1</td>\n",
       "      <td>1289</td>\n",
       "      <td>3</td>\n",
       "      <td>[I'm not sure, Yes, No]</td>\n",
       "      <td>object</td>\n",
       "    </tr>\n",
       "    <tr>\n",
       "      <th>23</th>\n",
       "      <td>percentage_impacted</td>\n",
       "      <td>1229</td>\n",
       "      <td>4</td>\n",
       "      <td>[1-25%, 76-100%, 26-50%, 51-75%]</td>\n",
       "      <td>object</td>\n",
       "    </tr>\n",
       "    <tr>\n",
       "      <th>3</th>\n",
       "      <td>is_tech_role</td>\n",
       "      <td>1170</td>\n",
       "      <td>2</td>\n",
       "      <td>[nan, 1.0, 0.0]</td>\n",
       "      <td>float64</td>\n",
       "    </tr>\n",
       "    <tr>\n",
       "      <th>16</th>\n",
       "      <td>have_medical_coverage_includes_mental_health_i...</td>\n",
       "      <td>1146</td>\n",
       "      <td>2</td>\n",
       "      <td>[nan, 1.0, 0.0]</td>\n",
       "      <td>float64</td>\n",
       "    </tr>\n",
       "    <tr>\n",
       "      <th>18</th>\n",
       "      <td>is_willing_to_reveal_previous_mental_health_is...</td>\n",
       "      <td>1146</td>\n",
       "      <td>5</td>\n",
       "      <td>[Sometimes, if it comes up, No, because it doe...</td>\n",
       "      <td>object</td>\n",
       "    </tr>\n",
       "  </tbody>\n",
       "</table>\n",
       "</div>"
      ]
     },
     "execution_count": 8,
     "metadata": {},
     "output_type": "execute_result"
    }
   ],
   "execution_count": 8
  },
  {
   "metadata": {
    "ExecuteTime": {
     "end_time": "2024-12-26T14:20:34.728999Z",
     "start_time": "2024-12-26T14:20:34.722143Z"
    }
   },
   "cell_type": "code",
   "source": [
    "# Print the number of columns with missing values\n",
    "print(f\"We have {discovered.shape[0]} columns exhibitng missing values.\")"
   ],
   "id": "a9704f0dcc4dfb7e",
   "outputs": [
    {
     "name": "stdout",
     "output_type": "stream",
     "text": [
      "We have 42 columns exhibitng missing values.\n"
     ]
    }
   ],
   "execution_count": 9
  },
  {
   "metadata": {},
   "cell_type": "markdown",
   "source": [
    "#### 3.2.1 Flag Columns\n",
    "There are many reasons for a column to containg missing values, amonng them that this column is preceeded with a __Flag Column__. In this dataset, we have 6 flag columns in which missing values are the result of a __\"Condition not met\"__.\n"
   ],
   "id": "6deaf289a2c817a2"
  },
  {
   "metadata": {},
   "cell_type": "markdown",
   "source": "Let's deal with column from 1 to 16. These collection is preceeded with a flag column, investigating their state as employees = 0 or self-employed.",
   "id": "c3fadc3095c5935c"
  },
  {
   "metadata": {
    "ExecuteTime": {
     "end_time": "2024-12-26T14:20:40.641209Z",
     "start_time": "2024-12-26T14:20:40.631965Z"
    }
   },
   "cell_type": "code",
   "source": [
    "# Determine how many self-employed respondent in the dataset.\n",
    "employment_df = df[\"is_self_employed\"].value_counts().reset_index()\n",
    "employment_df.columns = ['is_self_emplyed', 'number_of_employees']\n",
    "\n",
    "# Print the results\n",
    "print(f\"In this dataset, we have {employment_df.iloc[1,1]} self-employed \"\n",
    "      f\"and {employment_df.iloc[0,1]} is employed respondents.\")"
   ],
   "id": "ed8e500de00f6e36",
   "outputs": [
    {
     "name": "stdout",
     "output_type": "stream",
     "text": [
      "In this dataset, we have 287 self-employed and 1146 is employed respondents.\n"
     ]
    }
   ],
   "execution_count": 10
  },
  {
   "metadata": {},
   "cell_type": "markdown",
   "source": "In the the 15 following questions, self-employed respondents aren't expected to answer organization-related question and leaving the fields empty would confuse our analysis.",
   "id": "185298e09023beea"
  },
  {
   "metadata": {
    "ExecuteTime": {
     "end_time": "2024-12-26T14:20:47.073898Z",
     "start_time": "2024-12-26T14:20:47.066807Z"
    }
   },
   "cell_type": "code",
   "source": [
    "# Storing the Organization-related questions in a list\n",
    "non_answered_by_self_employed = [\n",
    "    \"organization_size\",\n",
    "    \"is_tech_company\",\n",
    "    \"is_tech_role\",\n",
    "    \"is_mh_benefits_provided\",\n",
    "    \"is_aware_mh_care_available\",\n",
    "    \"is_mh_discussed_by_employer\",\n",
    "    \"is_mh_resources_provided_by_employer\",\n",
    "    \"is_anonymity_protected\",\n",
    "    \"how_is_asking_for_medical_leave_due_to_mhi\",\n",
    "    \"is_discussing_mhd_with_employer_have_negative_consequences\",\n",
    "    \"is_discussing_phd_with_employer_have_negative_consequences\",\n",
    "    \"is_willing_to_discuss_mhi_with_colleagues\",\n",
    "    \"is_willing_to_discuss_mhi_with_direct_supervisor\",\n",
    "    \"is_employer_takes_mh_seriously\",\n",
    "    \"is_aware_of_previous_negative_consequence_of_colleagues_with_mhi\"\n",
    "]"
   ],
   "id": "ef436b92e953d060",
   "outputs": [],
   "execution_count": 11
  },
  {
   "metadata": {},
   "cell_type": "markdown",
   "source": "However, we must check our assumption first.",
   "id": "a68e88720acee75f"
  },
  {
   "metadata": {
    "ExecuteTime": {
     "end_time": "2024-12-26T14:20:50.161062Z",
     "start_time": "2024-12-26T14:20:50.146357Z"
    }
   },
   "cell_type": "code",
   "source": [
    "# Show the responses of self-employed respondents to these questions\n",
    "df.loc[df[\"is_self_employed\"] == 1, non_answered_by_self_employed].isna().sum()"
   ],
   "id": "50aac38476f5ca20",
   "outputs": [
    {
     "data": {
      "text/plain": [
       "organization_size                                                   287\n",
       "is_tech_company                                                     287\n",
       "is_tech_role                                                        287\n",
       "is_mh_benefits_provided                                             287\n",
       "is_aware_mh_care_available                                          287\n",
       "is_mh_discussed_by_employer                                         287\n",
       "is_mh_resources_provided_by_employer                                287\n",
       "is_anonymity_protected                                              287\n",
       "how_is_asking_for_medical_leave_due_to_mhi                          287\n",
       "is_discussing_mhd_with_employer_have_negative_consequences          287\n",
       "is_discussing_phd_with_employer_have_negative_consequences          287\n",
       "is_willing_to_discuss_mhi_with_colleagues                           287\n",
       "is_willing_to_discuss_mhi_with_direct_supervisor                    287\n",
       "is_employer_takes_mh_seriously                                      287\n",
       "is_aware_of_previous_negative_consequence_of_colleagues_with_mhi    287\n",
       "dtype: int64"
      ]
     },
     "execution_count": 12,
     "metadata": {},
     "output_type": "execute_result"
    }
   ],
   "execution_count": 12
  },
  {
   "metadata": {},
   "cell_type": "markdown",
   "source": "Our assumption is correct. Now, we'll fill the missing values to avoid confusion in analysis",
   "id": "a7539e0d337d383c"
  },
  {
   "metadata": {
    "ExecuteTime": {
     "end_time": "2024-12-26T14:20:54.477594Z",
     "start_time": "2024-12-26T14:20:54.450808Z"
    }
   },
   "cell_type": "code",
   "source": [
    "# Declaring the variable : value_to_replace\n",
    "value_to_replace = \"Self-employed (Non Applicable)\"\n",
    "\n",
    "# Re-assignging the old entries with the adjusted entries\n",
    "df.loc[\n",
    "    df[\"is_self_employed\"] == 1,\n",
    "    non_answered_by_self_employed] = df.loc[\n",
    "    df[\"is_self_employed\"] == 1,\n",
    "    non_answered_by_self_employed].fillna(value_to_replace)\n",
    "\n",
    "# Verifying the number of missing value afterwards\n",
    "df.loc[df[\"is_self_employed\"] == 1, non_answered_by_self_employed].isna().sum()"
   ],
   "id": "d546f02f04c029fb",
   "outputs": [
    {
     "data": {
      "text/plain": [
       "organization_size                                                   0\n",
       "is_tech_company                                                     0\n",
       "is_tech_role                                                        0\n",
       "is_mh_benefits_provided                                             0\n",
       "is_aware_mh_care_available                                          0\n",
       "is_mh_discussed_by_employer                                         0\n",
       "is_mh_resources_provided_by_employer                                0\n",
       "is_anonymity_protected                                              0\n",
       "how_is_asking_for_medical_leave_due_to_mhi                          0\n",
       "is_discussing_mhd_with_employer_have_negative_consequences          0\n",
       "is_discussing_phd_with_employer_have_negative_consequences          0\n",
       "is_willing_to_discuss_mhi_with_colleagues                           0\n",
       "is_willing_to_discuss_mhi_with_direct_supervisor                    0\n",
       "is_employer_takes_mh_seriously                                      0\n",
       "is_aware_of_previous_negative_consequence_of_colleagues_with_mhi    0\n",
       "dtype: int64"
      ]
     },
     "execution_count": 13,
     "metadata": {},
     "output_type": "execute_result"
    }
   ],
   "execution_count": 13
  },
  {
   "metadata": {},
   "cell_type": "markdown",
   "source": "The same process is repeated for the rest of the flag columns.",
   "id": "e7c90edb0dd28c66"
  },
  {
   "metadata": {
    "ExecuteTime": {
     "end_time": "2024-12-26T14:20:58.802484Z",
     "start_time": "2024-12-26T14:20:58.784402Z"
    }
   },
   "cell_type": "code",
   "source": [
    "# Storing the Organization-related questions in a list\n",
    "non_answered_by_non_previously_employed = [\n",
    "    \"is_previous_employer_provides_mh_benefits\",\n",
    "    \"is_aware_mh_options_by_previous_employer\",\n",
    "    \"is_mh_discussed_by_previous_employer\",\n",
    "    \"is_mh_resources_provided_by_previous_employer\",\n",
    "    \"is_anonymity_protected_by_previous_employer\",\n",
    "    \"is_discussing_mhd_with_previous_employer_have_negative_consequences\",\n",
    "    \"is_discussing_phd_with_previous_employer_have_negative_consequences\",\n",
    "    \"is_willing_to_discuss_mhi_with_previous_colleagues\",\n",
    "    \"is_willing_to_discuss_mhi_with_previous_direct_supervisor\",\n",
    "    \"is_previous_employer_takes_mh_seriously\",\n",
    "    \"is_aware_of_previous_negative_consequence_of_colleagues_with_mhi_in_previous_workplace\",\n",
    "]\n",
    "\n",
    "# Declaring the variable : value_to_replace\n",
    "value_to_replace = \"Not previously employed (Non Applicable)\"\n",
    "\n",
    "# Fill the columns with the specific value\n",
    "df.loc[df[\"is_previously_employed\"] == 0, non_answered_by_non_previously_employed] = df.loc[df[\"is_previously_employed\"] == 0, non_answered_by_non_previously_employed].fillna(value_to_replace)"
   ],
   "id": "e930f84c407224c4",
   "outputs": [],
   "execution_count": 14
  },
  {
   "metadata": {
    "ExecuteTime": {
     "end_time": "2024-12-26T14:21:02.057352Z",
     "start_time": "2024-12-26T14:21:02.035740Z"
    }
   },
   "cell_type": "code",
   "source": [
    "# Arranging another collection of column with the same number of missing values\n",
    "unanswered_by_employees = [\n",
    "    \"have_medical_coverage_includes_mental_health_issue\",\n",
    "    \"know_how_to_seek_help\",\n",
    "    \"is_willing_to_reveal_previous_mental_health_issue_to_business_contacts\",\n",
    "    \"is_impacted_negatively_1\",\n",
    "    \"is_able_to_reveal_previous_mental_health_issue_to_coworkers\",\n",
    "    \"is_impacted_negatively_2\",\n",
    "    \"is_productivity_impacted\",\n",
    "    \"percentage_impacted\",\n",
    "]\n",
    "\n",
    "# Declaring the variable : value_to_replace\n",
    "value_to_replace = \"Employees (Unanswered)\"\n",
    "\n",
    "# Fill the columns with the specific value\n",
    "df.loc[df[\"is_self_employed\"] == 0, unanswered_by_employees] = df.loc[df[\"is_self_employed\"] == 0, unanswered_by_employees].fillna(value_to_replace)"
   ],
   "id": "520787d484b69ab6",
   "outputs": [],
   "execution_count": 15
  },
  {
   "metadata": {},
   "cell_type": "markdown",
   "source": "Following the same approach, we'll fill the remaining columns.",
   "id": "f60cc92d7eabd192"
  },
  {
   "metadata": {
    "ExecuteTime": {
     "end_time": "2024-12-26T14:23:42.245829Z",
     "start_time": "2024-12-26T14:23:42.213331Z"
    }
   },
   "cell_type": "code",
   "source": [
    "# Fixing the missing values in the known_conditions column\n",
    "df.loc[df[\"is_having_mhd\"] == \"Maybe\", \"known_conditions\"] = df.loc[df[\"is_having_mhd\"] == \"Maybe\", \"known_conditions\"].fillna(\"I'm not sure\")\n",
    "\n",
    "df.loc[df[\"is_having_mhd\"] == \"No\", \"known_conditions\"] = df.loc[df[\"is_having_mhd\"] == \"No\", \"known_conditions\"].fillna(\"I don't have a condition\")\n",
    "\n",
    "\n",
    "# Fixing the missing values in the suspected_conditions column\n",
    "df.loc[df[\"is_having_mhd\"] == \"Yes\", \"suspected_conditions\"] = df.loc[df[\"is_having_mhd\"] == \"Yes\", \"suspected_conditions\"].fillna(\"I'm aware of my condition\")\n",
    "\n",
    "df.loc[df[\"is_having_mhd\"] == \"No\", \"suspected_conditions\"] = df.loc[df[\"is_having_mhd\"] == \"No\", \"suspected_conditions\"].fillna(\"I don't have a condition\")\n",
    "\n",
    "\n",
    "# Fixing the missing values in the diagnosed_conditions_by_professional column\n",
    "df.loc[df[\"diagnosed_by_professional\"] == \"No\", \"diagnosed_conditions_by_professional\"] = df.loc[df[\"diagnosed_by_professional\"] == \"No\", \"diagnosed_conditions_by_professional\"].fillna(\"Not diagnosed by a professional (Non Applicable)\")\n",
    "\n",
    "\n",
    "# Fixing the missing values in the us_state_residency and us_state_work column\n",
    "df.loc[df[\"country_of_residency\"] != \"United States of America\", \"us_state_residency\"] = df.loc[\n",
    "    df[\"country_of_residency\"] != \"United States of America\", \"us_state_residency\"].fillna(\n",
    "    \"I don't live in the USA (Non Applicable)\")\n",
    "\n",
    "df.loc[df[\"country_of_work\"] != \"United States of America\", \"us_state_work\"] = df.loc[\n",
    "    df[\"country_of_work\"] != \"United States of America\", \"us_state_work\"].fillna(\n",
    "    \"I don't work in the USA (Non Applicable)\")"
   ],
   "id": "dc6552247badc3d8",
   "outputs": [],
   "execution_count": 16
  },
  {
   "metadata": {},
   "cell_type": "markdown",
   "source": "In the following, the __is_tech_role__ requires filling based on __role_description__ column. Therefore, we'll proceed into cleaning the column.",
   "id": "ac10f210d95d7489"
  },
  {
   "metadata": {},
   "cell_type": "markdown",
   "source": "Despite having no missing values in the __role_description__ column, this column uses a delimiter __( | )__ to separate the multiple choices. In a context where we want to tidy up the data without knowing the use case of the dataset, the obvious approach would be to leave the data as it is. However, we know that the data will be used for clustering purposes. Thus, maintaining the least number possible of unique values in each column makes the job much more easier.",
   "id": "d93227d0673daacb"
  },
  {
   "metadata": {},
   "cell_type": "markdown",
   "source": "We'll proceed by defining a function __Classifier__, which will help us classify the __role_description__ column into unique categories.",
   "id": "ffab65e85e9fcf16"
  },
  {
   "metadata": {
    "ExecuteTime": {
     "end_time": "2024-12-26T14:23:47.801200Z",
     "start_time": "2024-12-26T14:23:47.794690Z"
    }
   },
   "cell_type": "code",
   "source": [
    "# Define a user-defined function : Classifier\n",
    "def classifier(data : pd.DataFrame, column : str, categories_dict : dict) -> str:\n",
    "    \"\"\"\n",
    "    Replace a multiple choices entry with a dedicated category\n",
    "\n",
    "    Parameters:\n",
    "    data : pandas dataframe\n",
    "    column : the column pf interest from the dataframe\n",
    "    categories_dict : the dictionary of categories\n",
    "\n",
    "    Returns:\n",
    "    None\n",
    "    \"\"\"\n",
    "    # Initiate a for loop\n",
    "    for element in data[column].unique():\n",
    "\n",
    "        # Splitting the entries\n",
    "        for part in element.split(\"|\"):\n",
    "\n",
    "            # Iterating over the dictionary of categories\n",
    "            for k, v in categories_dict.items():\n",
    "\n",
    "                # Check the first word only\n",
    "                if part in v :\n",
    "                    data[column].replace(element, k, inplace=True)\n",
    "                    break\n",
    "    return \"Done!\""
   ],
   "id": "3e2b62df3d1e5787",
   "outputs": [],
   "execution_count": 17
  },
  {
   "metadata": {},
   "cell_type": "markdown",
   "source": "Next, we'll apply the function.",
   "id": "ec3fd06389333fc9"
  },
  {
   "metadata": {
    "ExecuteTime": {
     "end_time": "2024-12-26T14:23:51.788152Z",
     "start_time": "2024-12-26T14:23:51.507075Z"
    }
   },
   "cell_type": "code",
   "source": [
    "# Getting required roles\n",
    "roles_categories = {\n",
    "    \"IT\": [\"Back-end Developer\", \"Front-end Developer\", \"DevOps/SysAdmin\"],\n",
    "    \"Management\": [\"Supervisor/Team Lead\",\"Executive Leadership\"],\n",
    "    \"Advocacy\": [\"Dev Evangelist/Advocate\"],\n",
    "    \"One-person shop\":[\"One-person shop\"],\n",
    "    \"Support\": [\"Support\"],\n",
    "    \"Design\": [\"Designer\"],\n",
    "    \"Sales\": [\"Sales\"],\n",
    "    \"Other\": [\"Other\"],\n",
    "    \"HR\": ['HR']\n",
    "}\n",
    "\n",
    "# Apply the function classifier\n",
    "classifier(df, 'role_description', roles_categories)\n",
    "\n",
    "# Check results\n",
    "df[\"role_description\"].value_counts()"
   ],
   "id": "f76f6fbe6bb0cc23",
   "outputs": [
    {
     "data": {
      "text/plain": [
       "role_description\n",
       "IT                 743\n",
       "Management         250\n",
       "Other              166\n",
       "One-person shop    104\n",
       "Support             63\n",
       "Advocacy            50\n",
       "Design              45\n",
       "HR                   7\n",
       "Sales                5\n",
       "Name: count, dtype: int64"
      ]
     },
     "execution_count": 18,
     "metadata": {},
     "output_type": "execute_result"
    }
   ],
   "execution_count": 18
  },
  {
   "metadata": {},
   "cell_type": "markdown",
   "source": "Then, we'll apply anonymous function replace the values with 1 if the respondent is in IT, 0 otherwise.\n",
   "id": "170f515fa52427ea"
  },
  {
   "metadata": {
    "ExecuteTime": {
     "end_time": "2024-12-26T14:23:56.528470Z",
     "start_time": "2024-12-26T14:23:56.517206Z"
    }
   },
   "cell_type": "code",
   "source": [
    "# Apply anonymous function\n",
    "df[\"is_tech_role\"] = df[\"role_description\"].apply(lambda x: 1 if x == \"IT\" else 0)\n",
    "\n",
    "# Show the values count\n",
    "df[\"is_tech_role\"].value_counts()"
   ],
   "id": "f6ed676e43d067a0",
   "outputs": [
    {
     "data": {
      "text/plain": [
       "is_tech_role\n",
       "1    743\n",
       "0    690\n",
       "Name: count, dtype: int64"
      ]
     },
     "execution_count": 19,
     "metadata": {},
     "output_type": "execute_result"
    }
   ],
   "execution_count": 19
  },
  {
   "metadata": {},
   "cell_type": "markdown",
   "source": "At the end of this section, we're no longer dealing with missing values due to flag columns. Let's verify this claim",
   "id": "b5679a97d710789"
  },
  {
   "metadata": {
    "ExecuteTime": {
     "end_time": "2024-12-26T14:24:00.326148Z",
     "start_time": "2024-12-26T14:24:00.268149Z"
    }
   },
   "cell_type": "code",
   "source": [
    "# Print the detailed dataframe\n",
    "discover_df(df, only_na=True)"
   ],
   "id": "6572121e5cf26b4a",
   "outputs": [
    {
     "data": {
      "text/plain": [
       "                                               name  empty_values  \\\n",
       "44                 is_less_encouraged_to_reveal_mhi           776   \n",
       "19                         is_impacted_negatively_1           143   \n",
       "5                        is_aware_mh_care_available           133   \n",
       "43  previously_observed_experienced_response_to_mhi            89   \n",
       "23                              percentage_impacted            83   \n",
       "48                                 known_conditions             7   \n",
       "49                             suspected_conditions             5   \n",
       "51             diagnosed_conditions_by_professional             5   \n",
       "56                                           gender             3   \n",
       "\n",
       "    unique_values_count                                 unique_values_list  \\\n",
       "44                    3                                   [Yes, No, Maybe]   \n",
       "19                    4    [Employees (Unanswered), I'm not sure, Yes, No]   \n",
       "5                     4  [Yes, Self-employed (Non Applicable), I am not...   \n",
       "43                    4  [No, Maybe/Not sure, Yes, I experienced, Yes, ...   \n",
       "23                    5  [Employees (Unanswered), 1-25%, 76-100%, 26-50...   \n",
       "48                  130  [I don't have a condition, Anxiety Disorder (G...   \n",
       "49                  101  [I don't have a condition, I'm aware of my con...   \n",
       "51                  117  [Anxiety Disorder (Generalized, Social, Phobia...   \n",
       "56                   70  [Male, male, Male , Female, M, female, m, I id...   \n",
       "\n",
       "   data_type  \n",
       "44    object  \n",
       "19    object  \n",
       "5     object  \n",
       "43    object  \n",
       "23    object  \n",
       "48    object  \n",
       "49    object  \n",
       "51    object  \n",
       "56    object  "
      ],
      "text/html": [
       "<div>\n",
       "<style scoped>\n",
       "    .dataframe tbody tr th:only-of-type {\n",
       "        vertical-align: middle;\n",
       "    }\n",
       "\n",
       "    .dataframe tbody tr th {\n",
       "        vertical-align: top;\n",
       "    }\n",
       "\n",
       "    .dataframe thead th {\n",
       "        text-align: right;\n",
       "    }\n",
       "</style>\n",
       "<table border=\"1\" class=\"dataframe\">\n",
       "  <thead>\n",
       "    <tr style=\"text-align: right;\">\n",
       "      <th></th>\n",
       "      <th>name</th>\n",
       "      <th>empty_values</th>\n",
       "      <th>unique_values_count</th>\n",
       "      <th>unique_values_list</th>\n",
       "      <th>data_type</th>\n",
       "    </tr>\n",
       "  </thead>\n",
       "  <tbody>\n",
       "    <tr>\n",
       "      <th>44</th>\n",
       "      <td>is_less_encouraged_to_reveal_mhi</td>\n",
       "      <td>776</td>\n",
       "      <td>3</td>\n",
       "      <td>[Yes, No, Maybe]</td>\n",
       "      <td>object</td>\n",
       "    </tr>\n",
       "    <tr>\n",
       "      <th>19</th>\n",
       "      <td>is_impacted_negatively_1</td>\n",
       "      <td>143</td>\n",
       "      <td>4</td>\n",
       "      <td>[Employees (Unanswered), I'm not sure, Yes, No]</td>\n",
       "      <td>object</td>\n",
       "    </tr>\n",
       "    <tr>\n",
       "      <th>5</th>\n",
       "      <td>is_aware_mh_care_available</td>\n",
       "      <td>133</td>\n",
       "      <td>4</td>\n",
       "      <td>[Yes, Self-employed (Non Applicable), I am not...</td>\n",
       "      <td>object</td>\n",
       "    </tr>\n",
       "    <tr>\n",
       "      <th>43</th>\n",
       "      <td>previously_observed_experienced_response_to_mhi</td>\n",
       "      <td>89</td>\n",
       "      <td>4</td>\n",
       "      <td>[No, Maybe/Not sure, Yes, I experienced, Yes, ...</td>\n",
       "      <td>object</td>\n",
       "    </tr>\n",
       "    <tr>\n",
       "      <th>23</th>\n",
       "      <td>percentage_impacted</td>\n",
       "      <td>83</td>\n",
       "      <td>5</td>\n",
       "      <td>[Employees (Unanswered), 1-25%, 76-100%, 26-50...</td>\n",
       "      <td>object</td>\n",
       "    </tr>\n",
       "    <tr>\n",
       "      <th>48</th>\n",
       "      <td>known_conditions</td>\n",
       "      <td>7</td>\n",
       "      <td>130</td>\n",
       "      <td>[I don't have a condition, Anxiety Disorder (G...</td>\n",
       "      <td>object</td>\n",
       "    </tr>\n",
       "    <tr>\n",
       "      <th>49</th>\n",
       "      <td>suspected_conditions</td>\n",
       "      <td>5</td>\n",
       "      <td>101</td>\n",
       "      <td>[I don't have a condition, I'm aware of my con...</td>\n",
       "      <td>object</td>\n",
       "    </tr>\n",
       "    <tr>\n",
       "      <th>51</th>\n",
       "      <td>diagnosed_conditions_by_professional</td>\n",
       "      <td>5</td>\n",
       "      <td>117</td>\n",
       "      <td>[Anxiety Disorder (Generalized, Social, Phobia...</td>\n",
       "      <td>object</td>\n",
       "    </tr>\n",
       "    <tr>\n",
       "      <th>56</th>\n",
       "      <td>gender</td>\n",
       "      <td>3</td>\n",
       "      <td>70</td>\n",
       "      <td>[Male, male, Male , Female, M, female, m, I id...</td>\n",
       "      <td>object</td>\n",
       "    </tr>\n",
       "  </tbody>\n",
       "</table>\n",
       "</div>"
      ]
     },
     "execution_count": 20,
     "metadata": {},
     "output_type": "execute_result"
    }
   ],
   "execution_count": 20
  },
  {
   "metadata": {},
   "cell_type": "markdown",
   "source": "By this we wrap up this section.",
   "id": "b74862fb5ab559e1"
  },
  {
   "metadata": {},
   "cell_type": "markdown",
   "source": "#### 3.2.2 Filling missing values with common values",
   "id": "36b40613611cd430"
  },
  {
   "metadata": {},
   "cell_type": "markdown",
   "source": [
    "When the number of missing values is relatively (depend on the size of the dataset, 10 is big in a dataset of 18 observations but small in a dataset made of 300 observations) small, the common appraoch among data scientist is to fill the missing values with the most pertinent value since this won't affect the data distribution in this column.\n",
    "\n",
    "This approach is the one we'll be using in the following cases where the number of missing values is relatively small. It seems simple but it become complicated as we dive deep in the process."
   ],
   "id": "5f867936f78914e8"
  },
  {
   "metadata": {
    "ExecuteTime": {
     "end_time": "2024-12-26T14:24:07.185050Z",
     "start_time": "2024-12-26T14:24:07.174733Z"
    }
   },
   "cell_type": "code",
   "source": [
    "# Show the distribution of empty values\n",
    "df.loc[df[\"is_aware_mh_care_available\"].isna(), \"is_mh_discussed_by_employer\"].value_counts()"
   ],
   "id": "579033548335929a",
   "outputs": [
    {
     "data": {
      "text/plain": [
       "is_mh_discussed_by_employer\n",
       "No              102\n",
       "Yes              23\n",
       "I don't know      8\n",
       "Name: count, dtype: int64"
      ]
     },
     "execution_count": 21,
     "metadata": {},
     "output_type": "execute_result"
    }
   ],
   "execution_count": 21
  },
  {
   "metadata": {
    "ExecuteTime": {
     "end_time": "2024-12-26T14:24:12.151373Z",
     "start_time": "2024-12-26T14:24:12.142363Z"
    }
   },
   "cell_type": "code",
   "source": [
    "# Fill the values\n",
    "df[\"is_aware_mh_care_available\"].fillna(\"No\", inplace=True)\n",
    "\n",
    "# Show the new distribution\n",
    "df[\"is_aware_mh_care_available\"].value_counts()"
   ],
   "id": "b769479c00d93c7d",
   "outputs": [
    {
     "data": {
      "text/plain": [
       "is_aware_mh_care_available\n",
       "No                                487\n",
       "I am not sure                     352\n",
       "Yes                               307\n",
       "Self-employed (Non Applicable)    287\n",
       "Name: count, dtype: int64"
      ]
     },
     "execution_count": 22,
     "metadata": {},
     "output_type": "execute_result"
    }
   ],
   "execution_count": 22
  },
  {
   "metadata": {
    "ExecuteTime": {
     "end_time": "2024-12-26T14:24:17.575156Z",
     "start_time": "2024-12-26T14:24:17.563487Z"
    }
   },
   "cell_type": "code",
   "source": [
    "# Determine the number of missing values based on the previous response\n",
    "df.loc[df[\"is_impacted_negatively_1\"].isna(), \"is_willing_to_reveal_previous_mental_health_issue_to_business_contacts\"].value_counts()"
   ],
   "id": "d1db70eea42343bb",
   "outputs": [
    {
     "data": {
      "text/plain": [
       "is_willing_to_reveal_previous_mental_health_issue_to_business_contacts\n",
       "Not applicable to me                         90\n",
       "No, because it would impact me negatively    31\n",
       "No, because it doesn't matter                21\n",
       "Sometimes, if it comes up                     1\n",
       "Name: count, dtype: int64"
      ]
     },
     "execution_count": 23,
     "metadata": {},
     "output_type": "execute_result"
    }
   ],
   "execution_count": 23
  },
  {
   "metadata": {
    "ExecuteTime": {
     "end_time": "2024-12-26T14:24:43.918505Z",
     "start_time": "2024-12-26T14:24:43.902625Z"
    }
   },
   "cell_type": "code",
   "source": [
    "# Store the choices available\n",
    "choices = [\"Not applicable to me\", \"No, because it would impact me negatively\", \"No, because it doesn't matter\"]\n",
    "\n",
    "# Initiate a loop to iterate over the missing values\n",
    "for element in choices :\n",
    "    # Replace the missing values with the adequate answer\n",
    "    df.loc[\n",
    "        df[\"is_willing_to_reveal_previous_mental_health_issue_to_business_contacts\"] == element,\n",
    "        \"is_impacted_negatively_1\"\n",
    "    ] = df.loc[\n",
    "        df[\"is_willing_to_reveal_previous_mental_health_issue_to_business_contacts\"] == element,\n",
    "        \"is_impacted_negatively_1\"\n",
    "    ].fillna(\"No\")\n",
    "\n",
    "# Replace the missing values with the adequate answer\n",
    "df.loc[\n",
    "    df[\"is_willing_to_reveal_previous_mental_health_issue_to_business_contacts\"] == \"Sometimes, if it comes up\",\n",
    "    \"is_impacted_negatively_1\"\n",
    "] = df.loc[\n",
    "    df[\"is_willing_to_reveal_previous_mental_health_issue_to_business_contacts\"] == \"Sometimes, if it comes up\",\n",
    "    \"is_impacted_negatively_1\"\n",
    "].fillna(\"I'm not sure\")"
   ],
   "id": "d0bf2e9760ab52ef",
   "outputs": [],
   "execution_count": 24
  },
  {
   "metadata": {
    "ExecuteTime": {
     "end_time": "2024-12-26T14:24:47.421748Z",
     "start_time": "2024-12-26T14:24:47.411181Z"
    }
   },
   "cell_type": "code",
   "source": [
    "# Determine the number of missing values based on the previous response\n",
    "df.loc[\n",
    "    df[\"percentage_impacted\"].isna(),\n",
    "    \"is_productivity_impacted\"\n",
    "].value_counts()"
   ],
   "id": "539ba4524f86fe1a",
   "outputs": [
    {
     "data": {
      "text/plain": [
       "is_productivity_impacted\n",
       "Unsure                  38\n",
       "Not applicable to me    31\n",
       "No                      14\n",
       "Name: count, dtype: int64"
      ]
     },
     "execution_count": 25,
     "metadata": {},
     "output_type": "execute_result"
    }
   ],
   "execution_count": 25
  },
  {
   "metadata": {},
   "cell_type": "markdown",
   "source": "The missng entries implies a minor impact of mental health issues over their productivity. We'll be using this information to choose the adequate value to fill them using it.",
   "id": "2cca544cf8c3191e"
  },
  {
   "metadata": {
    "ExecuteTime": {
     "end_time": "2024-12-26T14:25:14.964589Z",
     "start_time": "2024-12-26T14:25:14.955568Z"
    }
   },
   "cell_type": "code",
   "source": [
    "# Decalring the adequate value\n",
    "value_to_replace = \"1-25%\"\n",
    "\n",
    "# Filling the missing values\n",
    "df[\"percentage_impacted\"].fillna(value_to_replace, inplace=True)"
   ],
   "id": "6f8d45dd3d6b3771",
   "outputs": [],
   "execution_count": 26
  },
  {
   "metadata": {},
   "cell_type": "markdown",
   "source": "In the following columns, a minor portion of the data is missing and shall be replaced with the most relevant value.",
   "id": "4d9a82cc5dba166b"
  },
  {
   "metadata": {
    "ExecuteTime": {
     "end_time": "2024-12-26T14:25:18.993520Z",
     "start_time": "2024-12-26T14:25:18.976729Z"
    }
   },
   "cell_type": "code",
   "source": [
    "# Filling missing values with most relevant value\n",
    "df[\"previously_observed_experienced_response_to_mhi\"].fillna(\n",
    "    df[\"previously_observed_experienced_response_to_mhi\"].value_counts().reset_index().iloc[0,0], inplace=True\n",
    ")\n",
    "\n",
    "df[\"known_conditions\"].fillna(\n",
    "    df[\"known_conditions\"].value_counts().reset_index().iloc[0,0], inplace=True\n",
    ")\n",
    "\n",
    "df[\"suspected_conditions\"].fillna(\n",
    "    df[\"suspected_conditions\"].value_counts().reset_index().iloc[0,0], inplace=True\n",
    ")\n",
    "\n",
    "df[\"diagnosed_conditions_by_professional\"].fillna(\n",
    "    df[\"diagnosed_conditions_by_professional\"].value_counts().reset_index().iloc[0,0], inplace=True\n",
    ")"
   ],
   "id": "34b6d335bf7d8217",
   "outputs": [],
   "execution_count": 27
  },
  {
   "metadata": {
    "ExecuteTime": {
     "end_time": "2024-12-26T14:25:21.709010Z",
     "start_time": "2024-12-26T14:25:21.700125Z"
    }
   },
   "cell_type": "code",
   "source": [
    "# Show the distribution of missing values with regard to the following column\n",
    "df.loc[\n",
    "    df[\"is_less_encouraged_to_reveal_mhi\"].isna(),\n",
    "    \"previously_observed_experienced_response_to_mhi\"\n",
    "].value_counts()"
   ],
   "id": "c075d3b9a3c2e6e1",
   "outputs": [
    {
     "data": {
      "text/plain": [
       "previously_observed_experienced_response_to_mhi\n",
       "No                    656\n",
       "Maybe/Not sure         74\n",
       "Yes, I experienced     28\n",
       "Yes, I observed        18\n",
       "Name: count, dtype: int64"
      ]
     },
     "execution_count": 28,
     "metadata": {},
     "output_type": "execute_result"
    }
   ],
   "execution_count": 28
  },
  {
   "metadata": {
    "ExecuteTime": {
     "end_time": "2024-12-26T14:25:27.324314Z",
     "start_time": "2024-12-26T14:25:27.304684Z"
    }
   },
   "cell_type": "code",
   "source": [
    "# Fill the values based on the response with most pertinent values\n",
    "df.loc[\n",
    "    df[\"previously_observed_experienced_response_to_mhi\"] == \"Yes, I experienced\",\n",
    "    \"is_less_encouraged_to_reveal_mhi\"\n",
    "] = df.loc[\n",
    "    df[\"previously_observed_experienced_response_to_mhi\"] == \"Yes, I experienced\",\n",
    "    \"is_less_encouraged_to_reveal_mhi\"\n",
    "].fillna(\"Yes\")\n",
    "\n",
    "df.loc[\n",
    "    df[\"previously_observed_experienced_response_to_mhi\"] == \"Yes, I observed\",\n",
    "    \"is_less_encouraged_to_reveal_mhi\"\n",
    "] = df.loc[\n",
    "    df[\"previously_observed_experienced_response_to_mhi\"] == \"Yes, I observed\",\n",
    "    \"is_less_encouraged_to_reveal_mhi\"\n",
    "].fillna(\"Yes\")\n",
    "\n",
    "df.loc[\n",
    "    df[\"previously_observed_experienced_response_to_mhi\"] == \"Maybe/Not sure\",\n",
    "    \"is_less_encouraged_to_reveal_mhi\"\n",
    "] = df.loc[\n",
    "    df[\"previously_observed_experienced_response_to_mhi\"] == \"Maybe/Not sure\",\n",
    "    \"is_less_encouraged_to_reveal_mhi\"\n",
    "].fillna(\"No\")\n",
    "\n",
    "df.loc[\n",
    "    df[\"previously_observed_experienced_response_to_mhi\"] == \"No\",\n",
    "    \"is_less_encouraged_to_reveal_mhi\"\n",
    "] = df.loc[\n",
    "    df[\"previously_observed_experienced_response_to_mhi\"] == \"No\",\n",
    "    \"is_less_encouraged_to_reveal_mhi\"\n",
    "].fillna(\"No\")"
   ],
   "id": "70b60c78b87f95d7",
   "outputs": [],
   "execution_count": 29
  },
  {
   "metadata": {
    "ExecuteTime": {
     "end_time": "2024-12-26T14:25:30.736170Z",
     "start_time": "2024-12-26T14:25:30.688447Z"
    }
   },
   "cell_type": "code",
   "source": [
    "# Show the columns with missing values\n",
    "discover_df(df, only_na=True)"
   ],
   "id": "a112c0d1842bf7a1",
   "outputs": [
    {
     "data": {
      "text/plain": [
       "      name  empty_values  unique_values_count  \\\n",
       "56  gender             3                   70   \n",
       "\n",
       "                                   unique_values_list data_type  \n",
       "56  [Male, male, Male , Female, M, female, m, I id...    object  "
      ],
      "text/html": [
       "<div>\n",
       "<style scoped>\n",
       "    .dataframe tbody tr th:only-of-type {\n",
       "        vertical-align: middle;\n",
       "    }\n",
       "\n",
       "    .dataframe tbody tr th {\n",
       "        vertical-align: top;\n",
       "    }\n",
       "\n",
       "    .dataframe thead th {\n",
       "        text-align: right;\n",
       "    }\n",
       "</style>\n",
       "<table border=\"1\" class=\"dataframe\">\n",
       "  <thead>\n",
       "    <tr style=\"text-align: right;\">\n",
       "      <th></th>\n",
       "      <th>name</th>\n",
       "      <th>empty_values</th>\n",
       "      <th>unique_values_count</th>\n",
       "      <th>unique_values_list</th>\n",
       "      <th>data_type</th>\n",
       "    </tr>\n",
       "  </thead>\n",
       "  <tbody>\n",
       "    <tr>\n",
       "      <th>56</th>\n",
       "      <td>gender</td>\n",
       "      <td>3</td>\n",
       "      <td>70</td>\n",
       "      <td>[Male, male, Male , Female, M, female, m, I id...</td>\n",
       "      <td>object</td>\n",
       "    </tr>\n",
       "  </tbody>\n",
       "</table>\n",
       "</div>"
      ]
     },
     "execution_count": 30,
     "metadata": {},
     "output_type": "execute_result"
    }
   ],
   "execution_count": 30
  },
  {
   "metadata": {},
   "cell_type": "markdown",
   "source": "With one column remaining, this wrap up this section. We'll address this column in the next section.",
   "id": "c86a9fcdef85539d"
  },
  {
   "metadata": {},
   "cell_type": "markdown",
   "source": [
    "#### 3.3 Handling redundant data\n",
    "The _gender_ column showcased 70 unique categories implying 3 big categories which are : __Male, Female, and Other__"
   ],
   "id": "d828cec174042071"
  },
  {
   "metadata": {
    "ExecuteTime": {
     "end_time": "2024-12-26T14:25:35.722603Z",
     "start_time": "2024-12-26T14:25:35.703001Z"
    }
   },
   "cell_type": "code",
   "source": [
    "# Reassigning the values to Male, Female, or Other\n",
    "df['gender'].replace(\n",
    "    ['male', 'm', 'M', 'Male (cis)', 'cisdude', 'Dude', 'Male.', 'Cis male',\n",
    "     'Cis Male', 'cis male', 'cis man', 'mail', 'Male (trans, FtM)',\n",
    "     'Male/genderqueer', 'Malr', 'Man', 'Sex is male', 'Male ', 'MALE', 'man',\n",
    "     'male ', 'M|', 'I\\'m a man why didn\\'t you make this a drop down question. '\n",
    "                    'You should of asked sex? And I would of answered yes please. '\n",
    "                    'Seriously how much text can this take? '\n",
    "     ], 'Male', inplace=True) # Value to replace the entries with\n",
    "\n",
    "df['gender'].replace(\n",
    "    ['Female', 'female', 'I identify as female.', 'female ', 'Female assigned at birth ',\n",
    "     'Cis female ', 'F', 'Woman', 'f', 'Transitioned, M2F', 'woman', 'female/woman',\n",
    "     'fem', ' Female', 'Cis-woman', 'Female ', 'Female or Multi-Gender Femme',\n",
    "     'Cisgender Female', 'fm', 'Female (props for making this a freeform field, though)',\n",
    "     ], 'Female', inplace=True) # Value to replace the entries with\n",
    "\n",
    "df['gender'].replace(\n",
    "    ['Genderfluid (born female)', 'female-bodied; no feelings about gender', 'non-binary',\n",
    "     'AFAB', 'Agender', 'genderqueer', 'Genderflux demi-girl', 'mtf', 'Genderqueer',\n",
    "     'Unicorn', 'Androgynous', 'Bigender', 'Enby', 'Transgender woman', 'Human', 'human',\n",
    "     'Other/Transfeminine', 'Queer', 'Fluid', 'nb masculine', np.nan, 'genderqueer woman',\n",
    "     'Genderfluid', 'none of your business', 'male 9:1 female, roughly', 'Nonbinary',\n",
    "     ], 'Other', inplace=True) # Value to replace the entries with\n",
    "\n",
    "# Overview of the transformed data\n",
    "df[\"gender\"].value_counts()"
   ],
   "id": "98f21af8b9787ed",
   "outputs": [
    {
     "data": {
      "text/plain": [
       "gender\n",
       "Male      1059\n",
       "Female     340\n",
       "Other       34\n",
       "Name: count, dtype: int64"
      ]
     },
     "execution_count": 31,
     "metadata": {},
     "output_type": "execute_result"
    }
   ],
   "execution_count": 31
  },
  {
   "metadata": {},
   "cell_type": "markdown",
   "source": [
    "#### 3.4 Handling outliers\n",
    "The __age__ column contained many erroneous inputs such as 3, 15, 17, 99, 323. We'll start by handling these outliers and then transforming this column data type into categorical."
   ],
   "id": "a1b0aa763dc54d6b"
  },
  {
   "metadata": {
    "ExecuteTime": {
     "end_time": "2024-12-26T14:25:40.642412Z",
     "start_time": "2024-12-26T14:25:40.630687Z"
    }
   },
   "cell_type": "code",
   "source": [
    "# Arranging a list of accepted entries\n",
    "age_entries = df.loc[(df[\"age\"] >= 18) & (df[\"age\"] <= 65), \"age\"].unique().tolist()\n",
    "\n",
    "# Getting the median\n",
    "age_median = np.median(age_entries)\n",
    "\n",
    "# Replacing unusual entries with the median\n",
    "df[\"age\"] = df[\"age\"].apply(lambda x: x if x in age_entries else age_median)\n",
    "\n",
    "# Transforming the data type into int\n",
    "df[\"age\"] = df[\"age\"].astype(int)"
   ],
   "id": "1d8aa13dbce9dbe8",
   "outputs": [],
   "execution_count": 32
  },
  {
   "metadata": {},
   "cell_type": "markdown",
   "source": "Define a user-defined function",
   "id": "8bd9b04576dd90f9"
  },
  {
   "metadata": {
    "ExecuteTime": {
     "end_time": "2024-12-26T14:25:45.516369Z",
     "start_time": "2024-12-26T14:25:45.506163Z"
    }
   },
   "cell_type": "code",
   "source": [
    "# define a user-defined function : age_categorizer\n",
    "def age_categorizer(data: pd.DataFrame, column: str) -> dict:\n",
    "    \"\"\"\n",
    "    Returns the category of the given age.\n",
    "    :param data: Pandas DataFrame\n",
    "    :param column: str\n",
    "    \"\"\"\n",
    "    # Define age categories\n",
    "    age_categories = {\n",
    "        \"Before 20s\": list(range(18, 20)),\n",
    "        \"20s\": list(range(20, 30)),\n",
    "        \"30s\": list(range(30, 40)),\n",
    "        \"40s\": list(range(40, 50)),\n",
    "        \"Above 50s\": list(range(50, 66))\n",
    "    }\n",
    "\n",
    "    # Creating a list\n",
    "    new_categories = []\n",
    "\n",
    "\n",
    "    # Loop over the column elements\n",
    "    for element in data[column].tolist():\n",
    "\n",
    "        # Arranging dictionary elements\n",
    "        for k, v in age_categories.items():\n",
    "\n",
    "            # If an age is in a given range, we return that range\n",
    "            if element in v:\n",
    "\n",
    "                new_categories.append(k)\n",
    "\n",
    "    # Deliver the results\n",
    "    return new_categories"
   ],
   "id": "7f2f79c33de1d1ba",
   "outputs": [],
   "execution_count": 33
  },
  {
   "metadata": {},
   "cell_type": "markdown",
   "source": "Let's apply the function",
   "id": "c07966f935c69680"
  },
  {
   "metadata": {
    "ExecuteTime": {
     "end_time": "2024-12-26T14:25:48.207988Z",
     "start_time": "2024-12-26T14:25:48.196219Z"
    }
   },
   "cell_type": "code",
   "source": [
    "# Apply the fucntion as an anonymous fucntion\n",
    "df[\"age\"] = age_categorizer(df, \"age\")\n",
    "\n",
    "# Demontstarte the new categories\n",
    "df[\"age\"].value_counts()"
   ],
   "id": "e1cf05c2e47dda8e",
   "outputs": [
    {
     "data": {
      "text/plain": [
       "age\n",
       "30s           678\n",
       "20s           443\n",
       "40s           243\n",
       "Above 50s      65\n",
       "Before 20s      4\n",
       "Name: count, dtype: int64"
      ]
     },
     "execution_count": 34,
     "metadata": {},
     "output_type": "execute_result"
    }
   ],
   "execution_count": 34
  },
  {
   "metadata": {},
   "cell_type": "markdown",
   "source": "",
   "id": "8fbbec44757ff904"
  },
  {
   "metadata": {},
   "cell_type": "markdown",
   "source": [
    "#### 3.5 Correcting data types\n",
    "Handling data types is essentiel. Instead of Yes/No, we'll transform this column into numerical 0/1 column with int64 data type."
   ],
   "id": "d09c1ac27853768a"
  },
  {
   "metadata": {
    "ExecuteTime": {
     "end_time": "2024-12-26T14:25:52.580901Z",
     "start_time": "2024-12-26T14:25:52.526778Z"
    }
   },
   "cell_type": "code",
   "source": [
    "# Display the dataframe composed of binary columns\n",
    "data = discover_df(df, only_binary=True)\n",
    "\n",
    "# Print the dataframe\n",
    "data"
   ],
   "id": "f68184273e3e26da",
   "outputs": [
    {
     "data": {
      "text/plain": [
       "                           name  empty_values  unique_values_count  \\\n",
       "0              is_self_employed             0                    2   \n",
       "3                  is_tech_role             0                    2   \n",
       "24       is_previously_employed             0                    2   \n",
       "50    diagnosed_by_professional             0                    2   \n",
       "52  is_sought_treatment_for_mhi             0                    2   \n",
       "\n",
       "   unique_values_list data_type  \n",
       "0              [0, 1]     int64  \n",
       "3              [1, 0]     int64  \n",
       "24             [1, 0]     int64  \n",
       "50          [Yes, No]    object  \n",
       "52             [0, 1]     int64  "
      ],
      "text/html": [
       "<div>\n",
       "<style scoped>\n",
       "    .dataframe tbody tr th:only-of-type {\n",
       "        vertical-align: middle;\n",
       "    }\n",
       "\n",
       "    .dataframe tbody tr th {\n",
       "        vertical-align: top;\n",
       "    }\n",
       "\n",
       "    .dataframe thead th {\n",
       "        text-align: right;\n",
       "    }\n",
       "</style>\n",
       "<table border=\"1\" class=\"dataframe\">\n",
       "  <thead>\n",
       "    <tr style=\"text-align: right;\">\n",
       "      <th></th>\n",
       "      <th>name</th>\n",
       "      <th>empty_values</th>\n",
       "      <th>unique_values_count</th>\n",
       "      <th>unique_values_list</th>\n",
       "      <th>data_type</th>\n",
       "    </tr>\n",
       "  </thead>\n",
       "  <tbody>\n",
       "    <tr>\n",
       "      <th>0</th>\n",
       "      <td>is_self_employed</td>\n",
       "      <td>0</td>\n",
       "      <td>2</td>\n",
       "      <td>[0, 1]</td>\n",
       "      <td>int64</td>\n",
       "    </tr>\n",
       "    <tr>\n",
       "      <th>3</th>\n",
       "      <td>is_tech_role</td>\n",
       "      <td>0</td>\n",
       "      <td>2</td>\n",
       "      <td>[1, 0]</td>\n",
       "      <td>int64</td>\n",
       "    </tr>\n",
       "    <tr>\n",
       "      <th>24</th>\n",
       "      <td>is_previously_employed</td>\n",
       "      <td>0</td>\n",
       "      <td>2</td>\n",
       "      <td>[1, 0]</td>\n",
       "      <td>int64</td>\n",
       "    </tr>\n",
       "    <tr>\n",
       "      <th>50</th>\n",
       "      <td>diagnosed_by_professional</td>\n",
       "      <td>0</td>\n",
       "      <td>2</td>\n",
       "      <td>[Yes, No]</td>\n",
       "      <td>object</td>\n",
       "    </tr>\n",
       "    <tr>\n",
       "      <th>52</th>\n",
       "      <td>is_sought_treatment_for_mhi</td>\n",
       "      <td>0</td>\n",
       "      <td>2</td>\n",
       "      <td>[0, 1]</td>\n",
       "      <td>int64</td>\n",
       "    </tr>\n",
       "  </tbody>\n",
       "</table>\n",
       "</div>"
      ]
     },
     "execution_count": 35,
     "metadata": {},
     "output_type": "execute_result"
    }
   ],
   "execution_count": 35
  },
  {
   "metadata": {},
   "cell_type": "markdown",
   "source": "Treat the data accordingly, by using anonymous function.",
   "id": "6743a61c69e9676"
  },
  {
   "metadata": {
    "ExecuteTime": {
     "end_time": "2024-12-26T14:25:55.882607Z",
     "start_time": "2024-12-26T14:25:55.805528Z"
    }
   },
   "cell_type": "code",
   "source": [
    "# Applying anonymous function\n",
    "df[\"diagnosed_by_professional\"] = df[\"diagnosed_by_professional\"].apply(lambda x: 1 if x == \"Yes\" else 0)\n",
    "\n",
    "# Display the dataframe composed of binary columns\n",
    "data = discover_df(df, only_binary=True)\n",
    "\n",
    "# preview the results\n",
    "data"
   ],
   "id": "3f22ea14ec536ec2",
   "outputs": [
    {
     "data": {
      "text/plain": [
       "                           name  empty_values  unique_values_count  \\\n",
       "0              is_self_employed             0                    2   \n",
       "3                  is_tech_role             0                    2   \n",
       "24       is_previously_employed             0                    2   \n",
       "50    diagnosed_by_professional             0                    2   \n",
       "52  is_sought_treatment_for_mhi             0                    2   \n",
       "\n",
       "   unique_values_list data_type  \n",
       "0              [0, 1]     int64  \n",
       "3              [1, 0]     int64  \n",
       "24             [1, 0]     int64  \n",
       "50             [1, 0]     int64  \n",
       "52             [0, 1]     int64  "
      ],
      "text/html": [
       "<div>\n",
       "<style scoped>\n",
       "    .dataframe tbody tr th:only-of-type {\n",
       "        vertical-align: middle;\n",
       "    }\n",
       "\n",
       "    .dataframe tbody tr th {\n",
       "        vertical-align: top;\n",
       "    }\n",
       "\n",
       "    .dataframe thead th {\n",
       "        text-align: right;\n",
       "    }\n",
       "</style>\n",
       "<table border=\"1\" class=\"dataframe\">\n",
       "  <thead>\n",
       "    <tr style=\"text-align: right;\">\n",
       "      <th></th>\n",
       "      <th>name</th>\n",
       "      <th>empty_values</th>\n",
       "      <th>unique_values_count</th>\n",
       "      <th>unique_values_list</th>\n",
       "      <th>data_type</th>\n",
       "    </tr>\n",
       "  </thead>\n",
       "  <tbody>\n",
       "    <tr>\n",
       "      <th>0</th>\n",
       "      <td>is_self_employed</td>\n",
       "      <td>0</td>\n",
       "      <td>2</td>\n",
       "      <td>[0, 1]</td>\n",
       "      <td>int64</td>\n",
       "    </tr>\n",
       "    <tr>\n",
       "      <th>3</th>\n",
       "      <td>is_tech_role</td>\n",
       "      <td>0</td>\n",
       "      <td>2</td>\n",
       "      <td>[1, 0]</td>\n",
       "      <td>int64</td>\n",
       "    </tr>\n",
       "    <tr>\n",
       "      <th>24</th>\n",
       "      <td>is_previously_employed</td>\n",
       "      <td>0</td>\n",
       "      <td>2</td>\n",
       "      <td>[1, 0]</td>\n",
       "      <td>int64</td>\n",
       "    </tr>\n",
       "    <tr>\n",
       "      <th>50</th>\n",
       "      <td>diagnosed_by_professional</td>\n",
       "      <td>0</td>\n",
       "      <td>2</td>\n",
       "      <td>[1, 0]</td>\n",
       "      <td>int64</td>\n",
       "    </tr>\n",
       "    <tr>\n",
       "      <th>52</th>\n",
       "      <td>is_sought_treatment_for_mhi</td>\n",
       "      <td>0</td>\n",
       "      <td>2</td>\n",
       "      <td>[0, 1]</td>\n",
       "      <td>int64</td>\n",
       "    </tr>\n",
       "  </tbody>\n",
       "</table>\n",
       "</div>"
      ]
     },
     "execution_count": 36,
     "metadata": {},
     "output_type": "execute_result"
    }
   ],
   "execution_count": 36
  },
  {
   "metadata": {},
   "cell_type": "markdown",
   "source": "Let's review the dataset again.",
   "id": "38ab77c4697085e2"
  },
  {
   "metadata": {
    "ExecuteTime": {
     "end_time": "2024-12-26T14:26:00.197835Z",
     "start_time": "2024-12-26T14:26:00.143997Z"
    }
   },
   "cell_type": "code",
   "source": [
    "# Display the dataframe again\n",
    "data = discover_df(df)\n",
    "\n",
    "# Limit the dataframe into the columns with 3 unique values\n",
    "data = data[data['unique_values_count'] == 3 ]\n",
    "\n",
    "# Preview the data\n",
    "data"
   ],
   "id": "27fb75ed6417660a",
   "outputs": [
    {
     "data": {
      "text/plain": [
       "                                                 name  empty_values  \\\n",
       "2                                     is_tech_company             0   \n",
       "15  is_aware_of_previous_negative_consequence_of_c...             0   \n",
       "16  have_medical_coverage_includes_mental_health_i...             0   \n",
       "36               is_willing_to_bring_phi_in_interview             0   \n",
       "38               is_willing_to_bring_mhi_in_interview             0   \n",
       "44                   is_less_encouraged_to_reveal_mhi             0   \n",
       "45                              family_history_of_mhi             0   \n",
       "46                            previous_history_of_mhi             0   \n",
       "47                                      is_having_mhd             0   \n",
       "56                                             gender             0   \n",
       "62                                          is_remote             0   \n",
       "\n",
       "    unique_values_count                          unique_values_list data_type  \n",
       "2                     3  [1.0, Self-employed (Non Applicable), 0.0]    object  \n",
       "15                    3   [No, Self-employed (Non Applicable), Yes]    object  \n",
       "16                    3          [Employees (Unanswered), 1.0, 0.0]    object  \n",
       "36                    3                            [Maybe, Yes, No]    object  \n",
       "38                    3                            [Maybe, No, Yes]    object  \n",
       "44                    3                            [No, Yes, Maybe]    object  \n",
       "45                    3                     [No, Yes, I don't know]    object  \n",
       "46                    3                            [Yes, Maybe, No]    object  \n",
       "47                    3                            [No, Yes, Maybe]    object  \n",
       "56                    3                       [Male, Female, Other]    object  \n",
       "62                    3                  [Sometimes, Never, Always]    object  "
      ],
      "text/html": [
       "<div>\n",
       "<style scoped>\n",
       "    .dataframe tbody tr th:only-of-type {\n",
       "        vertical-align: middle;\n",
       "    }\n",
       "\n",
       "    .dataframe tbody tr th {\n",
       "        vertical-align: top;\n",
       "    }\n",
       "\n",
       "    .dataframe thead th {\n",
       "        text-align: right;\n",
       "    }\n",
       "</style>\n",
       "<table border=\"1\" class=\"dataframe\">\n",
       "  <thead>\n",
       "    <tr style=\"text-align: right;\">\n",
       "      <th></th>\n",
       "      <th>name</th>\n",
       "      <th>empty_values</th>\n",
       "      <th>unique_values_count</th>\n",
       "      <th>unique_values_list</th>\n",
       "      <th>data_type</th>\n",
       "    </tr>\n",
       "  </thead>\n",
       "  <tbody>\n",
       "    <tr>\n",
       "      <th>2</th>\n",
       "      <td>is_tech_company</td>\n",
       "      <td>0</td>\n",
       "      <td>3</td>\n",
       "      <td>[1.0, Self-employed (Non Applicable), 0.0]</td>\n",
       "      <td>object</td>\n",
       "    </tr>\n",
       "    <tr>\n",
       "      <th>15</th>\n",
       "      <td>is_aware_of_previous_negative_consequence_of_c...</td>\n",
       "      <td>0</td>\n",
       "      <td>3</td>\n",
       "      <td>[No, Self-employed (Non Applicable), Yes]</td>\n",
       "      <td>object</td>\n",
       "    </tr>\n",
       "    <tr>\n",
       "      <th>16</th>\n",
       "      <td>have_medical_coverage_includes_mental_health_i...</td>\n",
       "      <td>0</td>\n",
       "      <td>3</td>\n",
       "      <td>[Employees (Unanswered), 1.0, 0.0]</td>\n",
       "      <td>object</td>\n",
       "    </tr>\n",
       "    <tr>\n",
       "      <th>36</th>\n",
       "      <td>is_willing_to_bring_phi_in_interview</td>\n",
       "      <td>0</td>\n",
       "      <td>3</td>\n",
       "      <td>[Maybe, Yes, No]</td>\n",
       "      <td>object</td>\n",
       "    </tr>\n",
       "    <tr>\n",
       "      <th>38</th>\n",
       "      <td>is_willing_to_bring_mhi_in_interview</td>\n",
       "      <td>0</td>\n",
       "      <td>3</td>\n",
       "      <td>[Maybe, No, Yes]</td>\n",
       "      <td>object</td>\n",
       "    </tr>\n",
       "    <tr>\n",
       "      <th>44</th>\n",
       "      <td>is_less_encouraged_to_reveal_mhi</td>\n",
       "      <td>0</td>\n",
       "      <td>3</td>\n",
       "      <td>[No, Yes, Maybe]</td>\n",
       "      <td>object</td>\n",
       "    </tr>\n",
       "    <tr>\n",
       "      <th>45</th>\n",
       "      <td>family_history_of_mhi</td>\n",
       "      <td>0</td>\n",
       "      <td>3</td>\n",
       "      <td>[No, Yes, I don't know]</td>\n",
       "      <td>object</td>\n",
       "    </tr>\n",
       "    <tr>\n",
       "      <th>46</th>\n",
       "      <td>previous_history_of_mhi</td>\n",
       "      <td>0</td>\n",
       "      <td>3</td>\n",
       "      <td>[Yes, Maybe, No]</td>\n",
       "      <td>object</td>\n",
       "    </tr>\n",
       "    <tr>\n",
       "      <th>47</th>\n",
       "      <td>is_having_mhd</td>\n",
       "      <td>0</td>\n",
       "      <td>3</td>\n",
       "      <td>[No, Yes, Maybe]</td>\n",
       "      <td>object</td>\n",
       "    </tr>\n",
       "    <tr>\n",
       "      <th>56</th>\n",
       "      <td>gender</td>\n",
       "      <td>0</td>\n",
       "      <td>3</td>\n",
       "      <td>[Male, Female, Other]</td>\n",
       "      <td>object</td>\n",
       "    </tr>\n",
       "    <tr>\n",
       "      <th>62</th>\n",
       "      <td>is_remote</td>\n",
       "      <td>0</td>\n",
       "      <td>3</td>\n",
       "      <td>[Sometimes, Never, Always]</td>\n",
       "      <td>object</td>\n",
       "    </tr>\n",
       "  </tbody>\n",
       "</table>\n",
       "</div>"
      ]
     },
     "execution_count": 37,
     "metadata": {},
     "output_type": "execute_result"
    }
   ],
   "execution_count": 37
  },
  {
   "metadata": {},
   "cell_type": "markdown",
   "source": "Instead of 0/1 in a non-binary column, we'll transform the input of these columns into Yes/No.",
   "id": "7ac4cab0bac10a65"
  },
  {
   "metadata": {
    "ExecuteTime": {
     "end_time": "2024-12-26T14:26:06.382963Z",
     "start_time": "2024-12-26T14:26:06.376644Z"
    }
   },
   "cell_type": "code",
   "source": [
    "# Applying anonymous function\n",
    "df[\"is_tech_company\"] = df[\"is_tech_company\"].apply(\n",
    "    lambda x: \"Yes\" if x == 1.0 else \"No\")\n",
    "\n",
    "df[\"have_medical_coverage_includes_mental_health_issue\"] = df[\"have_medical_coverage_includes_mental_health_issue\"].apply(\n",
    "    lambda x: \"Yes\" if x == 1.0 else \"No\")"
   ],
   "id": "10171d60ea104f22",
   "outputs": [],
   "execution_count": 38
  },
  {
   "metadata": {},
   "cell_type": "markdown",
   "source": "Let's preview the results",
   "id": "8aa90386d87e635b"
  },
  {
   "metadata": {
    "ExecuteTime": {
     "end_time": "2024-12-26T14:26:09.988587Z",
     "start_time": "2024-12-26T14:26:09.933303Z"
    }
   },
   "cell_type": "code",
   "source": [
    "# Display the dataframe again\n",
    "data = discover_df(df)\n",
    "\n",
    "# Limit the dataframe into the columns with 3 unique values\n",
    "data = data[data['unique_values_count'] == 3 ]\n",
    "\n",
    "# Preview the data\n",
    "data"
   ],
   "id": "7b05148592cc394a",
   "outputs": [
    {
     "data": {
      "text/plain": [
       "                                                 name  empty_values  \\\n",
       "15  is_aware_of_previous_negative_consequence_of_c...             0   \n",
       "36               is_willing_to_bring_phi_in_interview             0   \n",
       "38               is_willing_to_bring_mhi_in_interview             0   \n",
       "44                   is_less_encouraged_to_reveal_mhi             0   \n",
       "45                              family_history_of_mhi             0   \n",
       "46                            previous_history_of_mhi             0   \n",
       "47                                      is_having_mhd             0   \n",
       "56                                             gender             0   \n",
       "62                                          is_remote             0   \n",
       "\n",
       "    unique_values_count                         unique_values_list data_type  \n",
       "15                    3  [No, Self-employed (Non Applicable), Yes]    object  \n",
       "36                    3                           [Maybe, Yes, No]    object  \n",
       "38                    3                           [Maybe, No, Yes]    object  \n",
       "44                    3                           [No, Yes, Maybe]    object  \n",
       "45                    3                    [No, Yes, I don't know]    object  \n",
       "46                    3                           [Yes, Maybe, No]    object  \n",
       "47                    3                           [No, Yes, Maybe]    object  \n",
       "56                    3                      [Male, Female, Other]    object  \n",
       "62                    3                 [Sometimes, Never, Always]    object  "
      ],
      "text/html": [
       "<div>\n",
       "<style scoped>\n",
       "    .dataframe tbody tr th:only-of-type {\n",
       "        vertical-align: middle;\n",
       "    }\n",
       "\n",
       "    .dataframe tbody tr th {\n",
       "        vertical-align: top;\n",
       "    }\n",
       "\n",
       "    .dataframe thead th {\n",
       "        text-align: right;\n",
       "    }\n",
       "</style>\n",
       "<table border=\"1\" class=\"dataframe\">\n",
       "  <thead>\n",
       "    <tr style=\"text-align: right;\">\n",
       "      <th></th>\n",
       "      <th>name</th>\n",
       "      <th>empty_values</th>\n",
       "      <th>unique_values_count</th>\n",
       "      <th>unique_values_list</th>\n",
       "      <th>data_type</th>\n",
       "    </tr>\n",
       "  </thead>\n",
       "  <tbody>\n",
       "    <tr>\n",
       "      <th>15</th>\n",
       "      <td>is_aware_of_previous_negative_consequence_of_c...</td>\n",
       "      <td>0</td>\n",
       "      <td>3</td>\n",
       "      <td>[No, Self-employed (Non Applicable), Yes]</td>\n",
       "      <td>object</td>\n",
       "    </tr>\n",
       "    <tr>\n",
       "      <th>36</th>\n",
       "      <td>is_willing_to_bring_phi_in_interview</td>\n",
       "      <td>0</td>\n",
       "      <td>3</td>\n",
       "      <td>[Maybe, Yes, No]</td>\n",
       "      <td>object</td>\n",
       "    </tr>\n",
       "    <tr>\n",
       "      <th>38</th>\n",
       "      <td>is_willing_to_bring_mhi_in_interview</td>\n",
       "      <td>0</td>\n",
       "      <td>3</td>\n",
       "      <td>[Maybe, No, Yes]</td>\n",
       "      <td>object</td>\n",
       "    </tr>\n",
       "    <tr>\n",
       "      <th>44</th>\n",
       "      <td>is_less_encouraged_to_reveal_mhi</td>\n",
       "      <td>0</td>\n",
       "      <td>3</td>\n",
       "      <td>[No, Yes, Maybe]</td>\n",
       "      <td>object</td>\n",
       "    </tr>\n",
       "    <tr>\n",
       "      <th>45</th>\n",
       "      <td>family_history_of_mhi</td>\n",
       "      <td>0</td>\n",
       "      <td>3</td>\n",
       "      <td>[No, Yes, I don't know]</td>\n",
       "      <td>object</td>\n",
       "    </tr>\n",
       "    <tr>\n",
       "      <th>46</th>\n",
       "      <td>previous_history_of_mhi</td>\n",
       "      <td>0</td>\n",
       "      <td>3</td>\n",
       "      <td>[Yes, Maybe, No]</td>\n",
       "      <td>object</td>\n",
       "    </tr>\n",
       "    <tr>\n",
       "      <th>47</th>\n",
       "      <td>is_having_mhd</td>\n",
       "      <td>0</td>\n",
       "      <td>3</td>\n",
       "      <td>[No, Yes, Maybe]</td>\n",
       "      <td>object</td>\n",
       "    </tr>\n",
       "    <tr>\n",
       "      <th>56</th>\n",
       "      <td>gender</td>\n",
       "      <td>0</td>\n",
       "      <td>3</td>\n",
       "      <td>[Male, Female, Other]</td>\n",
       "      <td>object</td>\n",
       "    </tr>\n",
       "    <tr>\n",
       "      <th>62</th>\n",
       "      <td>is_remote</td>\n",
       "      <td>0</td>\n",
       "      <td>3</td>\n",
       "      <td>[Sometimes, Never, Always]</td>\n",
       "      <td>object</td>\n",
       "    </tr>\n",
       "  </tbody>\n",
       "</table>\n",
       "</div>"
      ]
     },
     "execution_count": 39,
     "metadata": {},
     "output_type": "execute_result"
    }
   ],
   "execution_count": 39
  },
  {
   "metadata": {
    "ExecuteTime": {
     "end_time": "2024-12-26T14:26:16.464109Z",
     "start_time": "2024-12-26T14:26:16.409038Z"
    }
   },
   "cell_type": "code",
   "source": [
    "# Save the cleaned data\n",
    "df.to_csv(f\"{path}/data/data_v1.0.csv\", index=False)"
   ],
   "id": "1e833a717400233b",
   "outputs": [],
   "execution_count": 40
  },
  {
   "metadata": {},
   "cell_type": "markdown",
   "source": [
    "## Summary\n",
    "\n",
    "In this notebook, we discussed the following aspects :\n",
    "- A basic exploration of the dataset including summary statistics, missing, and unique values.\n",
    "- The dataset requires adequate data handling procedures.\n",
    "- The ad"
   ],
   "id": "5cebede540488684"
  },
  {
   "metadata": {},
   "cell_type": "markdown",
   "source": [
    "## Author\n",
    "<a href=\"https://www.linkedin.com/in/ab0858s/\">Abdelali BARIR</a> is a former veteran in the Moroccan's Royal Armed Forces, and a self-taught python programmer. Currently enrolled in B.Sc. Data Science in __IU International University of Applied Sciences__."
   ],
   "id": "efdcc9bb10116"
  },
  {
   "metadata": {},
   "cell_type": "markdown",
   "source": [
    "## Change Log    \n",
    "\n",
    "| Date         | Version   | Changed By       | Change Description        |\n",
    "|--------------|-----------|------------------|---------------------------|\n",
    "| 2024-07-10   | 1.0       | Abdelali Barir   | Modified markdown         |\n",
    "| ------------ | --------- | ---------------- | ------------------------- |\n"
   ],
   "id": "df892e6c3898d2ce"
  }
 ],
 "metadata": {
  "kernelspec": {
   "display_name": "Python 3 (ipykernel)",
   "language": "python",
   "name": "python3"
  },
  "language_info": {
   "codemirror_mode": {
    "name": "ipython",
    "version": 3
   },
   "file_extension": ".py",
   "mimetype": "text/x-python",
   "name": "python",
   "nbconvert_exporter": "python",
   "pygments_lexer": "ipython3",
   "version": "3.11.7"
  }
 },
 "nbformat": 4,
 "nbformat_minor": 5
}
