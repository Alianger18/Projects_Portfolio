{
 "cells": [
  {
   "metadata": {},
   "cell_type": "markdown",
   "source": [
    "# <center> Data Warehouse Project <center/>\n",
    "<center> DLBDSEBI02 - Business Intelligence's Project <center/>\n",
    "<center> IU International University of Applied Sciences <center/>"
   ],
   "id": "a620d4f7b7e7bc1e"
  },
  {
   "metadata": {},
   "cell_type": "markdown",
   "source": [
    "# Aim\n",
    "The aim of this project is to design an optimal Business Intelligence (BI) architecture by developing a Data Warehouse (DWH) system. This involves identifying source systems, such as operational and departmental systems, to provide data for the DWH. A suitable DWH architecture will be proposed by evaluating different variants and discussing their pros and cons. Additionally, one key performance indicator (KPI) will be selected, and the required Extract, Transform, Load (ETL) process will be explained. The goal is to enhance transparency, implement KPIs, and reduce manual data consolidation across departments."
   ],
   "id": "6abd75e9d3956b74"
  },
  {
   "metadata": {},
   "cell_type": "markdown",
   "source": [
    "### List of contents :\n",
    "1. _Introduction_\n",
    "2. _Designing the Data Warehouse_\n",
    "3. _Aggregating the data_\n",
    "4. _Visualization_\n",
    "5. _Summary_"
   ],
   "id": "79ee18046ed194fc"
  },
  {
   "metadata": {},
   "cell_type": "markdown",
   "source": "### 1. Introduction\n",
   "id": "c06193942c263bd4"
  },
  {
   "metadata": {},
   "cell_type": "markdown",
   "source": "### 2. The Data Warehouse Architecture\n",
   "id": "1c59507c3e53c3e6"
  },
  {
   "metadata": {},
   "cell_type": "markdown",
   "source": "### 3. Aggregating the Data\n",
   "id": "f0c25e7a7426d651"
  },
  {
   "metadata": {},
   "cell_type": "markdown",
   "source": "### 4. Visualizing the Data\n",
   "id": "1d15bacda7261fd8"
  },
  {
   "metadata": {},
   "cell_type": "markdown",
   "source": "### 5. Summary\n",
   "id": "2a457d9a2bdc1a46"
  },
  {
   "metadata": {},
   "cell_type": "markdown",
   "source": "Importing the required libraries",
   "id": "c2fb3e686da69cad"
  },
  {
   "cell_type": "code",
   "execution_count": 1,
   "id": "initial_id",
   "metadata": {
    "ExecuteTime": {
     "end_time": "2023-11-27T01:12:45.709202900Z",
     "start_time": "2023-11-27T01:12:45.064339800Z"
    }
   },
   "outputs": [],
   "source": [
    "# Importing libraries\n",
    "import sqlite3\n",
    "import pandas as pd"
   ]
  },
  {
   "cell_type": "code",
   "execution_count": 18,
   "outputs": [
    {
     "data": {
      "text/plain": "   transaction_id  quantity  transaction_amount  \\\n0               1         1                5.91   \n1               2         4               43.80   \n2               3         9               18.90   \n3               4         5                3.60   \n4               5         9               14.85   \n\n               product_description  unit_price        date    year  quarter  \\\n0          FRENCH ENAMEL POT W LID        5.91  05/01/2022  2022.0      1.0   \n1         REGENCY CAKESTAND 3 TIER       10.95  27/11/2022  2022.0      4.0   \n2   CHRISTMAS CRAFT TREE TOP ANGEL        2.10  15/12/2022  2022.0      4.0   \n3  NATURAL HANGING QUILTED HEARTS         0.72  27/08/2022  2022.0      3.0   \n4            BLUE PAISLEY NOTEBOOK        1.65  05/07/2022  2022.0      3.0   \n\n  quarter_name  month  ... customer_first_name  customer_last_name  \\\n0           Q1    1.0  ...                Liam               Scott   \n1           Q4   11.0  ...                Liam               Lopez   \n2           Q4   12.0  ...              Olivia            Thompson   \n3           Q3    8.0  ...            Victoria            Martinez   \n4           Q3    7.0  ...               Riley               Perez   \n\n                customer_mail  zip_code            street     city  \\\n0         Liam.Scott@mail.com  649040.0        Oak Street     Lyon   \n1         Liam.Lopez@mail.com  176664.0   Prospect Street     Rome   \n2    Olivia.Thompson@mail.com  369830.0  Cottonwood Drive  Glasgow   \n3  Victoria.Martinez@mail.com  800400.0      Orchard Lane    Porto   \n4        Riley.Perez@mail.com  987072.0    Highland Drive  Cologne   \n\n          country  latitude longitude invoice_amount  \n0          France   45.7589    4.8414        2190.46  \n1           Italy   41.8931   12.4828        1682.55  \n2  United Kingdom   55.8611     -4.25        2190.19  \n3        Portugal   41.1495   -8.6108        2129.98  \n4         Germany   50.9422    6.9578        2378.33  \n\n[5 rows x 24 columns]",
      "text/html": "<div>\n<style scoped>\n    .dataframe tbody tr th:only-of-type {\n        vertical-align: middle;\n    }\n\n    .dataframe tbody tr th {\n        vertical-align: top;\n    }\n\n    .dataframe thead th {\n        text-align: right;\n    }\n</style>\n<table border=\"1\" class=\"dataframe\">\n  <thead>\n    <tr style=\"text-align: right;\">\n      <th></th>\n      <th>transaction_id</th>\n      <th>quantity</th>\n      <th>transaction_amount</th>\n      <th>product_description</th>\n      <th>unit_price</th>\n      <th>date</th>\n      <th>year</th>\n      <th>quarter</th>\n      <th>quarter_name</th>\n      <th>month</th>\n      <th>...</th>\n      <th>customer_first_name</th>\n      <th>customer_last_name</th>\n      <th>customer_mail</th>\n      <th>zip_code</th>\n      <th>street</th>\n      <th>city</th>\n      <th>country</th>\n      <th>latitude</th>\n      <th>longitude</th>\n      <th>invoice_amount</th>\n    </tr>\n  </thead>\n  <tbody>\n    <tr>\n      <th>0</th>\n      <td>1</td>\n      <td>1</td>\n      <td>5.91</td>\n      <td>FRENCH ENAMEL POT W LID</td>\n      <td>5.91</td>\n      <td>05/01/2022</td>\n      <td>2022.0</td>\n      <td>1.0</td>\n      <td>Q1</td>\n      <td>1.0</td>\n      <td>...</td>\n      <td>Liam</td>\n      <td>Scott</td>\n      <td>Liam.Scott@mail.com</td>\n      <td>649040.0</td>\n      <td>Oak Street</td>\n      <td>Lyon</td>\n      <td>France</td>\n      <td>45.7589</td>\n      <td>4.8414</td>\n      <td>2190.46</td>\n    </tr>\n    <tr>\n      <th>1</th>\n      <td>2</td>\n      <td>4</td>\n      <td>43.80</td>\n      <td>REGENCY CAKESTAND 3 TIER</td>\n      <td>10.95</td>\n      <td>27/11/2022</td>\n      <td>2022.0</td>\n      <td>4.0</td>\n      <td>Q4</td>\n      <td>11.0</td>\n      <td>...</td>\n      <td>Liam</td>\n      <td>Lopez</td>\n      <td>Liam.Lopez@mail.com</td>\n      <td>176664.0</td>\n      <td>Prospect Street</td>\n      <td>Rome</td>\n      <td>Italy</td>\n      <td>41.8931</td>\n      <td>12.4828</td>\n      <td>1682.55</td>\n    </tr>\n    <tr>\n      <th>2</th>\n      <td>3</td>\n      <td>9</td>\n      <td>18.90</td>\n      <td>CHRISTMAS CRAFT TREE TOP ANGEL</td>\n      <td>2.10</td>\n      <td>15/12/2022</td>\n      <td>2022.0</td>\n      <td>4.0</td>\n      <td>Q4</td>\n      <td>12.0</td>\n      <td>...</td>\n      <td>Olivia</td>\n      <td>Thompson</td>\n      <td>Olivia.Thompson@mail.com</td>\n      <td>369830.0</td>\n      <td>Cottonwood Drive</td>\n      <td>Glasgow</td>\n      <td>United Kingdom</td>\n      <td>55.8611</td>\n      <td>-4.25</td>\n      <td>2190.19</td>\n    </tr>\n    <tr>\n      <th>3</th>\n      <td>4</td>\n      <td>5</td>\n      <td>3.60</td>\n      <td>NATURAL HANGING QUILTED HEARTS</td>\n      <td>0.72</td>\n      <td>27/08/2022</td>\n      <td>2022.0</td>\n      <td>3.0</td>\n      <td>Q3</td>\n      <td>8.0</td>\n      <td>...</td>\n      <td>Victoria</td>\n      <td>Martinez</td>\n      <td>Victoria.Martinez@mail.com</td>\n      <td>800400.0</td>\n      <td>Orchard Lane</td>\n      <td>Porto</td>\n      <td>Portugal</td>\n      <td>41.1495</td>\n      <td>-8.6108</td>\n      <td>2129.98</td>\n    </tr>\n    <tr>\n      <th>4</th>\n      <td>5</td>\n      <td>9</td>\n      <td>14.85</td>\n      <td>BLUE PAISLEY NOTEBOOK</td>\n      <td>1.65</td>\n      <td>05/07/2022</td>\n      <td>2022.0</td>\n      <td>3.0</td>\n      <td>Q3</td>\n      <td>7.0</td>\n      <td>...</td>\n      <td>Riley</td>\n      <td>Perez</td>\n      <td>Riley.Perez@mail.com</td>\n      <td>987072.0</td>\n      <td>Highland Drive</td>\n      <td>Cologne</td>\n      <td>Germany</td>\n      <td>50.9422</td>\n      <td>6.9578</td>\n      <td>2378.33</td>\n    </tr>\n  </tbody>\n</table>\n<p>5 rows × 24 columns</p>\n</div>"
     },
     "execution_count": 18,
     "metadata": {},
     "output_type": "execute_result"
    }
   ],
   "source": [
    "df = pd.read_csv('finalissima.csv')\n",
    "df.head()"
   ],
   "metadata": {
    "collapsed": false,
    "ExecuteTime": {
     "end_time": "2023-11-27T01:25:48.416221800Z",
     "start_time": "2023-11-27T01:25:46.984480900Z"
    }
   },
   "id": "bf5c7f1776d7e8e1"
  }
 ],
 "metadata": {
  "kernelspec": {
   "display_name": "Python 3 (ipykernel)",
   "language": "python",
   "name": "python3"
  },
  "language_info": {
   "codemirror_mode": {
    "name": "ipython",
    "version": 3
   },
   "file_extension": ".py",
   "mimetype": "text/x-python",
   "name": "python",
   "nbconvert_exporter": "python",
   "pygments_lexer": "ipython3",
   "version": "3.9.18"
  }
 },
 "nbformat": 4,
 "nbformat_minor": 5
}
